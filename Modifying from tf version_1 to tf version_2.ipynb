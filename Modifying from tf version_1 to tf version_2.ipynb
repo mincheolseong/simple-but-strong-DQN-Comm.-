{
 "cells": [
  {
   "cell_type": "code",
   "execution_count": 2,
   "metadata": {
    "ExecuteTime": {
     "end_time": "2021-03-25T09:49:32.067085Z",
     "start_time": "2021-03-25T09:49:32.062031Z"
    }
   },
   "outputs": [],
   "source": [
    "import tensorflow as tf"
   ]
  },
  {
   "cell_type": "code",
   "execution_count": 57,
   "metadata": {
    "ExecuteTime": {
     "end_time": "2021-03-25T10:33:17.668543Z",
     "start_time": "2021-03-25T10:33:17.657768Z"
    }
   },
   "outputs": [],
   "source": [
    "def Network(s, a, name):\n",
    "    with tf.compat.v1.variable_scope(name + '.0', reuse = reuse):\n",
    "        #w,b = Variable([state_num, 128])\n",
    "        w = tf.Variable(tf.random.truncated_normal(shape = [state_num, 128], stddev=0.1),name = 'w')\n",
    "        b = tf.Variable(tf.constant(0.01, shape=[[state_num, 128][-1]]), name = 'b')   \n",
    "        l = tf.nn.relu(tf.matmul(s, w)+b)\n",
    "    with tf.compat.v1.variable_scope(name + '.1', reuse = reuse):\n",
    "        #w,b = Variable([128, 64])\n",
    "        #w = tf.compat.v1.get_variable('w', shape=[128, 64], initializer = tf.compat.v1.truncated_normal_initializer(stddev=0.1))##\n",
    "        #b = tf.compat.v1.get_variable('b', shape=[[state_num, 128][-1]], initializer = tf.constant_initializer(0.01)) \n",
    "        w = tf.Variable(tf.random.truncated_normal(shape = [128, 64], stddev=0.1),name = 'w')\n",
    "        b = tf.Variable(tf.constant(0.01, shape=[[state_num, 128][-1]]), name = 'b') \n",
    "        l = tf.nn.relu(tf.matmul(l, w)+b)\n",
    "    with tf.compat.v1.variable_scope(name + '.2', reuse = reuse):\n",
    "        #w,b = Variable([64, power_num])\n",
    "        q_hat = tf.matmul(l, w) + b\n",
    "    r = tf.compat.v1.reduce_sum(tf.multiply(q_hat, a), reduction_indices = 1)\n",
    "    a_hat = tf.argmax(q_hat, 1)\n",
    "    list_var = Find_params(name)\n",
    "    return q_hat, a_hat, r, list_var"
   ]
  },
  {
   "cell_type": "code",
   "execution_count": 53,
   "metadata": {
    "ExecuteTime": {
     "end_time": "2021-03-25T10:18:42.552048Z",
     "start_time": "2021-03-25T10:18:42.533760Z"
    }
   },
   "outputs": [],
   "source": [
    "w = tf.Variable(tf.random.truncated_normal(shape = [state_num, 128], stddev=0.1),name = 'w')\n",
    "b = tf.Variable(tf.constant(0.01, shape=[[state_num, 128][-1]]), name = 'b')\n",
    "\n",
    "w = tf.Variable(tf.random.truncated_normal(shape = [128, 64], stddev=0.1),name = 'w')\n",
    "b = tf.Variable(tf.constant(0.01, shape=[[state_num, 128][-1]]), name = 'b') \n",
    "        \n",
    "\n",
    "@tf.function\n",
    "def Network(s, a, name):\n",
    "    return q_hat, a_hat, r, list_var"
   ]
  },
  {
   "cell_type": "code",
   "execution_count": 52,
   "metadata": {
    "ExecuteTime": {
     "end_time": "2021-03-25T10:17:25.661317Z",
     "start_time": "2021-03-25T10:17:25.649710Z"
    },
    "collapsed": true
   },
   "outputs": [
    {
     "data": {
      "text/plain": [
       "<tf.Variable 'b:0' shape=(128,) dtype=float32, numpy=\n",
       "array([0.01, 0.01, 0.01, 0.01, 0.01, 0.01, 0.01, 0.01, 0.01, 0.01, 0.01,\n",
       "       0.01, 0.01, 0.01, 0.01, 0.01, 0.01, 0.01, 0.01, 0.01, 0.01, 0.01,\n",
       "       0.01, 0.01, 0.01, 0.01, 0.01, 0.01, 0.01, 0.01, 0.01, 0.01, 0.01,\n",
       "       0.01, 0.01, 0.01, 0.01, 0.01, 0.01, 0.01, 0.01, 0.01, 0.01, 0.01,\n",
       "       0.01, 0.01, 0.01, 0.01, 0.01, 0.01, 0.01, 0.01, 0.01, 0.01, 0.01,\n",
       "       0.01, 0.01, 0.01, 0.01, 0.01, 0.01, 0.01, 0.01, 0.01, 0.01, 0.01,\n",
       "       0.01, 0.01, 0.01, 0.01, 0.01, 0.01, 0.01, 0.01, 0.01, 0.01, 0.01,\n",
       "       0.01, 0.01, 0.01, 0.01, 0.01, 0.01, 0.01, 0.01, 0.01, 0.01, 0.01,\n",
       "       0.01, 0.01, 0.01, 0.01, 0.01, 0.01, 0.01, 0.01, 0.01, 0.01, 0.01,\n",
       "       0.01, 0.01, 0.01, 0.01, 0.01, 0.01, 0.01, 0.01, 0.01, 0.01, 0.01,\n",
       "       0.01, 0.01, 0.01, 0.01, 0.01, 0.01, 0.01, 0.01, 0.01, 0.01, 0.01,\n",
       "       0.01, 0.01, 0.01, 0.01, 0.01, 0.01, 0.01], dtype=float32)>"
      ]
     },
     "execution_count": 52,
     "metadata": {},
     "output_type": "execute_result"
    }
   ],
   "source": [
    "b"
   ]
  },
  {
   "cell_type": "code",
   "execution_count": null,
   "metadata": {},
   "outputs": [],
   "source": []
  }
 ],
 "metadata": {
  "kernelspec": {
   "display_name": "Python 3",
   "language": "python",
   "name": "python3"
  },
  "language_info": {
   "codemirror_mode": {
    "name": "ipython",
    "version": 3
   },
   "file_extension": ".py",
   "mimetype": "text/x-python",
   "name": "python",
   "nbconvert_exporter": "python",
   "pygments_lexer": "ipython3",
   "version": "3.7.9"
  },
  "toc": {
   "base_numbering": 1,
   "nav_menu": {},
   "number_sections": true,
   "sideBar": true,
   "skip_h1_title": false,
   "title_cell": "Table of Contents",
   "title_sidebar": "Contents",
   "toc_cell": false,
   "toc_position": {},
   "toc_section_display": true,
   "toc_window_display": false
  }
 },
 "nbformat": 4,
 "nbformat_minor": 4
}
