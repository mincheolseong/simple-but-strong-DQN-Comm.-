{
 "cells": [
  {
   "cell_type": "code",
   "execution_count": null,
   "metadata": {
    "ExecuteTime": {
     "start_time": "2021-04-02T10:13:05.197Z"
    },
    "code_folding": [
     110,
     124,
     134,
     138
    ]
   },
   "outputs": [
    {
     "data": {
      "image/png": "[encoded data removed]",
      "text/plain": [
       "<Figure size 432x288 with 1 Axes>"
      ]
     },
     "metadata": {
      "needs_background": "light"
     },
     "output_type": "display_data"
    },
    {
     "name": "stdout",
     "output_type": "stream",
     "text": [
      "Model: \"model_8\"\n",
      "_________________________________________________________________\n",
      "Layer (type)                 Output Shape              Param #   \n",
      "=================================================================\n",
      "input_9 (InputLayer)         [(None, 2)]               0         \n",
      "_________________________________________________________________\n",
      "dense_40 (Dense)             (None, 512)               1536      \n",
      "_________________________________________________________________\n",
      "dense_41 (Dense)             (None, 256)               131328    \n",
      "_________________________________________________________________\n",
      "dense_42 (Dense)             (None, 128)               32896     \n",
      "_________________________________________________________________\n",
      "dense_43 (Dense)             (None, 128)               16512     \n",
      "_________________________________________________________________\n",
      "dense_44 (Dense)             (None, 5)                 645       \n",
      "_________________________________________________________________\n",
      "lambda_8 (Lambda)            (None, 4)                 0         \n",
      "=================================================================\n",
      "Total params: 182,917\n",
      "Trainable params: 182,917\n",
      "Non-trainable params: 0\n",
      "_________________________________________________________________\n"
     ]
    },
    {
     "data": {
      "image/png": "[encoded data removed]",
      "text/plain": [
       "<Figure size 432x288 with 1 Axes>"
      ]
     },
     "metadata": {
      "needs_background": "light"
     },
     "output_type": "display_data"
    },
    {
     "name": "stdout",
     "output_type": "stream",
     "text": [
      "Epoch 1/20\n",
      "2000/2000 [==============================] - 4s 2ms/step - loss: 1619.0083 - mean_absolute_error: 27.1725 - mean_squared_error: 1619.0083 - val_loss: 195.1925 - val_mean_absolute_error: 11.0703 - val_mean_squared_error: 195.1925\n",
      "Epoch 2/20\n",
      "2000/2000 [==============================] - 3s 2ms/step - loss: 175.6698 - mean_absolute_error: 10.4875 - mean_squared_error: 175.6698 - val_loss: 156.6196 - val_mean_absolute_error: 9.8832 - val_mean_squared_error: 156.6196\n",
      "Epoch 3/20\n",
      "2000/2000 [==============================] - 3s 2ms/step - loss: 151.4114 - mean_absolute_error: 9.7778 - mean_squared_error: 151.4114 - val_loss: 130.7410 - val_mean_absolute_error: 9.2077 - val_mean_squared_error: 130.7410\n",
      "Epoch 4/20\n",
      "2000/2000 [==============================] - 4s 2ms/step - loss: 127.5147 - mean_absolute_error: 8.9643 - mean_squared_error: 127.5147 - val_loss: 79.5691 - val_mean_absolute_error: 7.1587 - val_mean_squared_error: 79.5691\n",
      "Epoch 5/20\n",
      "2000/2000 [==============================] - 4s 2ms/step - loss: 89.7953 - mean_absolute_error: 7.4828 - mean_squared_error: 89.7953 - val_loss: 17.2981 - val_mean_absolute_error: 3.3173 - val_mean_squared_error: 17.2981\n",
      "Epoch 6/20\n",
      "2000/2000 [==============================] - 4s 2ms/step - loss: 19.5105 - mean_absolute_error: 3.5176 - mean_squared_error: 19.5105 - val_loss: 6.0483 - val_mean_absolute_error: 1.9496 - val_mean_squared_error: 6.0483\n",
      "Epoch 7/20\n",
      "2000/2000 [==============================] - 4s 2ms/step - loss: 11.4646 - mean_absolute_error: 2.6641 - mean_squared_error: 11.4646 - val_loss: 5.2146 - val_mean_absolute_error: 1.8287 - val_mean_squared_error: 5.2146\n",
      "Epoch 8/20\n",
      "2000/2000 [==============================] - 4s 2ms/step - loss: 7.7339 - mean_absolute_error: 2.2015 - mean_squared_error: 7.7339 - val_loss: 3.1769 - val_mean_absolute_error: 1.4060 - val_mean_squared_error: 3.1769\n",
      "Epoch 9/20\n",
      "2000/2000 [==============================] - 4s 2ms/step - loss: 5.9824 - mean_absolute_error: 1.9192 - mean_squared_error: 5.9824 - val_loss: 9.9601 - val_mean_absolute_error: 2.7956 - val_mean_squared_error: 9.9601\n",
      "Epoch 10/20\n",
      "2000/2000 [==============================] - 4s 2ms/step - loss: 4.5649 - mean_absolute_error: 1.6851 - mean_squared_error: 4.5649 - val_loss: 3.1477 - val_mean_absolute_error: 1.4130 - val_mean_squared_error: 3.1477\n",
      "Epoch 11/20\n",
      "2000/2000 [==============================] - 4s 2ms/step - loss: 4.1166 - mean_absolute_error: 1.6113 - mean_squared_error: 4.1166 - val_loss: 3.4344 - val_mean_absolute_error: 1.5264 - val_mean_squared_error: 3.4344\n",
      "Epoch 12/20\n",
      "2000/2000 [==============================] - 4s 2ms/step - loss: 3.8920 - mean_absolute_error: 1.5624 - mean_squared_error: 3.8920 - val_loss: 2.8362 - val_mean_absolute_error: 1.4188 - val_mean_squared_error: 2.8362\n",
      "Epoch 13/20\n",
      "2000/2000 [==============================] - 4s 2ms/step - loss: 3.8710 - mean_absolute_error: 1.5512 - mean_squared_error: 3.8710 - val_loss: 3.6822 - val_mean_absolute_error: 1.5905 - val_mean_squared_error: 3.6822\n",
      "Epoch 14/20\n",
      "2000/2000 [==============================] - 4s 2ms/step - loss: 3.8325 - mean_absolute_error: 1.5467 - mean_squared_error: 3.8325 - val_loss: 2.3011 - val_mean_absolute_error: 1.2235 - val_mean_squared_error: 2.3011\n",
      "Epoch 15/20\n",
      "2000/2000 [==============================] - 4s 2ms/step - loss: 2.8299 - mean_absolute_error: 1.3270 - mean_squared_error: 2.8299 - val_loss: 1.1066 - val_mean_absolute_error: 0.8522 - val_mean_squared_error: 1.1066\n",
      "Epoch 16/20\n",
      "2000/2000 [==============================] - 4s 2ms/step - loss: 2.0946 - mean_absolute_error: 1.1444 - mean_squared_error: 2.0946 - val_loss: 2.5158 - val_mean_absolute_error: 1.3704 - val_mean_squared_error: 2.5158\n",
      "Epoch 17/20\n",
      "2000/2000 [==============================] - 4s 2ms/step - loss: 1.5877 - mean_absolute_error: 1.0004 - mean_squared_error: 1.5877 - val_loss: 0.5186 - val_mean_absolute_error: 0.5720 - val_mean_squared_error: 0.5186\n",
      "Epoch 18/20\n",
      "2000/2000 [==============================] - 4s 2ms/step - loss: 0.9914 - mean_absolute_error: 0.7875 - mean_squared_error: 0.9914 - val_loss: 1.2501 - val_mean_absolute_error: 0.8341 - val_mean_squared_error: 1.2501\n",
      "Epoch 19/20\n",
      "2000/2000 [==============================] - 4s 2ms/step - loss: 0.8422 - mean_absolute_error: 0.7223 - mean_squared_error: 0.8422 - val_loss: 0.1075 - val_mean_absolute_error: 0.2546 - val_mean_squared_error: 0.1075\n",
      "Epoch 20/20\n",
      "2000/2000 [==============================] - 4s 2ms/step - loss: 0.5240 - mean_absolute_error: 0.5551 - mean_squared_error: 0.5240 - val_loss: 0.3410 - val_mean_absolute_error: 0.4762 - val_mean_squared_error: 0.3410\n"
     ]
    },
    {
     "data": {
      "image/png": "[encoded data removed]",
      "text/plain": [
       "<Figure size 432x288 with 1 Axes>"
      ]
     },
     "metadata": {
      "needs_background": "light"
     },
     "output_type": "display_data"
    },
    {
     "data": {
      "image/png": "[encoded data removed]",
      "text/plain": [
       "<Figure size 432x288 with 1 Axes>"
      ]
     },
     "metadata": {
      "needs_background": "light"
     },
     "output_type": "display_data"
    },
    {
     "name": "stdout",
     "output_type": "stream",
     "text": [
      "625/625 [==============================] - 1s 807us/step - loss: 0.3511 - mean_absolute_error: 0.4865 - mean_squared_error: 0.3511\n",
      "[0.35106518864631653, 0.48650771379470825, 0.35106518864631653]\n",
      "Model: \"model_9\"\n",
      "_________________________________________________________________\n",
      "Layer (type)                 Output Shape              Param #   \n",
      "=================================================================\n",
      "input_10 (InputLayer)        [(None, 2)]               0         \n",
      "_________________________________________________________________\n",
      "dense_45 (Dense)             (None, 512)               1536      \n",
      "_________________________________________________________________\n",
      "dense_46 (Dense)             (None, 256)               131328    \n",
      "_________________________________________________________________\n",
      "dense_47 (Dense)             (None, 128)               32896     \n",
      "_________________________________________________________________\n",
      "dense_48 (Dense)             (None, 128)               16512     \n",
      "_________________________________________________________________\n",
      "dense_49 (Dense)             (None, 5)                 645       \n",
      "_________________________________________________________________\n",
      "lambda_9 (Lambda)            (None, 4)                 0         \n",
      "=================================================================\n",
      "Total params: 182,917"
     ]
    },
    {
     "name": "stderr",
     "output_type": "stream",
     "text": [
      "\r",
      "  0%|                                                                                   | 0/5000 [00:00<?, ?episodes/s]"
     ]
    },
    {
     "name": "stdout",
     "output_type": "stream",
     "text": [
      "\n",
      "Trainable params: 182,917\n",
      "Non-trainable params: 0\n",
      "_________________________________________________________________\n"
     ]
    },
    {
     "name": "stderr",
     "output_type": "stream",
     "text": [
      "\r",
      "  0%|                                                                         | 1/5000 [00:04<5:37:26,  4.05s/episodes]"
     ]
    },
    {
     "name": "stdout",
     "output_type": "stream",
     "text": [
      "Reach destination====================================================================================!!!!!!!!\n"
     ]
    },
    {
     "name": "stderr",
     "output_type": "stream",
     "text": [
      "\r",
      "  0%|                                                                         | 2/5000 [00:09<6:05:54,  4.39s/episodes]"
     ]
    },
    {
     "name": "stdout",
     "output_type": "stream",
     "text": [
      "Reach destination====================================================================================!!!!!!!!\n"
     ]
    },
    {
     "name": "stderr",
     "output_type": "stream",
     "text": [
      "\r",
      "  0%|                                                                         | 3/5000 [00:12<5:40:27,  4.09s/episodes]"
     ]
    },
    {
     "name": "stdout",
     "output_type": "stream",
     "text": [
      "Reach destination====================================================================================!!!!!!!!\n"
     ]
    },
    {
     "name": "stderr",
     "output_type": "stream",
     "text": [
      "\r",
      "  0%|                                                                         | 4/5000 [00:14<4:43:40,  3.41s/episodes]"
     ]
    },
    {
     "name": "stdout",
     "output_type": "stream",
     "text": [
      "Reach destination====================================================================================!!!!!!!!\n"
     ]
    },
    {
     "name": "stderr",
     "output_type": "stream",
     "text": [
      "  0%|1                                                                       | 10/5000 [00:41<5:32:41,  4.00s/episodes]"
     ]
    },
    {
     "name": "stdout",
     "output_type": "stream",
     "text": [
      "Reach destination====================================================================================!!!!!!!!\n",
      "Episode: 10, total steps: 73,  final return: -1101.7600000000002\n"
     ]
    },
    {
     "name": "stderr",
     "output_type": "stream",
     "text": [
      "  0%|1                                                                       | 12/5000 [00:52<6:19:57,  4.57s/episodes]"
     ]
    },
    {
     "name": "stdout",
     "output_type": "stream",
     "text": [
      "Reach destination====================================================================================!!!!!!!!\n"
     ]
    },
    {
     "name": "stderr",
     "output_type": "stream",
     "text": [
      "  0%|2                                                                       | 20/5000 [01:29<6:25:46,  4.65s/episodes]"
     ]
    },
    {
     "name": "stdout",
     "output_type": "stream",
     "text": [
      "Episode: 20, total steps: 200,  final return: -3712.560000000001\n"
     ]
    },
    {
     "name": "stderr",
     "output_type": "stream",
     "text": [
      "  0%|3                                                                       | 23/5000 [01:41<5:40:03,  4.10s/episodes]"
     ]
    },
    {
     "name": "stdout",
     "output_type": "stream",
     "text": [
      "Reach destination====================================================================================!!!!!!!!\n"
     ]
    },
    {
     "name": "stderr",
     "output_type": "stream",
     "text": [
      "  1%|3                                                                       | 27/5000 [01:59<5:55:36,  4.29s/episodes]"
     ]
    },
    {
     "name": "stdout",
     "output_type": "stream",
     "text": [
      "Reach destination====================================================================================!!!!!!!!\n"
     ]
    },
    {
     "name": "stderr",
     "output_type": "stream",
     "text": [
      "  1%|4                                                                      | 30/5000 [02:50<17:58:47, 13.02s/episodes]"
     ]
    },
    {
     "name": "stdout",
     "output_type": "stream",
     "text": [
      "Episode: 30, total steps: 109,  final return: -548.64\n"
     ]
    },
    {
     "name": "stderr",
     "output_type": "stream",
     "text": [
      "  1%|4                                                                      | 34/5000 [04:28<27:34:12, 19.99s/episodes]"
     ]
    },
    {
     "name": "stdout",
     "output_type": "stream",
     "text": [
      "Reach destination====================================================================================!!!!!!!!\n"
     ]
    },
    {
     "name": "stderr",
     "output_type": "stream",
     "text": [
      "  1%|5                                                                      | 40/5000 [07:07<35:19:58, 25.64s/episodes]"
     ]
    },
    {
     "name": "stdout",
     "output_type": "stream",
     "text": [
      "Episode: 40, total steps: 200,  final return: -4533.679999999999\n"
     ]
    },
    {
     "name": "stderr",
     "output_type": "stream",
     "text": [
      "  1%|7                                                                      | 50/5000 [10:56<37:52:26, 27.54s/episodes]"
     ]
    },
    {
     "name": "stdout",
     "output_type": "stream",
     "text": [
      "Episode: 50, total steps: 200,  final return: -1418.1199999999997\n"
     ]
    },
    {
     "name": "stderr",
     "output_type": "stream",
     "text": [
      "  1%|8                                                                      | 60/5000 [15:16<38:00:09, 27.69s/episodes]"
     ]
    },
    {
     "name": "stdout",
     "output_type": "stream",
     "text": [
      "Episode: 60, total steps: 200,  final return: -2241.5599999999995\n"
     ]
    },
    {
     "name": "stderr",
     "output_type": "stream",
     "text": [
      "\r",
      "  1%|8                                                                      | 61/5000 [15:30<32:15:02, 23.51s/episodes]"
     ]
    },
    {
     "name": "stdout",
     "output_type": "stream",
     "text": [
      "Reach destination====================================================================================!!!!!!!!\n"
     ]
    },
    {
     "name": "stderr",
     "output_type": "stream",
     "text": [
      "  1%|9                                                                      | 70/5000 [19:34<35:59:14, 26.28s/episodes]"
     ]
    },
    {
     "name": "stdout",
     "output_type": "stream",
     "text": [
      "Episode: 70, total steps: 200,  final return: -3178.1600000000003\n"
     ]
    },
    {
     "name": "stderr",
     "output_type": "stream",
     "text": [
      "  2%|#                                                                      | 76/5000 [22:07<31:29:33, 23.02s/episodes]"
     ]
    },
    {
     "name": "stdout",
     "output_type": "stream",
     "text": [
      "Reach destination====================================================================================!!!!!!!!\n"
     ]
    },
    {
     "name": "stderr",
     "output_type": "stream",
     "text": [
      "  2%|#1                                                                     | 80/5000 [24:08<37:55:35, 27.75s/episodes]"
     ]
    },
    {
     "name": "stdout",
     "output_type": "stream",
     "text": [
      "Episode: 80, total steps: 200,  final return: -2132.7999999999997\n"
     ]
    },
    {
     "name": "stderr",
     "output_type": "stream",
     "text": [
      "\r",
      "  2%|#1                                                                     | 81/5000 [24:22<32:19:28, 23.66s/episodes]"
     ]
    },
    {
     "name": "stdout",
     "output_type": "stream",
     "text": [
      "Reach destination====================================================================================!!!!!!!!\n"
     ]
    },
    {
     "name": "stderr",
     "output_type": "stream",
     "text": [
      "  2%|#2                                                                     | 90/5000 [28:44<39:45:03, 29.15s/episodes]"
     ]
    },
    {
     "name": "stdout",
     "output_type": "stream",
     "text": [
      "Episode: 90, total steps: 200,  final return: -3144.8799999999974\n"
     ]
    },
    {
     "name": "stderr",
     "output_type": "stream",
     "text": [
      "  2%|#4                                                                    | 100/5000 [32:37<25:01:53, 18.39s/episodes]"
     ]
    },
    {
     "name": "stdout",
     "output_type": "stream",
     "text": [
      "Episode: 100, total steps: 72,  final return: -217.84\n"
     ]
    },
    {
     "name": "stderr",
     "output_type": "stream",
     "text": [
      "  2%|#5                                                                    | 110/5000 [37:19<42:06:39, 31.00s/episodes]"
     ]
    },
    {
     "name": "stdout",
     "output_type": "stream",
     "text": [
      "Episode: 110, total steps: 200,  final return: -4130.639999999999\n"
     ]
    },
    {
     "name": "stderr",
     "output_type": "stream",
     "text": [
      "  2%|#6                                                                    | 120/5000 [42:40<43:57:36, 32.43s/episodes]"
     ]
    },
    {
     "name": "stdout",
     "output_type": "stream",
     "text": [
      "Episode: 120, total steps: 200,  final return: -2425.0399999999995\n"
     ]
    },
    {
     "name": "stderr",
     "output_type": "stream",
     "text": [
      "  3%|#7                                                                    | 126/5000 [45:43<37:16:30, 27.53s/episodes]"
     ]
    },
    {
     "name": "stdout",
     "output_type": "stream",
     "text": [
      "Reach destination====================================================================================!!!!!!!!\n"
     ]
    },
    {
     "name": "stderr",
     "output_type": "stream",
     "text": [
      "  3%|#8                                                                    | 130/5000 [47:38<37:00:14, 27.35s/episodes]"
     ]
    },
    {
     "name": "stdout",
     "output_type": "stream",
     "text": [
      "Episode: 130, total steps: 139,  final return: -1271.5199999999998\n"
     ]
    },
    {
     "name": "stderr",
     "output_type": "stream",
     "text": [
      "  3%|#8                                                                    | 134/5000 [49:33<35:29:04, 26.25s/episodes]"
     ]
    },
    {
     "name": "stdout",
     "output_type": "stream",
     "text": [
      "Reach destination====================================================================================!!!!!!!!\n"
     ]
    },
    {
     "name": "stderr",
     "output_type": "stream",
     "text": [
      "  3%|#9                                                                    | 140/5000 [52:03<30:24:44, 22.53s/episodes]"
     ]
    },
    {
     "name": "stdout",
     "output_type": "stream",
     "text": [
      "Episode: 140, total steps: 52,  final return: -729.2800000000001\n"
     ]
    },
    {
     "name": "stderr",
     "output_type": "stream",
     "text": [
      "  3%|##                                                                    | 146/5000 [54:24<32:27:10, 24.07s/episodes]"
     ]
    },
    {
     "name": "stdout",
     "output_type": "stream",
     "text": [
      "Reach destination====================================================================================!!!!!!!!\n"
     ]
    },
    {
     "name": "stderr",
     "output_type": "stream",
     "text": [
      "  3%|##1                                                                   | 150/5000 [56:36<41:47:35, 31.02s/episodes]"
     ]
    },
    {
     "name": "stdout",
     "output_type": "stream",
     "text": [
      "Episode: 150, total steps: 200,  final return: -2085.200000000001\n"
     ]
    },
    {
     "name": "stderr",
     "output_type": "stream",
     "text": [
      "  3%|##                                                               | 157/5000 [1:43:39<1092:39:49, 812.22s/episodes]"
     ]
    },
    {
     "name": "stdout",
     "output_type": "stream",
     "text": [
      "Reach destination====================================================================================!!!!!!!!\n"
     ]
    },
    {
     "name": "stderr",
     "output_type": "stream",
     "text": [
      "  3%|##1                                                               | 160/5000 [1:45:28<406:39:53, 302.48s/episodes]"
     ]
    },
    {
     "name": "stdout",
     "output_type": "stream",
     "text": [
      "Episode: 160, total steps: 200,  final return: -1243.4800000000002\n"
     ]
    },
    {
     "name": "stderr",
     "output_type": "stream",
     "text": [
      "  3%|##2                                                                 | 166/5000 [1:49:02<88:46:14, 66.11s/episodes]"
     ]
    },
    {
     "name": "stdout",
     "output_type": "stream",
     "text": [
      "Reach destination====================================================================================!!!!!!!!\n"
     ]
    },
    {
     "name": "stderr",
     "output_type": "stream",
     "text": [
      "  3%|##3                                                                 | 170/5000 [1:51:31<59:28:47, 44.33s/episodes]"
     ]
    },
    {
     "name": "stdout",
     "output_type": "stream",
     "text": [
      "Episode: 170, total steps: 200,  final return: -3351.5600000000004\n"
     ]
    },
    {
     "name": "stderr",
     "output_type": "stream",
     "text": [
      "  4%|##3                                                                 | 176/5000 [1:54:51<46:07:36, 34.42s/episodes]"
     ]
    },
    {
     "name": "stdout",
     "output_type": "stream",
     "text": [
      "Reach destination====================================================================================!!!!!!!!\n"
     ]
    },
    {
     "name": "stderr",
     "output_type": "stream",
     "text": [
      "  4%|##4                                                                 | 180/5000 [1:56:51<41:16:17, 30.83s/episodes]"
     ]
    },
    {
     "name": "stdout",
     "output_type": "stream",
     "text": [
      "Episode: 180, total steps: 200,  final return: -1958.2800000000004\n"
     ]
    },
    {
     "name": "stderr",
     "output_type": "stream",
     "text": [
      "  4%|##4                                                                 | 183/5000 [1:57:59<33:28:02, 25.01s/episodes]"
     ]
    },
    {
     "name": "stdout",
     "output_type": "stream",
     "text": [
      "Reach destination====================================================================================!!!!!!!!\n"
     ]
    },
    {
     "name": "stderr",
     "output_type": "stream",
     "text": [
      "  4%|##5                                                                 | 189/5000 [2:01:05<38:28:09, 28.79s/episodes]"
     ]
    },
    {
     "name": "stdout",
     "output_type": "stream",
     "text": [
      "Reach destination====================================================================================!!!!!!!!\n"
     ]
    },
    {
     "name": "stderr",
     "output_type": "stream",
     "text": [
      "\r",
      "  4%|##5                                                                 | 190/5000 [2:01:42<41:43:40, 31.23s/episodes]"
     ]
    },
    {
     "name": "stdout",
     "output_type": "stream",
     "text": [
      "Episode: 190, total steps: 200,  final return: -3554.0\n"
     ]
    },
    {
     "name": "stderr",
     "output_type": "stream",
     "text": [
      "  4%|##6                                                               | 198/5000 [3:46:19<869:14:53, 651.66s/episodes]"
     ]
    },
    {
     "name": "stdout",
     "output_type": "stream",
     "text": [
      "Reach destination====================================================================================!!!!!!!!\n"
     ]
    },
    {
     "name": "stderr",
     "output_type": "stream",
     "text": [
      "  4%|##6                                                               | 200/5000 [3:46:58<440:58:08, 330.73s/episodes]"
     ]
    },
    {
     "name": "stdout",
     "output_type": "stream",
     "text": [
      "Episode: 200, total steps: 200,  final return: -4877.160000000002\n"
     ]
    },
    {
     "name": "stderr",
     "output_type": "stream",
     "text": [
      "\r",
      "  4%|##6                                                               | 201/5000 [3:47:21<317:45:43, 238.37s/episodes]"
     ]
    },
    {
     "name": "stdout",
     "output_type": "stream",
     "text": [
      "Reach destination====================================================================================!!!!!!!!\n",
      "Reach destination====================================================================================!!!!!!!!\n"
     ]
    },
    {
     "name": "stderr",
     "output_type": "stream",
     "text": [
      "  4%|##6                                                               | 204/5000 [3:48:52<136:01:36, 102.11s/episodes]"
     ]
    },
    {
     "name": "stdout",
     "output_type": "stream",
     "text": [
      "Reach destination====================================================================================!!!!!!!!\n"
     ]
    },
    {
     "name": "stderr",
     "output_type": "stream",
     "text": [
      "  4%|##8                                                                 | 208/5000 [3:51:16<69:31:12, 52.23s/episodes]"
     ]
    },
    {
     "name": "stdout",
     "output_type": "stream",
     "text": [
      "Reach destination====================================================================================!!!!!!!!\n"
     ]
    },
    {
     "name": "stderr",
     "output_type": "stream",
     "text": [
      "  4%|##8                                                                 | 210/5000 [3:52:31<59:20:19, 44.60s/episodes]"
     ]
    },
    {
     "name": "stdout",
     "output_type": "stream",
     "text": [
      "Episode: 210, total steps: 200,  final return: -1279.1999999999996\n"
     ]
    },
    {
     "name": "stderr",
     "output_type": "stream",
     "text": [
      "  4%|##9                                                                 | 220/5000 [3:57:05<44:32:30, 33.55s/episodes]"
     ]
    },
    {
     "name": "stdout",
     "output_type": "stream",
     "text": [
      "Episode: 220, total steps: 170,  final return: -901.3200000000003\n"
     ]
    },
    {
     "name": "stderr",
     "output_type": "stream",
     "text": [
      "  5%|###1                                                                | 230/5000 [4:02:52<48:27:33, 36.57s/episodes]"
     ]
    },
    {
     "name": "stdout",
     "output_type": "stream",
     "text": [
      "Episode: 230, total steps: 200,  final return: -2301.240000000001\n"
     ]
    },
    {
     "name": "stderr",
     "output_type": "stream",
     "text": [
      "  5%|###1                                                                | 232/5000 [4:03:43<39:23:20, 29.74s/episodes]"
     ]
    },
    {
     "name": "stdout",
     "output_type": "stream",
     "text": [
      "Reach destination====================================================================================!!!!!!!!\n"
     ]
    },
    {
     "name": "stderr",
     "output_type": "stream",
     "text": [
      "  5%|###1                                                              | 238/5000 [5:07:15<534:11:07, 403.84s/episodes]"
     ]
    },
    {
     "name": "stdout",
     "output_type": "stream",
     "text": [
      "Reach destination====================================================================================!!!!!!!!\n"
     ]
    },
    {
     "name": "stderr",
     "output_type": "stream",
     "text": [
      "  5%|###1                                                              | 240/5000 [5:08:29<286:35:12, 216.75s/episodes]"
     ]
    },
    {
     "name": "stdout",
     "output_type": "stream",
     "text": [
      "Episode: 240, total steps: 200,  final return: -3780.1599999999985\n"
     ]
    },
    {
     "name": "stderr",
     "output_type": "stream",
     "text": [
      "  5%|###3                                                                | 246/5000 [5:10:45<57:39:26, 43.66s/episodes]"
     ]
    },
    {
     "name": "stdout",
     "output_type": "stream",
     "text": [
      "Reach destination====================================================================================!!!!!!!!\n"
     ]
    },
    {
     "name": "stderr",
     "output_type": "stream",
     "text": [
      "  5%|###3                                                                | 248/5000 [5:11:32<45:30:53, 34.48s/episodes]"
     ]
    },
    {
     "name": "stdout",
     "output_type": "stream",
     "text": [
      "Reach destination====================================================================================!!!!!!!!\n"
     ]
    },
    {
     "name": "stderr",
     "output_type": "stream",
     "text": [
      "  5%|###4                                                                | 250/5000 [5:12:16<38:48:42, 29.42s/episodes]"
     ]
    },
    {
     "name": "stdout",
     "output_type": "stream",
     "text": [
      "Episode: 250, total steps: 200,  final return: -3560.920000000001\n"
     ]
    },
    {
     "name": "stderr",
     "output_type": "stream",
     "text": [
      "  5%|###5                                                                | 260/5000 [5:17:55<34:56:44, 26.54s/episodes]"
     ]
    },
    {
     "name": "stdout",
     "output_type": "stream",
     "text": [
      "Episode: 260, total steps: 10,  final return: -20.560000000000002\n"
     ]
    },
    {
     "name": "stderr",
     "output_type": "stream",
     "text": [
      "  5%|###6                                                                | 270/5000 [5:22:45<34:15:01, 26.07s/episodes]"
     ]
    },
    {
     "name": "stdout",
     "output_type": "stream",
     "text": [
      "Episode: 270, total steps: 43,  final return: -387.48\n"
     ]
    },
    {
     "name": "stderr",
     "output_type": "stream",
     "text": [
      "  5%|###7                                                                | 273/5000 [5:23:43<24:44:24, 18.84s/episodes]"
     ]
    },
    {
     "name": "stdout",
     "output_type": "stream",
     "text": [
      "Reach destination====================================================================================!!!!!!!!\n"
     ]
    },
    {
     "name": "stderr",
     "output_type": "stream",
     "text": [
      "  6%|###6                                                              | 280/5000 [5:36:02<134:49:52, 102.84s/episodes]"
     ]
    },
    {
     "name": "stdout",
     "output_type": "stream",
     "text": [
      "Episode: 280, total steps: 47,  final return: -251.1200000000001\n"
     ]
    },
    {
     "name": "stderr",
     "output_type": "stream",
     "text": [
      "  6%|###9                                                                | 288/5000 [5:40:27<39:39:23, 30.30s/episodes]"
     ]
    },
    {
     "name": "stdout",
     "output_type": "stream",
     "text": [
      "Reach destination====================================================================================!!!!!!!!\n"
     ]
    },
    {
     "name": "stderr",
     "output_type": "stream",
     "text": [
      "\r",
      "  6%|###9                                                                | 289/5000 [5:40:57<39:48:41, 30.42s/episodes]"
     ]
    },
    {
     "name": "stdout",
     "output_type": "stream",
     "text": [
      "Reach destination====================================================================================!!!!!!!!\n"
     ]
    },
    {
     "name": "stderr",
     "output_type": "stream",
     "text": [
      "\r",
      "  6%|###9                                                                | 290/5000 [5:41:35<42:41:12, 32.63s/episodes]"
     ]
    },
    {
     "name": "stdout",
     "output_type": "stream",
     "text": [
      "Episode: 290, total steps: 200,  final return: -3754.0799999999995\n"
     ]
    },
    {
     "name": "stderr",
     "output_type": "stream",
     "text": [
      "\r",
      "  6%|###9                                                                | 291/5000 [5:41:49<35:17:15, 26.98s/episodes]"
     ]
    },
    {
     "name": "stdout",
     "output_type": "stream",
     "text": [
      "Reach destination====================================================================================!!!!!!!!\n"
     ]
    },
    {
     "name": "stderr",
     "output_type": "stream",
     "text": [
      "  6%|####                                                                | 295/5000 [5:43:51<41:41:11, 31.90s/episodes]"
     ]
    },
    {
     "name": "stdout",
     "output_type": "stream",
     "text": [
      "Reach destination====================================================================================!!!!!!!!\n"
     ]
    },
    {
     "name": "stderr",
     "output_type": "stream",
     "text": [
      "\r",
      "  6%|####                                                                | 296/5000 [5:44:21<40:55:30, 31.32s/episodes]"
     ]
    },
    {
     "name": "stdout",
     "output_type": "stream",
     "text": [
      "Reach destination====================================================================================!!!!!!!!\n"
     ]
    },
    {
     "name": "stderr",
     "output_type": "stream",
     "text": [
      "  6%|####                                                                | 300/5000 [5:46:16<33:23:50, 25.58s/episodes]"
     ]
    },
    {
     "name": "stdout",
     "output_type": "stream",
     "text": [
      "Episode: 300, total steps: 16,  final return: -231.68\n"
     ]
    },
    {
     "name": "stderr",
     "output_type": "stream",
     "text": [
      "\r",
      "  6%|####                                                                | 301/5000 [5:46:53<38:00:24, 29.12s/episodes]"
     ]
    },
    {
     "name": "stdout",
     "output_type": "stream",
     "text": [
      "Reach destination====================================================================================!!!!!!!!\n"
     ]
    },
    {
     "name": "stderr",
     "output_type": "stream",
     "text": [
      "  6%|####1                                                               | 307/5000 [5:50:26<44:56:07, 34.47s/episodes]"
     ]
    },
    {
     "name": "stdout",
     "output_type": "stream",
     "text": [
      "Reach destination====================================================================================!!!!!!!!\n"
     ]
    },
    {
     "name": "stderr",
     "output_type": "stream",
     "text": [
      "  6%|####2                                                               | 310/5000 [5:51:53<37:41:50, 28.94s/episodes]"
     ]
    },
    {
     "name": "stdout",
     "output_type": "stream",
     "text": [
      "Episode: 310, total steps: 66,  final return: -976.0800000000003\n"
     ]
    },
    {
     "name": "stderr",
     "output_type": "stream",
     "text": [
      "  6%|####3                                                               | 320/5000 [6:02:27<77:08:31, 59.34s/episodes]"
     ]
    },
    {
     "name": "stdout",
     "output_type": "stream",
     "text": [
      "Reach destination====================================================================================!!!!!!!!\n",
      "Episode: 320, total steps: 76,  final return: -1273.08\n"
     ]
    },
    {
     "name": "stderr",
     "output_type": "stream",
     "text": [
      "  6%|####3                                                               | 322/5000 [6:03:30<57:37:13, 44.34s/episodes]"
     ]
    },
    {
     "name": "stdout",
     "output_type": "stream",
     "text": [
      "Reach destination====================================================================================!!!!!!!!\n"
     ]
    },
    {
     "name": "stderr",
     "output_type": "stream",
     "text": [
      "  6%|####4                                                               | 325/5000 [6:04:29<34:58:11, 26.93s/episodes]"
     ]
    },
    {
     "name": "stdout",
     "output_type": "stream",
     "text": [
      "Reach destination====================================================================================!!!!!!!!\n",
      "Reach destination====================================================================================!!!!!!!!\n"
     ]
    },
    {
     "name": "stderr",
     "output_type": "stream",
     "text": [
      "  7%|####4                                                               | 330/5000 [6:07:07<38:08:35, 29.40s/episodes]"
     ]
    },
    {
     "name": "stdout",
     "output_type": "stream",
     "text": [
      "Episode: 330, total steps: 200,  final return: -2370.600000000001\n"
     ]
    },
    {
     "name": "stderr",
     "output_type": "stream",
     "text": [
      "  7%|####6                                                               | 340/5000 [6:13:27<49:01:56, 37.88s/episodes]"
     ]
    },
    {
     "name": "stdout",
     "output_type": "stream",
     "text": [
      "Episode: 340, total steps: 200,  final return: -3360.4000000000024\n"
     ]
    },
    {
     "name": "stderr",
     "output_type": "stream",
     "text": [
      "  7%|####7                                                               | 348/5000 [6:17:33<38:17:44, 29.64s/episodes]"
     ]
    },
    {
     "name": "stdout",
     "output_type": "stream",
     "text": [
      "Reach destination====================================================================================!!!!!!!!\n"
     ]
    },
    {
     "name": "stderr",
     "output_type": "stream",
     "text": [
      "  7%|####7                                                               | 350/5000 [6:18:47<43:17:42, 33.52s/episodes]"
     ]
    },
    {
     "name": "stdout",
     "output_type": "stream",
     "text": [
      "Episode: 350, total steps: 200,  final return: -3020.4400000000023\n"
     ]
    },
    {
     "name": "stderr",
     "output_type": "stream",
     "text": [
      "  7%|####8                                                               | 359/5000 [6:28:15<53:14:56, 41.30s/episodes]"
     ]
    },
    {
     "name": "stdout",
     "output_type": "stream",
     "text": [
      "Reach destination====================================================================================!!!!!!!!\n"
     ]
    },
    {
     "name": "stderr",
     "output_type": "stream",
     "text": [
      "\r",
      "  7%|####8                                                               | 360/5000 [6:28:53<52:01:28, 40.36s/episodes]"
     ]
    },
    {
     "name": "stdout",
     "output_type": "stream",
     "text": [
      "Episode: 360, total steps: 200,  final return: -3809.0800000000004\n"
     ]
    },
    {
     "name": "stderr",
     "output_type": "stream",
     "text": [
      "  7%|####9                                                               | 362/5000 [6:29:57<45:46:06, 35.53s/episodes]"
     ]
    },
    {
     "name": "stdout",
     "output_type": "stream",
     "text": [
      "Reach destination====================================================================================!!!!!!!!\n"
     ]
    },
    {
     "name": "stderr",
     "output_type": "stream",
     "text": [
      "  7%|#####                                                               | 370/5000 [6:33:56<45:15:15, 35.19s/episodes]"
     ]
    },
    {
     "name": "stdout",
     "output_type": "stream",
     "text": [
      "Episode: 370, total steps: 200,  final return: -2439.2000000000007\n"
     ]
    },
    {
     "name": "stderr",
     "output_type": "stream",
     "text": [
      "  8%|#####1                                                              | 375/5000 [6:37:04<47:33:22, 37.02s/episodes]"
     ]
    },
    {
     "name": "stdout",
     "output_type": "stream",
     "text": [
      "Reach destination====================================================================================!!!!!!!!\n"
     ]
    },
    {
     "name": "stderr",
     "output_type": "stream",
     "text": [
      "\r",
      "  8%|#####1                                                              | 376/5000 [6:37:39<46:57:54, 36.56s/episodes]"
     ]
    },
    {
     "name": "stdout",
     "output_type": "stream",
     "text": [
      "Reach destination====================================================================================!!!!!!!!\n"
     ]
    },
    {
     "name": "stderr",
     "output_type": "stream",
     "text": [
      "  8%|#####1                                                              | 379/5000 [6:39:11<39:39:47, 30.90s/episodes]"
     ]
    },
    {
     "name": "stdout",
     "output_type": "stream",
     "text": [
      "Reach destination====================================================================================!!!!!!!!\n"
     ]
    },
    {
     "name": "stderr",
     "output_type": "stream",
     "text": [
      "\r",
      "  8%|#####1                                                              | 380/5000 [6:39:49<42:07:15, 32.82s/episodes]"
     ]
    },
    {
     "name": "stdout",
     "output_type": "stream",
     "text": [
      "Episode: 380, total steps: 200,  final return: -5011.5599999999995\n"
     ]
    },
    {
     "name": "stderr",
     "output_type": "stream",
     "text": [
      "  8%|#####2                                                              | 384/5000 [6:41:45<40:34:54, 31.65s/episodes]"
     ]
    },
    {
     "name": "stdout",
     "output_type": "stream",
     "text": [
      "Reach destination====================================================================================!!!!!!!!\n"
     ]
    },
    {
     "name": "stderr",
     "output_type": "stream",
     "text": [
      "  8%|#####2                                                              | 386/5000 [6:42:50<40:51:20, 31.88s/episodes]"
     ]
    },
    {
     "name": "stdout",
     "output_type": "stream",
     "text": [
      "Reach destination====================================================================================!!!!!!!!\n"
     ]
    },
    {
     "name": "stderr",
     "output_type": "stream",
     "text": [
      "  8%|#####2                                                              | 389/5000 [6:44:39<44:00:02, 34.35s/episodes]"
     ]
    },
    {
     "name": "stdout",
     "output_type": "stream",
     "text": [
      "Reach destination====================================================================================!!!!!!!!\n"
     ]
    },
    {
     "name": "stderr",
     "output_type": "stream",
     "text": [
      "\r",
      "  8%|#####3                                                              | 390/5000 [6:45:17<45:21:56, 35.43s/episodes]"
     ]
    },
    {
     "name": "stdout",
     "output_type": "stream",
     "text": [
      "Episode: 390, total steps: 200,  final return: -3097.16\n"
     ]
    },
    {
     "name": "stderr",
     "output_type": "stream",
     "text": [
      "  8%|#####1                                                            | 392/5000 [7:27:08<700:48:01, 547.50s/episodes]"
     ]
    },
    {
     "name": "stdout",
     "output_type": "stream",
     "text": [
      "Reach destination====================================================================================!!!!!!!!\n"
     ]
    },
    {
     "name": "stderr",
     "output_type": "stream",
     "text": [
      "  8%|#####2                                                            | 397/5000 [7:29:45<151:53:21, 118.79s/episodes]"
     ]
    },
    {
     "name": "stdout",
     "output_type": "stream",
     "text": [
      "Reach destination====================================================================================!!!!!!!!\n"
     ]
    },
    {
     "name": "stderr",
     "output_type": "stream",
     "text": [
      "  8%|#####4                                                              | 399/5000 [7:30:36<89:40:52, 70.17s/episodes]"
     ]
    },
    {
     "name": "stdout",
     "output_type": "stream",
     "text": [
      "Reach destination====================================================================================!!!!!!!!\n"
     ]
    },
    {
     "name": "stderr",
     "output_type": "stream",
     "text": [
      "\r",
      "  8%|#####4                                                              | 400/5000 [7:31:10<75:49:56, 59.35s/episodes]"
     ]
    },
    {
     "name": "stdout",
     "output_type": "stream",
     "text": [
      "Reach destination====================================================================================!!!!!!!!\n",
      "Episode: 400, total steps: 190,  final return: -2700.2799999999997\n"
     ]
    },
    {
     "name": "stderr",
     "output_type": "stream",
     "text": [
      "\r",
      "  8%|#####4                                                              | 401/5000 [7:31:36<62:56:37, 49.27s/episodes]"
     ]
    },
    {
     "name": "stdout",
     "output_type": "stream",
     "text": [
      "Reach destination====================================================================================!!!!!!!!\n"
     ]
    },
    {
     "name": "stderr",
     "output_type": "stream",
     "text": [
      "  8%|#####5                                                              | 406/5000 [7:33:21<28:46:35, 22.55s/episodes]"
     ]
    },
    {
     "name": "stdout",
     "output_type": "stream",
     "text": [
      "Reach destination====================================================================================!!!!!!!!\n"
     ]
    },
    {
     "name": "stderr",
     "output_type": "stream",
     "text": [
      "\r",
      "  8%|#####5                                                              | 407/5000 [7:33:36<25:41:56, 20.14s/episodes]"
     ]
    },
    {
     "name": "stdout",
     "output_type": "stream",
     "text": [
      "Reach destination====================================================================================!!!!!!!!\n"
     ]
    },
    {
     "name": "stderr",
     "output_type": "stream",
     "text": [
      "  8%|#####5                                                              | 409/5000 [7:34:41<33:07:44, 25.98s/episodes]"
     ]
    },
    {
     "name": "stdout",
     "output_type": "stream",
     "text": [
      "Reach destination====================================================================================!!!!!!!!\n"
     ]
    },
    {
     "name": "stderr",
     "output_type": "stream",
     "text": [
      "\r",
      "  8%|#####5                                                              | 410/5000 [7:35:20<38:10:50, 29.95s/episodes]"
     ]
    },
    {
     "name": "stdout",
     "output_type": "stream",
     "text": [
      "Reach destination====================================================================================!!!!!!!!\n",
      "Episode: 410, total steps: 199,  final return: -3541.719999999999\n"
     ]
    },
    {
     "name": "stderr",
     "output_type": "stream",
     "text": [
      "  8%|#####6                                                              | 415/5000 [7:36:53<24:45:47, 19.44s/episodes]"
     ]
    },
    {
     "name": "stdout",
     "output_type": "stream",
     "text": [
      "Reach destination====================================================================================!!!!!!!!\n"
     ]
    },
    {
     "name": "stderr",
     "output_type": "stream",
     "text": [
      "  8%|#####6                                                              | 419/5000 [7:38:46<35:22:15, 27.80s/episodes]"
     ]
    },
    {
     "name": "stdout",
     "output_type": "stream",
     "text": [
      "Reach destination====================================================================================!!!!!!!!\n"
     ]
    },
    {
     "name": "stderr",
     "output_type": "stream",
     "text": [
      "\r",
      "  8%|#####7                                                              | 420/5000 [7:39:15<35:46:41, 28.12s/episodes]"
     ]
    },
    {
     "name": "stdout",
     "output_type": "stream",
     "text": [
      "Episode: 420, total steps: 152,  final return: -1248.16\n"
     ]
    },
    {
     "name": "stderr",
     "output_type": "stream",
     "text": [
      "  9%|#####7                                                              | 426/5000 [7:42:47<40:11:59, 31.64s/episodes]"
     ]
    },
    {
     "name": "stdout",
     "output_type": "stream",
     "text": [
      "Reach destination====================================================================================!!!!!!!!\n"
     ]
    },
    {
     "name": "stderr",
     "output_type": "stream",
     "text": [
      "\r",
      "  9%|#####8                                                              | 427/5000 [7:43:00<32:55:04, 25.91s/episodes]"
     ]
    },
    {
     "name": "stdout",
     "output_type": "stream",
     "text": [
      "Reach destination====================================================================================!!!!!!!!\n"
     ]
    },
    {
     "name": "stderr",
     "output_type": "stream",
     "text": [
      "  9%|#####8                                                              | 430/5000 [7:44:54<43:08:03, 33.98s/episodes]"
     ]
    },
    {
     "name": "stdout",
     "output_type": "stream",
     "text": [
      "Episode: 430, total steps: 200,  final return: -2555.559999999999\n"
     ]
    },
    {
     "name": "stderr",
     "output_type": "stream",
     "text": [
      "\r",
      "  9%|#####8                                                              | 431/5000 [7:45:24<41:17:49, 32.54s/episodes]"
     ]
    },
    {
     "name": "stdout",
     "output_type": "stream",
     "text": [
      "Reach destination====================================================================================!!!!!!!!\n"
     ]
    },
    {
     "name": "stderr",
     "output_type": "stream",
     "text": [
      "  9%|#####9                                                              | 439/5000 [7:47:43<20:24:45, 16.11s/episodes]"
     ]
    },
    {
     "name": "stdout",
     "output_type": "stream",
     "text": [
      "Reach destination====================================================================================!!!!!!!!\n"
     ]
    },
    {
     "name": "stderr",
     "output_type": "stream",
     "text": [
      "\r",
      "  9%|#####9                                                              | 440/5000 [7:48:22<29:11:03, 23.04s/episodes]"
     ]
    },
    {
     "name": "stdout",
     "output_type": "stream",
     "text": [
      "Episode: 440, total steps: 200,  final return: -2452.3999999999996\n"
     ]
    },
    {
     "name": "stderr",
     "output_type": "stream",
     "text": [
      "  9%|######                                                              | 443/5000 [7:50:10<39:42:25, 31.37s/episodes]"
     ]
    },
    {
     "name": "stdout",
     "output_type": "stream",
     "text": [
      "Reach destination====================================================================================!!!!!!!!\n"
     ]
    },
    {
     "name": "stderr",
     "output_type": "stream",
     "text": [
      "  9%|#####9                                                            | 450/5000 [8:34:08<187:58:09, 148.72s/episodes]"
     ]
    },
    {
     "name": "stdout",
     "output_type": "stream",
     "text": [
      "Episode: 450, total steps: 16,  final return: -73.8\n"
     ]
    },
    {
     "name": "stderr",
     "output_type": "stream",
     "text": [
      "  9%|######1                                                             | 455/5000 [8:36:59<64:17:35, 50.93s/episodes]"
     ]
    },
    {
     "name": "stdout",
     "output_type": "stream",
     "text": [
      "Reach destination====================================================================================!!!!!!!!\n"
     ]
    },
    {
     "name": "stderr",
     "output_type": "stream",
     "text": [
      "  9%|######2                                                             | 460/5000 [8:40:01<47:14:27, 37.46s/episodes]"
     ]
    },
    {
     "name": "stdout",
     "output_type": "stream",
     "text": [
      "Reach destination====================================================================================!!!!!!!!\n",
      "Episode: 460, total steps: 157,  final return: -2073.3199999999993\n"
     ]
    },
    {
     "name": "stderr",
     "output_type": "stream",
     "text": [
      "  9%|######2                                                             | 462/5000 [8:41:10<44:58:30, 35.68s/episodes]"
     ]
    },
    {
     "name": "stdout",
     "output_type": "stream",
     "text": [
      "Reach destination====================================================================================!!!!!!!!\n"
     ]
    },
    {
     "name": "stderr",
     "output_type": "stream",
     "text": [
      "  9%|######3                                                             | 466/5000 [8:42:53<32:13:40, 25.59s/episodes]"
     ]
    },
    {
     "name": "stdout",
     "output_type": "stream",
     "text": [
      "Reach destination====================================================================================!!!!!!!!\n"
     ]
    },
    {
     "name": "stderr",
     "output_type": "stream",
     "text": [
      "  9%|######3                                                             | 469/5000 [8:44:27<34:52:03, 27.70s/episodes]"
     ]
    },
    {
     "name": "stdout",
     "output_type": "stream",
     "text": [
      "Reach destination====================================================================================!!!!!!!!\n"
     ]
    },
    {
     "name": "stderr",
     "output_type": "stream",
     "text": [
      "\r",
      "  9%|######3                                                             | 470/5000 [8:45:06<39:02:47, 31.03s/episodes]"
     ]
    },
    {
     "name": "stdout",
     "output_type": "stream",
     "text": [
      "Episode: 470, total steps: 200,  final return: -2420.2400000000002\n"
     ]
    },
    {
     "name": "stderr",
     "output_type": "stream",
     "text": [
      "  9%|######4                                                             | 474/5000 [8:47:40<45:56:44, 36.55s/episodes]"
     ]
    },
    {
     "name": "stdout",
     "output_type": "stream",
     "text": [
      "Reach destination====================================================================================!!!!!!!!\n"
     ]
    },
    {
     "name": "stderr",
     "output_type": "stream",
     "text": [
      " 10%|######4                                                             | 476/5000 [8:48:09<33:11:13, 26.41s/episodes]"
     ]
    },
    {
     "name": "stdout",
     "output_type": "stream",
     "text": [
      "Reach destination====================================================================================!!!!!!!!\n"
     ]
    },
    {
     "name": "stderr",
     "output_type": "stream",
     "text": [
      "\r",
      " 10%|######4                                                             | 477/5000 [8:48:24<28:52:53, 22.99s/episodes]"
     ]
    },
    {
     "name": "stdout",
     "output_type": "stream",
     "text": [
      "Reach destination====================================================================================!!!!!!!!\n"
     ]
    },
    {
     "name": "stderr",
     "output_type": "stream",
     "text": [
      " 10%|######5                                                             | 480/5000 [8:50:18<41:11:57, 32.81s/episodes]"
     ]
    },
    {
     "name": "stdout",
     "output_type": "stream",
     "text": [
      "Episode: 480, total steps: 200,  final return: -3496.720000000001\n"
     ]
    },
    {
     "name": "stderr",
     "output_type": "stream",
     "text": [
      "\r",
      " 10%|######5                                                             | 481/5000 [8:50:39<36:43:02, 29.25s/episodes]"
     ]
    },
    {
     "name": "stdout",
     "output_type": "stream",
     "text": [
      "Reach destination====================================================================================!!!!!!!!\n"
     ]
    },
    {
     "name": "stderr",
     "output_type": "stream",
     "text": [
      " 10%|######5                                                             | 483/5000 [8:51:26<31:20:25, 24.98s/episodes]"
     ]
    },
    {
     "name": "stdout",
     "output_type": "stream",
     "text": [
      "Reach destination====================================================================================!!!!!!!!\n"
     ]
    },
    {
     "name": "stderr",
     "output_type": "stream",
     "text": [
      " 10%|######1                                                        | 488/5000 [12:34:07<1505:44:32, 1201.39s/episodes]"
     ]
    },
    {
     "name": "stdout",
     "output_type": "stream",
     "text": [
      "Reach destination====================================================================================!!!!!!!!\n"
     ]
    },
    {
     "name": "stderr",
     "output_type": "stream",
     "text": [
      " 10%|######3                                                          | 490/5000 [12:35:24<762:02:32, 608.28s/episodes]"
     ]
    },
    {
     "name": "stdout",
     "output_type": "stream",
     "text": [
      "Episode: 490, total steps: 200,  final return: -2455.2399999999993\n"
     ]
    },
    {
     "name": "stderr",
     "output_type": "stream",
     "text": [
      " 10%|######3                                                          | 492/5000 [12:36:11<386:40:07, 308.79s/episodes]"
     ]
    },
    {
     "name": "stdout",
     "output_type": "stream",
     "text": [
      "Reach destination====================================================================================!!!!!!!!\n"
     ]
    },
    {
     "name": "stderr",
     "output_type": "stream",
     "text": [
      "\r",
      " 10%|######4                                                          | 493/5000 [12:36:46<283:48:35, 226.70s/episodes]"
     ]
    },
    {
     "name": "stdout",
     "output_type": "stream",
     "text": [
      "Reach destination====================================================================================!!!!!!!!\n"
     ]
    },
    {
     "name": "stderr",
     "output_type": "stream",
     "text": [
      " 10%|######5                                                           | 497/5000 [12:38:58<100:38:44, 80.46s/episodes]"
     ]
    },
    {
     "name": "stdout",
     "output_type": "stream",
     "text": [
      "Reach destination====================================================================================!!!!!!!!\n"
     ]
    },
    {
     "name": "stderr",
     "output_type": "stream",
     "text": [
      " 10%|######7                                                            | 500/5000 [12:40:17<56:53:17, 45.51s/episodes]"
     ]
    },
    {
     "name": "stdout",
     "output_type": "stream",
     "text": [
      "Reach destination====================================================================================!!!!!!!!\n",
      "Episode: 500, total steps: 129,  final return: -2282.4800000000014\n"
     ]
    },
    {
     "name": "stderr",
     "output_type": "stream",
     "text": [
      " 10%|######7                                                            | 502/5000 [12:41:20<47:06:46, 37.71s/episodes]"
     ]
    },
    {
     "name": "stdout",
     "output_type": "stream",
     "text": [
      "Reach destination====================================================================================!!!!!!!!\n"
     ]
    },
    {
     "name": "stderr",
     "output_type": "stream",
     "text": [
      " 10%|######8                                                            | 509/5000 [12:45:42<45:29:15, 36.46s/episodes]"
     ]
    },
    {
     "name": "stdout",
     "output_type": "stream",
     "text": [
      "Reach destination====================================================================================!!!!!!!!\n"
     ]
    },
    {
     "name": "stderr",
     "output_type": "stream",
     "text": [
      "\r",
      " 10%|######8                                                            | 510/5000 [12:46:20<46:09:53, 37.01s/episodes]"
     ]
    },
    {
     "name": "stdout",
     "output_type": "stream",
     "text": [
      "Episode: 510, total steps: 200,  final return: -3870.000000000002\n"
     ]
    },
    {
     "name": "stderr",
     "output_type": "stream",
     "text": [
      " 10%|######8                                                            | 513/5000 [12:47:56<39:53:25, 32.00s/episodes]"
     ]
    },
    {
     "name": "stdout",
     "output_type": "stream",
     "text": [
      "Reach destination====================================================================================!!!!!!!!\n"
     ]
    },
    {
     "name": "stderr",
     "output_type": "stream",
     "text": [
      "\r",
      " 10%|######8                                                            | 514/5000 [12:48:03<30:19:34, 24.34s/episodes]"
     ]
    },
    {
     "name": "stdout",
     "output_type": "stream",
     "text": [
      "Reach destination====================================================================================!!!!!!!!\n"
     ]
    },
    {
     "name": "stderr",
     "output_type": "stream",
     "text": [
      " 10%|######9                                                            | 520/5000 [12:51:57<46:15:14, 37.17s/episodes]"
     ]
    },
    {
     "name": "stdout",
     "output_type": "stream",
     "text": [
      "Episode: 520, total steps: 200,  final return: -3390.6799999999994\n"
     ]
    },
    {
     "name": "stderr",
     "output_type": "stream",
     "text": [
      " 11%|######6                                                        | 528/5000 [18:23:31<1263:42:57, 1017.30s/episodes]"
     ]
    },
    {
     "name": "stdout",
     "output_type": "stream",
     "text": [
      "Reach destination====================================================================================!!!!!!!!\n"
     ]
    },
    {
     "name": "stderr",
     "output_type": "stream",
     "text": [
      "\r",
      " 11%|######8                                                          | 529/5000 [18:23:32<884:46:16, 712.41s/episodes]"
     ]
    },
    {
     "name": "stdout",
     "output_type": "stream",
     "text": [
      "Reach destination====================================================================================!!!!!!!!\n"
     ]
    },
    {
     "name": "stderr",
     "output_type": "stream",
     "text": [
      "\r",
      " 11%|######8                                                          | 530/5000 [18:24:01<629:54:04, 507.30s/episodes]"
     ]
    },
    {
     "name": "stdout",
     "output_type": "stream",
     "text": [
      "Reach destination====================================================================================!!!!!!!!\n",
      "Episode: 530, total steps: 148,  final return: -2205.8000000000006\n"
     ]
    },
    {
     "name": "stderr",
     "output_type": "stream",
     "text": [
      " 11%|######9                                                          | 534/5000 [18:25:19<167:33:58, 135.07s/episodes]"
     ]
    },
    {
     "name": "stdout",
     "output_type": "stream",
     "text": [
      "Reach destination====================================================================================!!!!!!!!\n"
     ]
    },
    {
     "name": "stderr",
     "output_type": "stream",
     "text": [
      " 11%|#######2                                                           | 539/5000 [18:27:47<55:09:11, 44.51s/episodes]"
     ]
    },
    {
     "name": "stdout",
     "output_type": "stream",
     "text": [
      "Reach destination====================================================================================!!!!!!!!\n"
     ]
    },
    {
     "name": "stderr",
     "output_type": "stream",
     "text": [
      "\r",
      " 11%|#######2                                                           | 540/5000 [18:28:20<50:55:07, 41.10s/episodes]"
     ]
    },
    {
     "name": "stdout",
     "output_type": "stream",
     "text": [
      "Episode: 540, total steps: 200,  final return: -1375.9199999999998\n"
     ]
    },
    {
     "name": "stderr",
     "output_type": "stream",
     "text": [
      " 11%|#######3                                                           | 548/5000 [18:31:11<27:17:22, 22.07s/episodes]"
     ]
    },
    {
     "name": "stdout",
     "output_type": "stream",
     "text": [
      "Reach destination====================================================================================!!!!!!!!\n"
     ]
    },
    {
     "name": "stderr",
     "output_type": "stream",
     "text": [
      " 11%|#######3                                                           | 550/5000 [18:32:15<33:22:29, 27.00s/episodes]"
     ]
    },
    {
     "name": "stdout",
     "output_type": "stream",
     "text": [
      "Reach destination====================================================================================!!!!!!!!\n",
      "Episode: 550, total steps: 172,  final return: -1837.0800000000006\n"
     ]
    },
    {
     "name": "stderr",
     "output_type": "stream",
     "text": [
      " 11%|#######4                                                           | 555/5000 [18:34:36<32:52:58, 26.63s/episodes]"
     ]
    },
    {
     "name": "stdout",
     "output_type": "stream",
     "text": [
      "Reach destination====================================================================================!!!!!!!!\n"
     ]
    },
    {
     "name": "stderr",
     "output_type": "stream",
     "text": [
      " 11%|#######4                                                           | 559/5000 [18:36:37<34:28:22, 27.94s/episodes]"
     ]
    },
    {
     "name": "stdout",
     "output_type": "stream",
     "text": [
      "Reach destination====================================================================================!!!!!!!!\n"
     ]
    },
    {
     "name": "stderr",
     "output_type": "stream",
     "text": [
      "\r",
      " 11%|#######5                                                           | 560/5000 [18:36:45<27:03:44, 21.94s/episodes]"
     ]
    },
    {
     "name": "stdout",
     "output_type": "stream",
     "text": [
      "Reach destination====================================================================================!!!!!!!!\n",
      "Episode: 560, total steps: 49,  final return: -705.9200000000001\n"
     ]
    },
    {
     "name": "stderr",
     "output_type": "stream",
     "text": [
      " 11%|#######5                                                           | 567/5000 [18:40:29<35:51:42, 29.12s/episodes]"
     ]
    },
    {
     "name": "stdout",
     "output_type": "stream",
     "text": [
      "Reach destination====================================================================================!!!!!!!!\n"
     ]
    },
    {
     "name": "stderr",
     "output_type": "stream",
     "text": [
      " 11%|#######6                                                           | 570/5000 [18:42:04<37:06:08, 30.15s/episodes]"
     ]
    },
    {
     "name": "stdout",
     "output_type": "stream",
     "text": [
      "Reach destination====================================================================================!!!!!!!!\n",
      "Episode: 570, total steps: 152,  final return: -2121.92\n"
     ]
    },
    {
     "name": "stderr",
     "output_type": "stream",
     "text": [
      " 12%|#######7                                                           | 575/5000 [18:44:45<37:15:03, 30.31s/episodes]"
     ]
    },
    {
     "name": "stdout",
     "output_type": "stream",
     "text": [
      "Reach destination====================================================================================!!!!!!!!\n"
     ]
    },
    {
     "name": "stderr",
     "output_type": "stream",
     "text": [
      " 12%|#######7                                                           | 580/5000 [18:47:43<42:17:43, 34.45s/episodes]"
     ]
    },
    {
     "name": "stdout",
     "output_type": "stream",
     "text": [
      "Episode: 580, total steps: 200,  final return: -3380.480000000001\n"
     ]
    },
    {
     "name": "stderr",
     "output_type": "stream",
     "text": [
      "\r",
      " 12%|#######7                                                           | 581/5000 [18:47:54<33:40:56, 27.44s/episodes]"
     ]
    },
    {
     "name": "stdout",
     "output_type": "stream",
     "text": [
      "Reach destination====================================================================================!!!!!!!!\n"
     ]
    },
    {
     "name": "stderr",
     "output_type": "stream",
     "text": [
      "\r",
      " 12%|#######7                                                           | 582/5000 [18:48:12<30:00:37, 24.45s/episodes]"
     ]
    },
    {
     "name": "stdout",
     "output_type": "stream",
     "text": [
      "Reach destination====================================================================================!!!!!!!!\n"
     ]
    },
    {
     "name": "stderr",
     "output_type": "stream",
     "text": [
      " 12%|#######8                                                           | 586/5000 [18:50:25<37:23:54, 30.50s/episodes]"
     ]
    },
    {
     "name": "stdout",
     "output_type": "stream",
     "text": [
      "Reach destination====================================================================================!!!!!!!!\n"
     ]
    },
    {
     "name": "stderr",
     "output_type": "stream",
     "text": [
      " 12%|#######8                                                           | 588/5000 [18:51:15<32:33:19, 26.56s/episodes]"
     ]
    },
    {
     "name": "stdout",
     "output_type": "stream",
     "text": [
      "Reach destination====================================================================================!!!!!!!!\n"
     ]
    },
    {
     "name": "stderr",
     "output_type": "stream",
     "text": [
      "\r",
      " 12%|#######8                                                           | 589/5000 [18:51:39<31:37:21, 25.81s/episodes]"
     ]
    },
    {
     "name": "stdout",
     "output_type": "stream",
     "text": [
      "Reach destination====================================================================================!!!!!!!!\n"
     ]
    },
    {
     "name": "stderr",
     "output_type": "stream",
     "text": [
      "\r",
      " 12%|#######9                                                           | 590/5000 [18:52:16<35:41:57, 29.14s/episodes]"
     ]
    },
    {
     "name": "stdout",
     "output_type": "stream",
     "text": [
      "Episode: 590, total steps: 200,  final return: -2695.1200000000017\n"
     ]
    },
    {
     "name": "stderr",
     "output_type": "stream",
     "text": [
      "\r",
      " 12%|#######9                                                           | 591/5000 [18:52:47<36:22:40, 29.70s/episodes]"
     ]
    },
    {
     "name": "stdout",
     "output_type": "stream",
     "text": [
      "Reach destination====================================================================================!!!!!!!!\n"
     ]
    },
    {
     "name": "stderr",
     "output_type": "stream",
     "text": [
      "\r",
      " 12%|#######9                                                           | 592/5000 [18:53:10<34:07:23, 27.87s/episodes]"
     ]
    },
    {
     "name": "stdout",
     "output_type": "stream",
     "text": [
      "Reach destination====================================================================================!!!!!!!!\n"
     ]
    },
    {
     "name": "stderr",
     "output_type": "stream",
     "text": [
      " 12%|#######9                                                           | 595/5000 [18:54:35<32:39:35, 26.69s/episodes]"
     ]
    },
    {
     "name": "stdout",
     "output_type": "stream",
     "text": [
      "Reach destination====================================================================================!!!!!!!!\n"
     ]
    },
    {
     "name": "stderr",
     "output_type": "stream",
     "text": [
      "\r",
      " 12%|#######9                                                           | 596/5000 [18:54:47<27:20:34, 22.35s/episodes]"
     ]
    },
    {
     "name": "stdout",
     "output_type": "stream",
     "text": [
      "Reach destination====================================================================================!!!!!!!!\n"
     ]
    },
    {
     "name": "stderr",
     "output_type": "stream",
     "text": [
      "\r",
      " 12%|#######9                                                           | 597/5000 [18:55:00<24:07:14, 19.72s/episodes]"
     ]
    },
    {
     "name": "stdout",
     "output_type": "stream",
     "text": [
      "Reach destination====================================================================================!!!!!!!!\n"
     ]
    },
    {
     "name": "stderr",
     "output_type": "stream",
     "text": [
      " 12%|########                                                           | 600/5000 [18:56:41<35:16:51, 28.87s/episodes]"
     ]
    },
    {
     "name": "stdout",
     "output_type": "stream",
     "text": [
      "Episode: 600, total steps: 200,  final return: -2152.160000000001\n"
     ]
    },
    {
     "name": "stderr",
     "output_type": "stream",
     "text": [
      " 12%|########                                                           | 603/5000 [18:58:20<38:24:13, 31.44s/episodes]"
     ]
    },
    {
     "name": "stdout",
     "output_type": "stream",
     "text": [
      "Reach destination====================================================================================!!!!!!!!\n"
     ]
    },
    {
     "name": "stderr",
     "output_type": "stream",
     "text": [
      " 12%|########1                                                          | 605/5000 [18:59:09<32:51:48, 26.92s/episodes]"
     ]
    },
    {
     "name": "stdout",
     "output_type": "stream",
     "text": [
      "Reach destination====================================================================================!!!!!!!!\n"
     ]
    },
    {
     "name": "stderr",
     "output_type": "stream",
     "text": [
      "\r",
      " 12%|########1                                                          | 606/5000 [18:59:24<28:43:47, 23.54s/episodes]"
     ]
    },
    {
     "name": "stdout",
     "output_type": "stream",
     "text": [
      "Reach destination====================================================================================!!!!!!!!\n"
     ]
    },
    {
     "name": "stderr",
     "output_type": "stream",
     "text": [
      " 12%|########1                                                          | 608/5000 [19:00:07<26:03:23, 21.36s/episodes]"
     ]
    },
    {
     "name": "stdout",
     "output_type": "stream",
     "text": [
      "Reach destination====================================================================================!!!!!!!!\n"
     ]
    },
    {
     "name": "stderr",
     "output_type": "stream",
     "text": [
      "\r",
      " 12%|########1                                                          | 609/5000 [19:00:25<24:36:20, 20.17s/episodes]"
     ]
    },
    {
     "name": "stdout",
     "output_type": "stream",
     "text": [
      "Reach destination====================================================================================!!!!!!!!\n"
     ]
    },
    {
     "name": "stderr",
     "output_type": "stream",
     "text": [
      "\r",
      " 12%|########1                                                          | 610/5000 [19:00:59<29:38:31, 24.31s/episodes]"
     ]
    },
    {
     "name": "stdout",
     "output_type": "stream",
     "text": [
      "Episode: 610, total steps: 200,  final return: -4727.720000000002\n"
     ]
    },
    {
     "name": "stderr",
     "output_type": "stream",
     "text": [
      " 12%|########2                                                          | 612/5000 [19:02:00<33:13:22, 27.26s/episodes]"
     ]
    },
    {
     "name": "stdout",
     "output_type": "stream",
     "text": [
      "Reach destination====================================================================================!!!!!!!!\n"
     ]
    },
    {
     "name": "stderr",
     "output_type": "stream",
     "text": [
      " 12%|########2                                                          | 618/5000 [19:05:12<35:53:15, 29.48s/episodes]"
     ]
    },
    {
     "name": "stdout",
     "output_type": "stream",
     "text": [
      "Reach destination====================================================================================!!!!!!!!\n"
     ]
    },
    {
     "name": "stderr",
     "output_type": "stream",
     "text": [
      "\r",
      " 12%|########2                                                          | 619/5000 [19:05:55<40:43:16, 33.46s/episodes]"
     ]
    },
    {
     "name": "stdout",
     "output_type": "stream",
     "text": [
      "Reach destination====================================================================================!!!!!!!!\n",
      "Reach destination====================================================================================!!!!!!!!\n",
      "Episode: 620, total steps: 183,  final return: -3736.639999999999"
     ]
    },
    {
     "name": "stderr",
     "output_type": "stream",
     "text": [
      "\r",
      " 12%|########3                                                          | 620/5000 [19:06:36<43:33:23, 35.80s/episodes]"
     ]
    },
    {
     "name": "stdout",
     "output_type": "stream",
     "text": [
      "\n"
     ]
    },
    {
     "name": "stderr",
     "output_type": "stream",
     "text": [
      "\r",
      " 12%|########3                                                          | 621/5000 [19:06:43<33:06:11, 27.21s/episodes]"
     ]
    },
    {
     "name": "stdout",
     "output_type": "stream",
     "text": [
      "Reach destination====================================================================================!!!!!!!!\n"
     ]
    },
    {
     "name": "stderr",
     "output_type": "stream",
     "text": [
      "\r",
      " 12%|########3                                                          | 622/5000 [19:07:16<35:03:43, 28.83s/episodes]"
     ]
    },
    {
     "name": "stdout",
     "output_type": "stream",
     "text": [
      "Reach destination====================================================================================!!!!!!!!\n"
     ]
    },
    {
     "name": "stderr",
     "output_type": "stream",
     "text": [
      " 12%|########3                                                          | 624/5000 [19:08:38<42:09:47, 34.69s/episodes]"
     ]
    },
    {
     "name": "stdout",
     "output_type": "stream",
     "text": [
      "Reach destination====================================================================================!!!!!!!!\n"
     ]
    },
    {
     "name": "stderr",
     "output_type": "stream",
     "text": [
      "\r",
      " 12%|########3                                                          | 625/5000 [19:09:18<44:06:12, 36.29s/episodes]"
     ]
    },
    {
     "name": "stdout",
     "output_type": "stream",
     "text": [
      "Reach destination====================================================================================!!!!!!!!\n"
     ]
    },
    {
     "name": "stderr",
     "output_type": "stream",
     "text": [
      "\r",
      " 13%|########3                                                          | 626/5000 [19:10:00<46:09:35, 37.99s/episodes]"
     ]
    },
    {
     "name": "stdout",
     "output_type": "stream",
     "text": [
      "Reach destination====================================================================================!!!!!!!!\n"
     ]
    },
    {
     "name": "stderr",
     "output_type": "stream",
     "text": [
      " 13%|########4                                                          | 628/5000 [19:11:39<53:04:08, 43.70s/episodes]"
     ]
    },
    {
     "name": "stdout",
     "output_type": "stream",
     "text": [
      "Reach destination====================================================================================!!!!!!!!\n"
     ]
    },
    {
     "name": "stderr",
     "output_type": "stream",
     "text": [
      " 13%|########4                                                          | 630/5000 [19:13:36<63:08:03, 52.01s/episodes]"
     ]
    },
    {
     "name": "stdout",
     "output_type": "stream",
     "text": [
      "Episode: 630, total steps: 200,  final return: -2937.760000000001\n"
     ]
    },
    {
     "name": "stderr",
     "output_type": "stream",
     "text": [
      " 13%|########4                                                          | 632/5000 [19:14:26<45:19:13, 37.35s/episodes]"
     ]
    },
    {
     "name": "stdout",
     "output_type": "stream",
     "text": [
      "Reach destination====================================================================================!!!!!!!!\n"
     ]
    },
    {
     "name": "stderr",
     "output_type": "stream",
     "text": [
      "\r",
      " 13%|########4                                                          | 633/5000 [19:14:45<38:29:36, 31.73s/episodes]"
     ]
    },
    {
     "name": "stdout",
     "output_type": "stream",
     "text": [
      "Reach destination====================================================================================!!!!!!!!\n"
     ]
    },
    {
     "name": "stderr",
     "output_type": "stream",
     "text": [
      "\r",
      " 13%|########4                                                          | 634/5000 [19:15:10<36:16:00, 29.90s/episodes]"
     ]
    },
    {
     "name": "stdout",
     "output_type": "stream",
     "text": [
      "Reach destination====================================================================================!!!!!!!!\n"
     ]
    },
    {
     "name": "stderr",
     "output_type": "stream",
     "text": [
      " 13%|########5                                                          | 638/5000 [19:17:08<33:03:43, 27.29s/episodes]"
     ]
    },
    {
     "name": "stdout",
     "output_type": "stream",
     "text": [
      "Reach destination====================================================================================!!!!!!!!\n"
     ]
    },
    {
     "name": "stderr",
     "output_type": "stream",
     "text": [
      " 13%|########5                                                          | 640/5000 [19:17:24<21:31:34, 17.77s/episodes]"
     ]
    },
    {
     "name": "stdout",
     "output_type": "stream",
     "text": [
      "Reach destination====================================================================================!!!!!!!!\n",
      "Episode: 640, total steps: 60,  final return: -761.3600000000002\n"
     ]
    },
    {
     "name": "stderr",
     "output_type": "stream",
     "text": [
      " 13%|########7                                                          | 650/5000 [19:23:01<36:46:37, 30.44s/episodes]"
     ]
    },
    {
     "name": "stdout",
     "output_type": "stream",
     "text": [
      "Reach destination====================================================================================!!!!!!!!\n",
      "Episode: 650, total steps: 113,  final return: -1400.7199999999996\n"
     ]
    },
    {
     "name": "stderr",
     "output_type": "stream",
     "text": [
      " 13%|########7                                                          | 653/5000 [19:24:36<36:59:37, 30.64s/episodes]"
     ]
    },
    {
     "name": "stdout",
     "output_type": "stream",
     "text": [
      "Reach destination====================================================================================!!!!!!!!\n"
     ]
    },
    {
     "name": "stderr",
     "output_type": "stream",
     "text": [
      "\r",
      " 13%|########7                                                          | 654/5000 [19:25:02<35:27:57, 29.38s/episodes]"
     ]
    },
    {
     "name": "stdout",
     "output_type": "stream",
     "text": [
      "Reach destination====================================================================================!!!!!!!!\n"
     ]
    },
    {
     "name": "stderr",
     "output_type": "stream",
     "text": [
      " 13%|########7                                                          | 656/5000 [19:25:46<29:39:37, 24.58s/episodes]"
     ]
    },
    {
     "name": "stdout",
     "output_type": "stream",
     "text": [
      "Reach destination====================================================================================!!!!!!!!\n"
     ]
    },
    {
     "name": "stderr",
     "output_type": "stream",
     "text": [
      "\r",
      " 13%|########8                                                          | 657/5000 [19:26:17<32:00:41, 26.53s/episodes]"
     ]
    },
    {
     "name": "stdout",
     "output_type": "stream",
     "text": [
      "Reach destination====================================================================================!!!!!!!!\n"
     ]
    },
    {
     "name": "stderr",
     "output_type": "stream",
     "text": [
      " 13%|########8                                                          | 659/5000 [19:27:14<32:36:01, 27.04s/episodes]"
     ]
    },
    {
     "name": "stdout",
     "output_type": "stream",
     "text": [
      "Reach destination====================================================================================!!!!!!!!\n"
     ]
    },
    {
     "name": "stderr",
     "output_type": "stream",
     "text": [
      "\r",
      " 13%|########8                                                          | 660/5000 [19:27:48<35:08:44, 29.15s/episodes]"
     ]
    },
    {
     "name": "stdout",
     "output_type": "stream",
     "text": [
      "Episode: 660, total steps: 200,  final return: -2755.440000000002\n"
     ]
    },
    {
     "name": "stderr",
     "output_type": "stream",
     "text": [
      " 13%|########9                                                          | 666/5000 [19:31:08<38:13:11, 31.75s/episodes]"
     ]
    },
    {
     "name": "stdout",
     "output_type": "stream",
     "text": [
      "Reach destination====================================================================================!!!!!!!!\n"
     ]
    },
    {
     "name": "stderr",
     "output_type": "stream",
     "text": [
      " 13%|########9                                                          | 669/5000 [19:32:38<35:37:24, 29.61s/episodes]"
     ]
    },
    {
     "name": "stdout",
     "output_type": "stream",
     "text": [
      "Reach destination====================================================================================!!!!!!!!\n"
     ]
    },
    {
     "name": "stderr",
     "output_type": "stream",
     "text": [
      "\r",
      " 13%|########9                                                          | 670/5000 [19:32:45<27:28:18, 22.84s/episodes]"
     ]
    },
    {
     "name": "stdout",
     "output_type": "stream",
     "text": [
      "Reach destination====================================================================================!!!!!!!!\n",
      "Episode: 670, total steps: 41,  final return: -618.4\n"
     ]
    },
    {
     "name": "stderr",
     "output_type": "stream",
     "text": [
      " 13%|#########                                                          | 674/5000 [19:35:00<37:03:54, 30.84s/episodes]"
     ]
    },
    {
     "name": "stdout",
     "output_type": "stream",
     "text": [
      "Reach destination====================================================================================!!!!!!!!\n"
     ]
    },
    {
     "name": "stderr",
     "output_type": "stream",
     "text": [
      " 14%|#########                                                          | 676/5000 [19:35:59<35:30:27, 29.56s/episodes]"
     ]
    },
    {
     "name": "stdout",
     "output_type": "stream",
     "text": [
      "Reach destination====================================================================================!!!!!!!!\n"
     ]
    },
    {
     "name": "stderr",
     "output_type": "stream",
     "text": [
      " 14%|#########1                                                         | 680/5000 [19:37:47<29:01:56, 24.19s/episodes]"
     ]
    },
    {
     "name": "stdout",
     "output_type": "stream",
     "text": [
      "Episode: 680, total steps: 13,  final return: -171.04000000000002\n"
     ]
    },
    {
     "name": "stderr",
     "output_type": "stream",
     "text": [
      " 14%|#########1                                                         | 682/5000 [19:38:25<24:03:06, 20.05s/episodes]"
     ]
    },
    {
     "name": "stdout",
     "output_type": "stream",
     "text": [
      "Reach destination====================================================================================!!!!!!!!\n"
     ]
    },
    {
     "name": "stderr",
     "output_type": "stream",
     "text": [
      "\r",
      " 14%|#########1                                                         | 683/5000 [19:38:57<28:21:07, 23.64s/episodes]"
     ]
    },
    {
     "name": "stdout",
     "output_type": "stream",
     "text": [
      "Reach destination====================================================================================!!!!!!!!\n"
     ]
    },
    {
     "name": "stderr",
     "output_type": "stream",
     "text": [
      " 14%|#########1                                                         | 685/5000 [19:39:57<31:12:56, 26.04s/episodes]"
     ]
    },
    {
     "name": "stdout",
     "output_type": "stream",
     "text": [
      "Reach destination====================================================================================!!!!!!!!\n"
     ]
    },
    {
     "name": "stderr",
     "output_type": "stream",
     "text": [
      "\r",
      " 14%|#########1                                                         | 686/5000 [19:40:32<34:41:47, 28.95s/episodes]"
     ]
    },
    {
     "name": "stdout",
     "output_type": "stream",
     "text": [
      "Reach destination====================================================================================!!!!!!!!\n"
     ]
    },
    {
     "name": "stderr",
     "output_type": "stream",
     "text": [
      " 14%|#########2                                                         | 688/5000 [19:41:46<39:27:00, 32.94s/episodes]"
     ]
    },
    {
     "name": "stdout",
     "output_type": "stream",
     "text": [
      "Reach destination====================================================================================!!!!!!!!\n"
     ]
    },
    {
     "name": "stderr",
     "output_type": "stream",
     "text": [
      "\r",
      " 14%|#########2                                                         | 689/5000 [19:41:55<30:51:23, 25.77s/episodes]"
     ]
    },
    {
     "name": "stdout",
     "output_type": "stream",
     "text": [
      "Reach destination====================================================================================!!!!!!!!\n"
     ]
    },
    {
     "name": "stderr",
     "output_type": "stream",
     "text": [
      "\r",
      " 14%|#########2                                                         | 690/5000 [19:42:32<34:47:26, 29.06s/episodes]"
     ]
    },
    {
     "name": "stdout",
     "output_type": "stream",
     "text": [
      "Episode: 690, total steps: 200,  final return: -2561.2000000000007\n"
     ]
    },
    {
     "name": "stderr",
     "output_type": "stream",
     "text": [
      "\r",
      " 14%|#########2                                                         | 691/5000 [19:42:48<30:19:25, 25.33s/episodes]"
     ]
    },
    {
     "name": "stdout",
     "output_type": "stream",
     "text": [
      "Reach destination====================================================================================!!!!!!!!\n"
     ]
    },
    {
     "name": "stderr",
     "output_type": "stream",
     "text": [
      "\r",
      " 14%|#########2                                                         | 692/5000 [19:43:26<34:37:32, 28.94s/episodes]"
     ]
    },
    {
     "name": "stdout",
     "output_type": "stream",
     "text": [
      "Reach destination====================================================================================!!!!!!!!\n"
     ]
    },
    {
     "name": "stderr",
     "output_type": "stream",
     "text": [
      "\r",
      " 14%|#########2                                                         | 693/5000 [19:44:00<36:30:00, 30.51s/episodes]"
     ]
    },
    {
     "name": "stdout",
     "output_type": "stream",
     "text": [
      "Reach destination====================================================================================!!!!!!!!\n"
     ]
    },
    {
     "name": "stderr",
     "output_type": "stream",
     "text": [
      "\r",
      " 14%|#########2                                                         | 694/5000 [19:44:10<29:10:12, 24.39s/episodes]"
     ]
    },
    {
     "name": "stdout",
     "output_type": "stream",
     "text": [
      "Reach destination====================================================================================!!!!!!!!\n"
     ]
    },
    {
     "name": "stderr",
     "output_type": "stream",
     "text": [
      "\r",
      " 14%|#########3                                                         | 695/5000 [19:44:42<32:03:20, 26.81s/episodes]"
     ]
    },
    {
     "name": "stdout",
     "output_type": "stream",
     "text": [
      "Reach destination====================================================================================!!!!!!!!\n"
     ]
    },
    {
     "name": "stderr",
     "output_type": "stream",
     "text": [
      "\r",
      " 14%|#########3                                                         | 696/5000 [19:44:57<27:31:50, 23.03s/episodes]"
     ]
    },
    {
     "name": "stdout",
     "output_type": "stream",
     "text": [
      "Reach destination====================================================================================!!!!!!!!\n"
     ]
    },
    {
     "name": "stderr",
     "output_type": "stream",
     "text": [
      " 14%|#########3                                                         | 700/5000 [19:47:22<39:21:25, 32.95s/episodes]"
     ]
    },
    {
     "name": "stdout",
     "output_type": "stream",
     "text": [
      "Episode: 700, total steps: 200,  final return: -1845.3999999999992\n",
      "Reach destination====================================================================================!!!!!!!!\n"
     ]
    },
    {
     "name": "stderr",
     "output_type": "stream",
     "text": [
      " 14%|#########4                                                         | 703/5000 [19:48:53<36:46:20, 30.81s/episodes]"
     ]
    },
    {
     "name": "stdout",
     "output_type": "stream",
     "text": [
      "Reach destination====================================================================================!!!!!!!!\n"
     ]
    },
    {
     "name": "stderr",
     "output_type": "stream",
     "text": [
      "\r",
      " 14%|#########4                                                         | 704/5000 [19:49:24<36:37:48, 30.70s/episodes]"
     ]
    },
    {
     "name": "stdout",
     "output_type": "stream",
     "text": [
      "Reach destination====================================================================================!!!!!!!!\n"
     ]
    },
    {
     "name": "stderr",
     "output_type": "stream",
     "text": [
      " 14%|#########4                                                         | 707/5000 [19:51:02<37:16:59, 31.26s/episodes]"
     ]
    },
    {
     "name": "stdout",
     "output_type": "stream",
     "text": [
      "Reach destination====================================================================================!!!!!!!!\n"
     ]
    },
    {
     "name": "stderr",
     "output_type": "stream",
     "text": [
      " 14%|#########5                                                         | 709/5000 [19:51:58<34:29:05, 28.93s/episodes]"
     ]
    },
    {
     "name": "stdout",
     "output_type": "stream",
     "text": [
      "Reach destination====================================================================================!!!!!!!!\n"
     ]
    },
    {
     "name": "stderr",
     "output_type": "stream",
     "text": [
      "\r",
      " 14%|#########5                                                         | 710/5000 [19:52:34<36:47:00, 30.87s/episodes]"
     ]
    },
    {
     "name": "stdout",
     "output_type": "stream",
     "text": [
      "Episode: 710, total steps: 200,  final return: -2912.8\n"
     ]
    },
    {
     "name": "stderr",
     "output_type": "stream",
     "text": [
      " 14%|#########5                                                         | 713/5000 [19:53:51<30:01:25, 25.21s/episodes]"
     ]
    },
    {
     "name": "stdout",
     "output_type": "stream",
     "text": [
      "Reach destination====================================================================================!!!!!!!!\n"
     ]
    },
    {
     "name": "stderr",
     "output_type": "stream",
     "text": [
      "\r",
      " 14%|#########5                                                         | 714/5000 [19:53:55<22:23:20, 18.81s/episodes]"
     ]
    },
    {
     "name": "stdout",
     "output_type": "stream",
     "text": [
      "Reach destination====================================================================================!!!!!!!!\n"
     ]
    },
    {
     "name": "stderr",
     "output_type": "stream",
     "text": [
      "\r",
      " 14%|#########5                                                         | 715/5000 [19:54:25<26:31:29, 22.28s/episodes]"
     ]
    },
    {
     "name": "stdout",
     "output_type": "stream",
     "text": [
      "Reach destination====================================================================================!!!!!!!!\n"
     ]
    },
    {
     "name": "stderr",
     "output_type": "stream",
     "text": [
      "\r",
      " 14%|#########5                                                         | 716/5000 [19:54:53<28:33:52, 24.00s/episodes]"
     ]
    },
    {
     "name": "stdout",
     "output_type": "stream",
     "text": [
      "Reach destination====================================================================================!!!!!!!!\n"
     ]
    },
    {
     "name": "stderr",
     "output_type": "stream",
     "text": [
      " 14%|#########6                                                         | 719/5000 [19:56:24<31:46:59, 26.73s/episodes]"
     ]
    },
    {
     "name": "stdout",
     "output_type": "stream",
     "text": [
      "Reach destination====================================================================================!!!!!!!!\n"
     ]
    },
    {
     "name": "stderr",
     "output_type": "stream",
     "text": [
      "\r",
      " 14%|#########6                                                         | 720/5000 [19:56:46<30:21:24, 25.53s/episodes]"
     ]
    },
    {
     "name": "stdout",
     "output_type": "stream",
     "text": [
      "Reach destination====================================================================================!!!!!!!!\n",
      "Episode: 720, total steps: 127,  final return: -1790.560000000001\n"
     ]
    },
    {
     "name": "stderr",
     "output_type": "stream",
     "text": [
      "\r",
      " 14%|#########6                                                         | 721/5000 [19:57:05<27:59:52, 23.56s/episodes]"
     ]
    },
    {
     "name": "stdout",
     "output_type": "stream",
     "text": [
      "Reach destination====================================================================================!!!!!!!!\n"
     ]
    },
    {
     "name": "stderr",
     "output_type": "stream",
     "text": [
      " 14%|#########6                                                         | 723/5000 [19:58:13<34:06:38, 28.71s/episodes]"
     ]
    },
    {
     "name": "stdout",
     "output_type": "stream",
     "text": [
      "Reach destination====================================================================================!!!!!!!!\n"
     ]
    },
    {
     "name": "stderr",
     "output_type": "stream",
     "text": [
      "\r",
      " 14%|#########7                                                         | 724/5000 [19:58:20<26:19:06, 22.16s/episodes]"
     ]
    },
    {
     "name": "stdout",
     "output_type": "stream",
     "text": [
      "Reach destination====================================================================================!!!!!!!!\n"
     ]
    },
    {
     "name": "stderr",
     "output_type": "stream",
     "text": [
      "\r",
      " 14%|#########7                                                         | 725/5000 [19:58:45<27:19:59, 23.02s/episodes]"
     ]
    },
    {
     "name": "stdout",
     "output_type": "stream",
     "text": [
      "Reach destination====================================================================================!!!!!!!!\n"
     ]
    },
    {
     "name": "stderr",
     "output_type": "stream",
     "text": [
      "\r",
      " 15%|#########7                                                         | 726/5000 [19:59:00<24:22:31, 20.53s/episodes]"
     ]
    },
    {
     "name": "stdout",
     "output_type": "stream",
     "text": [
      "Reach destination====================================================================================!!!!!!!!\n"
     ]
    },
    {
     "name": "stderr",
     "output_type": "stream",
     "text": [
      " 15%|#########7                                                         | 729/5000 [20:00:27<29:07:44, 24.55s/episodes]"
     ]
    },
    {
     "name": "stdout",
     "output_type": "stream",
     "text": [
      "Reach destination====================================================================================!!!!!!!!\n"
     ]
    },
    {
     "name": "stderr",
     "output_type": "stream",
     "text": [
      "\r",
      " 15%|#########7                                                         | 730/5000 [20:01:03<33:14:33, 28.03s/episodes]"
     ]
    },
    {
     "name": "stdout",
     "output_type": "stream",
     "text": [
      "Episode: 730, total steps: 200,  final return: -4536.08\n"
     ]
    },
    {
     "name": "stderr",
     "output_type": "stream",
     "text": [
      " 15%|#########8                                                         | 732/5000 [20:02:10<36:23:09, 30.69s/episodes]"
     ]
    },
    {
     "name": "stdout",
     "output_type": "stream",
     "text": [
      "Reach destination====================================================================================!!!!!!!!\n"
     ]
    },
    {
     "name": "stderr",
     "output_type": "stream",
     "text": [
      "\r",
      " 15%|#########8                                                         | 733/5000 [20:02:25<30:40:32, 25.88s/episodes]"
     ]
    },
    {
     "name": "stdout",
     "output_type": "stream",
     "text": [
      "Reach destination====================================================================================!!!!!!!!\n"
     ]
    },
    {
     "name": "stderr",
     "output_type": "stream",
     "text": [
      "\r",
      " 15%|#########8                                                         | 734/5000 [20:02:59<33:40:11, 28.41s/episodes]"
     ]
    },
    {
     "name": "stdout",
     "output_type": "stream",
     "text": [
      "Reach destination====================================================================================!!!!!!!!\n"
     ]
    },
    {
     "name": "stderr",
     "output_type": "stream",
     "text": [
      "\r",
      " 15%|#########8                                                         | 735/5000 [20:03:35<36:22:33, 30.70s/episodes]"
     ]
    },
    {
     "name": "stdout",
     "output_type": "stream",
     "text": [
      "Reach destination====================================================================================!!!!!!!!\n"
     ]
    },
    {
     "name": "stderr",
     "output_type": "stream",
     "text": [
      "\r",
      " 15%|#########8                                                         | 736/5000 [20:03:59<34:03:21, 28.75s/episodes]"
     ]
    },
    {
     "name": "stdout",
     "output_type": "stream",
     "text": [
      "Reach destination====================================================================================!!!!!!!!\n"
     ]
    },
    {
     "name": "stderr",
     "output_type": "stream",
     "text": [
      " 15%|#########8                                                         | 738/5000 [20:04:57<33:10:58, 28.03s/episodes]"
     ]
    },
    {
     "name": "stdout",
     "output_type": "stream",
     "text": [
      "Reach destination====================================================================================!!!!!!!!\n"
     ]
    },
    {
     "name": "stderr",
     "output_type": "stream",
     "text": [
      " 15%|#########9                                                         | 740/5000 [20:05:40<27:26:06, 23.18s/episodes]"
     ]
    },
    {
     "name": "stdout",
     "output_type": "stream",
     "text": [
      "Reach destination====================================================================================!!!!!!!!\n",
      "Episode: 740, total steps: 28,  final return: -283.63999999999993\n"
     ]
    },
    {
     "name": "stderr",
     "output_type": "stream",
     "text": [
      "\r",
      " 15%|#########9                                                         | 741/5000 [20:05:54<24:10:26, 20.43s/episodes]"
     ]
    },
    {
     "name": "stdout",
     "output_type": "stream",
     "text": [
      "Reach destination====================================================================================!!!!!!!!\n"
     ]
    },
    {
     "name": "stderr",
     "output_type": "stream",
     "text": [
      " 15%|#########9                                                         | 743/5000 [20:06:56<29:49:51, 25.23s/episodes]"
     ]
    },
    {
     "name": "stdout",
     "output_type": "stream",
     "text": [
      "Reach destination====================================================================================!!!!!!!!\n"
     ]
    },
    {
     "name": "stderr",
     "output_type": "stream",
     "text": [
      " 15%|#########9                                                         | 746/5000 [20:08:22<30:09:23, 25.52s/episodes]"
     ]
    },
    {
     "name": "stdout",
     "output_type": "stream",
     "text": [
      "Reach destination====================================================================================!!!!!!!!\n"
     ]
    },
    {
     "name": "stderr",
     "output_type": "stream",
     "text": [
      "\r",
      " 15%|##########                                                         | 747/5000 [20:08:48<30:18:45, 25.66s/episodes]"
     ]
    },
    {
     "name": "stdout",
     "output_type": "stream",
     "text": [
      "Reach destination====================================================================================!!!!!!!!\n"
     ]
    },
    {
     "name": "stderr",
     "output_type": "stream",
     "text": [
      "\r",
      " 15%|##########                                                         | 748/5000 [20:08:52<22:34:15, 19.11s/episodes]"
     ]
    },
    {
     "name": "stdout",
     "output_type": "stream",
     "text": [
      "Reach destination====================================================================================!!!!!!!!\n"
     ]
    },
    {
     "name": "stderr",
     "output_type": "stream",
     "text": [
      " 15%|##########                                                         | 750/5000 [20:10:07<33:34:48, 28.44s/episodes]"
     ]
    },
    {
     "name": "stdout",
     "output_type": "stream",
     "text": [
      "Episode: 750, total steps: 200,  final return: -1835.1600000000008\n"
     ]
    },
    {
     "name": "stderr",
     "output_type": "stream",
     "text": [
      "\r",
      " 15%|##########                                                         | 751/5000 [20:10:31<31:54:16, 27.03s/episodes]"
     ]
    },
    {
     "name": "stdout",
     "output_type": "stream",
     "text": [
      "Reach destination====================================================================================!!!!!!!!\n"
     ]
    },
    {
     "name": "stderr",
     "output_type": "stream",
     "text": [
      " 15%|##########                                                         | 753/5000 [20:11:27<31:32:39, 26.74s/episodes]"
     ]
    },
    {
     "name": "stdout",
     "output_type": "stream",
     "text": [
      "Reach destination====================================================================================!!!!!!!!\n"
     ]
    },
    {
     "name": "stderr",
     "output_type": "stream",
     "text": [
      " 15%|##########1                                                        | 756/5000 [20:12:50<29:36:18, 25.11s/episodes]"
     ]
    },
    {
     "name": "stdout",
     "output_type": "stream",
     "text": [
      "Reach destination====================================================================================!!!!!!!!\n"
     ]
    },
    {
     "name": "stderr",
     "output_type": "stream",
     "text": [
      " 15%|##########1                                                        | 758/5000 [20:13:48<31:12:11, 26.48s/episodes]"
     ]
    },
    {
     "name": "stdout",
     "output_type": "stream",
     "text": [
      "Reach destination====================================================================================!!!!!!!!\n"
     ]
    },
    {
     "name": "stderr",
     "output_type": "stream",
     "text": [
      "\r",
      " 15%|##########1                                                        | 759/5000 [20:14:03<27:04:08, 22.98s/episodes]"
     ]
    },
    {
     "name": "stdout",
     "output_type": "stream",
     "text": [
      "Reach destination====================================================================================!!!!!!!!\n"
     ]
    },
    {
     "name": "stderr",
     "output_type": "stream",
     "text": [
      "\r",
      " 15%|##########1                                                        | 760/5000 [20:14:40<31:51:28, 27.05s/episodes]"
     ]
    },
    {
     "name": "stdout",
     "output_type": "stream",
     "text": [
      "Episode: 760, total steps: 200,  final return: -3233.2799999999997\n"
     ]
    },
    {
     "name": "stderr",
     "output_type": "stream",
     "text": [
      " 15%|##########2                                                        | 764/5000 [20:16:35<29:10:25, 24.79s/episodes]"
     ]
    },
    {
     "name": "stdout",
     "output_type": "stream",
     "text": [
      "Reach destination====================================================================================!!!!!!!!\n"
     ]
    },
    {
     "name": "stderr",
     "output_type": "stream",
     "text": [
      "\r",
      " 15%|##########2                                                        | 765/5000 [20:17:04<30:37:07, 26.03s/episodes]"
     ]
    },
    {
     "name": "stdout",
     "output_type": "stream",
     "text": [
      "Reach destination====================================================================================!!!!!!!!\n"
     ]
    },
    {
     "name": "stderr",
     "output_type": "stream",
     "text": [
      "\r",
      " 15%|##########2                                                        | 766/5000 [20:17:04<21:37:02, 18.38s/episodes]"
     ]
    },
    {
     "name": "stdout",
     "output_type": "stream",
     "text": [
      "Reach destination====================================================================================!!!!!!!!\n"
     ]
    },
    {
     "name": "stderr",
     "output_type": "stream",
     "text": [
      " 15%|##########2                                                        | 768/5000 [20:18:09<29:26:31, 25.05s/episodes]"
     ]
    },
    {
     "name": "stdout",
     "output_type": "stream",
     "text": [
      "Reach destination====================================================================================!!!!!!!!\n"
     ]
    },
    {
     "name": "stderr",
     "output_type": "stream",
     "text": [
      " 15%|##########3                                                        | 770/5000 [20:19:11<32:06:33, 27.33s/episodes]"
     ]
    },
    {
     "name": "stdout",
     "output_type": "stream",
     "text": [
      "Reach destination====================================================================================!!!!!!!!\n",
      "Episode: 770, total steps: 126,  final return: -2062.2399999999993\n"
     ]
    },
    {
     "name": "stderr",
     "output_type": "stream",
     "text": [
      "\r",
      " 15%|##########3                                                        | 771/5000 [20:19:35<30:59:57, 26.39s/episodes]"
     ]
    },
    {
     "name": "stdout",
     "output_type": "stream",
     "text": [
      "Reach destination====================================================================================!!!!!!!!\n"
     ]
    },
    {
     "name": "stderr",
     "output_type": "stream",
     "text": [
      " 15%|##########3                                                        | 773/5000 [20:20:41<34:38:23, 29.50s/episodes]"
     ]
    },
    {
     "name": "stdout",
     "output_type": "stream",
     "text": [
      "Reach destination====================================================================================!!!!!!!!\n"
     ]
    },
    {
     "name": "stderr",
     "output_type": "stream",
     "text": [
      "\r",
      " 15%|##########3                                                        | 774/5000 [20:21:18<37:14:39, 31.73s/episodes]"
     ]
    },
    {
     "name": "stdout",
     "output_type": "stream",
     "text": [
      "Reach destination====================================================================================!!!!!!!!\n"
     ]
    },
    {
     "name": "stderr",
     "output_type": "stream",
     "text": [
      " 16%|##########3                                                        | 776/5000 [20:21:54<28:21:13, 24.17s/episodes]"
     ]
    },
    {
     "name": "stdout",
     "output_type": "stream",
     "text": [
      "Reach destination====================================================================================!!!!!!!!\n"
     ]
    },
    {
     "name": "stderr",
     "output_type": "stream",
     "text": [
      " 16%|##########4                                                        | 778/5000 [20:22:50<29:47:38, 25.40s/episodes]"
     ]
    },
    {
     "name": "stdout",
     "output_type": "stream",
     "text": [
      "Reach destination====================================================================================!!!!!!!!\n"
     ]
    },
    {
     "name": "stderr",
     "output_type": "stream",
     "text": [
      " 16%|##########4                                                        | 780/5000 [20:24:05<36:47:23, 31.38s/episodes]"
     ]
    },
    {
     "name": "stdout",
     "output_type": "stream",
     "text": [
      "Episode: 780, total steps: 200,  final return: -1982.1200000000008\n"
     ]
    },
    {
     "name": "stderr",
     "output_type": "stream",
     "text": [
      " 16%|##########4                                                        | 782/5000 [20:25:12<37:34:35, 32.07s/episodes]"
     ]
    },
    {
     "name": "stdout",
     "output_type": "stream",
     "text": [
      "Reach destination====================================================================================!!!!!!!!\n"
     ]
    },
    {
     "name": "stderr",
     "output_type": "stream",
     "text": [
      " 16%|##########5                                                        | 786/5000 [20:27:18<34:09:32, 29.18s/episodes]"
     ]
    },
    {
     "name": "stdout",
     "output_type": "stream",
     "text": [
      "Reach destination====================================================================================!!!!!!!!\n"
     ]
    },
    {
     "name": "stderr",
     "output_type": "stream",
     "text": [
      " 16%|##########5                                                        | 788/5000 [20:28:33<39:01:00, 33.35s/episodes]"
     ]
    },
    {
     "name": "stdout",
     "output_type": "stream",
     "text": [
      "Reach destination====================================================================================!!!!!!!!\n"
     ]
    },
    {
     "name": "stderr",
     "output_type": "stream",
     "text": [
      " 16%|##########5                                                        | 790/5000 [20:29:30<35:13:27, 30.12s/episodes]"
     ]
    },
    {
     "name": "stdout",
     "output_type": "stream",
     "text": [
      "Reach destination====================================================================================!!!!!!!!\n",
      "Episode: 790, total steps: 109,  final return: -1721.4399999999998\n"
     ]
    },
    {
     "name": "stderr",
     "output_type": "stream",
     "text": [
      "\r",
      " 16%|##########5                                                        | 791/5000 [20:29:51<31:57:39, 27.34s/episodes]"
     ]
    },
    {
     "name": "stdout",
     "output_type": "stream",
     "text": [
      "Reach destination====================================================================================!!!!!!!!\n",
      "Reach destination====================================================================================!!!!!!!!\n"
     ]
    },
    {
     "name": "stderr",
     "output_type": "stream",
     "text": [
      " 16%|##########6                                                        | 793/5000 [20:30:16<22:55:14, 19.61s/episodes]"
     ]
    },
    {
     "name": "stdout",
     "output_type": "stream",
     "text": [
      "Reach destination====================================================================================!!!!!!!!\n"
     ]
    },
    {
     "name": "stderr",
     "output_type": "stream",
     "text": [
      "\r",
      " 16%|##########6                                                        | 794/5000 [20:30:22<18:10:48, 15.56s/episodes]"
     ]
    },
    {
     "name": "stdout",
     "output_type": "stream",
     "text": [
      "Reach destination====================================================================================!!!!!!!!\n"
     ]
    },
    {
     "name": "stderr",
     "output_type": "stream",
     "text": [
      " 16%|##########6                                                        | 796/5000 [20:31:26<27:44:03, 23.75s/episodes]"
     ]
    },
    {
     "name": "stdout",
     "output_type": "stream",
     "text": [
      "Reach destination====================================================================================!!!!!!!!\n"
     ]
    },
    {
     "name": "stderr",
     "output_type": "stream",
     "text": [
      "\r",
      " 16%|##########6                                                        | 797/5000 [20:31:44<25:24:57, 21.77s/episodes]"
     ]
    },
    {
     "name": "stdout",
     "output_type": "stream",
     "text": [
      "Reach destination====================================================================================!!!!!!!!\n"
     ]
    },
    {
     "name": "stderr",
     "output_type": "stream",
     "text": [
      "\r",
      " 16%|##########6                                                        | 798/5000 [20:32:20<30:35:41, 26.21s/episodes]"
     ]
    },
    {
     "name": "stdout",
     "output_type": "stream",
     "text": [
      "Reach destination====================================================================================!!!!!!!!\n"
     ]
    },
    {
     "name": "stderr",
     "output_type": "stream",
     "text": [
      "\r",
      " 16%|##########7                                                        | 799/5000 [20:32:57<34:23:11, 29.47s/episodes]"
     ]
    },
    {
     "name": "stdout",
     "output_type": "stream",
     "text": [
      "Reach destination====================================================================================!!!!!!!!\n"
     ]
    },
    {
     "name": "stderr",
     "output_type": "stream",
     "text": [
      "\r",
      " 16%|##########7                                                        | 800/5000 [20:33:13<29:38:52, 25.41s/episodes]"
     ]
    },
    {
     "name": "stdout",
     "output_type": "stream",
     "text": [
      "Episode: 800, total steps: 86,  final return: -582.28\n"
     ]
    },
    {
     "name": "stderr",
     "output_type": "stream",
     "text": [
      " 16%|##########7                                                        | 803/5000 [20:34:56<35:24:04, 30.37s/episodes]"
     ]
    },
    {
     "name": "stdout",
     "output_type": "stream",
     "text": [
      "Reach destination====================================================================================!!!!!!!!\n"
     ]
    },
    {
     "name": "stderr",
     "output_type": "stream",
     "text": [
      "\r",
      " 16%|##########7                                                        | 804/5000 [20:35:10<29:43:37, 25.50s/episodes]"
     ]
    },
    {
     "name": "stdout",
     "output_type": "stream",
     "text": [
      "Reach destination====================================================================================!!!!!!!!\n"
     ]
    },
    {
     "name": "stderr",
     "output_type": "stream",
     "text": [
      " 16%|##########8                                                        | 806/5000 [20:36:08<30:59:50, 26.61s/episodes]"
     ]
    },
    {
     "name": "stdout",
     "output_type": "stream",
     "text": [
      "Reach destination====================================================================================!!!!!!!!\n"
     ]
    },
    {
     "name": "stderr",
     "output_type": "stream",
     "text": [
      "\r",
      " 16%|##########8                                                        | 807/5000 [20:36:25<27:33:59, 23.67s/episodes]"
     ]
    },
    {
     "name": "stdout",
     "output_type": "stream",
     "text": [
      "Reach destination====================================================================================!!!!!!!!\n"
     ]
    },
    {
     "name": "stderr",
     "output_type": "stream",
     "text": [
      "\r",
      " 16%|##########8                                                        | 808/5000 [20:36:37<23:30:32, 20.19s/episodes]"
     ]
    },
    {
     "name": "stdout",
     "output_type": "stream",
     "text": [
      "Reach destination====================================================================================!!!!!!!!\n"
     ]
    },
    {
     "name": "stderr",
     "output_type": "stream",
     "text": [
      "\r",
      " 16%|##########8                                                        | 809/5000 [20:36:59<24:16:53, 20.86s/episodes]"
     ]
    },
    {
     "name": "stdout",
     "output_type": "stream",
     "text": [
      "Reach destination====================================================================================!!!!!!!!\n"
     ]
    },
    {
     "name": "stderr",
     "output_type": "stream",
     "text": [
      "\r",
      " 16%|##########8                                                        | 810/5000 [20:37:32<28:26:20, 24.43s/episodes]"
     ]
    },
    {
     "name": "stdout",
     "output_type": "stream",
     "text": [
      "Reach destination====================================================================================!!!!!!!!\n",
      "Episode: 810, total steps: 174,  final return: -2605.039999999998\n"
     ]
    },
    {
     "name": "stderr",
     "output_type": "stream",
     "text": [
      "\r",
      " 16%|##########8                                                        | 811/5000 [20:37:47<24:58:48, 21.47s/episodes]"
     ]
    },
    {
     "name": "stdout",
     "output_type": "stream",
     "text": [
      "Reach destination====================================================================================!!!!!!!!\n"
     ]
    },
    {
     "name": "stderr",
     "output_type": "stream",
     "text": [
      " 16%|##########9                                                        | 815/5000 [20:39:53<31:05:46, 26.75s/episodes]"
     ]
    },
    {
     "name": "stdout",
     "output_type": "stream",
     "text": [
      "Reach destination====================================================================================!!!!!!!!\n"
     ]
    },
    {
     "name": "stderr",
     "output_type": "stream",
     "text": [
      "\r",
      " 16%|##########9                                                        | 816/5000 [20:40:02<25:01:52, 21.54s/episodes]"
     ]
    },
    {
     "name": "stdout",
     "output_type": "stream",
     "text": [
      "Reach destination====================================================================================!!!!!!!!\n"
     ]
    },
    {
     "name": "stderr",
     "output_type": "stream",
     "text": [
      "\r",
      " 16%|##########9                                                        | 817/5000 [20:40:08<19:19:00, 16.62s/episodes]"
     ]
    },
    {
     "name": "stdout",
     "output_type": "stream",
     "text": [
      "Reach destination====================================================================================!!!!!!!!\n"
     ]
    },
    {
     "name": "stderr",
     "output_type": "stream",
     "text": [
      "\r",
      " 16%|##########9                                                        | 818/5000 [20:40:43<25:52:36, 22.28s/episodes]"
     ]
    },
    {
     "name": "stdout",
     "output_type": "stream",
     "text": [
      "Reach destination====================================================================================!!!!!!!!\n"
     ]
    },
    {
     "name": "stderr",
     "output_type": "stream",
     "text": [
      " 16%|##########9                                                        | 820/5000 [20:41:27<23:54:25, 20.59s/episodes]"
     ]
    },
    {
     "name": "stdout",
     "output_type": "stream",
     "text": [
      "Reach destination====================================================================================!!!!!!!!\n",
      "Episode: 820, total steps: 33,  final return: -492.80000000000007\n"
     ]
    },
    {
     "name": "stderr",
     "output_type": "stream",
     "text": [
      "\r",
      " 16%|###########                                                        | 821/5000 [20:41:53<25:57:50, 22.37s/episodes]"
     ]
    },
    {
     "name": "stdout",
     "output_type": "stream",
     "text": [
      "Reach destination====================================================================================!!!!!!!!\n"
     ]
    },
    {
     "name": "stderr",
     "output_type": "stream",
     "text": [
      "\r",
      " 16%|###########                                                        | 822/5000 [20:42:08<23:15:35, 20.04s/episodes]"
     ]
    },
    {
     "name": "stdout",
     "output_type": "stream",
     "text": [
      "Reach destination====================================================================================!!!!!!!!\n"
     ]
    },
    {
     "name": "stderr",
     "output_type": "stream",
     "text": [
      " 16%|###########                                                        | 825/5000 [20:43:48<32:19:43, 27.88s/episodes]"
     ]
    },
    {
     "name": "stdout",
     "output_type": "stream",
     "text": [
      "Reach destination====================================================================================!!!!!!!!\n"
     ]
    },
    {
     "name": "stderr",
     "output_type": "stream",
     "text": [
      "\r",
      " 17%|###########                                                        | 826/5000 [20:44:07<29:22:30, 25.34s/episodes]"
     ]
    },
    {
     "name": "stdout",
     "output_type": "stream",
     "text": [
      "Reach destination====================================================================================!!!!!!!!\n"
     ]
    },
    {
     "name": "stderr",
     "output_type": "stream",
     "text": [
      "\r",
      " 17%|###########                                                        | 827/5000 [20:44:44<33:23:38, 28.81s/episodes]"
     ]
    },
    {
     "name": "stdout",
     "output_type": "stream",
     "text": [
      "Reach destination====================================================================================!!!!!!!!\n"
     ]
    },
    {
     "name": "stderr",
     "output_type": "stream",
     "text": [
      " 17%|###########1                                                       | 830/5000 [20:46:15<32:45:22, 28.28s/episodes]"
     ]
    },
    {
     "name": "stdout",
     "output_type": "stream",
     "text": [
      "Reach destination====================================================================================!!!!!!!!\n",
      "Episode: 830, total steps: 94,  final return: -1813.44\n"
     ]
    },
    {
     "name": "stderr",
     "output_type": "stream",
     "text": [
      "\r",
      " 17%|###########1                                                       | 831/5000 [20:46:50<34:51:57, 30.11s/episodes]"
     ]
    },
    {
     "name": "stdout",
     "output_type": "stream",
     "text": [
      "Reach destination====================================================================================!!!!!!!!\n"
     ]
    },
    {
     "name": "stderr",
     "output_type": "stream",
     "text": [
      "\r",
      " 17%|###########1                                                       | 832/5000 [20:47:20<34:51:04, 30.10s/episodes]"
     ]
    },
    {
     "name": "stdout",
     "output_type": "stream",
     "text": [
      "Reach destination====================================================================================!!!!!!!!\n"
     ]
    },
    {
     "name": "stderr",
     "output_type": "stream",
     "text": [
      "\r",
      " 17%|###########1                                                       | 833/5000 [20:47:31<28:06:19, 24.28s/episodes]"
     ]
    },
    {
     "name": "stdout",
     "output_type": "stream",
     "text": [
      "Reach destination====================================================================================!!!!!!!!\n"
     ]
    },
    {
     "name": "stderr",
     "output_type": "stream",
     "text": [
      "\r",
      " 17%|###########1                                                       | 834/5000 [20:47:52<26:58:53, 23.32s/episodes]"
     ]
    },
    {
     "name": "stdout",
     "output_type": "stream",
     "text": [
      "Reach destination====================================================================================!!!!!!!!\n"
     ]
    },
    {
     "name": "stderr",
     "output_type": "stream",
     "text": [
      " 17%|###########2                                                       | 836/5000 [20:48:46<28:15:50, 24.44s/episodes]"
     ]
    },
    {
     "name": "stdout",
     "output_type": "stream",
     "text": [
      "Reach destination====================================================================================!!!!!!!!\n"
     ]
    },
    {
     "name": "stderr",
     "output_type": "stream",
     "text": [
      "\r",
      " 17%|###########2                                                       | 837/5000 [20:49:13<29:12:05, 25.25s/episodes]"
     ]
    },
    {
     "name": "stdout",
     "output_type": "stream",
     "text": [
      "Reach destination====================================================================================!!!!!!!!\n"
     ]
    },
    {
     "name": "stderr",
     "output_type": "stream",
     "text": [
      "\r",
      " 17%|###########2                                                       | 838/5000 [20:49:49<32:51:34, 28.42s/episodes]"
     ]
    },
    {
     "name": "stdout",
     "output_type": "stream",
     "text": [
      "Reach destination====================================================================================!!!!!!!!\n"
     ]
    },
    {
     "name": "stderr",
     "output_type": "stream",
     "text": [
      "\r",
      " 17%|###########2                                                       | 839/5000 [20:49:59<26:34:06, 22.99s/episodes]"
     ]
    },
    {
     "name": "stdout",
     "output_type": "stream",
     "text": [
      "Reach destination====================================================================================!!!!!!!!\n"
     ]
    },
    {
     "name": "stderr",
     "output_type": "stream",
     "text": [
      "\r",
      " 17%|###########2                                                       | 840/5000 [20:50:36<31:18:52, 27.10s/episodes]"
     ]
    },
    {
     "name": "stdout",
     "output_type": "stream",
     "text": [
      "Reach destination====================================================================================!!!!!!!!\n",
      "Episode: 840, total steps: 196,  final return: -4065.439999999999\n"
     ]
    },
    {
     "name": "stderr",
     "output_type": "stream",
     "text": [
      " 17%|###########3                                                       | 844/5000 [20:53:00<38:32:41, 33.39s/episodes]"
     ]
    },
    {
     "name": "stdout",
     "output_type": "stream",
     "text": [
      "Reach destination====================================================================================!!!!!!!!\n"
     ]
    },
    {
     "name": "stderr",
     "output_type": "stream",
     "text": [
      "\r",
      " 17%|###########3                                                       | 845/5000 [20:53:27<36:17:26, 31.44s/episodes]"
     ]
    },
    {
     "name": "stdout",
     "output_type": "stream",
     "text": [
      "Reach destination====================================================================================!!!!!!!!\n"
     ]
    },
    {
     "name": "stderr",
     "output_type": "stream",
     "text": [
      "\r",
      " 17%|###########3                                                       | 846/5000 [20:54:03<37:50:43, 32.80s/episodes]"
     ]
    },
    {
     "name": "stdout",
     "output_type": "stream",
     "text": [
      "Reach destination====================================================================================!!!!!!!!\n"
     ]
    },
    {
     "name": "stderr",
     "output_type": "stream",
     "text": [
      " 17%|###########3                                                       | 848/5000 [20:55:09<37:45:53, 32.74s/episodes]"
     ]
    },
    {
     "name": "stdout",
     "output_type": "stream",
     "text": [
      "Reach destination====================================================================================!!!!!!!!\n"
     ]
    },
    {
     "name": "stderr",
     "output_type": "stream",
     "text": [
      "\r",
      " 17%|###########3                                                       | 849/5000 [20:55:34<35:07:52, 30.47s/episodes]"
     ]
    },
    {
     "name": "stdout",
     "output_type": "stream",
     "text": [
      "Reach destination====================================================================================!!!!!!!!\n"
     ]
    },
    {
     "name": "stderr",
     "output_type": "stream",
     "text": [
      "\r",
      " 17%|###########3                                                       | 850/5000 [20:56:12<37:26:59, 32.49s/episodes]"
     ]
    },
    {
     "name": "stdout",
     "output_type": "stream",
     "text": [
      "Episode: 850, total steps: 200,  final return: -3813.4799999999996\n"
     ]
    },
    {
     "name": "stderr",
     "output_type": "stream",
     "text": [
      " 17%|###########4                                                       | 852/5000 [20:57:05<33:09:05, 28.77s/episodes]"
     ]
    },
    {
     "name": "stdout",
     "output_type": "stream",
     "text": [
      "Reach destination====================================================================================!!!!!!!!\n"
     ]
    },
    {
     "name": "stderr",
     "output_type": "stream",
     "text": [
      " 17%|###########4                                                       | 858/5000 [21:00:24<33:02:26, 28.72s/episodes]"
     ]
    },
    {
     "name": "stdout",
     "output_type": "stream",
     "text": [
      "Reach destination====================================================================================!!!!!!!!\n"
     ]
    },
    {
     "name": "stderr",
     "output_type": "stream",
     "text": [
      "\r",
      " 17%|###########5                                                       | 859/5000 [21:00:44<30:11:38, 26.25s/episodes]"
     ]
    },
    {
     "name": "stdout",
     "output_type": "stream",
     "text": [
      "Reach destination====================================================================================!!!!!!!!\n"
     ]
    },
    {
     "name": "stderr",
     "output_type": "stream",
     "text": [
      "\r",
      " 17%|###########5                                                       | 860/5000 [21:01:17<32:30:01, 28.26s/episodes]"
     ]
    },
    {
     "name": "stdout",
     "output_type": "stream",
     "text": [
      "Reach destination====================================================================================!!!!!!!!\n",
      "Episode: 860, total steps: 180,  final return: -2224.8000000000006\n"
     ]
    },
    {
     "name": "stderr",
     "output_type": "stream",
     "text": [
      "\r",
      " 17%|###########5                                                       | 861/5000 [21:01:50<34:09:54, 29.72s/episodes]"
     ]
    },
    {
     "name": "stdout",
     "output_type": "stream",
     "text": [
      "Reach destination====================================================================================!!!!!!!!\n"
     ]
    },
    {
     "name": "stderr",
     "output_type": "stream",
     "text": [
      "\r",
      " 17%|###########5                                                       | 862/5000 [21:02:24<35:35:49, 30.97s/episodes]"
     ]
    },
    {
     "name": "stdout",
     "output_type": "stream",
     "text": [
      "Reach destination====================================================================================!!!!!!!!\n"
     ]
    },
    {
     "name": "stderr",
     "output_type": "stream",
     "text": [
      " 17%|###########5                                                       | 864/5000 [21:02:49<24:23:24, 21.23s/episodes]"
     ]
    },
    {
     "name": "stdout",
     "output_type": "stream",
     "text": [
      "Reach destination====================================================================================!!!!!!!!\n"
     ]
    },
    {
     "name": "stderr",
     "output_type": "stream",
     "text": [
      "\r",
      " 17%|###########5                                                       | 865/5000 [21:03:20<27:35:48, 24.03s/episodes]"
     ]
    },
    {
     "name": "stdout",
     "output_type": "stream",
     "text": [
      "Reach destination====================================================================================!!!!!!!!\n"
     ]
    },
    {
     "name": "stderr",
     "output_type": "stream",
     "text": [
      "\r",
      " 17%|###########6                                                       | 866/5000 [21:03:48<29:02:11, 25.29s/episodes]"
     ]
    },
    {
     "name": "stdout",
     "output_type": "stream",
     "text": [
      "Reach destination====================================================================================!!!!!!!!\n"
     ]
    },
    {
     "name": "stderr",
     "output_type": "stream",
     "text": [
      "\r",
      " 17%|###########6                                                       | 867/5000 [21:04:15<29:46:53, 25.94s/episodes]"
     ]
    },
    {
     "name": "stdout",
     "output_type": "stream",
     "text": [
      "Reach destination====================================================================================!!!!!!!!\n"
     ]
    },
    {
     "name": "stderr",
     "output_type": "stream",
     "text": [
      "\r",
      " 17%|###########6                                                       | 868/5000 [21:04:53<33:42:56, 29.37s/episodes]"
     ]
    },
    {
     "name": "stdout",
     "output_type": "stream",
     "text": [
      "Reach destination====================================================================================!!!!!!!!\n"
     ]
    },
    {
     "name": "stderr",
     "output_type": "stream",
     "text": [
      " 17%|###########6                                                       | 870/5000 [21:06:03<36:44:16, 32.02s/episodes]"
     ]
    },
    {
     "name": "stdout",
     "output_type": "stream",
     "text": [
      "Reach destination====================================================================================!!!!!!!!\n",
      "Episode: 870, total steps: 179,  final return: -3003.72\n"
     ]
    },
    {
     "name": "stderr",
     "output_type": "stream",
     "text": [
      " 17%|###########6                                                       | 872/5000 [21:06:50<30:21:48, 26.48s/episodes]"
     ]
    },
    {
     "name": "stdout",
     "output_type": "stream",
     "text": [
      "Reach destination====================================================================================!!!!!!!!\n"
     ]
    },
    {
     "name": "stderr",
     "output_type": "stream",
     "text": [
      " 17%|###########7                                                       | 874/5000 [21:08:04<36:29:38, 31.84s/episodes]"
     ]
    },
    {
     "name": "stdout",
     "output_type": "stream",
     "text": [
      "Reach destination====================================================================================!!!!!!!!\n"
     ]
    },
    {
     "name": "stderr",
     "output_type": "stream",
     "text": [
      " 18%|###########7                                                       | 876/5000 [21:09:09<36:23:42, 31.77s/episodes]"
     ]
    },
    {
     "name": "stdout",
     "output_type": "stream",
     "text": [
      "Reach destination====================================================================================!!!!!!!!\n"
     ]
    },
    {
     "name": "stderr",
     "output_type": "stream",
     "text": [
      "\r",
      " 18%|###########7                                                       | 877/5000 [21:09:36<34:52:27, 30.45s/episodes]"
     ]
    },
    {
     "name": "stdout",
     "output_type": "stream",
     "text": [
      "Reach destination====================================================================================!!!!!!!!\n"
     ]
    },
    {
     "name": "stderr",
     "output_type": "stream",
     "text": [
      " 18%|###########7                                                       | 880/5000 [21:11:20<37:04:47, 32.40s/episodes]"
     ]
    },
    {
     "name": "stdout",
     "output_type": "stream",
     "text": [
      "Reach destination====================================================================================!!!!!!!!\n",
      "Episode: 880, total steps: 150,  final return: -2285.679999999998\n"
     ]
    },
    {
     "name": "stderr",
     "output_type": "stream",
     "text": [
      " 18%|###########8                                                       | 882/5000 [21:12:12<32:15:43, 28.20s/episodes]"
     ]
    },
    {
     "name": "stdout",
     "output_type": "stream",
     "text": [
      "Reach destination====================================================================================!!!!!!!!\n"
     ]
    },
    {
     "name": "stderr",
     "output_type": "stream",
     "text": [
      "\r",
      " 18%|###########8                                                       | 883/5000 [21:12:46<34:11:14, 29.89s/episodes]"
     ]
    },
    {
     "name": "stdout",
     "output_type": "stream",
     "text": [
      "Reach destination====================================================================================!!!!!!!!\n"
     ]
    },
    {
     "name": "stderr",
     "output_type": "stream",
     "text": [
      "\r",
      " 18%|###########8                                                       | 884/5000 [21:13:06<30:37:16, 26.78s/episodes]"
     ]
    },
    {
     "name": "stdout",
     "output_type": "stream",
     "text": [
      "Reach destination====================================================================================!!!!!!!!\n"
     ]
    },
    {
     "name": "stderr",
     "output_type": "stream",
     "text": [
      "\r",
      " 18%|###########8                                                       | 885/5000 [21:13:42<33:55:01, 29.67s/episodes]"
     ]
    },
    {
     "name": "stdout",
     "output_type": "stream",
     "text": [
      "Reach destination====================================================================================!!!!!!!!\n"
     ]
    },
    {
     "name": "stderr",
     "output_type": "stream",
     "text": [
      "\r",
      " 18%|###########8                                                       | 886/5000 [21:14:10<33:23:40, 29.22s/episodes]"
     ]
    },
    {
     "name": "stdout",
     "output_type": "stream",
     "text": [
      "Reach destination====================================================================================!!!!!!!!\n"
     ]
    },
    {
     "name": "stderr",
     "output_type": "stream",
     "text": [
      "\r",
      " 18%|###########8                                                       | 887/5000 [21:14:39<33:12:36, 29.07s/episodes]"
     ]
    },
    {
     "name": "stdout",
     "output_type": "stream",
     "text": [
      "Reach destination====================================================================================!!!!!!!!\n",
      "Reach destination====================================================================================!!!!!!!!\n"
     ]
    },
    {
     "name": "stderr",
     "output_type": "stream",
     "text": [
      " 18%|###########9                                                       | 889/5000 [21:15:10<25:48:41, 22.60s/episodes]"
     ]
    },
    {
     "name": "stdout",
     "output_type": "stream",
     "text": [
      "Reach destination====================================================================================!!!!!!!!\n"
     ]
    },
    {
     "name": "stderr",
     "output_type": "stream",
     "text": [
      "\r",
      " 18%|###########9                                                       | 890/5000 [21:15:16<20:00:24, 17.52s/episodes]"
     ]
    },
    {
     "name": "stdout",
     "output_type": "stream",
     "text": [
      "Reach destination====================================================================================!!!!!!!!\n",
      "Episode: 890, total steps: 29,  final return: -304.15999999999997\n"
     ]
    },
    {
     "name": "stderr",
     "output_type": "stream",
     "text": [
      "\r",
      " 18%|###########9                                                       | 891/5000 [21:15:40<22:02:10, 19.31s/episodes]"
     ]
    },
    {
     "name": "stdout",
     "output_type": "stream",
     "text": [
      "Reach destination====================================================================================!!!!!!!!\n"
     ]
    },
    {
     "name": "stderr",
     "output_type": "stream",
     "text": [
      " 18%|###########9                                                       | 893/5000 [21:16:25<22:21:56, 19.60s/episodes]"
     ]
    },
    {
     "name": "stdout",
     "output_type": "stream",
     "text": [
      "Reach destination====================================================================================!!!!!!!!\n"
     ]
    },
    {
     "name": "stderr",
     "output_type": "stream",
     "text": [
      " 18%|############                                                       | 897/5000 [21:18:39<32:24:50, 28.44s/episodes]"
     ]
    },
    {
     "name": "stdout",
     "output_type": "stream",
     "text": [
      "Reach destination====================================================================================!!!!!!!!\n"
     ]
    },
    {
     "name": "stderr",
     "output_type": "stream",
     "text": [
      "\r",
      " 18%|############                                                       | 898/5000 [21:18:50<26:39:26, 23.40s/episodes]"
     ]
    },
    {
     "name": "stdout",
     "output_type": "stream",
     "text": [
      "Reach destination====================================================================================!!!!!!!!\n"
     ]
    },
    {
     "name": "stderr",
     "output_type": "stream",
     "text": [
      " 18%|############                                                       | 900/5000 [21:20:06<35:01:51, 30.76s/episodes]"
     ]
    },
    {
     "name": "stdout",
     "output_type": "stream",
     "text": [
      "Episode: 900, total steps: 200,  final return: -2493.320000000001\n",
      "Reach destination====================================================================================!!!!!!!!\n"
     ]
    },
    {
     "name": "stderr",
     "output_type": "stream",
     "text": [
      " 18%|############1                                                      | 904/5000 [21:22:01<35:49:25, 31.49s/episodes]"
     ]
    },
    {
     "name": "stdout",
     "output_type": "stream",
     "text": [
      "Reach destination====================================================================================!!!!!!!!\n"
     ]
    },
    {
     "name": "stderr",
     "output_type": "stream",
     "text": [
      " 18%|############1                                                      | 906/5000 [21:23:06<36:00:07, 31.66s/episodes]"
     ]
    },
    {
     "name": "stdout",
     "output_type": "stream",
     "text": [
      "Reach destination====================================================================================!!!!!!!!\n"
     ]
    },
    {
     "name": "stderr",
     "output_type": "stream",
     "text": [
      "\r",
      " 18%|############1                                                      | 907/5000 [21:23:35<34:55:58, 30.73s/episodes]"
     ]
    },
    {
     "name": "stdout",
     "output_type": "stream",
     "text": [
      "Reach destination====================================================================================!!!!!!!!\n"
     ]
    },
    {
     "name": "stderr",
     "output_type": "stream",
     "text": [
      " 18%|############1                                                      | 909/5000 [21:24:43<36:32:17, 32.15s/episodes]"
     ]
    },
    {
     "name": "stdout",
     "output_type": "stream",
     "text": [
      "Reach destination====================================================================================!!!!!!!!\n"
     ]
    },
    {
     "name": "stderr",
     "output_type": "stream",
     "text": [
      "\r",
      " 18%|############1                                                      | 910/5000 [21:25:03<32:17:50, 28.43s/episodes]"
     ]
    },
    {
     "name": "stdout",
     "output_type": "stream",
     "text": [
      "Reach destination====================================================================================!!!!!!!!\n",
      "Episode: 910, total steps: 107,  final return: -1098.3199999999997\n"
     ]
    },
    {
     "name": "stderr",
     "output_type": "stream",
     "text": [
      "\r",
      " 18%|############2                                                      | 911/5000 [21:25:19<28:07:32, 24.76s/episodes]"
     ]
    },
    {
     "name": "stdout",
     "output_type": "stream",
     "text": [
      "Reach destination====================================================================================!!!!!!!!\n"
     ]
    },
    {
     "name": "stderr",
     "output_type": "stream",
     "text": [
      "\r",
      " 18%|############2                                                      | 912/5000 [21:25:55<31:53:21, 28.08s/episodes]"
     ]
    },
    {
     "name": "stdout",
     "output_type": "stream",
     "text": [
      "Reach destination====================================================================================!!!!!!!!\n"
     ]
    },
    {
     "name": "stderr",
     "output_type": "stream",
     "text": [
      "\r",
      " 18%|############2                                                      | 913/5000 [21:26:33<35:13:20, 31.03s/episodes]"
     ]
    },
    {
     "name": "stdout",
     "output_type": "stream",
     "text": [
      "Reach destination====================================================================================!!!!!!!!\n"
     ]
    },
    {
     "name": "stderr",
     "output_type": "stream",
     "text": [
      "\r",
      " 18%|############2                                                      | 914/5000 [21:26:43<28:05:55, 24.76s/episodes]"
     ]
    },
    {
     "name": "stdout",
     "output_type": "stream",
     "text": [
      "Reach destination====================================================================================!!!!!!!!\n"
     ]
    },
    {
     "name": "stderr",
     "output_type": "stream",
     "text": [
      "\r",
      " 18%|############2                                                      | 915/5000 [21:27:13<30:02:43, 26.48s/episodes]"
     ]
    },
    {
     "name": "stdout",
     "output_type": "stream",
     "text": [
      "Reach destination====================================================================================!!!!!!!!\n"
     ]
    },
    {
     "name": "stderr",
     "output_type": "stream",
     "text": [
      "\r",
      " 18%|############2                                                      | 916/5000 [21:27:29<26:15:52, 23.15s/episodes]"
     ]
    },
    {
     "name": "stdout",
     "output_type": "stream",
     "text": [
      "Reach destination====================================================================================!!!!!!!!\n"
     ]
    },
    {
     "name": "stderr",
     "output_type": "stream",
     "text": [
      "\r",
      " 18%|############2                                                      | 917/5000 [21:27:36<21:01:57, 18.54s/episodes]"
     ]
    },
    {
     "name": "stdout",
     "output_type": "stream",
     "text": [
      "Reach destination====================================================================================!!!!!!!!\n"
     ]
    },
    {
     "name": "stderr",
     "output_type": "stream",
     "text": [
      " 18%|############3                                                      | 920/5000 [21:29:24<33:34:29, 29.62s/episodes]"
     ]
    },
    {
     "name": "stdout",
     "output_type": "stream",
     "text": [
      "Reach destination====================================================================================!!!!!!!!\n",
      "Episode: 920, total steps: 178,  final return: -2362.24\n"
     ]
    },
    {
     "name": "stderr",
     "output_type": "stream",
     "text": [
      "\r",
      " 18%|############3                                                      | 921/5000 [21:29:43<29:50:35, 26.34s/episodes]"
     ]
    },
    {
     "name": "stdout",
     "output_type": "stream",
     "text": [
      "Reach destination====================================================================================!!!!!!!!\n"
     ]
    },
    {
     "name": "stderr",
     "output_type": "stream",
     "text": [
      "\r",
      " 18%|############3                                                      | 922/5000 [21:29:58<26:06:00, 23.04s/episodes]"
     ]
    },
    {
     "name": "stdout",
     "output_type": "stream",
     "text": [
      "Reach destination====================================================================================!!!!!!!!\n"
     ]
    },
    {
     "name": "stderr",
     "output_type": "stream",
     "text": [
      "\r",
      " 18%|############3                                                      | 923/5000 [21:30:16<24:06:39, 21.29s/episodes]"
     ]
    },
    {
     "name": "stdout",
     "output_type": "stream",
     "text": [
      "Reach destination====================================================================================!!!!!!!!\n"
     ]
    },
    {
     "name": "stderr",
     "output_type": "stream",
     "text": [
      " 19%|############4                                                      | 927/5000 [21:32:24<30:34:42, 27.03s/episodes]"
     ]
    },
    {
     "name": "stdout",
     "output_type": "stream",
     "text": [
      "Reach destination====================================================================================!!!!!!!!\n"
     ]
    },
    {
     "name": "stderr",
     "output_type": "stream",
     "text": [
      " 19%|############4                                                      | 929/5000 [21:33:33<34:51:51, 30.83s/episodes]"
     ]
    },
    {
     "name": "stdout",
     "output_type": "stream",
     "text": [
      "Reach destination====================================================================================!!!!!!!!\n"
     ]
    },
    {
     "name": "stderr",
     "output_type": "stream",
     "text": [
      "\r",
      " 19%|############4                                                      | 930/5000 [21:34:08<36:08:58, 31.98s/episodes]"
     ]
    },
    {
     "name": "stdout",
     "output_type": "stream",
     "text": [
      "Reach destination====================================================================================!!!!!!!!\n",
      "Episode: 930, total steps: 183,  final return: -2592.7200000000016\n"
     ]
    },
    {
     "name": "stderr",
     "output_type": "stream",
     "text": [
      " 19%|############5                                                      | 933/5000 [21:35:35<31:30:52, 27.90s/episodes]"
     ]
    },
    {
     "name": "stdout",
     "output_type": "stream",
     "text": [
      "Reach destination====================================================================================!!!!!!!!\n"
     ]
    },
    {
     "name": "stderr",
     "output_type": "stream",
     "text": [
      "\r",
      " 19%|############5                                                      | 934/5000 [21:35:58<29:52:26, 26.45s/episodes]"
     ]
    },
    {
     "name": "stdout",
     "output_type": "stream",
     "text": [
      "Reach destination====================================================================================!!!!!!!!\n"
     ]
    },
    {
     "name": "stderr",
     "output_type": "stream",
     "text": [
      " 19%|############5                                                      | 938/5000 [21:38:11<33:36:15, 29.78s/episodes]"
     ]
    },
    {
     "name": "stdout",
     "output_type": "stream",
     "text": [
      "Reach destination====================================================================================!!!!!!!!\n"
     ]
    },
    {
     "name": "stderr",
     "output_type": "stream",
     "text": [
      " 19%|############5                                                      | 940/5000 [21:39:17<35:03:21, 31.08s/episodes]"
     ]
    },
    {
     "name": "stdout",
     "output_type": "stream",
     "text": [
      "Reach destination====================================================================================!!!!!!!!\n",
      "Episode: 940, total steps: 155,  final return: -2134.5599999999995\n"
     ]
    },
    {
     "name": "stderr",
     "output_type": "stream",
     "text": [
      "\r",
      " 19%|############6                                                      | 941/5000 [21:39:21<25:48:55, 22.90s/episodes]"
     ]
    },
    {
     "name": "stdout",
     "output_type": "stream",
     "text": [
      "Reach destination====================================================================================!!!!!!!!\n"
     ]
    },
    {
     "name": "stderr",
     "output_type": "stream",
     "text": [
      "\r",
      " 19%|############6                                                      | 942/5000 [21:39:56<29:58:13, 26.59s/episodes]"
     ]
    },
    {
     "name": "stdout",
     "output_type": "stream",
     "text": [
      "Reach destination====================================================================================!!!!!!!!\n"
     ]
    },
    {
     "name": "stderr",
     "output_type": "stream",
     "text": [
      "\r",
      " 19%|############6                                                      | 943/5000 [21:40:08<25:08:54, 22.32s/episodes]"
     ]
    },
    {
     "name": "stdout",
     "output_type": "stream",
     "text": [
      "Reach destination====================================================================================!!!!!!!!\n"
     ]
    },
    {
     "name": "stderr",
     "output_type": "stream",
     "text": [
      "\r",
      " 19%|############6                                                      | 944/5000 [21:40:41<28:28:49, 25.28s/episodes]"
     ]
    },
    {
     "name": "stdout",
     "output_type": "stream",
     "text": [
      "Reach destination====================================================================================!!!!!!!!\n"
     ]
    },
    {
     "name": "stderr",
     "output_type": "stream",
     "text": [
      "\r",
      " 19%|############6                                                      | 945/5000 [21:41:00<26:35:25, 23.61s/episodes]"
     ]
    },
    {
     "name": "stdout",
     "output_type": "stream",
     "text": [
      "Reach destination====================================================================================!!!!!!!!\n"
     ]
    },
    {
     "name": "stderr",
     "output_type": "stream",
     "text": [
      "\r",
      " 19%|############6                                                      | 946/5000 [21:41:32<29:22:46, 26.09s/episodes]"
     ]
    },
    {
     "name": "stdout",
     "output_type": "stream",
     "text": [
      "Reach destination====================================================================================!!!!!!!!\n"
     ]
    },
    {
     "name": "stderr",
     "output_type": "stream",
     "text": [
      " 19%|############7                                                      | 948/5000 [21:42:25<28:18:41, 25.15s/episodes]"
     ]
    },
    {
     "name": "stdout",
     "output_type": "stream",
     "text": [
      "Reach destination====================================================================================!!!!!!!!\n"
     ]
    },
    {
     "name": "stderr",
     "output_type": "stream",
     "text": [
      "\r",
      " 19%|############7                                                      | 949/5000 [21:42:49<28:03:54, 24.94s/episodes]"
     ]
    },
    {
     "name": "stdout",
     "output_type": "stream",
     "text": [
      "Reach destination====================================================================================!!!!!!!!\n"
     ]
    },
    {
     "name": "stderr",
     "output_type": "stream",
     "text": [
      "\r",
      " 19%|############7                                                      | 950/5000 [21:42:56<21:59:34, 19.55s/episodes]"
     ]
    },
    {
     "name": "stdout",
     "output_type": "stream",
     "text": [
      "Reach destination====================================================================================!!!!!!!!\n",
      "Episode: 950, total steps: 37,  final return: -471.2800000000001\n"
     ]
    },
    {
     "name": "stderr",
     "output_type": "stream",
     "text": [
      "\r",
      " 19%|############7                                                      | 951/5000 [21:43:21<23:51:00, 21.21s/episodes]"
     ]
    },
    {
     "name": "stdout",
     "output_type": "stream",
     "text": [
      "Reach destination====================================================================================!!!!!!!!\n"
     ]
    },
    {
     "name": "stderr",
     "output_type": "stream",
     "text": [
      "\r",
      " 19%|############7                                                      | 952/5000 [21:43:53<27:16:35, 24.26s/episodes]"
     ]
    },
    {
     "name": "stdout",
     "output_type": "stream",
     "text": [
      "Reach destination====================================================================================!!!!!!!!\n"
     ]
    },
    {
     "name": "stderr",
     "output_type": "stream",
     "text": [
      "\r",
      " 19%|############7                                                      | 953/5000 [21:44:04<23:04:26, 20.53s/episodes]"
     ]
    },
    {
     "name": "stdout",
     "output_type": "stream",
     "text": [
      "Reach destination====================================================================================!!!!!!!!\n"
     ]
    },
    {
     "name": "stderr",
     "output_type": "stream",
     "text": [
      "\r",
      " 19%|############7                                                      | 954/5000 [21:44:20<21:31:21, 19.15s/episodes]"
     ]
    },
    {
     "name": "stdout",
     "output_type": "stream",
     "text": [
      "Reach destination====================================================================================!!!!!!!!\n"
     ]
    },
    {
     "name": "stderr",
     "output_type": "stream",
     "text": [
      "\r",
      " 19%|############7                                                      | 955/5000 [21:44:48<24:22:21, 21.69s/episodes]"
     ]
    },
    {
     "name": "stdout",
     "output_type": "stream",
     "text": [
      "Reach destination====================================================================================!!!!!!!!\n"
     ]
    },
    {
     "name": "stderr",
     "output_type": "stream",
     "text": [
      "\r",
      " 19%|############8                                                      | 956/5000 [21:45:20<27:52:27, 24.81s/episodes]"
     ]
    },
    {
     "name": "stdout",
     "output_type": "stream",
     "text": [
      "Reach destination====================================================================================!!!!!!!!\n"
     ]
    },
    {
     "name": "stderr",
     "output_type": "stream",
     "text": [
      " 19%|############8                                                      | 959/5000 [21:46:27<27:19:44, 24.35s/episodes]"
     ]
    },
    {
     "name": "stdout",
     "output_type": "stream",
     "text": [
      "Reach destination====================================================================================!!!!!!!!\n"
     ]
    },
    {
     "name": "stderr",
     "output_type": "stream",
     "text": [
      "\r",
      " 19%|############8                                                      | 960/5000 [21:46:41<23:51:06, 21.25s/episodes]"
     ]
    },
    {
     "name": "stdout",
     "output_type": "stream",
     "text": [
      "Reach destination====================================================================================!!!!!!!!\n",
      "Episode: 960, total steps: 73,  final return: -815.8000000000001\n"
     ]
    },
    {
     "name": "stderr",
     "output_type": "stream",
     "text": [
      "\r",
      " 19%|############8                                                      | 961/5000 [21:46:42<16:48:47, 14.99s/episodes]"
     ]
    },
    {
     "name": "stdout",
     "output_type": "stream",
     "text": [
      "Reach destination====================================================================================!!!!!!!!\n"
     ]
    },
    {
     "name": "stderr",
     "output_type": "stream",
     "text": [
      "\r",
      " 19%|############8                                                      | 962/5000 [21:46:55<16:18:34, 14.54s/episodes]"
     ]
    },
    {
     "name": "stdout",
     "output_type": "stream",
     "text": [
      "Reach destination====================================================================================!!!!!!!!\n"
     ]
    },
    {
     "name": "stderr",
     "output_type": "stream",
     "text": [
      "\r",
      " 19%|############9                                                      | 963/5000 [21:47:27<22:13:21, 19.82s/episodes]"
     ]
    },
    {
     "name": "stdout",
     "output_type": "stream",
     "text": [
      "Reach destination====================================================================================!!!!!!!!\n"
     ]
    },
    {
     "name": "stderr",
     "output_type": "stream",
     "text": [
      " 19%|############9                                                      | 965/5000 [21:48:25<26:37:23, 23.75s/episodes]"
     ]
    },
    {
     "name": "stdout",
     "output_type": "stream",
     "text": [
      "Reach destination====================================================================================!!!!!!!!\n"
     ]
    },
    {
     "name": "stderr",
     "output_type": "stream",
     "text": [
      "\r",
      " 19%|############9                                                      | 966/5000 [21:48:59<29:48:49, 26.61s/episodes]"
     ]
    },
    {
     "name": "stdout",
     "output_type": "stream",
     "text": [
      "Reach destination====================================================================================!!!!!!!!\n"
     ]
    },
    {
     "name": "stderr",
     "output_type": "stream",
     "text": [
      " 19%|############9                                                      | 968/5000 [21:49:48<27:19:56, 24.40s/episodes]"
     ]
    },
    {
     "name": "stdout",
     "output_type": "stream",
     "text": [
      "Reach destination====================================================================================!!!!!!!!\n"
     ]
    },
    {
     "name": "stderr",
     "output_type": "stream",
     "text": [
      "\r",
      " 19%|############9                                                      | 969/5000 [21:50:17<29:06:59, 26.00s/episodes]"
     ]
    },
    {
     "name": "stdout",
     "output_type": "stream",
     "text": [
      "Reach destination====================================================================================!!!!!!!!\n"
     ]
    },
    {
     "name": "stderr",
     "output_type": "stream",
     "text": [
      "\r",
      " 19%|############9                                                      | 970/5000 [21:50:55<32:57:54, 29.45s/episodes]"
     ]
    },
    {
     "name": "stdout",
     "output_type": "stream",
     "text": [
      "Episode: 970, total steps: 200,  final return: -1308.5199999999995\n"
     ]
    },
    {
     "name": "stderr",
     "output_type": "stream",
     "text": [
      "\r",
      " 19%|#############                                                      | 971/5000 [21:51:04<26:11:11, 23.40s/episodes]"
     ]
    },
    {
     "name": "stdout",
     "output_type": "stream",
     "text": [
      "Reach destination====================================================================================!!!!!!!!\n"
     ]
    },
    {
     "name": "stderr",
     "output_type": "stream",
     "text": [
      " 19%|#############                                                      | 974/5000 [21:52:47<33:25:10, 29.88s/episodes]"
     ]
    },
    {
     "name": "stdout",
     "output_type": "stream",
     "text": [
      "Reach destination====================================================================================!!!!!!!!\n"
     ]
    },
    {
     "name": "stderr",
     "output_type": "stream",
     "text": [
      " 20%|#############                                                      | 977/5000 [21:53:38<21:32:27, 19.28s/episodes]"
     ]
    },
    {
     "name": "stdout",
     "output_type": "stream",
     "text": [
      "Reach destination====================================================================================!!!!!!!!\n"
     ]
    },
    {
     "name": "stderr",
     "output_type": "stream",
     "text": [
      "\r",
      " 20%|#############1                                                     | 978/5000 [21:54:01<22:43:29, 20.34s/episodes]"
     ]
    },
    {
     "name": "stdout",
     "output_type": "stream",
     "text": [
      "Reach destination====================================================================================!!!!!!!!\n"
     ]
    },
    {
     "name": "stderr",
     "output_type": "stream",
     "text": [
      "\r",
      " 20%|#############1                                                     | 979/5000 [21:54:29<25:11:05, 22.55s/episodes]"
     ]
    },
    {
     "name": "stdout",
     "output_type": "stream",
     "text": [
      "Reach destination====================================================================================!!!!!!!!\n"
     ]
    },
    {
     "name": "stderr",
     "output_type": "stream",
     "text": [
      "\r",
      " 20%|#############1                                                     | 980/5000 [21:54:53<25:40:08, 22.99s/episodes]"
     ]
    },
    {
     "name": "stdout",
     "output_type": "stream",
     "text": [
      "Reach destination====================================================================================!!!!!!!!\n",
      "Episode: 980, total steps: 125,  final return: -1658.1999999999998\n"
     ]
    },
    {
     "name": "stderr",
     "output_type": "stream",
     "text": [
      "\r",
      " 20%|#############1                                                     | 981/5000 [21:55:30<30:27:14, 27.28s/episodes]"
     ]
    },
    {
     "name": "stdout",
     "output_type": "stream",
     "text": [
      "Reach destination====================================================================================!!!!!!!!\n"
     ]
    },
    {
     "name": "stderr",
     "output_type": "stream",
     "text": [
      " 20%|#############1                                                     | 983/5000 [21:56:04<25:06:55, 22.51s/episodes]"
     ]
    },
    {
     "name": "stdout",
     "output_type": "stream",
     "text": [
      "Reach destination====================================================================================!!!!!!!!\n"
     ]
    },
    {
     "name": "stderr",
     "output_type": "stream",
     "text": [
      "\r",
      " 20%|#############1                                                     | 984/5000 [21:56:35<28:11:33, 25.27s/episodes]"
     ]
    },
    {
     "name": "stdout",
     "output_type": "stream",
     "text": [
      "Reach destination====================================================================================!!!!!!!!\n"
     ]
    },
    {
     "name": "stderr",
     "output_type": "stream",
     "text": [
      " 20%|#############2                                                     | 986/5000 [21:57:20<25:07:22, 22.53s/episodes]"
     ]
    },
    {
     "name": "stdout",
     "output_type": "stream",
     "text": [
      "Reach destination====================================================================================!!!!!!!!\n"
     ]
    },
    {
     "name": "stderr",
     "output_type": "stream",
     "text": [
      "\r",
      " 20%|#############2                                                     | 987/5000 [21:57:40<24:09:48, 21.68s/episodes]"
     ]
    },
    {
     "name": "stdout",
     "output_type": "stream",
     "text": [
      "Reach destination====================================================================================!!!!!!!!\n"
     ]
    },
    {
     "name": "stderr",
     "output_type": "stream",
     "text": [
      "\r",
      " 20%|#############2                                                     | 988/5000 [21:58:17<29:26:50, 26.42s/episodes]"
     ]
    },
    {
     "name": "stdout",
     "output_type": "stream",
     "text": [
      "Reach destination====================================================================================!!!!!!!!\n"
     ]
    },
    {
     "name": "stderr",
     "output_type": "stream",
     "text": [
      "\r",
      " 20%|#############2                                                     | 989/5000 [21:58:23<22:31:00, 20.21s/episodes]"
     ]
    },
    {
     "name": "stdout",
     "output_type": "stream",
     "text": [
      "Reach destination====================================================================================!!!!!!!!\n",
      "Reach destination====================================================================================!!!!!!!!\n",
      "Episode: 990, total steps: 54,  final return: -681.52"
     ]
    },
    {
     "name": "stderr",
     "output_type": "stream",
     "text": [
      "\r",
      " 20%|#############2                                                     | 990/5000 [21:58:33<19:07:11, 17.16s/episodes]"
     ]
    },
    {
     "name": "stdout",
     "output_type": "stream",
     "text": [
      "\n"
     ]
    },
    {
     "name": "stderr",
     "output_type": "stream",
     "text": [
      "\r",
      " 20%|#############2                                                     | 991/5000 [21:58:45<17:26:40, 15.66s/episodes]"
     ]
    },
    {
     "name": "stdout",
     "output_type": "stream",
     "text": [
      "Reach destination====================================================================================!!!!!!!!\n"
     ]
    },
    {
     "name": "stderr",
     "output_type": "stream",
     "text": [
      " 20%|#############3                                                     | 995/5000 [22:01:10<34:18:54, 30.85s/episodes]"
     ]
    },
    {
     "name": "stdout",
     "output_type": "stream",
     "text": [
      "Reach destination====================================================================================!!!!!!!!\n",
      "Reach destination====================================================================================!!!!!!!!\n"
     ]
    },
    {
     "name": "stderr",
     "output_type": "stream",
     "text": [
      " 20%|#############3                                                     | 997/5000 [22:01:49<28:39:51, 25.78s/episodes]"
     ]
    },
    {
     "name": "stdout",
     "output_type": "stream",
     "text": [
      "Reach destination====================================================================================!!!!!!!!\n"
     ]
    },
    {
     "name": "stderr",
     "output_type": "stream",
     "text": [
      " 20%|#############3                                                     | 999/5000 [22:02:48<30:10:41, 27.15s/episodes]"
     ]
    },
    {
     "name": "stdout",
     "output_type": "stream",
     "text": [
      "Reach destination====================================================================================!!!!!!!!\n"
     ]
    },
    {
     "name": "stderr",
     "output_type": "stream",
     "text": [
      "\r",
      " 20%|#############2                                                    | 1000/5000 [22:03:22<32:28:36, 29.23s/episodes]"
     ]
    },
    {
     "name": "stdout",
     "output_type": "stream",
     "text": [
      "Reach destination====================================================================================!!!!!!!!\n",
      "Episode: 1000, total steps: 180,  final return: -2495.56\n"
     ]
    },
    {
     "name": "stderr",
     "output_type": "stream",
     "text": [
      "\r",
      " 20%|#############2                                                    | 1001/5000 [22:03:34<26:42:58, 24.05s/episodes]"
     ]
    },
    {
     "name": "stdout",
     "output_type": "stream",
     "text": [
      "Reach destination====================================================================================!!!!!!!!\n"
     ]
    },
    {
     "name": "stderr",
     "output_type": "stream",
     "text": [
      "\r",
      " 20%|#############2                                                    | 1002/5000 [22:03:38<20:08:22, 18.13s/episodes]"
     ]
    },
    {
     "name": "stdout",
     "output_type": "stream",
     "text": [
      "Reach destination====================================================================================!!!!!!!!\n"
     ]
    },
    {
     "name": "stderr",
     "output_type": "stream",
     "text": [
      "\r",
      " 20%|#############2                                                    | 1003/5000 [22:04:00<21:13:55, 19.12s/episodes]"
     ]
    },
    {
     "name": "stdout",
     "output_type": "stream",
     "text": [
      "Reach destination====================================================================================!!!!!!!!\n"
     ]
    },
    {
     "name": "stderr",
     "output_type": "stream",
     "text": [
      "\r",
      " 20%|#############2                                                    | 1004/5000 [22:04:20<21:38:10, 19.49s/episodes]"
     ]
    },
    {
     "name": "stdout",
     "output_type": "stream",
     "text": [
      "Reach destination====================================================================================!!!!!!!!\n"
     ]
    },
    {
     "name": "stderr",
     "output_type": "stream",
     "text": [
      "\r",
      " 20%|#############2                                                    | 1005/5000 [22:04:30<18:34:44, 16.74s/episodes]"
     ]
    },
    {
     "name": "stdout",
     "output_type": "stream",
     "text": [
      "Reach destination====================================================================================!!!!!!!!\n"
     ]
    },
    {
     "name": "stderr",
     "output_type": "stream",
     "text": [
      "\r",
      " 20%|#############2                                                    | 1006/5000 [22:04:45<17:56:34, 16.17s/episodes]"
     ]
    },
    {
     "name": "stdout",
     "output_type": "stream",
     "text": [
      "Reach destination====================================================================================!!!!!!!!\n"
     ]
    },
    {
     "name": "stderr",
     "output_type": "stream",
     "text": [
      "\r",
      " 20%|#############2                                                    | 1007/5000 [22:04:47<13:00:09, 11.72s/episodes]"
     ]
    },
    {
     "name": "stdout",
     "output_type": "stream",
     "text": [
      "Reach destination====================================================================================!!!!!!!!\n"
     ]
    },
    {
     "name": "stderr",
     "output_type": "stream",
     "text": [
      " 20%|#############3                                                    | 1010/5000 [22:06:23<26:12:38, 23.65s/episodes]"
     ]
    },
    {
     "name": "stdout",
     "output_type": "stream",
     "text": [
      "Reach destination====================================================================================!!!!!!!!\n",
      "Episode: 1010, total steps: 107,  final return: -1784.2799999999997\n"
     ]
    },
    {
     "name": "stderr",
     "output_type": "stream",
     "text": [
      " 20%|#############3                                                    | 1012/5000 [22:07:27<30:26:23, 27.48s/episodes]"
     ]
    },
    {
     "name": "stdout",
     "output_type": "stream",
     "text": [
      "Reach destination====================================================================================!!!!!!!!\n"
     ]
    },
    {
     "name": "stderr",
     "output_type": "stream",
     "text": [
      " 20%|#############3                                                    | 1014/5000 [22:08:17<27:53:01, 25.18s/episodes]"
     ]
    },
    {
     "name": "stdout",
     "output_type": "stream",
     "text": [
      "Reach destination====================================================================================!!!!!!!!\n"
     ]
    },
    {
     "name": "stderr",
     "output_type": "stream",
     "text": [
      "\r",
      " 20%|#############3                                                    | 1015/5000 [22:08:28<22:58:07, 20.75s/episodes]"
     ]
    },
    {
     "name": "stdout",
     "output_type": "stream",
     "text": [
      "Reach destination====================================================================================!!!!!!!!\n"
     ]
    },
    {
     "name": "stderr",
     "output_type": "stream",
     "text": [
      "\r",
      " 20%|#############4                                                    | 1016/5000 [22:08:53<24:27:44, 22.10s/episodes]"
     ]
    },
    {
     "name": "stdout",
     "output_type": "stream",
     "text": [
      "Reach destination====================================================================================!!!!!!!!\n"
     ]
    },
    {
     "name": "stderr",
     "output_type": "stream",
     "text": [
      "\r",
      " 20%|#############4                                                    | 1017/5000 [22:09:20<26:00:31, 23.51s/episodes]"
     ]
    },
    {
     "name": "stdout",
     "output_type": "stream",
     "text": [
      "Reach destination====================================================================================!!!!!!!!\n"
     ]
    },
    {
     "name": "stderr",
     "output_type": "stream",
     "text": [
      " 20%|#############4                                                    | 1020/5000 [22:11:05<33:47:24, 30.56s/episodes]"
     ]
    },
    {
     "name": "stdout",
     "output_type": "stream",
     "text": [
      "Reach destination====================================================================================!!!!!!!!\n",
      "Episode: 1020, total steps: 161,  final return: -1694.2799999999995\n"
     ]
    },
    {
     "name": "stderr",
     "output_type": "stream",
     "text": [
      "\r",
      " 20%|#############4                                                    | 1021/5000 [22:11:41<35:34:40, 32.19s/episodes]"
     ]
    },
    {
     "name": "stdout",
     "output_type": "stream",
     "text": [
      "Reach destination====================================================================================!!!!!!!!\n"
     ]
    },
    {
     "name": "stderr",
     "output_type": "stream",
     "text": [
      "\r",
      " 20%|#############4                                                    | 1022/5000 [22:12:15<35:58:54, 32.56s/episodes]"
     ]
    },
    {
     "name": "stdout",
     "output_type": "stream",
     "text": [
      "Reach destination====================================================================================!!!!!!!!\n"
     ]
    },
    {
     "name": "stderr",
     "output_type": "stream",
     "text": [
      "\r",
      " 20%|#############5                                                    | 1023/5000 [22:12:41<34:03:49, 30.83s/episodes]"
     ]
    },
    {
     "name": "stdout",
     "output_type": "stream",
     "text": [
      "Reach destination====================================================================================!!!!!!!!\n"
     ]
    },
    {
     "name": "stderr",
     "output_type": "stream",
     "text": [
      " 21%|#############5                                                    | 1027/5000 [22:15:04<36:52:01, 33.41s/episodes]"
     ]
    },
    {
     "name": "stdout",
     "output_type": "stream",
     "text": [
      "Reach destination====================================================================================!!!!!!!!\n"
     ]
    },
    {
     "name": "stderr",
     "output_type": "stream",
     "text": [
      "\r",
      " 21%|#############5                                                    | 1028/5000 [22:15:12<28:28:13, 25.80s/episodes]"
     ]
    },
    {
     "name": "stdout",
     "output_type": "stream",
     "text": [
      "Reach destination====================================================================================!!!!!!!!\n"
     ]
    },
    {
     "name": "stderr",
     "output_type": "stream",
     "text": [
      "\r",
      " 21%|#############5                                                    | 1029/5000 [22:15:29<25:33:20, 23.17s/episodes]"
     ]
    },
    {
     "name": "stdout",
     "output_type": "stream",
     "text": [
      "Reach destination====================================================================================!!!!!!!!\n"
     ]
    },
    {
     "name": "stderr",
     "output_type": "stream",
     "text": [
      "\r",
      " 21%|#############5                                                    | 1030/5000 [22:15:51<25:17:40, 22.94s/episodes]"
     ]
    },
    {
     "name": "stdout",
     "output_type": "stream",
     "text": [
      "Reach destination====================================================================================!!!!!!!!\n",
      "Episode: 1030, total steps: 121,  final return: -2190.1600000000003\n"
     ]
    },
    {
     "name": "stderr",
     "output_type": "stream",
     "text": [
      "\r",
      " 21%|#############6                                                    | 1031/5000 [22:16:22<27:54:36, 25.32s/episodes]"
     ]
    },
    {
     "name": "stdout",
     "output_type": "stream",
     "text": [
      "Reach destination====================================================================================!!!!!!!!\n"
     ]
    },
    {
     "name": "stderr",
     "output_type": "stream",
     "text": [
      " 21%|#############6                                                    | 1035/5000 [22:18:33<31:31:57, 28.63s/episodes]"
     ]
    },
    {
     "name": "stdout",
     "output_type": "stream",
     "text": [
      "Reach destination====================================================================================!!!!!!!!\n"
     ]
    },
    {
     "name": "stderr",
     "output_type": "stream",
     "text": [
      " 21%|#############7                                                    | 1039/5000 [22:20:42<31:54:35, 29.00s/episodes]"
     ]
    },
    {
     "name": "stdout",
     "output_type": "stream",
     "text": [
      "Reach destination====================================================================================!!!!!!!!\n",
      "Reach destination====================================================================================!!!!!!!!\n",
      "Episode: 1040, total steps: 40,  final return: -613.48"
     ]
    },
    {
     "name": "stderr",
     "output_type": "stream",
     "text": [
      "\r",
      " 21%|#############7                                                    | 1040/5000 [22:20:49<24:45:36, 22.51s/episodes]"
     ]
    },
    {
     "name": "stdout",
     "output_type": "stream",
     "text": [
      "\n"
     ]
    },
    {
     "name": "stderr",
     "output_type": "stream",
     "text": [
      "\r",
      " 21%|#############7                                                    | 1041/5000 [22:21:21<27:47:40, 25.27s/episodes]"
     ]
    },
    {
     "name": "stdout",
     "output_type": "stream",
     "text": [
      "Reach destination====================================================================================!!!!!!!!\n"
     ]
    },
    {
     "name": "stderr",
     "output_type": "stream",
     "text": [
      "\r",
      " 21%|#############7                                                    | 1042/5000 [22:21:36<24:16:54, 22.09s/episodes]"
     ]
    },
    {
     "name": "stdout",
     "output_type": "stream",
     "text": [
      "Reach destination====================================================================================!!!!!!!!\n"
     ]
    },
    {
     "name": "stderr",
     "output_type": "stream",
     "text": [
      "\r",
      " 21%|#############7                                                    | 1043/5000 [22:22:05<26:35:29, 24.19s/episodes]"
     ]
    },
    {
     "name": "stdout",
     "output_type": "stream",
     "text": [
      "Reach destination====================================================================================!!!!!!!!\n"
     ]
    },
    {
     "name": "stderr",
     "output_type": "stream",
     "text": [
      "\r",
      " 21%|#############7                                                    | 1044/5000 [22:22:32<27:29:21, 25.02s/episodes]"
     ]
    },
    {
     "name": "stdout",
     "output_type": "stream",
     "text": [
      "Reach destination====================================================================================!!!!!!!!\n"
     ]
    },
    {
     "name": "stderr",
     "output_type": "stream",
     "text": [
      "\r",
      " 21%|#############7                                                    | 1045/5000 [22:22:38<21:22:16, 19.45s/episodes]"
     ]
    },
    {
     "name": "stdout",
     "output_type": "stream",
     "text": [
      "Reach destination====================================================================================!!!!!!!!\n"
     ]
    },
    {
     "name": "stderr",
     "output_type": "stream",
     "text": [
      "\r",
      " 21%|#############8                                                    | 1046/5000 [22:22:54<20:12:41, 18.40s/episodes]"
     ]
    },
    {
     "name": "stdout",
     "output_type": "stream",
     "text": [
      "Reach destination====================================================================================!!!!!!!!\n"
     ]
    },
    {
     "name": "stderr",
     "output_type": "stream",
     "text": [
      " 21%|#############8                                                    | 1048/5000 [22:23:40<21:29:56, 19.58s/episodes]"
     ]
    },
    {
     "name": "stdout",
     "output_type": "stream",
     "text": [
      "Reach destination====================================================================================!!!!!!!!\n"
     ]
    },
    {
     "name": "stderr",
     "output_type": "stream",
     "text": [
      "\r",
      " 21%|#############8                                                    | 1049/5000 [22:24:01<21:57:00, 20.00s/episodes]"
     ]
    },
    {
     "name": "stdout",
     "output_type": "stream",
     "text": [
      "Reach destination====================================================================================!!!!!!!!\n"
     ]
    },
    {
     "name": "stderr",
     "output_type": "stream",
     "text": [
      "\r",
      " 21%|#############8                                                    | 1050/5000 [22:24:31<25:14:57, 23.01s/episodes]"
     ]
    },
    {
     "name": "stdout",
     "output_type": "stream",
     "text": [
      "Reach destination====================================================================================!!!!!!!!\n",
      "Episode: 1050, total steps: 166,  final return: -1728.4799999999993\n"
     ]
    },
    {
     "name": "stderr",
     "output_type": "stream",
     "text": [
      " 21%|#############8                                                    | 1053/5000 [22:25:55<26:36:54, 24.28s/episodes]"
     ]
    },
    {
     "name": "stdout",
     "output_type": "stream",
     "text": [
      "Reach destination====================================================================================!!!!!!!!\n"
     ]
    },
    {
     "name": "stderr",
     "output_type": "stream",
     "text": [
      "\r",
      " 21%|#############9                                                    | 1054/5000 [22:26:18<26:05:49, 23.81s/episodes]"
     ]
    },
    {
     "name": "stdout",
     "output_type": "stream",
     "text": [
      "Reach destination====================================================================================!!!!!!!!\n"
     ]
    },
    {
     "name": "stderr",
     "output_type": "stream",
     "text": [
      " 21%|#############9                                                    | 1056/5000 [22:27:26<31:43:11, 28.95s/episodes]"
     ]
    },
    {
     "name": "stdout",
     "output_type": "stream",
     "text": [
      "Reach destination====================================================================================!!!!!!!!\n"
     ]
    },
    {
     "name": "stderr",
     "output_type": "stream",
     "text": [
      "\r",
      " 21%|#############9                                                    | 1057/5000 [22:27:58<32:37:27, 29.79s/episodes]"
     ]
    },
    {
     "name": "stdout",
     "output_type": "stream",
     "text": [
      "Reach destination====================================================================================!!!!!!!!\n"
     ]
    },
    {
     "name": "stderr",
     "output_type": "stream",
     "text": [
      "\r",
      " 21%|#############9                                                    | 1058/5000 [22:28:24<31:14:42, 28.53s/episodes]"
     ]
    },
    {
     "name": "stdout",
     "output_type": "stream",
     "text": [
      "Reach destination====================================================================================!!!!!!!!\n"
     ]
    },
    {
     "name": "stderr",
     "output_type": "stream",
     "text": [
      "\r",
      " 21%|#############9                                                    | 1059/5000 [22:28:42<27:55:08, 25.50s/episodes]"
     ]
    },
    {
     "name": "stdout",
     "output_type": "stream",
     "text": [
      "Reach destination====================================================================================!!!!!!!!\n"
     ]
    },
    {
     "name": "stderr",
     "output_type": "stream",
     "text": [
      "\r",
      " 21%|#############9                                                    | 1060/5000 [22:29:18<31:18:51, 28.61s/episodes]"
     ]
    },
    {
     "name": "stdout",
     "output_type": "stream",
     "text": [
      "Episode: 1060, total steps: 200,  final return: -3693.679999999998\n"
     ]
    },
    {
     "name": "stderr",
     "output_type": "stream",
     "text": [
      "\r",
      " 21%|##############                                                    | 1061/5000 [22:29:24<23:50:26, 21.79s/episodes]"
     ]
    },
    {
     "name": "stdout",
     "output_type": "stream",
     "text": [
      "Reach destination====================================================================================!!!!!!!!\n"
     ]
    },
    {
     "name": "stderr",
     "output_type": "stream",
     "text": [
      " 21%|##############                                                    | 1064/5000 [22:30:57<28:58:03, 26.49s/episodes]"
     ]
    },
    {
     "name": "stdout",
     "output_type": "stream",
     "text": [
      "Reach destination====================================================================================!!!!!!!!\n"
     ]
    },
    {
     "name": "stderr",
     "output_type": "stream",
     "text": [
      " 21%|##############                                                    | 1066/5000 [22:32:04<32:39:15, 29.88s/episodes]"
     ]
    },
    {
     "name": "stdout",
     "output_type": "stream",
     "text": [
      "Reach destination====================================================================================!!!!!!!!\n"
     ]
    },
    {
     "name": "stderr",
     "output_type": "stream",
     "text": [
      " 21%|##############                                                    | 1068/5000 [22:32:58<30:03:49, 27.53s/episodes]"
     ]
    },
    {
     "name": "stdout",
     "output_type": "stream",
     "text": [
      "Reach destination====================================================================================!!!!!!!!\n"
     ]
    },
    {
     "name": "stderr",
     "output_type": "stream",
     "text": [
      "\r",
      " 21%|##############1                                                   | 1069/5000 [22:33:29<31:16:41, 28.64s/episodes]"
     ]
    },
    {
     "name": "stdout",
     "output_type": "stream",
     "text": [
      "Reach destination====================================================================================!!!!!!!!\n"
     ]
    },
    {
     "name": "stderr",
     "output_type": "stream",
     "text": [
      "\r",
      " 21%|##############1                                                   | 1070/5000 [22:34:01<32:14:53, 29.54s/episodes]"
     ]
    },
    {
     "name": "stdout",
     "output_type": "stream",
     "text": [
      "Reach destination====================================================================================!!!!!!!!\n",
      "Episode: 1070, total steps: 173,  final return: -1844.28\n"
     ]
    },
    {
     "name": "stderr",
     "output_type": "stream",
     "text": [
      " 21%|##############1                                                   | 1072/5000 [22:35:11<35:07:52, 32.20s/episodes]"
     ]
    },
    {
     "name": "stdout",
     "output_type": "stream",
     "text": [
      "Reach destination====================================================================================!!!!!!!!\n"
     ]
    },
    {
     "name": "stderr",
     "output_type": "stream",
     "text": [
      " 21%|##############1                                                   | 1074/5000 [22:36:23<37:04:22, 33.99s/episodes]"
     ]
    },
    {
     "name": "stdout",
     "output_type": "stream",
     "text": [
      "Reach destination====================================================================================!!!!!!!!\n"
     ]
    },
    {
     "name": "stderr",
     "output_type": "stream",
     "text": [
      " 22%|##############2                                                   | 1079/5000 [22:38:49<28:36:10, 26.26s/episodes]"
     ]
    },
    {
     "name": "stdout",
     "output_type": "stream",
     "text": [
      "Reach destination====================================================================================!!!!!!!!\n"
     ]
    },
    {
     "name": "stderr",
     "output_type": "stream",
     "text": [
      "\r",
      " 22%|##############2                                                   | 1080/5000 [22:39:16<29:02:36, 26.67s/episodes]"
     ]
    },
    {
     "name": "stdout",
     "output_type": "stream",
     "text": [
      "Reach destination====================================================================================!!!!!!!!\n",
      "Episode: 1080, total steps: 152,  final return: -1579.9600000000003\n"
     ]
    },
    {
     "name": "stderr",
     "output_type": "stream",
     "text": [
      "\r",
      " 22%|##############2                                                   | 1081/5000 [22:39:34<26:05:38, 23.97s/episodes]"
     ]
    },
    {
     "name": "stdout",
     "output_type": "stream",
     "text": [
      "Reach destination====================================================================================!!!!!!!!\n"
     ]
    },
    {
     "name": "stderr",
     "output_type": "stream",
     "text": [
      " 22%|##############3                                                   | 1085/5000 [22:41:59<36:01:47, 33.13s/episodes]"
     ]
    },
    {
     "name": "stdout",
     "output_type": "stream",
     "text": [
      "Reach destination====================================================================================!!!!!!!!\n"
     ]
    },
    {
     "name": "stderr",
     "output_type": "stream",
     "text": [
      " 22%|##############3                                                   | 1089/5000 [22:44:13<34:56:53, 32.17s/episodes]"
     ]
    },
    {
     "name": "stdout",
     "output_type": "stream",
     "text": [
      "Reach destination====================================================================================!!!!!!!!\n"
     ]
    },
    {
     "name": "stderr",
     "output_type": "stream",
     "text": [
      "\r",
      " 22%|##############3                                                   | 1090/5000 [22:44:49<36:16:28, 33.40s/episodes]"
     ]
    },
    {
     "name": "stdout",
     "output_type": "stream",
     "text": [
      "Episode: 1090, total steps: 200,  final return: -3609.2400000000034\n"
     ]
    },
    {
     "name": "stderr",
     "output_type": "stream",
     "text": [
      "\r",
      " 22%|##############4                                                   | 1091/5000 [22:45:20<35:24:36, 32.61s/episodes]"
     ]
    },
    {
     "name": "stdout",
     "output_type": "stream",
     "text": [
      "Reach destination====================================================================================!!!!!!!!\n"
     ]
    },
    {
     "name": "stderr",
     "output_type": "stream",
     "text": [
      "\r",
      " 22%|##############4                                                   | 1092/5000 [22:45:28<27:19:45, 25.18s/episodes]"
     ]
    },
    {
     "name": "stdout",
     "output_type": "stream",
     "text": [
      "Reach destination====================================================================================!!!!!!!!\n"
     ]
    },
    {
     "name": "stderr",
     "output_type": "stream",
     "text": [
      "\r",
      " 22%|##############4                                                   | 1093/5000 [22:45:37<22:04:19, 20.34s/episodes]"
     ]
    },
    {
     "name": "stdout",
     "output_type": "stream",
     "text": [
      "Reach destination====================================================================================!!!!!!!!\n"
     ]
    },
    {
     "name": "stderr",
     "output_type": "stream",
     "text": [
      "\r",
      " 22%|##############4                                                   | 1094/5000 [22:45:51<19:55:57, 18.37s/episodes]"
     ]
    },
    {
     "name": "stdout",
     "output_type": "stream",
     "text": [
      "Reach destination====================================================================================!!!!!!!!\n"
     ]
    },
    {
     "name": "stderr",
     "output_type": "stream",
     "text": [
      " 22%|##############4                                                   | 1096/5000 [22:46:58<28:14:57, 26.05s/episodes]"
     ]
    },
    {
     "name": "stdout",
     "output_type": "stream",
     "text": [
      "Reach destination====================================================================================!!!!!!!!\n"
     ]
    },
    {
     "name": "stderr",
     "output_type": "stream",
     "text": [
      "\r",
      " 22%|##############4                                                   | 1097/5000 [22:47:18<26:12:21, 24.17s/episodes]"
     ]
    },
    {
     "name": "stdout",
     "output_type": "stream",
     "text": [
      "Reach destination====================================================================================!!!!!!!!\n"
     ]
    },
    {
     "name": "stderr",
     "output_type": "stream",
     "text": [
      " 22%|##############5                                                   | 1099/5000 [22:48:12<26:37:01, 24.56s/episodes]"
     ]
    },
    {
     "name": "stdout",
     "output_type": "stream",
     "text": [
      "Reach destination====================================================================================!!!!!!!!\n"
     ]
    },
    {
     "name": "stderr",
     "output_type": "stream",
     "text": [
      "\r",
      " 22%|##############5                                                   | 1100/5000 [22:48:49<30:37:58, 28.28s/episodes]"
     ]
    },
    {
     "name": "stdout",
     "output_type": "stream",
     "text": [
      "Episode: 1100, total steps: 200,  final return: -3859.2800000000007\n"
     ]
    },
    {
     "name": "stderr",
     "output_type": "stream",
     "text": [
      "\r",
      " 22%|##############5                                                   | 1101/5000 [22:49:25<32:51:48, 30.34s/episodes]"
     ]
    },
    {
     "name": "stdout",
     "output_type": "stream",
     "text": [
      "Reach destination====================================================================================!!!!!!!!\n"
     ]
    },
    {
     "name": "stderr",
     "output_type": "stream",
     "text": [
      " 22%|##############5                                                   | 1103/5000 [22:50:29<33:26:22, 30.89s/episodes]"
     ]
    },
    {
     "name": "stdout",
     "output_type": "stream",
     "text": [
      "Reach destination====================================================================================!!!!!!!!\n"
     ]
    },
    {
     "name": "stderr",
     "output_type": "stream",
     "text": [
      "\r",
      " 22%|##############5                                                   | 1104/5000 [22:50:55<31:52:06, 29.45s/episodes]"
     ]
    },
    {
     "name": "stdout",
     "output_type": "stream",
     "text": [
      "Reach destination====================================================================================!!!!!!!!\n"
     ]
    },
    {
     "name": "stderr",
     "output_type": "stream",
     "text": [
      " 22%|##############6                                                   | 1107/5000 [22:52:30<32:07:08, 29.70s/episodes]"
     ]
    },
    {
     "name": "stdout",
     "output_type": "stream",
     "text": [
      "Reach destination====================================================================================!!!!!!!!\n"
     ]
    },
    {
     "name": "stderr",
     "output_type": "stream",
     "text": [
      "\r",
      " 22%|##############6                                                   | 1108/5000 [22:53:02<32:44:29, 30.28s/episodes]"
     ]
    },
    {
     "name": "stdout",
     "output_type": "stream",
     "text": [
      "Reach destination====================================================================================!!!!!!!!\n"
     ]
    },
    {
     "name": "stderr",
     "output_type": "stream",
     "text": [
      "\r",
      " 22%|##############6                                                   | 1109/5000 [22:53:34<33:27:26, 30.96s/episodes]"
     ]
    },
    {
     "name": "stdout",
     "output_type": "stream",
     "text": [
      "Reach destination====================================================================================!!!!!!!!\n"
     ]
    },
    {
     "name": "stderr",
     "output_type": "stream",
     "text": [
      "\r",
      " 22%|##############6                                                   | 1110/5000 [22:54:10<35:08:11, 32.52s/episodes]"
     ]
    },
    {
     "name": "stdout",
     "output_type": "stream",
     "text": [
      "Episode: 1110, total steps: 200,  final return: -2848.6\n"
     ]
    },
    {
     "name": "stderr",
     "output_type": "stream",
     "text": [
      "\r",
      " 22%|##############6                                                   | 1111/5000 [22:54:35<32:42:46, 30.28s/episodes]"
     ]
    },
    {
     "name": "stdout",
     "output_type": "stream",
     "text": [
      "Reach destination====================================================================================!!!!!!!!\n"
     ]
    },
    {
     "name": "stderr",
     "output_type": "stream",
     "text": [
      " 22%|##############6                                                   | 1113/5000 [22:55:34<31:29:47, 29.17s/episodes]"
     ]
    },
    {
     "name": "stdout",
     "output_type": "stream",
     "text": [
      "Reach destination====================================================================================!!!!!!!!\n"
     ]
    },
    {
     "name": "stderr",
     "output_type": "stream",
     "text": [
      "\r",
      " 22%|##############7                                                   | 1114/5000 [22:56:06<32:28:12, 30.08s/episodes]"
     ]
    },
    {
     "name": "stdout",
     "output_type": "stream",
     "text": [
      "Reach destination====================================================================================!!!!!!!!\n"
     ]
    },
    {
     "name": "stderr",
     "output_type": "stream",
     "text": [
      "\r",
      " 22%|##############7                                                   | 1115/5000 [22:56:07<22:46:41, 21.11s/episodes]"
     ]
    },
    {
     "name": "stdout",
     "output_type": "stream",
     "text": [
      "Reach destination====================================================================================!!!!!!!!\n"
     ]
    },
    {
     "name": "stderr",
     "output_type": "stream",
     "text": [
      "\r",
      " 22%|##############7                                                   | 1116/5000 [22:56:15<18:43:44, 17.36s/episodes]"
     ]
    },
    {
     "name": "stdout",
     "output_type": "stream",
     "text": [
      "Reach destination====================================================================================!!!!!!!!\n"
     ]
    },
    {
     "name": "stderr",
     "output_type": "stream",
     "text": [
      " 22%|##############7                                                   | 1118/5000 [22:57:00<20:14:56, 18.78s/episodes]"
     ]
    },
    {
     "name": "stdout",
     "output_type": "stream",
     "text": [
      "Reach destination====================================================================================!!!!!!!!\n"
     ]
    },
    {
     "name": "stderr",
     "output_type": "stream",
     "text": [
      " 22%|##############7                                                   | 1120/5000 [22:58:14<30:01:19, 27.86s/episodes]"
     ]
    },
    {
     "name": "stdout",
     "output_type": "stream",
     "text": [
      "Episode: 1120, total steps: 200,  final return: -2359.399999999999\n"
     ]
    },
    {
     "name": "stderr",
     "output_type": "stream",
     "text": [
      " 22%|##############8                                                   | 1122/5000 [22:58:52<23:28:31, 21.79s/episodes]"
     ]
    },
    {
     "name": "stdout",
     "output_type": "stream",
     "text": [
      "Reach destination====================================================================================!!!!!!!!\n"
     ]
    },
    {
     "name": "stderr",
     "output_type": "stream",
     "text": [
      "\r",
      " 22%|##############8                                                   | 1123/5000 [22:59:23<26:28:31, 24.58s/episodes]"
     ]
    },
    {
     "name": "stdout",
     "output_type": "stream",
     "text": [
      "Reach destination====================================================================================!!!!!!!!\n"
     ]
    },
    {
     "name": "stderr",
     "output_type": "stream",
     "text": [
      " 22%|##############8                                                   | 1125/5000 [23:00:33<32:20:21, 30.04s/episodes]"
     ]
    },
    {
     "name": "stdout",
     "output_type": "stream",
     "text": [
      "Reach destination====================================================================================!!!!!!!!\n"
     ]
    },
    {
     "name": "stderr",
     "output_type": "stream",
     "text": [
      "\r",
      " 23%|##############8                                                   | 1126/5000 [23:01:03<32:11:25, 29.91s/episodes]"
     ]
    },
    {
     "name": "stdout",
     "output_type": "stream",
     "text": [
      "Reach destination====================================================================================!!!!!!!!\n"
     ]
    },
    {
     "name": "stderr",
     "output_type": "stream",
     "text": [
      " 23%|##############9                                                   | 1129/5000 [23:02:24<27:37:32, 25.69s/episodes]"
     ]
    },
    {
     "name": "stdout",
     "output_type": "stream",
     "text": [
      "Reach destination====================================================================================!!!!!!!!\n"
     ]
    },
    {
     "name": "stderr",
     "output_type": "stream",
     "text": [
      "\r",
      " 23%|##############9                                                   | 1130/5000 [23:02:48<26:52:46, 25.00s/episodes]"
     ]
    },
    {
     "name": "stdout",
     "output_type": "stream",
     "text": [
      "Reach destination====================================================================================!!!!!!!!\n",
      "Episode: 1130, total steps: 128,  final return: -2558.760000000001\n"
     ]
    },
    {
     "name": "stderr",
     "output_type": "stream",
     "text": [
      "\r",
      " 23%|##############9                                                   | 1131/5000 [23:02:53<20:39:50, 19.23s/episodes]"
     ]
    },
    {
     "name": "stdout",
     "output_type": "stream",
     "text": [
      "Reach destination====================================================================================!!!!!!!!\n"
     ]
    },
    {
     "name": "stderr",
     "output_type": "stream",
     "text": [
      " 23%|##############9                                                   | 1135/5000 [23:05:09<31:28:07, 29.31s/episodes]"
     ]
    },
    {
     "name": "stdout",
     "output_type": "stream",
     "text": [
      "Reach destination====================================================================================!!!!!!!!\n"
     ]
    },
    {
     "name": "stderr",
     "output_type": "stream",
     "text": [
      "\r",
      " 23%|##############9                                                   | 1136/5000 [23:05:34<30:04:19, 28.02s/episodes]"
     ]
    },
    {
     "name": "stdout",
     "output_type": "stream",
     "text": [
      "Reach destination====================================================================================!!!!!!!!\n"
     ]
    },
    {
     "name": "stderr",
     "output_type": "stream",
     "text": [
      " 23%|###############                                                   | 1138/5000 [23:06:36<31:11:15, 29.07s/episodes]"
     ]
    },
    {
     "name": "stdout",
     "output_type": "stream",
     "text": [
      "Reach destination====================================================================================!!!!!!!!\n"
     ]
    },
    {
     "name": "stderr",
     "output_type": "stream",
     "text": [
      "\r",
      " 23%|###############                                                   | 1139/5000 [23:06:43<24:11:26, 22.56s/episodes]"
     ]
    },
    {
     "name": "stdout",
     "output_type": "stream",
     "text": [
      "Reach destination====================================================================================!!!!!!!!\n"
     ]
    },
    {
     "name": "stderr",
     "output_type": "stream",
     "text": [
      "\r",
      " 23%|###############                                                   | 1140/5000 [23:07:02<22:50:10, 21.30s/episodes]"
     ]
    },
    {
     "name": "stdout",
     "output_type": "stream",
     "text": [
      "Reach destination====================================================================================!!!!!!!!\n",
      "Episode: 1140, total steps: 101,  final return: -1661.2000000000003\n"
     ]
    },
    {
     "name": "stderr",
     "output_type": "stream",
     "text": [
      "\r",
      " 23%|###############                                                   | 1141/5000 [23:07:26<23:41:43, 22.11s/episodes]"
     ]
    },
    {
     "name": "stdout",
     "output_type": "stream",
     "text": [
      "Reach destination====================================================================================!!!!!!!!\n"
     ]
    },
    {
     "name": "stderr",
     "output_type": "stream",
     "text": [
      "\r",
      " 23%|###############                                                   | 1142/5000 [23:07:33<18:46:56, 17.53s/episodes]"
     ]
    },
    {
     "name": "stdout",
     "output_type": "stream",
     "text": [
      "Reach destination====================================================================================!!!!!!!!\n"
     ]
    },
    {
     "name": "stderr",
     "output_type": "stream",
     "text": [
      " 23%|###############1                                                  | 1144/5000 [23:08:44<28:33:11, 26.66s/episodes]"
     ]
    },
    {
     "name": "stdout",
     "output_type": "stream",
     "text": [
      "Reach destination====================================================================================!!!!!!!!\n"
     ]
    },
    {
     "name": "stderr",
     "output_type": "stream",
     "text": [
      " 23%|###############1                                                  | 1146/5000 [23:09:44<29:44:53, 27.79s/episodes]"
     ]
    },
    {
     "name": "stdout",
     "output_type": "stream",
     "text": [
      "Reach destination====================================================================================!!!!!!!!\n"
     ]
    },
    {
     "name": "stderr",
     "output_type": "stream",
     "text": [
      "\r",
      " 23%|###############1                                                  | 1147/5000 [23:09:55<24:25:47, 22.83s/episodes]"
     ]
    },
    {
     "name": "stdout",
     "output_type": "stream",
     "text": [
      "Reach destination====================================================================================!!!!!!!!\n"
     ]
    },
    {
     "name": "stderr",
     "output_type": "stream",
     "text": [
      "\r",
      " 23%|###############1                                                  | 1148/5000 [23:10:11<22:19:21, 20.86s/episodes]"
     ]
    },
    {
     "name": "stdout",
     "output_type": "stream",
     "text": [
      "Reach destination====================================================================================!!!!!!!!\n"
     ]
    },
    {
     "name": "stderr",
     "output_type": "stream",
     "text": [
      "\r",
      " 23%|###############1                                                  | 1149/5000 [23:10:45<26:26:05, 24.71s/episodes]"
     ]
    },
    {
     "name": "stdout",
     "output_type": "stream",
     "text": [
      "Reach destination====================================================================================!!!!!!!!\n"
     ]
    },
    {
     "name": "stderr",
     "output_type": "stream",
     "text": [
      "\r",
      " 23%|###############1                                                  | 1150/5000 [23:11:22<30:16:56, 28.32s/episodes]"
     ]
    },
    {
     "name": "stdout",
     "output_type": "stream",
     "text": [
      "Episode: 1150, total steps: 200,  final return: -2437.6399999999994\n"
     ]
    },
    {
     "name": "stderr",
     "output_type": "stream",
     "text": [
      "\r",
      " 23%|###############1                                                  | 1151/5000 [23:11:55<32:01:54, 29.96s/episodes]"
     ]
    },
    {
     "name": "stdout",
     "output_type": "stream",
     "text": [
      "Reach destination====================================================================================!!!!!!!!\n"
     ]
    },
    {
     "name": "stderr",
     "output_type": "stream",
     "text": [
      " 23%|###############2                                                  | 1153/5000 [23:13:07<34:47:04, 32.55s/episodes]"
     ]
    },
    {
     "name": "stdout",
     "output_type": "stream",
     "text": [
      "Reach destination====================================================================================!!!!!!!!\n"
     ]
    },
    {
     "name": "stderr",
     "output_type": "stream",
     "text": [
      " 23%|###############2                                                  | 1156/5000 [23:14:39<30:51:19, 28.90s/episodes]"
     ]
    },
    {
     "name": "stdout",
     "output_type": "stream",
     "text": [
      "Reach destination====================================================================================!!!!!!!!\n"
     ]
    },
    {
     "name": "stderr",
     "output_type": "stream",
     "text": [
      "\r",
      " 23%|###############2                                                  | 1157/5000 [23:15:20<34:42:35, 32.52s/episodes]"
     ]
    },
    {
     "name": "stdout",
     "output_type": "stream",
     "text": [
      "Reach destination====================================================================================!!!!!!!!\n"
     ]
    },
    {
     "name": "stderr",
     "output_type": "stream",
     "text": [
      "\r",
      " 23%|###############2                                                  | 1158/5000 [23:15:45<32:12:18, 30.18s/episodes]"
     ]
    },
    {
     "name": "stdout",
     "output_type": "stream",
     "text": [
      "Reach destination====================================================================================!!!!!!!!\n"
     ]
    },
    {
     "name": "stderr",
     "output_type": "stream",
     "text": [
      " 23%|###############3                                                  | 1160/5000 [23:16:35<29:33:29, 27.71s/episodes]"
     ]
    },
    {
     "name": "stdout",
     "output_type": "stream",
     "text": [
      "Reach destination====================================================================================!!!!!!!!\n",
      "Episode: 1160, total steps: 131,  final return: -2383.9999999999995\n"
     ]
    },
    {
     "name": "stderr",
     "output_type": "stream",
     "text": [
      "\r",
      " 23%|###############3                                                  | 1161/5000 [23:16:58<28:05:56, 26.35s/episodes]"
     ]
    },
    {
     "name": "stdout",
     "output_type": "stream",
     "text": [
      "Reach destination====================================================================================!!!!!!!!\n",
      "Reach destination====================================================================================!!!!!!!!\n"
     ]
    },
    {
     "name": "stderr",
     "output_type": "stream",
     "text": [
      " 23%|###############3                                                  | 1164/5000 [23:18:49<36:16:02, 34.04s/episodes]"
     ]
    },
    {
     "name": "stdout",
     "output_type": "stream",
     "text": [
      "Reach destination====================================================================================!!!!!!!!\n"
     ]
    },
    {
     "name": "stderr",
     "output_type": "stream",
     "text": [
      " 23%|###############3                                                  | 1166/5000 [23:20:11<39:58:39, 37.54s/episodes]"
     ]
    },
    {
     "name": "stdout",
     "output_type": "stream",
     "text": [
      "Reach destination====================================================================================!!!!!!!!\n",
      "Reach destination====================================================================================!!!!!!!!\n"
     ]
    },
    {
     "name": "stderr",
     "output_type": "stream",
     "text": [
      "\r",
      " 23%|###############4                                                  | 1167/5000 [23:20:27<33:06:27, 31.10s/episodes]"
     ]
    },
    {
     "name": "stdout",
     "output_type": "stream",
     "text": [
      "Reach destination====================================================================================!!!!!!!!\n"
     ]
    },
    {
     "name": "stderr",
     "output_type": "stream",
     "text": [
      " 23%|###############4                                                  | 1170/5000 [23:22:07<36:27:07, 34.26s/episodes]"
     ]
    },
    {
     "name": "stdout",
     "output_type": "stream",
     "text": [
      "Episode: 1170, total steps: 200,  final return: -2549.9999999999977\n"
     ]
    },
    {
     "name": "stderr",
     "output_type": "stream",
     "text": [
      "\r",
      " 23%|###############4                                                  | 1171/5000 [23:22:25<31:16:57, 29.41s/episodes]"
     ]
    },
    {
     "name": "stdout",
     "output_type": "stream",
     "text": [
      "Reach destination====================================================================================!!!!!!!!\n"
     ]
    },
    {
     "name": "stderr",
     "output_type": "stream",
     "text": [
      "\r",
      " 23%|###############4                                                  | 1172/5000 [23:23:08<35:34:53, 33.46s/episodes]"
     ]
    },
    {
     "name": "stdout",
     "output_type": "stream",
     "text": [
      "Reach destination====================================================================================!!!!!!!!\n"
     ]
    },
    {
     "name": "stderr",
     "output_type": "stream",
     "text": [
      " 23%|###############4                                                  | 1174/5000 [23:24:13<35:09:11, 33.08s/episodes]"
     ]
    },
    {
     "name": "stdout",
     "output_type": "stream",
     "text": [
      "Reach destination====================================================================================!!!!!!!!\n"
     ]
    },
    {
     "name": "stderr",
     "output_type": "stream",
     "text": [
      "\r",
      " 24%|###############5                                                  | 1175/5000 [23:24:28<29:31:09, 27.78s/episodes]"
     ]
    },
    {
     "name": "stdout",
     "output_type": "stream",
     "text": [
      "Reach destination====================================================================================!!!!!!!!\n"
     ]
    },
    {
     "name": "stderr",
     "output_type": "stream",
     "text": [
      "\r",
      " 24%|###############5                                                  | 1176/5000 [23:24:47<26:40:11, 25.11s/episodes]"
     ]
    },
    {
     "name": "stdout",
     "output_type": "stream",
     "text": [
      "Reach destination====================================================================================!!!!!!!!\n"
     ]
    },
    {
     "name": "stderr",
     "output_type": "stream",
     "text": [
      "\r",
      " 24%|###############5                                                  | 1177/5000 [23:25:23<29:52:46, 28.14s/episodes]"
     ]
    },
    {
     "name": "stdout",
     "output_type": "stream",
     "text": [
      "Reach destination====================================================================================!!!!!!!!\n"
     ]
    },
    {
     "name": "stderr",
     "output_type": "stream",
     "text": [
      "\r",
      " 24%|###############5                                                  | 1178/5000 [23:25:34<24:31:57, 23.11s/episodes]"
     ]
    },
    {
     "name": "stdout",
     "output_type": "stream",
     "text": [
      "Reach destination====================================================================================!!!!!!!!\n",
      "Reach destination====================================================================================!!!!!!!!\n"
     ]
    },
    {
     "name": "stderr",
     "output_type": "stream",
     "text": [
      " 24%|###############5                                                  | 1180/5000 [23:26:56<34:20:56, 32.37s/episodes]"
     ]
    },
    {
     "name": "stdout",
     "output_type": "stream",
     "text": [
      "Episode: 1180, total steps: 200,  final return: -3636.8799999999997\n"
     ]
    },
    {
     "name": "stderr",
     "output_type": "stream",
     "text": [
      "\r",
      " 24%|###############5                                                  | 1181/5000 [23:27:11<28:51:24, 27.20s/episodes]"
     ]
    },
    {
     "name": "stdout",
     "output_type": "stream",
     "text": [
      "Reach destination====================================================================================!!!!!!!!\n"
     ]
    },
    {
     "name": "stderr",
     "output_type": "stream",
     "text": [
      "\r",
      " 24%|###############6                                                  | 1182/5000 [23:27:42<30:10:09, 28.45s/episodes]"
     ]
    },
    {
     "name": "stdout",
     "output_type": "stream",
     "text": [
      "Reach destination====================================================================================!!!!!!!!\n"
     ]
    },
    {
     "name": "stderr",
     "output_type": "stream",
     "text": [
      "\r",
      " 24%|###############6                                                  | 1183/5000 [23:28:10<30:00:16, 28.30s/episodes]"
     ]
    },
    {
     "name": "stdout",
     "output_type": "stream",
     "text": [
      "Reach destination====================================================================================!!!!!!!!\n"
     ]
    },
    {
     "name": "stderr",
     "output_type": "stream",
     "text": [
      "\r",
      " 24%|###############6                                                  | 1184/5000 [23:28:40<30:36:11, 28.87s/episodes]"
     ]
    },
    {
     "name": "stdout",
     "output_type": "stream",
     "text": [
      "Reach destination====================================================================================!!!!!!!!\n"
     ]
    },
    {
     "name": "stderr",
     "output_type": "stream",
     "text": [
      "\r",
      " 24%|###############6                                                  | 1185/5000 [23:28:51<24:37:22, 23.24s/episodes]"
     ]
    },
    {
     "name": "stdout",
     "output_type": "stream",
     "text": [
      "Reach destination====================================================================================!!!!!!!!\n"
     ]
    },
    {
     "name": "stderr",
     "output_type": "stream",
     "text": [
      "\r",
      " 24%|###############6                                                  | 1186/5000 [23:29:20<26:32:13, 25.05s/episodes]"
     ]
    },
    {
     "name": "stdout",
     "output_type": "stream",
     "text": [
      "Reach destination====================================================================================!!!!!!!!\n",
      "Reach destination====================================================================================!!!!!!!!\n"
     ]
    },
    {
     "name": "stderr",
     "output_type": "stream",
     "text": [
      "\r",
      " 24%|###############6                                                  | 1187/5000 [23:29:22<19:11:27, 18.12s/episodes]"
     ]
    },
    {
     "name": "stdout",
     "output_type": "stream",
     "text": [
      "Reach destination====================================================================================!!!!!!!!\n"
     ]
    },
    {
     "name": "stderr",
     "output_type": "stream",
     "text": [
      " 24%|###############6                                                  | 1189/5000 [23:30:16<24:59:27, 23.61s/episodes]"
     ]
    },
    {
     "name": "stdout",
     "output_type": "stream",
     "text": [
      "Reach destination====================================================================================!!!!!!!!\n"
     ]
    },
    {
     "name": "stderr",
     "output_type": "stream",
     "text": [
      "\r",
      " 24%|###############7                                                  | 1190/5000 [23:30:58<30:52:05, 29.17s/episodes]"
     ]
    },
    {
     "name": "stdout",
     "output_type": "stream",
     "text": [
      "Episode: 1190, total steps: 200,  final return: -3316.0400000000013\n",
      "Reach destination====================================================================================!!!!!!!!\n"
     ]
    },
    {
     "name": "stderr",
     "output_type": "stream",
     "text": [
      " 24%|###############7                                                  | 1192/5000 [23:31:47<26:41:53, 25.24s/episodes]"
     ]
    },
    {
     "name": "stdout",
     "output_type": "stream",
     "text": [
      "Reach destination====================================================================================!!!!!!!!\n",
      "Reach destination====================================================================================!!!!!!!!\n"
     ]
    },
    {
     "name": "stderr",
     "output_type": "stream",
     "text": [
      " 24%|##############8                                               | 1194/5000 [25:16:31<1408:07:40, 1331.91s/episodes]"
     ]
    },
    {
     "name": "stdout",
     "output_type": "stream",
     "text": [
      "Reach destination====================================================================================!!!!!!!!\n"
     ]
    },
    {
     "name": "stderr",
     "output_type": "stream",
     "text": [
      "\r",
      " 24%|##############8                                               | 1195/5000 [26:16:28<2126:00:09, 2011.46s/episodes]"
     ]
    },
    {
     "name": "stdout",
     "output_type": "stream",
     "text": [
      "Reach destination====================================================================================!!!!!!!!\n"
     ]
    },
    {
     "name": "stderr",
     "output_type": "stream",
     "text": [
      "\r",
      " 24%|##############8                                               | 1196/5000 [26:16:47<1494:03:32, 1413.94s/episodes]"
     ]
    },
    {
     "name": "stdout",
     "output_type": "stream",
     "text": [
      "Reach destination====================================================================================!!!!!!!!\n"
     ]
    },
    {
     "name": "stderr",
     "output_type": "stream",
     "text": [
      " 24%|###############3                                                | 1198/5000 [26:17:45<746:05:07, 706.45s/episodes]"
     ]
    },
    {
     "name": "stdout",
     "output_type": "stream",
     "text": [
      "Reach destination====================================================================================!!!!!!!!\n"
     ]
    },
    {
     "name": "stderr",
     "output_type": "stream",
     "text": [
      " 24%|###############3                                                | 1200/5000 [26:19:05<386:23:26, 366.05s/episodes]"
     ]
    },
    {
     "name": "stdout",
     "output_type": "stream",
     "text": [
      "Reach destination====================================================================================!!!!!!!!\n",
      "Episode: 1200, total steps: 169,  final return: -2248.44\n"
     ]
    },
    {
     "name": "stderr",
     "output_type": "stream",
     "text": [
      "\r",
      " 24%|###############3                                                | 1201/5000 [26:19:48<284:11:06, 269.30s/episodes]"
     ]
    },
    {
     "name": "stdout",
     "output_type": "stream",
     "text": [
      "Reach destination====================================================================================!!!!!!!!\n"
     ]
    },
    {
     "name": "stderr",
     "output_type": "stream",
     "text": [
      "\r",
      " 24%|###############3                                                | 1202/5000 [26:20:06<204:28:35, 193.82s/episodes]"
     ]
    },
    {
     "name": "stdout",
     "output_type": "stream",
     "text": [
      "Reach destination====================================================================================!!!!!!!!\n"
     ]
    },
    {
     "name": "stderr",
     "output_type": "stream",
     "text": [
      " 24%|###############9                                                  | 1205/5000 [26:21:53<95:25:49, 90.53s/episodes]"
     ]
    },
    {
     "name": "stdout",
     "output_type": "stream",
     "text": [
      "Reach destination====================================================================================!!!!!!!!\n"
     ]
    },
    {
     "name": "stderr",
     "output_type": "stream",
     "text": [
      " 24%|###############9                                                  | 1208/5000 [26:24:04<63:06:44, 59.92s/episodes]"
     ]
    },
    {
     "name": "stdout",
     "output_type": "stream",
     "text": [
      "Reach destination====================================================================================!!!!!!!!\n"
     ]
    },
    {
     "name": "stderr",
     "output_type": "stream",
     "text": [
      " 24%|###############9                                                  | 1210/5000 [26:24:40<39:06:13, 37.14s/episodes]"
     ]
    },
    {
     "name": "stdout",
     "output_type": "stream",
     "text": [
      "Reach destination====================================================================================!!!!!!!!\n",
      "Episode: 1210, total steps: 18,  final return: -310.88\n"
     ]
    },
    {
     "name": "stderr",
     "output_type": "stream",
     "text": [
      " 24%|################                                                  | 1213/5000 [26:26:24<35:23:43, 33.65s/episodes]"
     ]
    },
    {
     "name": "stdout",
     "output_type": "stream",
     "text": [
      "Reach destination====================================================================================!!!!!!!!\n"
     ]
    },
    {
     "name": "stderr",
     "output_type": "stream",
     "text": [
      "\r",
      " 24%|################                                                  | 1214/5000 [26:26:41<30:01:33, 28.55s/episodes]"
     ]
    },
    {
     "name": "stdout",
     "output_type": "stream",
     "text": [
      "Reach destination====================================================================================!!!!!!!!\n"
     ]
    },
    {
     "name": "stderr",
     "output_type": "stream",
     "text": [
      "\r",
      " 24%|################                                                  | 1215/5000 [26:26:56<25:47:21, 24.53s/episodes]"
     ]
    },
    {
     "name": "stdout",
     "output_type": "stream",
     "text": [
      "Reach destination====================================================================================!!!!!!!!\n"
     ]
    },
    {
     "name": "stderr",
     "output_type": "stream",
     "text": [
      "\r",
      " 24%|################                                                  | 1216/5000 [26:27:28<28:09:08, 26.78s/episodes]"
     ]
    },
    {
     "name": "stdout",
     "output_type": "stream",
     "text": [
      "Reach destination====================================================================================!!!!!!!!\n"
     ]
    },
    {
     "name": "stderr",
     "output_type": "stream",
     "text": [
      " 24%|################1                                                 | 1220/5000 [26:30:21<41:17:53, 39.33s/episodes]"
     ]
    },
    {
     "name": "stdout",
     "output_type": "stream",
     "text": [
      "Episode: 1220, total steps: 200,  final return: -2711.7199999999993\n"
     ]
    },
    {
     "name": "stderr",
     "output_type": "stream",
     "text": [
      " 24%|################1                                                 | 1223/5000 [26:32:17<39:33:48, 37.71s/episodes]"
     ]
    },
    {
     "name": "stdout",
     "output_type": "stream",
     "text": [
      "Reach destination====================================================================================!!!!!!!!\n"
     ]
    },
    {
     "name": "stderr",
     "output_type": "stream",
     "text": [
      "\r",
      " 24%|################1                                                 | 1224/5000 [26:32:47<37:11:26, 35.46s/episodes]"
     ]
    },
    {
     "name": "stdout",
     "output_type": "stream",
     "text": [
      "Reach destination====================================================================================!!!!!!!!\n",
      "Reach destination====================================================================================!!!!!!!!\n"
     ]
    },
    {
     "name": "stderr",
     "output_type": "stream",
     "text": [
      " 25%|################1                                                 | 1226/5000 [26:33:46<32:58:16, 31.45s/episodes]"
     ]
    },
    {
     "name": "stdout",
     "output_type": "stream",
     "text": [
      "Reach destination====================================================================================!!!!!!!!\n"
     ]
    },
    {
     "name": "stderr",
     "output_type": "stream",
     "text": [
      " 25%|################2                                                 | 1228/5000 [26:34:49<31:58:19, 30.51s/episodes]"
     ]
    },
    {
     "name": "stdout",
     "output_type": "stream",
     "text": [
      "Reach destination====================================================================================!!!!!!!!\n"
     ]
    },
    {
     "name": "stderr",
     "output_type": "stream",
     "text": [
      "\r",
      " 25%|################2                                                 | 1229/5000 [26:35:31<35:29:22, 33.88s/episodes]"
     ]
    },
    {
     "name": "stdout",
     "output_type": "stream",
     "text": [
      "Reach destination====================================================================================!!!!!!!!\n"
     ]
    },
    {
     "name": "stderr",
     "output_type": "stream",
     "text": [
      "\r",
      " 25%|################2                                                 | 1230/5000 [26:35:46<29:44:16, 28.40s/episodes]"
     ]
    },
    {
     "name": "stdout",
     "output_type": "stream",
     "text": [
      "Reach destination====================================================================================!!!!!!!!\n",
      "Episode: 1230, total steps: 69,  final return: -745.1199999999999\n"
     ]
    },
    {
     "name": "stderr",
     "output_type": "stream",
     "text": [
      "\r",
      " 25%|################2                                                 | 1231/5000 [26:36:18<30:43:03, 29.34s/episodes]"
     ]
    },
    {
     "name": "stdout",
     "output_type": "stream",
     "text": [
      "Reach destination====================================================================================!!!!!!!!\n"
     ]
    },
    {
     "name": "stderr",
     "output_type": "stream",
     "text": [
      " 25%|###############7                                                | 1234/5000 [28:18:58<967:05:31, 924.46s/episodes]"
     ]
    },
    {
     "name": "stdout",
     "output_type": "stream",
     "text": [
      "Reach destination====================================================================================!!!!!!!!\n"
     ]
    },
    {
     "name": "stderr",
     "output_type": "stream",
     "text": [
      "\r",
      " 25%|###############8                                                | 1235/5000 [28:19:42<690:34:44, 660.31s/episodes]"
     ]
    },
    {
     "name": "stdout",
     "output_type": "stream",
     "text": [
      "Reach destination====================================================================================!!!!!!!!\n"
     ]
    },
    {
     "name": "stderr",
     "output_type": "stream",
     "text": [
      " 25%|###############8                                                | 1237/5000 [28:20:15<346:22:04, 331.36s/episodes]"
     ]
    },
    {
     "name": "stdout",
     "output_type": "stream",
     "text": [
      "Reach destination====================================================================================!!!!!!!!\n",
      "Reach destination====================================================================================!!!!!!!!\n"
     ]
    },
    {
     "name": "stderr",
     "output_type": "stream",
     "text": [
      " 25%|###############8                                                | 1239/5000 [28:21:15<184:27:43, 176.57s/episodes]"
     ]
    },
    {
     "name": "stdout",
     "output_type": "stream",
     "text": [
      "Reach destination====================================================================================!!!!!!!!\n"
     ]
    },
    {
     "name": "stderr",
     "output_type": "stream",
     "text": [
      "\r",
      " 25%|###############8                                                | 1240/5000 [28:21:18<130:16:11, 124.73s/episodes]"
     ]
    },
    {
     "name": "stdout",
     "output_type": "stream",
     "text": [
      "Reach destination====================================================================================!!!!!!!!\n",
      "Episode: 1240, total steps: 18,  final return: -338.1599999999999\n"
     ]
    },
    {
     "name": "stderr",
     "output_type": "stream",
     "text": [
      "\r",
      " 25%|################3                                                 | 1241/5000 [28:21:36<96:41:02, 92.59s/episodes]"
     ]
    },
    {
     "name": "stdout",
     "output_type": "stream",
     "text": [
      "Reach destination====================================================================================!!!!!!!!\n"
     ]
    },
    {
     "name": "stderr",
     "output_type": "stream",
     "text": [
      " 25%|################4                                                 | 1243/5000 [28:22:33<61:40:19, 59.10s/episodes]"
     ]
    },
    {
     "name": "stdout",
     "output_type": "stream",
     "text": [
      "Reach destination====================================================================================!!!!!!!!\n"
     ]
    },
    {
     "name": "stderr",
     "output_type": "stream",
     "text": [
      " 25%|################4                                                 | 1245/5000 [28:24:01<53:26:21, 51.23s/episodes]"
     ]
    },
    {
     "name": "stdout",
     "output_type": "stream",
     "text": [
      "Reach destination====================================================================================!!!!!!!!\n"
     ]
    },
    {
     "name": "stderr",
     "output_type": "stream",
     "text": [
      " 25%|################4                                                 | 1249/5000 [28:25:43<32:26:17, 31.13s/episodes]"
     ]
    },
    {
     "name": "stdout",
     "output_type": "stream",
     "text": [
      "Reach destination====================================================================================!!!!!!!!\n",
      "Reach destination====================================================================================!!!!!!!!\n"
     ]
    },
    {
     "name": "stderr",
     "output_type": "stream",
     "text": [
      "\r",
      " 25%|################5                                                 | 1250/5000 [28:26:09<31:02:16, 29.80s/episodes]"
     ]
    },
    {
     "name": "stdout",
     "output_type": "stream",
     "text": [
      "Episode: 1250, total steps: 126,  final return: -2269.16\n"
     ]
    },
    {
     "name": "stderr",
     "output_type": "stream",
     "text": [
      "\r",
      " 25%|################5                                                 | 1251/5000 [28:26:43<32:22:27, 31.09s/episodes]"
     ]
    },
    {
     "name": "stdout",
     "output_type": "stream",
     "text": [
      "Reach destination====================================================================================!!!!!!!!\n"
     ]
    },
    {
     "name": "stderr",
     "output_type": "stream",
     "text": [
      "\r",
      " 25%|################5                                                 | 1252/5000 [28:26:56<26:39:42, 25.61s/episodes]"
     ]
    },
    {
     "name": "stdout",
     "output_type": "stream",
     "text": [
      "Reach destination====================================================================================!!!!!!!!\n"
     ]
    },
    {
     "name": "stderr",
     "output_type": "stream",
     "text": [
      "\r",
      " 25%|################5                                                 | 1253/5000 [28:27:33<30:12:08, 29.02s/episodes]"
     ]
    },
    {
     "name": "stdout",
     "output_type": "stream",
     "text": [
      "Reach destination====================================================================================!!!!!!!!\n",
      "Reach destination====================================================================================!!!!!!!!\n"
     ]
    },
    {
     "name": "stderr",
     "output_type": "stream",
     "text": [
      " 25%|################5                                                 | 1255/5000 [28:28:48<34:53:36, 33.54s/episodes]"
     ]
    },
    {
     "name": "stdout",
     "output_type": "stream",
     "text": [
      "Reach destination====================================================================================!!!!!!!!\n",
      "Reach destination====================================================================================!!!!!!!!\n"
     ]
    },
    {
     "name": "stderr",
     "output_type": "stream",
     "text": [
      " 25%|################5                                                 | 1257/5000 [28:29:55<35:59:53, 34.62s/episodes]"
     ]
    },
    {
     "name": "stdout",
     "output_type": "stream",
     "text": [
      "Reach destination====================================================================================!!!!!!!!\n"
     ]
    },
    {
     "name": "stderr",
     "output_type": "stream",
     "text": [
      " 25%|################6                                                 | 1259/5000 [28:30:53<32:44:34, 31.51s/episodes]"
     ]
    },
    {
     "name": "stdout",
     "output_type": "stream",
     "text": [
      "Reach destination====================================================================================!!!!!!!!\n"
     ]
    },
    {
     "name": "stderr",
     "output_type": "stream",
     "text": [
      "\r",
      " 25%|################6                                                 | 1260/5000 [28:31:27<33:29:17, 32.23s/episodes]"
     ]
    },
    {
     "name": "stdout",
     "output_type": "stream",
     "text": [
      "Reach destination====================================================================================!!!!!!!!\n",
      "Episode: 1260, total steps: 157,  final return: -1309.3200000000004\n"
     ]
    },
    {
     "name": "stderr",
     "output_type": "stream",
     "text": [
      "\r",
      " 25%|################6                                                 | 1261/5000 [28:31:43<28:37:20, 27.56s/episodes]"
     ]
    },
    {
     "name": "stdout",
     "output_type": "stream",
     "text": [
      "Reach destination====================================================================================!!!!!!!!\n"
     ]
    },
    {
     "name": "stderr",
     "output_type": "stream",
     "text": [
      "\r",
      " 25%|################6                                                 | 1262/5000 [28:32:03<26:09:10, 25.19s/episodes]"
     ]
    },
    {
     "name": "stdout",
     "output_type": "stream",
     "text": [
      "Reach destination====================================================================================!!!!!!!!\n"
     ]
    },
    {
     "name": "stderr",
     "output_type": "stream",
     "text": [
      "\r",
      " 25%|################6                                                 | 1263/5000 [28:32:44<31:00:58, 29.88s/episodes]"
     ]
    },
    {
     "name": "stdout",
     "output_type": "stream",
     "text": [
      "Reach destination====================================================================================!!!!!!!!\n"
     ]
    },
    {
     "name": "stderr",
     "output_type": "stream",
     "text": [
      "\r",
      " 25%|################6                                                 | 1264/5000 [28:33:04<27:56:39, 26.93s/episodes]"
     ]
    },
    {
     "name": "stdout",
     "output_type": "stream",
     "text": [
      "Reach destination====================================================================================!!!!!!!!\n"
     ]
    },
    {
     "name": "stderr",
     "output_type": "stream",
     "text": [
      " 25%|################7                                                 | 1266/5000 [28:34:05<28:40:02, 27.64s/episodes]"
     ]
    },
    {
     "name": "stdout",
     "output_type": "stream",
     "text": [
      "Reach destination====================================================================================!!!!!!!!\n"
     ]
    },
    {
     "name": "stderr",
     "output_type": "stream",
     "text": [
      "\r",
      " 25%|################7                                                 | 1267/5000 [28:34:11<22:01:50, 21.25s/episodes]"
     ]
    },
    {
     "name": "stdout",
     "output_type": "stream",
     "text": [
      "Reach destination====================================================================================!!!!!!!!\n"
     ]
    },
    {
     "name": "stderr",
     "output_type": "stream",
     "text": [
      "\r",
      " 25%|################7                                                 | 1268/5000 [28:34:16<16:51:38, 16.26s/episodes]"
     ]
    },
    {
     "name": "stdout",
     "output_type": "stream",
     "text": [
      "Reach destination====================================================================================!!!!!!!!\n"
     ]
    },
    {
     "name": "stderr",
     "output_type": "stream",
     "text": [
      "\r",
      " 25%|################7                                                 | 1269/5000 [28:34:51<22:51:13, 22.05s/episodes]"
     ]
    },
    {
     "name": "stdout",
     "output_type": "stream",
     "text": [
      "Reach destination====================================================================================!!!!!!!!\n"
     ]
    },
    {
     "name": "stderr",
     "output_type": "stream",
     "text": [
      "\r",
      " 25%|################7                                                 | 1270/5000 [28:35:20<24:44:31, 23.88s/episodes]"
     ]
    },
    {
     "name": "stdout",
     "output_type": "stream",
     "text": [
      "Reach destination====================================================================================!!!!!!!!\n",
      "Episode: 1270, total steps: 131,  final return: -2448.040000000001\n",
      "Reach destination====================================================================================!!!!!!!!\n"
     ]
    },
    {
     "name": "stderr",
     "output_type": "stream",
     "text": [
      " 25%|################7                                                 | 1272/5000 [28:35:57<23:00:23, 22.22s/episodes]"
     ]
    },
    {
     "name": "stdout",
     "output_type": "stream",
     "text": [
      "Reach destination====================================================================================!!!!!!!!\n",
      "Reach destination====================================================================================!!!!!!!!\n"
     ]
    },
    {
     "name": "stderr",
     "output_type": "stream",
     "text": [
      " 26%|################8                                                 | 1275/5000 [28:37:12<25:13:41, 24.38s/episodes]"
     ]
    },
    {
     "name": "stdout",
     "output_type": "stream",
     "text": [
      "Reach destination====================================================================================!!!!!!!!\n"
     ]
    },
    {
     "name": "stderr",
     "output_type": "stream",
     "text": [
      "\r",
      " 26%|################8                                                 | 1276/5000 [28:37:50<29:19:03, 28.34s/episodes]"
     ]
    },
    {
     "name": "stdout",
     "output_type": "stream",
     "text": [
      "Reach destination====================================================================================!!!!!!!!\n"
     ]
    },
    {
     "name": "stderr",
     "output_type": "stream",
     "text": [
      "\r",
      " 26%|################8                                                 | 1277/5000 [28:38:05<25:13:29, 24.39s/episodes]"
     ]
    },
    {
     "name": "stdout",
     "output_type": "stream",
     "text": [
      "Reach destination====================================================================================!!!!!!!!\n",
      "Reach destination====================================================================================!!!!!!!!\n"
     ]
    },
    {
     "name": "stderr",
     "output_type": "stream",
     "text": [
      " 26%|################8                                                 | 1279/5000 [28:38:19<16:01:14, 15.50s/episodes]"
     ]
    },
    {
     "name": "stdout",
     "output_type": "stream",
     "text": [
      "Reach destination====================================================================================!!!!!!!!\n"
     ]
    },
    {
     "name": "stderr",
     "output_type": "stream",
     "text": [
      "\r",
      " 26%|################8                                                 | 1280/5000 [28:38:25<13:10:57, 12.76s/episodes]"
     ]
    },
    {
     "name": "stdout",
     "output_type": "stream",
     "text": [
      "Reach destination====================================================================================!!!!!!!!\n",
      "Episode: 1280, total steps: 29,  final return: -295.47999999999996\n",
      "Reach destination====================================================================================!!!!!!!!\n"
     ]
    },
    {
     "name": "stderr",
     "output_type": "stream",
     "text": [
      " 26%|################9                                                 | 1283/5000 [28:39:28<17:53:26, 17.33s/episodes]"
     ]
    },
    {
     "name": "stdout",
     "output_type": "stream",
     "text": [
      "Reach destination====================================================================================!!!!!!!!\n"
     ]
    },
    {
     "name": "stderr",
     "output_type": "stream",
     "text": [
      "\r",
      " 26%|################9                                                 | 1284/5000 [28:39:38<15:37:05, 15.13s/episodes]"
     ]
    },
    {
     "name": "stdout",
     "output_type": "stream",
     "text": [
      "Reach destination====================================================================================!!!!!!!!\n"
     ]
    },
    {
     "name": "stderr",
     "output_type": "stream",
     "text": [
      " 26%|################9                                                 | 1287/5000 [28:40:52<21:42:59, 21.06s/episodes]"
     ]
    },
    {
     "name": "stdout",
     "output_type": "stream",
     "text": [
      "Reach destination====================================================================================!!!!!!!!\n"
     ]
    },
    {
     "name": "stderr",
     "output_type": "stream",
     "text": [
      " 26%|#################                                                 | 1289/5000 [28:41:48<24:01:43, 23.31s/episodes]"
     ]
    },
    {
     "name": "stdout",
     "output_type": "stream",
     "text": [
      "Reach destination====================================================================================!!!!!!!!\n"
     ]
    },
    {
     "name": "stderr",
     "output_type": "stream",
     "text": [
      "\r",
      " 26%|#################                                                 | 1290/5000 [28:44:39<69:38:13, 67.57s/episodes]"
     ]
    },
    {
     "name": "stdout",
     "output_type": "stream",
     "text": [
      "Reach destination====================================================================================!!!!!!!!\n",
      "Episode: 1290, total steps: 164,  final return: -2427.16\n"
     ]
    },
    {
     "name": "stderr",
     "output_type": "stream",
     "text": [
      " 26%|################5                                               | 1292/5000 [29:30:15<657:07:00, 637.98s/episodes]"
     ]
    },
    {
     "name": "stdout",
     "output_type": "stream",
     "text": [
      "Reach destination====================================================================================!!!!!!!!\n"
     ]
    },
    {
     "name": "stderr",
     "output_type": "stream",
     "text": [
      " 26%|################5                                               | 1294/5000 [29:31:04<335:43:57, 326.13s/episodes]"
     ]
    },
    {
     "name": "stdout",
     "output_type": "stream",
     "text": [
      "Reach destination====================================================================================!!!!!!!!\n"
     ]
    },
    {
     "name": "stderr",
     "output_type": "stream",
     "text": [
      "\r",
      " 26%|################5                                               | 1295/5000 [29:31:41<246:21:27, 239.38s/episodes]"
     ]
    },
    {
     "name": "stdout",
     "output_type": "stream",
     "text": [
      "Reach destination====================================================================================!!!!!!!!\n"
     ]
    },
    {
     "name": "stderr",
     "output_type": "stream",
     "text": [
      "\r",
      " 26%|################5                                               | 1296/5000 [29:32:02<179:06:11, 174.07s/episodes]"
     ]
    },
    {
     "name": "stdout",
     "output_type": "stream",
     "text": [
      "Reach destination====================================================================================!!!!!!!!\n"
     ]
    },
    {
     "name": "stderr",
     "output_type": "stream",
     "text": [
      " 26%|#################1                                                | 1299/5000 [29:33:39<80:12:52, 78.03s/episodes]"
     ]
    },
    {
     "name": "stdout",
     "output_type": "stream",
     "text": [
      "Reach destination====================================================================================!!!!!!!!\n"
     ]
    },
    {
     "name": "stderr",
     "output_type": "stream",
     "text": [
      "\r",
      " 26%|#################1                                                | 1300/5000 [29:34:16<67:44:14, 65.91s/episodes]"
     ]
    },
    {
     "name": "stdout",
     "output_type": "stream",
     "text": [
      "Reach destination====================================================================================!!!!!!!!\n",
      "Episode: 1300, total steps: 177,  final return: -1279.9600000000007\n"
     ]
    },
    {
     "name": "stderr",
     "output_type": "stream",
     "text": [
      "\r",
      " 26%|#################1                                                | 1301/5000 [29:34:38<53:58:22, 52.53s/episodes]"
     ]
    },
    {
     "name": "stdout",
     "output_type": "stream",
     "text": [
      "Reach destination====================================================================================!!!!!!!!\n"
     ]
    },
    {
     "name": "stderr",
     "output_type": "stream",
     "text": [
      " 26%|#################1                                                | 1303/5000 [29:36:03<48:49:38, 47.55s/episodes]"
     ]
    },
    {
     "name": "stdout",
     "output_type": "stream",
     "text": [
      "Reach destination====================================================================================!!!!!!!!\n"
     ]
    },
    {
     "name": "stderr",
     "output_type": "stream",
     "text": [
      " 26%|#################2                                                | 1305/5000 [29:36:54<37:54:32, 36.93s/episodes]"
     ]
    },
    {
     "name": "stdout",
     "output_type": "stream",
     "text": [
      "Reach destination====================================================================================!!!!!!!!\n",
      "Reach destination====================================================================================!!!!!!!!\n"
     ]
    },
    {
     "name": "stderr",
     "output_type": "stream",
     "text": [
      " 26%|#################2                                                | 1307/5000 [29:38:07<37:14:15, 36.30s/episodes]"
     ]
    },
    {
     "name": "stdout",
     "output_type": "stream",
     "text": [
      "Reach destination====================================================================================!!!!!!!!\n",
      "Reach destination====================================================================================!!!!!!!!\n"
     ]
    },
    {
     "name": "stderr",
     "output_type": "stream",
     "text": [
      " 26%|#################2                                                | 1309/5000 [29:39:01<32:51:31, 32.05s/episodes]"
     ]
    },
    {
     "name": "stdout",
     "output_type": "stream",
     "text": [
      "Reach destination====================================================================================!!!!!!!!\n"
     ]
    },
    {
     "name": "stderr",
     "output_type": "stream",
     "text": [
      "\r",
      " 26%|#################2                                                | 1310/5000 [29:39:22<29:32:09, 28.82s/episodes]"
     ]
    },
    {
     "name": "stdout",
     "output_type": "stream",
     "text": [
      "Reach destination====================================================================================!!!!!!!!\n",
      "Episode: 1310, total steps: 99,  final return: -1510.6799999999996\n"
     ]
    },
    {
     "name": "stderr",
     "output_type": "stream",
     "text": [
      "\r",
      " 26%|#################3                                                | 1311/5000 [29:39:36<24:47:37, 24.20s/episodes]"
     ]
    },
    {
     "name": "stdout",
     "output_type": "stream",
     "text": [
      "Reach destination====================================================================================!!!!!!!!\n"
     ]
    },
    {
     "name": "stderr",
     "output_type": "stream",
     "text": [
      "\r",
      " 26%|#################3                                                | 1312/5000 [29:40:04<25:56:00, 25.31s/episodes]"
     ]
    },
    {
     "name": "stdout",
     "output_type": "stream",
     "text": [
      "Reach destination====================================================================================!!!!!!!!\n"
     ]
    },
    {
     "name": "stderr",
     "output_type": "stream",
     "text": [
      " 26%|#################3                                                | 1314/5000 [29:41:04<27:10:23, 26.54s/episodes]"
     ]
    },
    {
     "name": "stdout",
     "output_type": "stream",
     "text": [
      "Reach destination====================================================================================!!!!!!!!\n"
     ]
    },
    {
     "name": "stderr",
     "output_type": "stream",
     "text": [
      " 26%|#################3                                                | 1317/5000 [29:43:02<34:50:22, 34.05s/episodes]"
     ]
    },
    {
     "name": "stdout",
     "output_type": "stream",
     "text": [
      "Reach destination====================================================================================!!!!!!!!\n"
     ]
    },
    {
     "name": "stderr",
     "output_type": "stream",
     "text": [
      "\r",
      " 26%|#################3                                                | 1318/5000 [29:43:45<37:26:37, 36.61s/episodes]"
     ]
    },
    {
     "name": "stdout",
     "output_type": "stream",
     "text": [
      "Reach destination====================================================================================!!!!!!!!\n"
     ]
    },
    {
     "name": "stderr",
     "output_type": "stream",
     "text": [
      "\r",
      " 26%|#################4                                                | 1319/5000 [29:44:08<33:15:40, 32.53s/episodes]"
     ]
    },
    {
     "name": "stdout",
     "output_type": "stream",
     "text": [
      "Reach destination====================================================================================!!!!!!!!\n"
     ]
    },
    {
     "name": "stderr",
     "output_type": "stream",
     "text": [
      "\r",
      " 26%|#################4                                                | 1320/5000 [29:44:48<35:42:00, 34.92s/episodes]"
     ]
    },
    {
     "name": "stdout",
     "output_type": "stream",
     "text": [
      "Reach destination====================================================================================!!!!!!!!\n",
      "Episode: 1320, total steps: 183,  final return: -2018.2800000000016\n"
     ]
    },
    {
     "name": "stderr",
     "output_type": "stream",
     "text": [
      " 26%|#################4                                                | 1322/5000 [29:46:00<35:29:25, 34.74s/episodes]"
     ]
    },
    {
     "name": "stdout",
     "output_type": "stream",
     "text": [
      "Reach destination====================================================================================!!!!!!!!\n",
      "Reach destination====================================================================================!!!!!!!!\n"
     ]
    },
    {
     "name": "stderr",
     "output_type": "stream",
     "text": [
      " 26%|#################4                                                | 1324/5000 [29:46:45<28:31:55, 27.94s/episodes]"
     ]
    },
    {
     "name": "stdout",
     "output_type": "stream",
     "text": [
      "Reach destination====================================================================================!!!!!!!!\n"
     ]
    },
    {
     "name": "stderr",
     "output_type": "stream",
     "text": [
      "\r",
      " 26%|#################4                                                | 1325/5000 [29:47:19<30:12:59, 29.60s/episodes]"
     ]
    },
    {
     "name": "stdout",
     "output_type": "stream",
     "text": [
      "Reach destination====================================================================================!!!!!!!!\n"
     ]
    },
    {
     "name": "stderr",
     "output_type": "stream",
     "text": [
      "\r",
      " 27%|#################5                                                | 1326/5000 [29:47:59<33:34:12, 32.89s/episodes]"
     ]
    },
    {
     "name": "stdout",
     "output_type": "stream",
     "text": [
      "Reach destination====================================================================================!!!!!!!!\n"
     ]
    },
    {
     "name": "stderr",
     "output_type": "stream",
     "text": [
      " 27%|#################5                                                | 1328/5000 [29:48:36<26:47:58, 26.27s/episodes]"
     ]
    },
    {
     "name": "stdout",
     "output_type": "stream",
     "text": [
      "Reach destination====================================================================================!!!!!!!!\n",
      "Reach destination====================================================================================!!!!!!!!\n"
     ]
    },
    {
     "name": "stderr",
     "output_type": "stream",
     "text": [
      " 27%|#################5                                                | 1330/5000 [29:49:34<29:34:29, 29.01s/episodes]"
     ]
    },
    {
     "name": "stdout",
     "output_type": "stream",
     "text": [
      "Episode: 1330, total steps: 200,  final return: -2215.92\n"
     ]
    },
    {
     "name": "stderr",
     "output_type": "stream",
     "text": [
      " 27%|#################5                                                | 1332/5000 [29:55:30<93:20:12, 91.61s/episodes]"
     ]
    },
    {
     "name": "stdout",
     "output_type": "stream",
     "text": [
      "Reach destination====================================================================================!!!!!!!!\n"
     ]
    },
    {
     "name": "stderr",
     "output_type": "stream",
     "text": [
      "\r",
      " 27%|#################5                                                | 1333/5000 [29:55:57<73:29:53, 72.16s/episodes]"
     ]
    },
    {
     "name": "stdout",
     "output_type": "stream",
     "text": [
      "Reach destination====================================================================================!!!!!!!!\n",
      "Reach destination====================================================================================!!!!!!!!\n"
     ]
    },
    {
     "name": "stderr",
     "output_type": "stream",
     "text": [
      " 27%|#################6                                                | 1335/5000 [29:56:33<45:18:48, 44.51s/episodes]"
     ]
    },
    {
     "name": "stdout",
     "output_type": "stream",
     "text": [
      "Reach destination====================================================================================!!!!!!!!\n"
     ]
    },
    {
     "name": "stderr",
     "output_type": "stream",
     "text": [
      " 27%|#################6                                                | 1338/5000 [29:58:19<37:11:46, 36.57s/episodes]"
     ]
    },
    {
     "name": "stdout",
     "output_type": "stream",
     "text": [
      "Reach destination====================================================================================!!!!!!!!\n"
     ]
    },
    {
     "name": "stderr",
     "output_type": "stream",
     "text": [
      "\r",
      " 27%|#################6                                                | 1339/5000 [29:58:38<31:40:07, 31.14s/episodes]"
     ]
    },
    {
     "name": "stdout",
     "output_type": "stream",
     "text": [
      "Reach destination====================================================================================!!!!!!!!\n",
      "Episode: 1340, total steps: 125,  final return: -1805.76"
     ]
    },
    {
     "name": "stderr",
     "output_type": "stream",
     "text": [
      "\r",
      " 27%|#################6                                                | 1340/5000 [29:59:05<30:35:48, 30.10s/episodes]"
     ]
    },
    {
     "name": "stdout",
     "output_type": "stream",
     "text": [
      "\n"
     ]
    },
    {
     "name": "stderr",
     "output_type": "stream",
     "text": [
      "\r",
      " 27%|#################7                                                | 1341/5000 [29:59:26<27:45:02, 27.30s/episodes]"
     ]
    },
    {
     "name": "stdout",
     "output_type": "stream",
     "text": [
      "Reach destination====================================================================================!!!!!!!!\n"
     ]
    },
    {
     "name": "stderr",
     "output_type": "stream",
     "text": [
      "\r",
      " 27%|#################7                                                | 1342/5000 [29:59:49<26:21:32, 25.94s/episodes]"
     ]
    },
    {
     "name": "stdout",
     "output_type": "stream",
     "text": [
      "Reach destination====================================================================================!!!!!!!!\n"
     ]
    },
    {
     "name": "stderr",
     "output_type": "stream",
     "text": [
      "\r",
      " 27%|#################7                                                | 1343/5000 [30:00:07<23:55:43, 23.56s/episodes]"
     ]
    },
    {
     "name": "stdout",
     "output_type": "stream",
     "text": [
      "Reach destination====================================================================================!!!!!!!!\n"
     ]
    },
    {
     "name": "stderr",
     "output_type": "stream",
     "text": [
      " 27%|#################7                                                | 1345/5000 [30:01:19<29:40:12, 29.22s/episodes]"
     ]
    },
    {
     "name": "stdout",
     "output_type": "stream",
     "text": [
      "Reach destination====================================================================================!!!!!!!!\n"
     ]
    },
    {
     "name": "stderr",
     "output_type": "stream",
     "text": [
      "\r",
      " 27%|#################7                                                | 1346/5000 [30:01:49<30:01:02, 29.57s/episodes]"
     ]
    },
    {
     "name": "stdout",
     "output_type": "stream",
     "text": [
      "Reach destination====================================================================================!!!!!!!!\n"
     ]
    },
    {
     "name": "stderr",
     "output_type": "stream",
     "text": [
      "\r",
      " 27%|#################7                                                | 1347/5000 [30:02:13<28:19:37, 27.92s/episodes]"
     ]
    },
    {
     "name": "stdout",
     "output_type": "stream",
     "text": [
      "Reach destination====================================================================================!!!!!!!!\n"
     ]
    },
    {
     "name": "stderr",
     "output_type": "stream",
     "text": [
      " 27%|#################8                                                | 1349/5000 [30:03:09<26:56:23, 26.56s/episodes]"
     ]
    },
    {
     "name": "stdout",
     "output_type": "stream",
     "text": [
      "Reach destination====================================================================================!!!!!!!!\n"
     ]
    },
    {
     "name": "stderr",
     "output_type": "stream",
     "text": [
      "\r",
      " 27%|#################8                                                | 1350/5000 [30:03:27<24:15:48, 23.93s/episodes]"
     ]
    },
    {
     "name": "stdout",
     "output_type": "stream",
     "text": [
      "Reach destination====================================================================================!!!!!!!!\n",
      "Episode: 1350, total steps: 82,  final return: -1214.8799999999999\n"
     ]
    },
    {
     "name": "stderr",
     "output_type": "stream",
     "text": [
      "\r",
      " 27%|#################8                                                | 1351/5000 [30:04:11<30:13:01, 29.81s/episodes]"
     ]
    },
    {
     "name": "stdout",
     "output_type": "stream",
     "text": [
      "Reach destination====================================================================================!!!!!!!!\n"
     ]
    },
    {
     "name": "stderr",
     "output_type": "stream",
     "text": [
      " 27%|#################8                                                | 1354/5000 [30:05:45<32:47:15, 32.37s/episodes]"
     ]
    },
    {
     "name": "stdout",
     "output_type": "stream",
     "text": [
      "Reach destination====================================================================================!!!!!!!!\n",
      "Reach destination====================================================================================!!!!!!!!\n"
     ]
    },
    {
     "name": "stderr",
     "output_type": "stream",
     "text": [
      " 27%|#################9                                                | 1357/5000 [30:07:19<34:48:41, 34.40s/episodes]"
     ]
    },
    {
     "name": "stdout",
     "output_type": "stream",
     "text": [
      "Reach destination====================================================================================!!!!!!!!\n"
     ]
    },
    {
     "name": "stderr",
     "output_type": "stream",
     "text": [
      " 27%|#################9                                                | 1360/5000 [30:08:38<30:23:13, 30.05s/episodes]"
     ]
    },
    {
     "name": "stdout",
     "output_type": "stream",
     "text": [
      "Reach destination====================================================================================!!!!!!!!\n",
      "Episode: 1360, total steps: 116,  final return: -1541.9999999999989\n"
     ]
    },
    {
     "name": "stderr",
     "output_type": "stream",
     "text": [
      " 27%|#################9                                                | 1362/5000 [30:09:56<34:32:09, 34.18s/episodes]"
     ]
    },
    {
     "name": "stdout",
     "output_type": "stream",
     "text": [
      "Reach destination====================================================================================!!!!!!!!\n",
      "Reach destination====================================================================================!!!!!!!!\n"
     ]
    },
    {
     "name": "stderr",
     "output_type": "stream",
     "text": [
      " 27%|##################                                                | 1364/5000 [30:11:10<36:36:04, 36.24s/episodes]"
     ]
    },
    {
     "name": "stdout",
     "output_type": "stream",
     "text": [
      "Reach destination====================================================================================!!!!!!!!\n"
     ]
    },
    {
     "name": "stderr",
     "output_type": "stream",
     "text": [
      " 27%|##################                                                | 1366/5000 [30:11:58<29:32:35, 29.27s/episodes]"
     ]
    },
    {
     "name": "stdout",
     "output_type": "stream",
     "text": [
      "Reach destination====================================================================================!!!!!!!!\n"
     ]
    },
    {
     "name": "stderr",
     "output_type": "stream",
     "text": [
      " 27%|##################                                                | 1368/5000 [30:13:25<36:57:13, 36.63s/episodes]"
     ]
    },
    {
     "name": "stdout",
     "output_type": "stream",
     "text": [
      "Reach destination====================================================================================!!!!!!!!\n",
      "Reach destination====================================================================================!!!!!!!!\n"
     ]
    },
    {
     "name": "stderr",
     "output_type": "stream",
     "text": [
      " 27%|##################                                                | 1370/5000 [30:14:22<33:59:12, 33.71s/episodes]"
     ]
    },
    {
     "name": "stdout",
     "output_type": "stream",
     "text": [
      "Episode: 1370, total steps: 200,  final return: -2271.399999999999\n"
     ]
    },
    {
     "name": "stderr",
     "output_type": "stream",
     "text": [
      "\r",
      " 27%|##################                                                | 1371/5000 [30:14:32<26:47:53, 26.58s/episodes]"
     ]
    },
    {
     "name": "stdout",
     "output_type": "stream",
     "text": [
      "Reach destination====================================================================================!!!!!!!!\n"
     ]
    },
    {
     "name": "stderr",
     "output_type": "stream",
     "text": [
      " 28%|#################                                             | 1375/5000 [32:56:33<1395:10:57, 1385.56s/episodes]"
     ]
    },
    {
     "name": "stdout",
     "output_type": "stream",
     "text": [
      "Reach destination====================================================================================!!!!!!!!\n"
     ]
    },
    {
     "name": "stderr",
     "output_type": "stream",
     "text": [
      " 28%|#################6                                              | 1377/5000 [32:57:29<696:24:25, 691.99s/episodes]"
     ]
    },
    {
     "name": "stdout",
     "output_type": "stream",
     "text": [
      "Reach destination====================================================================================!!!!!!!!\n"
     ]
    },
    {
     "name": "stderr",
     "output_type": "stream",
     "text": [
      " 28%|#################6                                              | 1379/5000 [32:58:38<358:03:44, 355.99s/episodes]"
     ]
    },
    {
     "name": "stdout",
     "output_type": "stream",
     "text": [
      "Reach destination====================================================================================!!!!!!!!\n"
     ]
    },
    {
     "name": "stderr",
     "output_type": "stream",
     "text": [
      "\r",
      " 28%|#################6                                              | 1380/5000 [32:59:04<258:26:24, 257.01s/episodes]"
     ]
    },
    {
     "name": "stdout",
     "output_type": "stream",
     "text": [
      "Reach destination====================================================================================!!!!!!!!\n",
      "Episode: 1380, total steps: 121,  final return: -2088.3199999999993\n"
     ]
    },
    {
     "name": "stderr",
     "output_type": "stream",
     "text": [
      "\r",
      " 28%|#################6                                              | 1381/5000 [32:59:10<182:40:19, 181.71s/episodes]"
     ]
    },
    {
     "name": "stdout",
     "output_type": "stream",
     "text": [
      "Reach destination====================================================================================!!!!!!!!\n"
     ]
    },
    {
     "name": "stderr",
     "output_type": "stream",
     "text": [
      " 28%|#################7                                              | 1383/5000 [33:00:23<107:36:41, 107.11s/episodes]"
     ]
    },
    {
     "name": "stdout",
     "output_type": "stream",
     "text": [
      "Reach destination====================================================================================!!!!!!!!\n",
      "Reach destination====================================================================================!!!!!!!!\n"
     ]
    },
    {
     "name": "stderr",
     "output_type": "stream",
     "text": [
      "\r",
      " 28%|##################2                                               | 1384/5000 [33:00:34<78:35:42, 78.25s/episodes]"
     ]
    },
    {
     "name": "stdout",
     "output_type": "stream",
     "text": [
      "Reach destination====================================================================================!!!!!!!!\n"
     ]
    },
    {
     "name": "stderr",
     "output_type": "stream",
     "text": [
      "\r",
      " 28%|##################2                                               | 1385/5000 [33:01:16<67:32:30, 67.26s/episodes]"
     ]
    },
    {
     "name": "stdout",
     "output_type": "stream",
     "text": [
      "Reach destination====================================================================================!!!!!!!!\n"
     ]
    },
    {
     "name": "stderr",
     "output_type": "stream",
     "text": [
      " 28%|##################3                                               | 1387/5000 [33:01:59<43:43:09, 43.56s/episodes]"
     ]
    },
    {
     "name": "stdout",
     "output_type": "stream",
     "text": [
      "Reach destination====================================================================================!!!!!!!!\n"
     ]
    },
    {
     "name": "stderr",
     "output_type": "stream",
     "text": [
      " 28%|##################3                                               | 1389/5000 [33:03:26<43:27:04, 43.32s/episodes]"
     ]
    },
    {
     "name": "stdout",
     "output_type": "stream",
     "text": [
      "Reach destination====================================================================================!!!!!!!!\n"
     ]
    },
    {
     "name": "stderr",
     "output_type": "stream",
     "text": [
      "\r",
      " 28%|##################3                                               | 1390/5000 [33:03:52<38:24:51, 38.31s/episodes]"
     ]
    },
    {
     "name": "stdout",
     "output_type": "stream",
     "text": [
      "Episode: 1390, total steps: 126,  final return: -2058.519999999999\n"
     ]
    },
    {
     "name": "stderr",
     "output_type": "stream",
     "text": [
      " 28%|##################3                                               | 1393/5000 [33:05:54<39:06:22, 39.03s/episodes]"
     ]
    },
    {
     "name": "stdout",
     "output_type": "stream",
     "text": [
      "Reach destination====================================================================================!!!!!!!!\n"
     ]
    },
    {
     "name": "stderr",
     "output_type": "stream",
     "text": [
      "\r",
      " 28%|##################4                                               | 1394/5000 [33:06:07<31:15:41, 31.21s/episodes]"
     ]
    },
    {
     "name": "stdout",
     "output_type": "stream",
     "text": [
      "Reach destination====================================================================================!!!!!!!!\n",
      "Reach destination====================================================================================!!!!!!!!\n"
     ]
    },
    {
     "name": "stderr",
     "output_type": "stream",
     "text": [
      " 28%|##################4                                               | 1396/5000 [33:06:58<29:58:54, 29.95s/episodes]"
     ]
    },
    {
     "name": "stdout",
     "output_type": "stream",
     "text": [
      "Reach destination====================================================================================!!!!!!!!\n"
     ]
    },
    {
     "name": "stderr",
     "output_type": "stream",
     "text": [
      " 28%|##################4                                               | 1398/5000 [33:07:50<29:29:14, 29.47s/episodes]"
     ]
    },
    {
     "name": "stdout",
     "output_type": "stream",
     "text": [
      "Reach destination====================================================================================!!!!!!!!\n"
     ]
    },
    {
     "name": "stderr",
     "output_type": "stream",
     "text": [
      " 28%|##################4                                               | 1400/5000 [33:08:21<21:49:49, 21.83s/episodes]"
     ]
    },
    {
     "name": "stdout",
     "output_type": "stream",
     "text": [
      "Reach destination====================================================================================!!!!!!!!\n",
      "Episode: 1400, total steps: 43,  final return: -634.6000000000001\n"
     ]
    },
    {
     "name": "stderr",
     "output_type": "stream",
     "text": [
      " 28%|##################5                                               | 1402/5000 [33:09:36<29:15:18, 29.27s/episodes]"
     ]
    },
    {
     "name": "stdout",
     "output_type": "stream",
     "text": [
      "Reach destination====================================================================================!!!!!!!!\n"
     ]
    },
    {
     "name": "stderr",
     "output_type": "stream",
     "text": [
      "\r",
      " 28%|##################5                                               | 1403/5000 [33:09:54<25:57:41, 25.98s/episodes]"
     ]
    },
    {
     "name": "stdout",
     "output_type": "stream",
     "text": [
      "Reach destination====================================================================================!!!!!!!!\n"
     ]
    },
    {
     "name": "stderr",
     "output_type": "stream",
     "text": [
      "\r",
      " 28%|##################5                                               | 1404/5000 [33:10:20<25:50:37, 25.87s/episodes]"
     ]
    },
    {
     "name": "stdout",
     "output_type": "stream",
     "text": [
      "Reach destination====================================================================================!!!!!!!!\n",
      "Reach destination====================================================================================!!!!!!!!\n"
     ]
    },
    {
     "name": "stderr",
     "output_type": "stream",
     "text": [
      " 28%|##################5                                               | 1407/5000 [33:11:17<21:26:15, 21.48s/episodes]"
     ]
    },
    {
     "name": "stdout",
     "output_type": "stream",
     "text": [
      "Reach destination====================================================================================!!!!!!!!\n"
     ]
    },
    {
     "name": "stderr",
     "output_type": "stream",
     "text": [
      "\r",
      " 28%|##################5                                               | 1408/5000 [33:11:34<20:05:59, 20.14s/episodes]"
     ]
    },
    {
     "name": "stdout",
     "output_type": "stream",
     "text": [
      "Reach destination====================================================================================!!!!!!!!\n"
     ]
    },
    {
     "name": "stderr",
     "output_type": "stream",
     "text": [
      "\r",
      " 28%|##################5                                               | 1409/5000 [33:11:53<19:44:35, 19.79s/episodes]"
     ]
    },
    {
     "name": "stdout",
     "output_type": "stream",
     "text": [
      "Reach destination====================================================================================!!!!!!!!\n"
     ]
    },
    {
     "name": "stderr",
     "output_type": "stream",
     "text": [
      "\r",
      " 28%|##################6                                               | 1410/5000 [33:12:13<19:53:00, 19.94s/episodes]"
     ]
    },
    {
     "name": "stdout",
     "output_type": "stream",
     "text": [
      "Reach destination====================================================================================!!!!!!!!\n",
      "Episode: 1410, total steps: 92,  final return: -1112.0399999999995\n"
     ]
    },
    {
     "name": "stderr",
     "output_type": "stream",
     "text": [
      "\r",
      " 28%|##################6                                               | 1411/5000 [33:12:34<20:16:08, 20.33s/episodes]"
     ]
    },
    {
     "name": "stdout",
     "output_type": "stream",
     "text": [
      "Reach destination====================================================================================!!!!!!!!\n"
     ]
    },
    {
     "name": "stderr",
     "output_type": "stream",
     "text": [
      "\r",
      " 28%|##################6                                               | 1412/5000 [33:13:09<24:35:38, 24.68s/episodes]"
     ]
    },
    {
     "name": "stdout",
     "output_type": "stream",
     "text": [
      "Reach destination====================================================================================!!!!!!!!\n"
     ]
    },
    {
     "name": "stderr",
     "output_type": "stream",
     "text": [
      " 28%|##################6                                               | 1414/5000 [33:14:17<28:31:34, 28.64s/episodes]"
     ]
    },
    {
     "name": "stdout",
     "output_type": "stream",
     "text": [
      "Reach destination====================================================================================!!!!!!!!\n",
      "Reach destination====================================================================================!!!!!!!!\n"
     ]
    },
    {
     "name": "stderr",
     "output_type": "stream",
     "text": [
      " 28%|##################6                                               | 1416/5000 [33:14:47<22:51:37, 22.96s/episodes]"
     ]
    },
    {
     "name": "stdout",
     "output_type": "stream",
     "text": [
      "Reach destination====================================================================================!!!!!!!!\n",
      "Reach destination====================================================================================!!!!!!!!\n"
     ]
    },
    {
     "name": "stderr",
     "output_type": "stream",
     "text": [
      " 28%|##################7                                               | 1418/5000 [33:15:41<26:16:01, 26.40s/episodes]"
     ]
    },
    {
     "name": "stdout",
     "output_type": "stream",
     "text": [
      "Reach destination====================================================================================!!!!!!!!\n"
     ]
    },
    {
     "name": "stderr",
     "output_type": "stream",
     "text": [
      "\r",
      " 28%|#################5                                            | 1419/5000 [35:56:30<2897:49:58, 2913.21s/episodes]"
     ]
    },
    {
     "name": "stdout",
     "output_type": "stream",
     "text": [
      "Reach destination====================================================================================!!!!!!!!\n"
     ]
    },
    {
     "name": "stderr",
     "output_type": "stream",
     "text": [
      "\r",
      " 28%|#################6                                            | 1420/5000 [36:26:02<2556:27:31, 2570.74s/episodes]"
     ]
    },
    {
     "name": "stdout",
     "output_type": "stream",
     "text": [
      "Episode: 1420, total steps: 118,  final return: -1107.3999999999994\n"
     ]
    },
    {
     "name": "stderr",
     "output_type": "stream",
     "text": [
      " 28%|#################6                                            | 1422/5000 [36:28:32<1289:42:19, 1297.64s/episodes]"
     ]
    },
    {
     "name": "stdout",
     "output_type": "stream",
     "text": [
      "Reach destination====================================================================================!!!!!!!!\n"
     ]
    },
    {
     "name": "stderr",
     "output_type": "stream",
     "text": [
      " 28%|#################6                                            | 1425/5000 [37:23:34<1127:05:20, 1134.97s/episodes]"
     ]
    },
    {
     "name": "stdout",
     "output_type": "stream",
     "text": [
      "Reach destination====================================================================================!!!!!!!!\n"
     ]
    },
    {
     "name": "stderr",
     "output_type": "stream",
     "text": [
      "\r",
      " 29%|##################2                                             | 1426/5000 [37:23:54<794:54:26, 800.69s/episodes]"
     ]
    },
    {
     "name": "stdout",
     "output_type": "stream",
     "text": [
      "Reach destination====================================================================================!!!!!!!!\n"
     ]
    },
    {
     "name": "stderr",
     "output_type": "stream",
     "text": [
      "\r",
      " 29%|##################2                                             | 1427/5000 [37:24:20<563:46:46, 568.04s/episodes]"
     ]
    },
    {
     "name": "stdout",
     "output_type": "stream",
     "text": [
      "Reach destination====================================================================================!!!!!!!!\n"
     ]
    },
    {
     "name": "stderr",
     "output_type": "stream",
     "text": [
      "\r",
      " 29%|##################2                                             | 1428/5000 [37:24:49<403:22:11, 406.53s/episodes]"
     ]
    },
    {
     "name": "stdout",
     "output_type": "stream",
     "text": [
      "Reach destination====================================================================================!!!!!!!!\n"
     ]
    },
    {
     "name": "stderr",
     "output_type": "stream",
     "text": [
      " 29%|##################3                                             | 1430/5000 [37:25:39<208:47:23, 210.54s/episodes]"
     ]
    },
    {
     "name": "stdout",
     "output_type": "stream",
     "text": [
      "Reach destination====================================================================================!!!!!!!!\n",
      "Episode: 1430, total steps: 57,  final return: -708.76\n"
     ]
    },
    {
     "name": "stderr",
     "output_type": "stream",
     "text": [
      "\r",
      " 29%|##################3                                             | 1431/5000 [37:26:13<156:22:17, 157.73s/episodes]"
     ]
    },
    {
     "name": "stdout",
     "output_type": "stream",
     "text": [
      "Reach destination====================================================================================!!!!!!!!\n"
     ]
    },
    {
     "name": "stderr",
     "output_type": "stream",
     "text": [
      "\r",
      " 29%|##################3                                             | 1432/5000 [37:26:22<112:08:11, 113.14s/episodes]"
     ]
    },
    {
     "name": "stdout",
     "output_type": "stream",
     "text": [
      "Reach destination====================================================================================!!!!!!!!\n"
     ]
    },
    {
     "name": "stderr",
     "output_type": "stream",
     "text": [
      "\r",
      " 29%|##################9                                               | 1433/5000 [37:26:35<82:08:51, 82.91s/episodes]"
     ]
    },
    {
     "name": "stdout",
     "output_type": "stream",
     "text": [
      "Reach destination====================================================================================!!!!!!!!\n"
     ]
    },
    {
     "name": "stderr",
     "output_type": "stream",
     "text": [
      "\r",
      " 29%|##################9                                               | 1434/5000 [37:26:40<59:10:06, 59.73s/episodes]"
     ]
    },
    {
     "name": "stdout",
     "output_type": "stream",
     "text": [
      "Reach destination====================================================================================!!!!!!!!\n"
     ]
    },
    {
     "name": "stderr",
     "output_type": "stream",
     "text": [
      "\r",
      " 29%|##################9                                               | 1435/5000 [37:27:07<49:10:30, 49.66s/episodes]"
     ]
    },
    {
     "name": "stdout",
     "output_type": "stream",
     "text": [
      "Reach destination====================================================================================!!!!!!!!\n"
     ]
    },
    {
     "name": "stderr",
     "output_type": "stream",
     "text": [
      "\r",
      " 29%|##################9                                               | 1436/5000 [37:27:15<36:51:40, 37.23s/episodes]"
     ]
    },
    {
     "name": "stdout",
     "output_type": "stream",
     "text": [
      "Reach destination====================================================================================!!!!!!!!\n"
     ]
    },
    {
     "name": "stderr",
     "output_type": "stream",
     "text": [
      " 29%|##################9                                               | 1438/5000 [37:28:24<35:01:57, 35.41s/episodes]"
     ]
    },
    {
     "name": "stdout",
     "output_type": "stream",
     "text": [
      "Reach destination====================================================================================!!!!!!!!\n"
     ]
    },
    {
     "name": "stderr",
     "output_type": "stream",
     "text": [
      " 29%|###################                                               | 1440/5000 [37:29:15<29:22:27, 29.70s/episodes]"
     ]
    },
    {
     "name": "stdout",
     "output_type": "stream",
     "text": [
      "Reach destination====================================================================================!!!!!!!!\n",
      "Episode: 1440, total steps: 97,  final return: -1063.9999999999998\n"
     ]
    },
    {
     "name": "stderr",
     "output_type": "stream",
     "text": [
      " 29%|###################                                               | 1442/5000 [37:30:03<25:40:04, 25.97s/episodes]"
     ]
    },
    {
     "name": "stdout",
     "output_type": "stream",
     "text": [
      "Reach destination====================================================================================!!!!!!!!\n"
     ]
    },
    {
     "name": "stderr",
     "output_type": "stream",
     "text": [
      "\r",
      " 29%|###################                                               | 1443/5000 [37:30:30<25:59:45, 26.31s/episodes]"
     ]
    },
    {
     "name": "stdout",
     "output_type": "stream",
     "text": [
      "Reach destination====================================================================================!!!!!!!!\n"
     ]
    },
    {
     "name": "stderr",
     "output_type": "stream",
     "text": [
      "\r",
      " 29%|###################                                               | 1444/5000 [37:30:58<26:35:15, 26.92s/episodes]"
     ]
    },
    {
     "name": "stdout",
     "output_type": "stream",
     "text": [
      "Reach destination====================================================================================!!!!!!!!\n"
     ]
    },
    {
     "name": "stderr",
     "output_type": "stream",
     "text": [
      "\r",
      " 29%|###################                                               | 1445/5000 [37:31:32<28:40:17, 29.03s/episodes]"
     ]
    },
    {
     "name": "stdout",
     "output_type": "stream",
     "text": [
      "Reach destination====================================================================================!!!!!!!!\n"
     ]
    },
    {
     "name": "stderr",
     "output_type": "stream",
     "text": [
      "\r",
      " 29%|###################                                               | 1446/5000 [37:31:45<23:40:27, 23.98s/episodes]"
     ]
    },
    {
     "name": "stdout",
     "output_type": "stream",
     "text": [
      "Reach destination====================================================================================!!!!!!!!\n"
     ]
    },
    {
     "name": "stderr",
     "output_type": "stream",
     "text": [
      "\r",
      " 29%|###################1                                              | 1447/5000 [37:32:03<22:00:23, 22.30s/episodes]"
     ]
    },
    {
     "name": "stdout",
     "output_type": "stream",
     "text": [
      "Reach destination====================================================================================!!!!!!!!\n"
     ]
    },
    {
     "name": "stderr",
     "output_type": "stream",
     "text": [
      "\r",
      " 29%|###################1                                              | 1448/5000 [37:32:20<20:27:25, 20.73s/episodes]"
     ]
    },
    {
     "name": "stdout",
     "output_type": "stream",
     "text": [
      "Reach destination====================================================================================!!!!!!!!\n"
     ]
    },
    {
     "name": "stderr",
     "output_type": "stream",
     "text": [
      " 29%|###################1                                              | 1450/5000 [37:33:31<27:54:27, 28.30s/episodes]"
     ]
    },
    {
     "name": "stdout",
     "output_type": "stream",
     "text": [
      "Episode: 1450, total steps: 200,  final return: -2671.2799999999993\n"
     ]
    },
    {
     "name": "stderr",
     "output_type": "stream",
     "text": [
      "\r",
      " 29%|###################1                                              | 1451/5000 [37:33:58<27:24:25, 27.80s/episodes]"
     ]
    },
    {
     "name": "stdout",
     "output_type": "stream",
     "text": [
      "Reach destination====================================================================================!!!!!!!!\n"
     ]
    },
    {
     "name": "stderr",
     "output_type": "stream",
     "text": [
      " 29%|###################1                                              | 1453/5000 [37:35:03<29:26:00, 29.87s/episodes]"
     ]
    },
    {
     "name": "stdout",
     "output_type": "stream",
     "text": [
      "Reach destination====================================================================================!!!!!!!!\n"
     ]
    },
    {
     "name": "stderr",
     "output_type": "stream",
     "text": [
      " 29%|###################2                                              | 1457/5000 [37:37:19<31:37:30, 32.13s/episodes]"
     ]
    },
    {
     "name": "stdout",
     "output_type": "stream",
     "text": [
      "Reach destination====================================================================================!!!!!!!!\n"
     ]
    },
    {
     "name": "stderr",
     "output_type": "stream",
     "text": [
      "\r",
      " 29%|###################2                                              | 1458/5000 [37:37:38<27:49:50, 28.29s/episodes]"
     ]
    },
    {
     "name": "stdout",
     "output_type": "stream",
     "text": [
      "Reach destination====================================================================================!!!!!!!!\n",
      "Reach destination====================================================================================!!!!!!!!\n"
     ]
    },
    {
     "name": "stderr",
     "output_type": "stream",
     "text": [
      " 29%|###################2                                              | 1460/5000 [37:38:14<21:29:35, 21.86s/episodes]"
     ]
    },
    {
     "name": "stdout",
     "output_type": "stream",
     "text": [
      "Reach destination====================================================================================!!!!!!!!\n",
      "Episode: 1460, total steps: 35,  final return: -393.32000000000016\n"
     ]
    },
    {
     "name": "stderr",
     "output_type": "stream",
     "text": [
      "\r",
      " 29%|###################2                                              | 1461/5000 [37:38:43<23:51:57, 24.28s/episodes]"
     ]
    },
    {
     "name": "stdout",
     "output_type": "stream",
     "text": [
      "Reach destination====================================================================================!!!!!!!!\n"
     ]
    },
    {
     "name": "stderr",
     "output_type": "stream",
     "text": [
      " 29%|###################3                                              | 1466/5000 [37:41:29<29:21:19, 29.90s/episodes]"
     ]
    },
    {
     "name": "stdout",
     "output_type": "stream",
     "text": [
      "Reach destination====================================================================================!!!!!!!!\n"
     ]
    },
    {
     "name": "stderr",
     "output_type": "stream",
     "text": [
      " 29%|###################3                                              | 1468/5000 [37:42:34<30:33:20, 31.14s/episodes]"
     ]
    },
    {
     "name": "stdout",
     "output_type": "stream",
     "text": [
      "Reach destination====================================================================================!!!!!!!!\n",
      "Reach destination====================================================================================!!!!!!!!\n"
     ]
    },
    {
     "name": "stderr",
     "output_type": "stream",
     "text": [
      " 29%|###################4                                              | 1470/5000 [37:43:35<30:40:31, 31.28s/episodes]"
     ]
    },
    {
     "name": "stdout",
     "output_type": "stream",
     "text": [
      "Episode: 1470, total steps: 200,  final return: -2521.6000000000013\n"
     ]
    },
    {
     "name": "stderr",
     "output_type": "stream",
     "text": [
      " 29%|###################4                                              | 1473/5000 [37:45:10<29:44:02, 30.35s/episodes]"
     ]
    },
    {
     "name": "stdout",
     "output_type": "stream",
     "text": [
      "Reach destination====================================================================================!!!!!!!!\n"
     ]
    },
    {
     "name": "stderr",
     "output_type": "stream",
     "text": [
      "\r",
      " 29%|###################4                                              | 1474/5000 [37:45:16<22:39:21, 23.13s/episodes]"
     ]
    },
    {
     "name": "stdout",
     "output_type": "stream",
     "text": [
      "Reach destination====================================================================================!!!!!!!!\n"
     ]
    },
    {
     "name": "stderr",
     "output_type": "stream",
     "text": [
      "\r",
      " 30%|###################4                                              | 1475/5000 [37:45:40<22:56:55, 23.44s/episodes]"
     ]
    },
    {
     "name": "stdout",
     "output_type": "stream",
     "text": [
      "Reach destination====================================================================================!!!!!!!!\n"
     ]
    },
    {
     "name": "stderr",
     "output_type": "stream",
     "text": [
      "\r",
      " 30%|###################4                                              | 1476/5000 [37:46:11<25:08:35, 25.69s/episodes]"
     ]
    },
    {
     "name": "stdout",
     "output_type": "stream",
     "text": [
      "Reach destination====================================================================================!!!!!!!!\n"
     ]
    },
    {
     "name": "stderr",
     "output_type": "stream",
     "text": [
      " 30%|###################5                                              | 1478/5000 [37:47:15<28:02:19, 28.66s/episodes]"
     ]
    },
    {
     "name": "stdout",
     "output_type": "stream",
     "text": [
      "Reach destination====================================================================================!!!!!!!!\n"
     ]
    },
    {
     "name": "stderr",
     "output_type": "stream",
     "text": [
      " 30%|###################5                                              | 1480/5000 [37:48:22<30:04:16, 30.75s/episodes]"
     ]
    },
    {
     "name": "stdout",
     "output_type": "stream",
     "text": [
      "Reach destination====================================================================================!!!!!!!!\n",
      "Episode: 1480, total steps: 181,  final return: -2613.6400000000012\n"
     ]
    },
    {
     "name": "stderr",
     "output_type": "stream",
     "text": [
      "\r",
      " 30%|###################5                                              | 1481/5000 [37:48:47<28:25:43, 29.08s/episodes]"
     ]
    },
    {
     "name": "stdout",
     "output_type": "stream",
     "text": [
      "Reach destination====================================================================================!!!!!!!!\n"
     ]
    },
    {
     "name": "stderr",
     "output_type": "stream",
     "text": [
      "\r",
      " 30%|###################5                                              | 1482/5000 [37:49:00<23:49:03, 24.37s/episodes]"
     ]
    },
    {
     "name": "stdout",
     "output_type": "stream",
     "text": [
      "Reach destination====================================================================================!!!!!!!!\n"
     ]
    },
    {
     "name": "stderr",
     "output_type": "stream",
     "text": [
      " 30%|###################5                                              | 1484/5000 [37:49:58<25:37:04, 26.23s/episodes]"
     ]
    },
    {
     "name": "stdout",
     "output_type": "stream",
     "text": [
      "Reach destination====================================================================================!!!!!!!!\n"
     ]
    },
    {
     "name": "stderr",
     "output_type": "stream",
     "text": [
      "\r",
      " 30%|###################6                                              | 1485/5000 [37:50:15<22:41:27, 23.24s/episodes]"
     ]
    },
    {
     "name": "stdout",
     "output_type": "stream",
     "text": [
      "Reach destination====================================================================================!!!!!!!!\n"
     ]
    },
    {
     "name": "stderr",
     "output_type": "stream",
     "text": [
      "\r",
      " 30%|###################6                                              | 1486/5000 [37:50:46<25:12:08, 25.82s/episodes]"
     ]
    },
    {
     "name": "stdout",
     "output_type": "stream",
     "text": [
      "Reach destination====================================================================================!!!!!!!!\n",
      "Reach destination====================================================================================!!!!!!!!\n"
     ]
    },
    {
     "name": "stderr",
     "output_type": "stream",
     "text": [
      " 30%|###################6                                              | 1489/5000 [37:52:01<26:27:33, 27.13s/episodes]"
     ]
    },
    {
     "name": "stdout",
     "output_type": "stream",
     "text": [
      "Reach destination====================================================================================!!!!!!!!\n"
     ]
    },
    {
     "name": "stderr",
     "output_type": "stream",
     "text": [
      "\r",
      " 30%|###################6                                              | 1490/5000 [37:52:37<28:52:07, 29.61s/episodes]"
     ]
    },
    {
     "name": "stdout",
     "output_type": "stream",
     "text": [
      "Episode: 1490, total steps: 200,  final return: -2564.68\n"
     ]
    },
    {
     "name": "stderr",
     "output_type": "stream",
     "text": [
      "\r",
      " 30%|###################6                                              | 1491/5000 [37:52:48<23:31:21, 24.13s/episodes]"
     ]
    },
    {
     "name": "stdout",
     "output_type": "stream",
     "text": [
      "Reach destination====================================================================================!!!!!!!!\n"
     ]
    },
    {
     "name": "stderr",
     "output_type": "stream",
     "text": [
      " 30%|###################7                                              | 1495/5000 [37:54:41<23:29:00, 24.12s/episodes]"
     ]
    },
    {
     "name": "stdout",
     "output_type": "stream",
     "text": [
      "Reach destination====================================================================================!!!!!!!!\n"
     ]
    },
    {
     "name": "stderr",
     "output_type": "stream",
     "text": [
      "\r",
      " 30%|###################7                                              | 1496/5000 [37:54:49<18:46:56, 19.30s/episodes]"
     ]
    },
    {
     "name": "stdout",
     "output_type": "stream",
     "text": [
      "Reach destination====================================================================================!!!!!!!!\n"
     ]
    },
    {
     "name": "stderr",
     "output_type": "stream",
     "text": [
      "\r",
      " 30%|###################7                                              | 1497/5000 [37:55:07<18:30:02, 19.01s/episodes]"
     ]
    },
    {
     "name": "stdout",
     "output_type": "stream",
     "text": [
      "Reach destination====================================================================================!!!!!!!!\n"
     ]
    },
    {
     "name": "stderr",
     "output_type": "stream",
     "text": [
      "\r",
      " 30%|###################7                                              | 1498/5000 [37:55:36<21:26:56, 22.05s/episodes]"
     ]
    },
    {
     "name": "stdout",
     "output_type": "stream",
     "text": [
      "Reach destination====================================================================================!!!!!!!!\n"
     ]
    },
    {
     "name": "stderr",
     "output_type": "stream",
     "text": [
      "\r",
      " 30%|###################7                                              | 1499/5000 [37:56:05<23:31:46, 24.19s/episodes]"
     ]
    },
    {
     "name": "stdout",
     "output_type": "stream",
     "text": [
      "Reach destination====================================================================================!!!!!!!!\n"
     ]
    },
    {
     "name": "stderr",
     "output_type": "stream",
     "text": [
      "\r",
      " 30%|###################8                                              | 1500/5000 [37:56:29<23:22:06, 24.04s/episodes]"
     ]
    },
    {
     "name": "stdout",
     "output_type": "stream",
     "text": [
      "Reach destination====================================================================================!!!!!!!!\n",
      "Episode: 1500, total steps: 137,  final return: -1847.4800000000005\n"
     ]
    },
    {
     "name": "stderr",
     "output_type": "stream",
     "text": [
      "\r",
      " 30%|###################8                                              | 1501/5000 [37:56:35<18:13:13, 18.75s/episodes]"
     ]
    },
    {
     "name": "stdout",
     "output_type": "stream",
     "text": [
      "Reach destination====================================================================================!!!!!!!!\n"
     ]
    },
    {
     "name": "stderr",
     "output_type": "stream",
     "text": [
      "\r",
      " 30%|###################8                                              | 1502/5000 [37:56:48<16:23:31, 16.87s/episodes]"
     ]
    },
    {
     "name": "stdout",
     "output_type": "stream",
     "text": [
      "Reach destination====================================================================================!!!!!!!!\n"
     ]
    },
    {
     "name": "stderr",
     "output_type": "stream",
     "text": [
      "\r",
      " 30%|###################8                                              | 1503/5000 [37:57:16<19:32:50, 20.12s/episodes]"
     ]
    },
    {
     "name": "stdout",
     "output_type": "stream",
     "text": [
      "Reach destination====================================================================================!!!!!!!!\n"
     ]
    },
    {
     "name": "stderr",
     "output_type": "stream",
     "text": [
      "\r",
      " 30%|###################8                                              | 1504/5000 [37:57:31<18:18:05, 18.85s/episodes]"
     ]
    },
    {
     "name": "stdout",
     "output_type": "stream",
     "text": [
      "Reach destination====================================================================================!!!!!!!!\n"
     ]
    },
    {
     "name": "stderr",
     "output_type": "stream",
     "text": [
      " 30%|###################8                                              | 1506/5000 [37:58:36<24:39:54, 25.41s/episodes]"
     ]
    },
    {
     "name": "stdout",
     "output_type": "stream",
     "text": [
      "Reach destination====================================================================================!!!!!!!!\n",
      "Reach destination====================================================================================!!!!!!!!\n"
     ]
    },
    {
     "name": "stderr",
     "output_type": "stream",
     "text": [
      " 30%|###################9                                              | 1508/5000 [37:59:13<20:45:05, 21.39s/episodes]"
     ]
    },
    {
     "name": "stdout",
     "output_type": "stream",
     "text": [
      "Reach destination====================================================================================!!!!!!!!\n"
     ]
    },
    {
     "name": "stderr",
     "output_type": "stream",
     "text": [
      "\r",
      " 30%|###################9                                              | 1509/5000 [37:59:36<21:02:46, 21.70s/episodes]"
     ]
    },
    {
     "name": "stdout",
     "output_type": "stream",
     "text": [
      "Reach destination====================================================================================!!!!!!!!\n",
      "Reach destination====================================================================================!!!!!!!!\n",
      "Episode: 1510, total steps: 180,  final return: -2735.000000000001"
     ]
    },
    {
     "name": "stderr",
     "output_type": "stream",
     "text": [
      "\r",
      " 30%|###################9                                              | 1510/5000 [38:00:08<24:05:09, 24.85s/episodes]"
     ]
    },
    {
     "name": "stdout",
     "output_type": "stream",
     "text": [
      "\n"
     ]
    },
    {
     "name": "stderr",
     "output_type": "stream",
     "text": [
      "\r",
      " 30%|###################9                                              | 1511/5000 [38:00:24<21:40:47, 22.37s/episodes]"
     ]
    },
    {
     "name": "stdout",
     "output_type": "stream",
     "text": [
      "Reach destination====================================================================================!!!!!!!!\n"
     ]
    },
    {
     "name": "stderr",
     "output_type": "stream",
     "text": [
      " 30%|###################9                                              | 1515/5000 [38:02:46<31:11:03, 32.21s/episodes]"
     ]
    },
    {
     "name": "stdout",
     "output_type": "stream",
     "text": [
      "Reach destination====================================================================================!!!!!!!!\n"
     ]
    },
    {
     "name": "stderr",
     "output_type": "stream",
     "text": [
      "\r",
      " 30%|####################                                              | 1516/5000 [38:03:08<28:11:00, 29.12s/episodes]"
     ]
    },
    {
     "name": "stdout",
     "output_type": "stream",
     "text": [
      "Reach destination====================================================================================!!!!!!!!\n"
     ]
    },
    {
     "name": "stderr",
     "output_type": "stream",
     "text": [
      "\r",
      " 30%|####################                                              | 1517/5000 [38:03:22<23:54:17, 24.71s/episodes]"
     ]
    },
    {
     "name": "stdout",
     "output_type": "stream",
     "text": [
      "Reach destination====================================================================================!!!!!!!!\n"
     ]
    },
    {
     "name": "stderr",
     "output_type": "stream",
     "text": [
      "\r",
      " 30%|####################                                              | 1518/5000 [38:03:36<20:40:03, 21.37s/episodes]"
     ]
    },
    {
     "name": "stdout",
     "output_type": "stream",
     "text": [
      "Reach destination====================================================================================!!!!!!!!\n"
     ]
    },
    {
     "name": "stderr",
     "output_type": "stream",
     "text": [
      "\r",
      " 30%|####################                                              | 1519/5000 [38:03:43<16:31:34, 17.09s/episodes]"
     ]
    },
    {
     "name": "stdout",
     "output_type": "stream",
     "text": [
      "Reach destination====================================================================================!!!!!!!!\n"
     ]
    },
    {
     "name": "stderr",
     "output_type": "stream",
     "text": [
      "\r",
      " 30%|####################                                              | 1520/5000 [38:04:10<19:36:10, 20.28s/episodes]"
     ]
    },
    {
     "name": "stdout",
     "output_type": "stream",
     "text": [
      "Reach destination====================================================================================!!!!!!!!\n",
      "Episode: 1520, total steps: 160,  final return: -1761.4799999999998\n"
     ]
    },
    {
     "name": "stderr",
     "output_type": "stream",
     "text": [
      "\r",
      " 30%|####################                                              | 1521/5000 [38:04:41<22:29:27, 23.27s/episodes]"
     ]
    },
    {
     "name": "stdout",
     "output_type": "stream",
     "text": [
      "Reach destination====================================================================================!!!!!!!!\n"
     ]
    },
    {
     "name": "stderr",
     "output_type": "stream",
     "text": [
      "\r",
      " 30%|####################                                              | 1522/5000 [38:05:17<26:11:57, 27.12s/episodes]"
     ]
    },
    {
     "name": "stdout",
     "output_type": "stream",
     "text": [
      "Reach destination====================================================================================!!!!!!!!\n"
     ]
    },
    {
     "name": "stderr",
     "output_type": "stream",
     "text": [
      "\r",
      " 30%|####################1                                             | 1523/5000 [38:05:36<23:51:30, 24.70s/episodes]"
     ]
    },
    {
     "name": "stdout",
     "output_type": "stream",
     "text": [
      "Reach destination====================================================================================!!!!!!!!\n"
     ]
    },
    {
     "name": "stderr",
     "output_type": "stream",
     "text": [
      "\r",
      " 30%|####################1                                             | 1524/5000 [38:06:02<24:18:40, 25.18s/episodes]"
     ]
    },
    {
     "name": "stdout",
     "output_type": "stream",
     "text": [
      "Reach destination====================================================================================!!!!!!!!\n"
     ]
    },
    {
     "name": "stderr",
     "output_type": "stream",
     "text": [
      "\r",
      " 30%|####################1                                             | 1525/5000 [38:06:18<21:40:24, 22.45s/episodes]"
     ]
    },
    {
     "name": "stdout",
     "output_type": "stream",
     "text": [
      "Reach destination====================================================================================!!!!!!!!\n"
     ]
    },
    {
     "name": "stderr",
     "output_type": "stream",
     "text": [
      "\r",
      " 31%|####################1                                             | 1526/5000 [38:06:28<18:09:15, 18.81s/episodes]"
     ]
    },
    {
     "name": "stdout",
     "output_type": "stream",
     "text": [
      "Reach destination====================================================================================!!!!!!!!\n"
     ]
    },
    {
     "name": "stderr",
     "output_type": "stream",
     "text": [
      " 31%|####################1                                             | 1528/5000 [38:07:22<21:19:00, 22.10s/episodes]"
     ]
    },
    {
     "name": "stdout",
     "output_type": "stream",
     "text": [
      "Reach destination====================================================================================!!!!!!!!\n"
     ]
    },
    {
     "name": "stderr",
     "output_type": "stream",
     "text": [
      " 31%|####################1                                             | 1530/5000 [38:08:27<26:21:39, 27.35s/episodes]"
     ]
    },
    {
     "name": "stdout",
     "output_type": "stream",
     "text": [
      "Reach destination====================================================================================!!!!!!!!\n",
      "Episode: 1530, total steps: 169,  final return: -3268.920000000001\n"
     ]
    },
    {
     "name": "stderr",
     "output_type": "stream",
     "text": [
      "\r",
      " 31%|####################2                                             | 1531/5000 [38:08:37<21:14:35, 22.05s/episodes]"
     ]
    },
    {
     "name": "stdout",
     "output_type": "stream",
     "text": [
      "Reach destination====================================================================================!!!!!!!!\n"
     ]
    },
    {
     "name": "stderr",
     "output_type": "stream",
     "text": [
      " 31%|####################2                                             | 1535/5000 [38:10:37<24:58:13, 25.94s/episodes]"
     ]
    },
    {
     "name": "stdout",
     "output_type": "stream",
     "text": [
      "Reach destination====================================================================================!!!!!!!!\n"
     ]
    },
    {
     "name": "stderr",
     "output_type": "stream",
     "text": [
      "\r",
      " 31%|####################2                                             | 1536/5000 [38:11:01<24:14:58, 25.20s/episodes]"
     ]
    },
    {
     "name": "stdout",
     "output_type": "stream",
     "text": [
      "Reach destination====================================================================================!!!!!!!!\n"
     ]
    },
    {
     "name": "stderr",
     "output_type": "stream",
     "text": [
      "\r",
      " 31%|####################2                                             | 1537/5000 [38:11:31<25:38:24, 26.65s/episodes]"
     ]
    },
    {
     "name": "stdout",
     "output_type": "stream",
     "text": [
      "Reach destination====================================================================================!!!!!!!!\n"
     ]
    },
    {
     "name": "stderr",
     "output_type": "stream",
     "text": [
      " 31%|####################3                                             | 1539/5000 [38:12:16<22:36:52, 23.52s/episodes]"
     ]
    },
    {
     "name": "stdout",
     "output_type": "stream",
     "text": [
      "Reach destination====================================================================================!!!!!!!!\n"
     ]
    },
    {
     "name": "stderr",
     "output_type": "stream",
     "text": [
      "\r",
      " 31%|####################3                                             | 1540/5000 [38:12:41<23:13:58, 24.17s/episodes]"
     ]
    },
    {
     "name": "stdout",
     "output_type": "stream",
     "text": [
      "Reach destination====================================================================================!!!!!!!!\n",
      "Episode: 1540, total steps: 150,  final return: -2397.7200000000003\n"
     ]
    },
    {
     "name": "stderr",
     "output_type": "stream",
     "text": [
      "\r",
      " 31%|####################3                                             | 1541/5000 [38:13:07<23:43:33, 24.69s/episodes]"
     ]
    },
    {
     "name": "stdout",
     "output_type": "stream",
     "text": [
      "Reach destination====================================================================================!!!!!!!!\n"
     ]
    },
    {
     "name": "stderr",
     "output_type": "stream",
     "text": [
      " 31%|####################3                                             | 1543/5000 [38:14:11<27:08:16, 28.26s/episodes]"
     ]
    },
    {
     "name": "stdout",
     "output_type": "stream",
     "text": [
      "Reach destination====================================================================================!!!!!!!!\n"
     ]
    },
    {
     "name": "stderr",
     "output_type": "stream",
     "text": [
      " 31%|####################3                                             | 1545/5000 [38:14:58<23:45:28, 24.76s/episodes]"
     ]
    },
    {
     "name": "stdout",
     "output_type": "stream",
     "text": [
      "Reach destination====================================================================================!!!!!!!!\n"
     ]
    },
    {
     "name": "stderr",
     "output_type": "stream",
     "text": [
      "\r",
      " 31%|####################4                                             | 1546/5000 [38:15:13<20:52:48, 21.76s/episodes]"
     ]
    },
    {
     "name": "stdout",
     "output_type": "stream",
     "text": [
      "Reach destination====================================================================================!!!!!!!!\n"
     ]
    },
    {
     "name": "stderr",
     "output_type": "stream",
     "text": [
      " 31%|####################4                                             | 1548/5000 [38:16:18<25:58:08, 27.08s/episodes]"
     ]
    },
    {
     "name": "stdout",
     "output_type": "stream",
     "text": [
      "Reach destination====================================================================================!!!!!!!!\n"
     ]
    },
    {
     "name": "stderr",
     "output_type": "stream",
     "text": [
      " 31%|####################4                                             | 1550/5000 [38:17:29<29:48:25, 31.10s/episodes]"
     ]
    },
    {
     "name": "stdout",
     "output_type": "stream",
     "text": [
      "Episode: 1550, total steps: 200,  final return: -2797.1200000000003\n"
     ]
    },
    {
     "name": "stderr",
     "output_type": "stream",
     "text": [
      " 31%|####################4                                             | 1552/5000 [38:18:39<31:56:43, 33.35s/episodes]"
     ]
    },
    {
     "name": "stdout",
     "output_type": "stream",
     "text": [
      "Reach destination====================================================================================!!!!!!!!\n"
     ]
    },
    {
     "name": "stderr",
     "output_type": "stream",
     "text": [
      " 31%|####################5                                             | 1555/5000 [38:19:51<25:41:15, 26.84s/episodes]"
     ]
    },
    {
     "name": "stdout",
     "output_type": "stream",
     "text": [
      "Reach destination====================================================================================!!!!!!!!\n"
     ]
    },
    {
     "name": "stderr",
     "output_type": "stream",
     "text": [
      "\r",
      " 31%|####################5                                             | 1556/5000 [38:20:12<23:56:18, 25.02s/episodes]"
     ]
    },
    {
     "name": "stdout",
     "output_type": "stream",
     "text": [
      "Reach destination====================================================================================!!!!!!!!\n"
     ]
    },
    {
     "name": "stderr",
     "output_type": "stream",
     "text": [
      " 31%|####################5                                             | 1558/5000 [38:21:08<24:55:01, 26.06s/episodes]"
     ]
    },
    {
     "name": "stdout",
     "output_type": "stream",
     "text": [
      "Reach destination====================================================================================!!!!!!!!\n"
     ]
    },
    {
     "name": "stderr",
     "output_type": "stream",
     "text": [
      "\r",
      " 31%|####################5                                             | 1559/5000 [38:21:33<24:29:40, 25.63s/episodes]"
     ]
    },
    {
     "name": "stdout",
     "output_type": "stream",
     "text": [
      "Reach destination====================================================================================!!!!!!!!\n"
     ]
    },
    {
     "name": "stderr",
     "output_type": "stream",
     "text": [
      "\r",
      " 31%|####################5                                             | 1560/5000 [38:21:59<24:44:40, 25.90s/episodes]"
     ]
    },
    {
     "name": "stdout",
     "output_type": "stream",
     "text": [
      "Reach destination====================================================================================!!!!!!!!\n",
      "Episode: 1560, total steps: 152,  final return: -2390.4\n"
     ]
    },
    {
     "name": "stderr",
     "output_type": "stream",
     "text": [
      "\r",
      " 31%|####################6                                             | 1561/5000 [38:22:03<18:13:44, 19.08s/episodes]"
     ]
    },
    {
     "name": "stdout",
     "output_type": "stream",
     "text": [
      "Reach destination====================================================================================!!!!!!!!\n"
     ]
    },
    {
     "name": "stderr",
     "output_type": "stream",
     "text": [
      "\r",
      " 31%|####################6                                             | 1562/5000 [38:22:22<18:19:37, 19.19s/episodes]"
     ]
    },
    {
     "name": "stdout",
     "output_type": "stream",
     "text": [
      "Reach destination====================================================================================!!!!!!!!\n"
     ]
    },
    {
     "name": "stderr",
     "output_type": "stream",
     "text": [
      "\r",
      " 31%|####################6                                             | 1563/5000 [38:22:54<21:50:54, 22.88s/episodes]"
     ]
    },
    {
     "name": "stdout",
     "output_type": "stream",
     "text": [
      "Reach destination====================================================================================!!!!!!!!\n"
     ]
    },
    {
     "name": "stderr",
     "output_type": "stream",
     "text": [
      "\r",
      " 31%|####################6                                             | 1564/5000 [38:23:19<22:37:04, 23.70s/episodes]"
     ]
    },
    {
     "name": "stdout",
     "output_type": "stream",
     "text": [
      "Reach destination====================================================================================!!!!!!!!\n"
     ]
    },
    {
     "name": "stderr",
     "output_type": "stream",
     "text": [
      "\r",
      " 31%|####################6                                             | 1565/5000 [38:24:00<27:24:38, 28.73s/episodes]"
     ]
    },
    {
     "name": "stdout",
     "output_type": "stream",
     "text": [
      "Reach destination====================================================================================!!!!!!!!\n"
     ]
    },
    {
     "name": "stderr",
     "output_type": "stream",
     "text": [
      "\r",
      " 31%|####################6                                             | 1566/5000 [38:24:40<30:48:52, 32.30s/episodes]"
     ]
    },
    {
     "name": "stdout",
     "output_type": "stream",
     "text": [
      "Reach destination====================================================================================!!!!!!!!\n"
     ]
    },
    {
     "name": "stderr",
     "output_type": "stream",
     "text": [
      " 31%|####################6                                             | 1568/5000 [38:25:51<32:38:58, 34.25s/episodes]"
     ]
    },
    {
     "name": "stdout",
     "output_type": "stream",
     "text": [
      "Reach destination====================================================================================!!!!!!!!\n"
     ]
    },
    {
     "name": "stderr",
     "output_type": "stream",
     "text": [
      "\r",
      " 31%|####################7                                             | 1569/5000 [38:26:06<27:05:26, 28.43s/episodes]"
     ]
    },
    {
     "name": "stdout",
     "output_type": "stream",
     "text": [
      "Reach destination====================================================================================!!!!!!!!\n",
      "Reach destination====================================================================================!!!!!!!!\n",
      "Episode: 1570, total steps: 85,  final return: -1272.1200000000003"
     ]
    },
    {
     "name": "stderr",
     "output_type": "stream",
     "text": [
      "\r",
      " 31%|####################7                                             | 1570/5000 [38:26:23<23:55:11, 25.11s/episodes]"
     ]
    },
    {
     "name": "stdout",
     "output_type": "stream",
     "text": [
      "\n"
     ]
    },
    {
     "name": "stderr",
     "output_type": "stream",
     "text": [
      " 31%|####################7                                             | 1573/5000 [38:28:03<27:11:37, 28.57s/episodes]"
     ]
    },
    {
     "name": "stdout",
     "output_type": "stream",
     "text": [
      "Reach destination====================================================================================!!!!!!!!\n"
     ]
    },
    {
     "name": "stderr",
     "output_type": "stream",
     "text": [
      "\r",
      " 31%|####################7                                             | 1574/5000 [38:28:37<28:42:09, 30.16s/episodes]"
     ]
    },
    {
     "name": "stdout",
     "output_type": "stream",
     "text": [
      "Reach destination====================================================================================!!!!!!!!\n"
     ]
    },
    {
     "name": "stderr",
     "output_type": "stream",
     "text": [
      " 32%|####################8                                             | 1577/5000 [38:30:21<30:17:46, 31.86s/episodes]"
     ]
    },
    {
     "name": "stdout",
     "output_type": "stream",
     "text": [
      "Reach destination====================================================================================!!!!!!!!\n"
     ]
    },
    {
     "name": "stderr",
     "output_type": "stream",
     "text": [
      "\r",
      " 32%|####################8                                             | 1578/5000 [38:30:55<30:57:03, 32.56s/episodes]"
     ]
    },
    {
     "name": "stdout",
     "output_type": "stream",
     "text": [
      "Reach destination====================================================================================!!!!!!!!\n"
     ]
    },
    {
     "name": "stderr",
     "output_type": "stream",
     "text": [
      "\r",
      " 32%|####################8                                             | 1579/5000 [38:31:03<23:58:03, 25.22s/episodes]"
     ]
    },
    {
     "name": "stdout",
     "output_type": "stream",
     "text": [
      "Reach destination====================================================================================!!!!!!!!\n"
     ]
    },
    {
     "name": "stderr",
     "output_type": "stream",
     "text": [
      "\r",
      " 32%|####################8                                             | 1580/5000 [38:31:44<28:27:03, 29.95s/episodes]"
     ]
    },
    {
     "name": "stdout",
     "output_type": "stream",
     "text": [
      "Episode: 1580, total steps: 200,  final return: -1603.1199999999992\n"
     ]
    },
    {
     "name": "stderr",
     "output_type": "stream",
     "text": [
      "\r",
      " 32%|####################8                                             | 1581/5000 [38:31:58<23:58:37, 25.25s/episodes]"
     ]
    },
    {
     "name": "stdout",
     "output_type": "stream",
     "text": [
      "Reach destination====================================================================================!!!!!!!!\n"
     ]
    },
    {
     "name": "stderr",
     "output_type": "stream",
     "text": [
      "\r",
      " 32%|####################8                                             | 1582/5000 [38:32:39<28:26:52, 29.96s/episodes]"
     ]
    },
    {
     "name": "stdout",
     "output_type": "stream",
     "text": [
      "Reach destination====================================================================================!!!!!!!!\n"
     ]
    },
    {
     "name": "stderr",
     "output_type": "stream",
     "text": [
      "\r",
      " 32%|####################8                                             | 1583/5000 [38:33:19<31:05:53, 32.76s/episodes]"
     ]
    },
    {
     "name": "stdout",
     "output_type": "stream",
     "text": [
      "Reach destination====================================================================================!!!!!!!!\n"
     ]
    },
    {
     "name": "stderr",
     "output_type": "stream",
     "text": [
      "\r",
      " 32%|####################9                                             | 1584/5000 [38:33:23<23:07:39, 24.37s/episodes]"
     ]
    },
    {
     "name": "stdout",
     "output_type": "stream",
     "text": [
      "Reach destination====================================================================================!!!!!!!!\n"
     ]
    },
    {
     "name": "stderr",
     "output_type": "stream",
     "text": [
      "\r",
      " 32%|####################9                                             | 1585/5000 [38:33:33<19:03:34, 20.09s/episodes]"
     ]
    },
    {
     "name": "stdout",
     "output_type": "stream",
     "text": [
      "Reach destination====================================================================================!!!!!!!!\n"
     ]
    },
    {
     "name": "stderr",
     "output_type": "stream",
     "text": [
      "\r",
      " 32%|####################9                                             | 1586/5000 [38:33:54<19:11:56, 20.24s/episodes]"
     ]
    },
    {
     "name": "stdout",
     "output_type": "stream",
     "text": [
      "Reach destination====================================================================================!!!!!!!!\n"
     ]
    }
   ],
   "source": [
    "# -*- coding: utf-8 -*-\n",
    "\"\"\"\n",
    "Created on Nov. 7 2019 \n",
    "Modified on Jan. 2 2020\n",
    "\n",
    "@author: Yong Zeng\n",
    "Dueling double deep Q network (DDQN) multi-step learning for coverage-aware \n",
    "navigation for cellular-connected UAV\n",
    "\"\"\"\n",
    "%matplotlib inline\n",
    "import numpy as np\n",
    "#콜백(callbacks)은 학습 과정의 특정 단계에서 적용할 함수의 세트\n",
    "from keras.callbacks import TensorBoard #텐서플로우가 제공하는 시각화 도구\n",
    "import tensorflow as tf\n",
    "from collections import deque\n",
    "import time\n",
    "import random\n",
    "#keras의 Sequential model로 layer를 만들면 layer 맨 앞에 input은 따로 없고 1st layer에서 input_shape에 데이터 형태 적어줌\n",
    "#Input : 순수한 데이터의 양으로, 텐서를 반환\n",
    "#Dense : Fully connected layer\n",
    "#Lambda : 이전 레이어를 trainable weight 추가없이 어떤 작업을 하고자 할 때 ex) my own activation function추가하고 싶을 때(not built-in keras) 람다 레이어 사용 !!\n",
    "from keras.layers import Input, Dense,Lambda \n",
    "from keras.models import Model\n",
    "#Model 사용 예시 : model = tf.keras.Model(inputs=inputs, outputs=outputs)\n",
    "#이러한 함수형 API사용시 학습된 모델을 재사용하기 편함!\n",
    "from tqdm import tqdm\n",
    "#tqdm : for문의 상태바를 나타내주는 파이썬 진행표시바 표시, 보통 for문의 ranage를 감쌈\n",
    "import os #운영체제와 상호작용\n",
    "import matplotlib.pyplot as plt\n",
    "from numpy import linalg as LA #선형대수\n",
    "import keras.backend as K \n",
    "#keras는 layer수준의 연산을 하기때문에 low level 연산은 지원못함 -> 이걸 backend하면 variable 연산 가능\n",
    "#Theano(th)와 Tensorflow(tf) 모두와 호환이 되는 Keras 모듈을 작성\n",
    "import import_ipynb #주피터 파일 임포트하기\n",
    "import radio_environment as rad_env #the actual radio environment\n",
    "\n",
    "X_MAX=2000.0 \n",
    "Y_MAX=2000.0 #The area region in meters\n",
    "MAX_VALS=np.array([[X_MAX,Y_MAX]])\n",
    "\n",
    "DESTINATION=np.array([[1400,1600]],dtype=\"float32\")#UAV flying destination in meter\n",
    "DIST_TOLERANCE=30#DESTINATION에 도착했다고 인정해주는 거리(30m)\n",
    "\n",
    "DISCOUNT = 1 #Undiscounted!!\n",
    "REPLAY_MEMORY_SIZE = 100_000  # How many last steps to keep for model training\n",
    "MIN_REPLAY_MEMORY_SIZE = 5_000  # Minimum number of steps in a memory to start training\n",
    "MINIBATCH_SIZE = 32  # How many steps (samples) to use for training\n",
    "UPDATE_TARGET_EVERY = 5  # 타겟네트워크 파라미터 theta 업데이터 주기(Algo 1.의 line18)\n",
    "MAX_STEP=200 #maximum number of time steps per episode\n",
    "MODEL_NAME = '512_256_128_128' #The numbers of neurons of the first 4 hidden layers\n",
    "MIN_REWARD = -1000  # For model save\n",
    "nSTEP=30 #parameter for multi-step learning\n",
    "\n",
    "# Environment settings\n",
    "EPISODES = 5000#Number of training episodes\n",
    "\n",
    "\n",
    "# Exploration settings\n",
    "epsilon =0.5  # not a constant, going to be decayed\n",
    "EPSILON_DECAY = 0.998\n",
    "MIN_EPSILON = 0\n",
    "\n",
    "episode_all=np.arange(EPISODES)\n",
    "#array([   0,    1,    2, ..., 4997, 4998, 4999])\n",
    "epsilon_all=epsilon*EPSILON_DECAY**episode_all\n",
    "#각 에피소드에 해당하는 epsilon\n",
    "epsilon_all=np.maximum(epsilon_all,MIN_EPSILON)\n",
    "\n",
    "#1st 그림\n",
    "plt.figure()\n",
    "plt.plot(episode_all,epsilon_all,'b',linewidth=2)\n",
    "plt.grid(True,which='major',axis='both')\n",
    "plt.title('Epsilon according to episode')\n",
    "plt.show()\n",
    "\n",
    "#  Stats settings\n",
    "AGGREGATE_STATS_EVERY = 50  # episodes\n",
    "SHOW_PREVIEW = False\n",
    "\n",
    "\n",
    "delta_t=0.5 #time step length in seconds(논문 14p)\n",
    "\n",
    "#penalty measured in terms of the time required to reach destination\n",
    "REACH_DES_REWARD=200\n",
    "MOVE_PENALTY = 1\n",
    "NON_COVER_PENALTY = 40 #Outage penalty weight µ \n",
    "OUT_BOUND_PENALTY = 10000 #Outbound penalty\n",
    "\n",
    "\n",
    "x=np.linspace(0,X_MAX,200)#0부터 2_000을 200개로 나눔\n",
    "y=np.linspace(0,Y_MAX,200)#0부터 2_000을 200개로 나눔\n",
    "\n",
    "\n",
    "OBSERVATION_SPACE_VALUES=(2,)#2차원 UAV비행(x,y)좌표\n",
    "ACTIONS=np.array([[0, 1],\n",
    "             [1,0],\n",
    "             [0,-1],\n",
    "             [-1,0]],dtype=int)#논문 24p(K=4)로 action을 나눔\n",
    "ACTION_SPACE_SIZE = ACTIONS.shape[0] #ACTION_SPACE_SIZE = 4\n",
    "   \n",
    "MAX_SPEED=20 #(14p : In order to get optimal solution, UAV should fly with the maximum speed)(m/s)\n",
    "STEP_DISPLACEMENT=MAX_SPEED*delta_t #The displacement per time step\n",
    "\n",
    "  \n",
    "# Create models folder\n",
    "if not os.path.isdir('models'):#'models'디렉토리가 있는지\n",
    "    os.makedirs('models')\n",
    "\n",
    "\n",
    "# Own Tensorboard class\n",
    "class ModifiedTensorBoard(TensorBoard):\n",
    "\n",
    "    # Overriding init to set initial step and writer (we want one log file for all .fit() calls)\n",
    "    def __init__(self, **kwargs):\n",
    "        #*args : 값을 넣으면 함수에 변수가 튜플로 입력, **kwargs : 딕셔너리 형태로 입력\n",
    "        super().__init__(**kwargs) \n",
    "        #ModifiedTensorBoard 클래스가 TensorBoard 클래스의 __init__()에 있는 클래스 변수 가지고 오기\n",
    "        #super()을 통해 TensorBoard의 __init__()의 overriding 방지\n",
    "        self.step = 1\n",
    "        #self.writer = tf.summary.FileWriter(self.log_dir)\n",
    "        self.writer = tf.summary.create_file_writer(self.log_dir)\n",
    "        #주어진 로그 디렉토리에 대한 요약 파일 작성기를 작성\n",
    "\n",
    "    # Overriding this method to stop creating default log writer\n",
    "    def set_model(self, model):\n",
    "        pass\n",
    "\n",
    "    # Overrided, saves logs with our step number\n",
    "    # (otherwise every .fit() will start writing from 0th step)\n",
    "#    def on_epoch_end(self, epoch, logs=None):\n",
    "#        self.update_stats(**logs)\n",
    "\n",
    "    # Overrided\n",
    "    # We train for one batch only, no need to save anything at epoch end\n",
    "    def on_batch_end(self, batch, logs=None):\n",
    "        pass\n",
    "\n",
    "    # Overrided, so won't close writer\n",
    "    def on_train_end(self, _):\n",
    "        pass\n",
    "\n",
    "    # Custom method for saving own metrics\n",
    "    # Creates writer, writes custom metrics and closes writer\n",
    "#    def update_stats(self, **stats):\n",
    "#        self._write_logs(stats, self.step)\n",
    "    \n",
    "#    def _write_logs(self, logs, index):\n",
    "#        with self.writer.as_default():\n",
    "#            for name, value in logs.items():\n",
    "#                tf.summary.scalar(name, value, step=index)\n",
    "#                #self.step += 1\n",
    "#            self.writer.flush()\n",
    "\n",
    "\n",
    "class UAVEnv:\n",
    "    \n",
    "    def reset(self):\n",
    "        self.episode_step = 0\n",
    "        s0=self.random_generate_states(num_states=1)\n",
    "         \n",
    "        return s0\n",
    "\n",
    "\n",
    "    def random_generate_states(self,num_states): #return loc : 50~1950 중 랜덤 x,y 좌표 생성\n",
    "        loc_x=np.random.uniform(50,X_MAX-50,(num_states,1)) #50 ~ 1950 중 위치 랜덤 생성\n",
    "        loc_y=np.random.uniform(50,Y_MAX-50,(num_states,1)) #50 ~ 1950 중 위치 랜덤 생성\n",
    "        loc=np.concatenate((loc_x,loc_y),axis=1)\n",
    "        \n",
    "        return loc\n",
    "            \n",
    "\n",
    "   #for each location visited by the UAV, it will have the J signal measurements from each of the M cellular BSs\n",
    "   #based on these M*J measurements, calculate the empirical outage probability\n",
    "    def get_empirical_outage(self, location):\n",
    "        #location given in meters\n",
    "        #convert the location to kilometer\n",
    "        loc_km=np.zeros(shape=(1,3))\n",
    "        loc_km[0,:2]=location/1000\n",
    "        loc_km[0,2]=0.1#UAV height in km\n",
    "        #loc_km = np.array([[1.4, 1.1, 0.1]]) if location is np.array([1400, 1100])\n",
    "        Pout=rad_env.getPointMiniOutage(loc_km)\n",
    "        return Pout[0]\n",
    "    \n",
    "    \n",
    "    def step(self, current_state, action_idx, cur_traj):\n",
    "        self.episode_step += 1\n",
    "                      \n",
    "        next_state=current_state+STEP_DISPLACEMENT*ACTIONS[action_idx]\n",
    "        outbound=False\n",
    "        #out bound의 조건 3가지\n",
    "        out_bound_check1=next_state<0\n",
    "        out_bound_check2=next_state[0,0]>X_MAX\n",
    "        out_bound_check3=next_state[0,1]>Y_MAX\n",
    "        if out_bound_check1.any() or out_bound_check2.any() or out_bound_check3.any():#outbound되면#outbound되면\n",
    "            outbound=True       \n",
    "            next_state[next_state<0]=0 #'next_state<0'은 True, False를 리턴함 -> True index에 대하여 0으로 최종리턴\n",
    "            next_state[0,0]=np.minimum(X_MAX,next_state[0,0])\n",
    "            next_state[0,1]=np.minimum(Y_MAX,next_state[0,1])\n",
    "           \n",
    "        if LA.norm(next_state-DESTINATION)<=DIST_TOLERANCE: #터미널(인정 거리 포함)에 도착한다면\n",
    "            terminal=True\n",
    "            print('Reach destination====================================================================================!!!!!!!!')\n",
    "        else:\n",
    "            terminal=False\n",
    "    \n",
    "        if terminal or outbound:\n",
    "            reward=-MOVE_PENALTY\n",
    "        else: \n",
    "            Pout=self.get_empirical_outage(next_state)\n",
    "            reward=-MOVE_PENALTY-NON_COVER_PENALTY*Pout #p.16 에서 reward 정의\n",
    "                          \n",
    "        done = False\n",
    "                               \n",
    "        if terminal or self.episode_step >= MAX_STEP or outbound:\n",
    "            done = True\n",
    "                           \n",
    "        return next_state, reward, terminal,outbound,done\n",
    "    \n",
    "            \n",
    "\n",
    "env = UAVEnv()\n",
    "\n",
    "\n",
    "# For more repetitive results, seed값 고정\n",
    "random.seed(1)\n",
    "np.random.seed(1)\n",
    "tf.random.set_seed(1)\n",
    "\n",
    "\n",
    "# Agent class\n",
    "class DQNAgent:\n",
    "    def __init__(self):\n",
    "        # Main model\n",
    "        self.model = self.create_model(dueling=True)\n",
    "        \n",
    "        self.initilize_model()\n",
    "\n",
    "        # Target network\n",
    "        self.target_model = self.create_model(dueling=True)\n",
    "        self.target_model.set_weights(self.model.get_weights())\n",
    "       \n",
    "        self.replay_memory = deque(maxlen=REPLAY_MEMORY_SIZE)\n",
    "\n",
    "        # Custom tensorboard object\n",
    "        #self.tensorboard = ModifiedTensorBoard(log_dir=\"logs/{}-{}\".format(MODEL_NAME, int(time.time())))\n",
    "\n",
    "        # Used to count when to update target network with main network's weights\n",
    "        self.target_update_counter = 0\n",
    "\n",
    "    def create_model(self, dueling):\n",
    "        inp = Input(shape=OBSERVATION_SPACE_VALUES) #OBSERVATION_SPACE_VALUES = (2,)(x,y) 좌표\n",
    "        outp=Dense(512,activation='relu')(inp)\n",
    "        outp=Dense(256,activation='relu')(outp)\n",
    "        outp=Dense(128,activation='relu')(outp)\n",
    "        outp=Dense(128,activation='relu')(outp)#according to p.24\n",
    "        \n",
    "        if(dueling):\n",
    "            # Have the network estimate the Advantage function as an intermediate layer\n",
    "            outp=Dense(ACTION_SPACE_SIZE+1, activation='linear')(outp)\n",
    "            #Dueling : 끝단에 1layer를 더 만들어서 그 fully connected layer를 반으로 나눔\n",
    "            #(state-action value + action 수)\n",
    "            outp=Lambda(lambda i: K.expand_dims(i[:,0],-1) + i[:,1:] - K.mean(i[:,1:], keepdims=True),\n",
    "                        output_shape=(ACTION_SPACE_SIZE,))(outp)\n",
    "            #lambda i 식은 Dueling에서 Deterministic policy가 아닐 때 V, A를 더하는 식(RL algorithm table  참고)\n",
    "            #keepdims = True : 1차원 배열로 배열 원소간 합을 반환\n",
    "        else: # 평범한 기존 DQN의 output layer\n",
    "            outp=Dense(ACTION_SPACE_SIZE,activation='linear')(outp)\n",
    "            \n",
    "        model = Model(inp,outp)\n",
    "        \n",
    "        model.compile(optimizer='adam',loss='mean_squared_error',\n",
    "                      metrics=['mean_absolute_error', 'mean_squared_error'])\n",
    "        model.summary()\n",
    "        return model\n",
    "\n",
    "\n",
    "       \n",
    "    def normalize_data(self,input_data):\n",
    "        return input_data/MAX_VALS #MAX_VALS=np.array([[X_MAX,Y_MAX]])\n",
    "\n",
    "       \n",
    "    def initilize_model(self):       \n",
    "        #initialize the DQN so that the Q values of each (state,action) pair\n",
    "        #equal to: -MOVE_PENALTY*distance/STEP_DISPLACEMENT,\n",
    "        #where distance is the distance between the next state and the destination\n",
    "        #this will encourage shortest path flying initially when there is no information on the coverage map\n",
    "               \n",
    "        xx,yy=np.meshgrid(x,y,indexing='ij')\n",
    "        #indexing='ij' : 배열형. 출력의 인덱싱 정의(행렬)\n",
    "        \n",
    "        plt.figure(0)\n",
    "        plt.plot(DESTINATION[0,0],DESTINATION[0,1],'r>',markersize=15)\n",
    "        plt.show()\n",
    "                \n",
    "        num_states=100_000\n",
    "        xy_loc=env.random_generate_states(num_states) \n",
    "        #num_states만큼의 random (x,y) 좌표 생성(num_states x 2)\n",
    "        \n",
    "        Actions_aug=np.zeros((1,xy_loc.shape[1],ACTION_SPACE_SIZE),dtype=int)\n",
    "        #Actions_aug = (1 x 2 x 4)의 영행렬\n",
    "        for i in range(Actions_aug.shape[2]):\n",
    "            Actions_aug[:,:,i]=ACTIONS[i]\n",
    "            #Actions_aug = array([[[ 0,  1,  0, -1],\n",
    "                                 #[ 1,  0, -1,  0]]])\n",
    "            \n",
    "        Actions_aug=np.tile(Actions_aug,(xy_loc.shape[0],1,1))\n",
    "        #np.tile : 반복행렬 만들기 : Actions_aug을 (num_states x 1 x 1)만큼\n",
    "        xy_loc_aug=np.zeros((xy_loc.shape[0],xy_loc.shape[1],1))\n",
    "        #(num_states x 2 x 1)\n",
    "        xy_loc_aug[:,:,0]=xy_loc\n",
    "        #xy_loc_aug[:,:,0] : 마지막 축을 없앤 것과 같으므로 (num_states x 2) 즉, xy_loc 차원과 같다.\n",
    "        xy_loc_aug=np.repeat(xy_loc_aug,ACTION_SPACE_SIZE,axis=2)\n",
    "        #axis = 2 기준으로 ACTION_SPACE_SIZE = 4만큼 반복(1000 x 2 x 4)\n",
    "        xy_loc_next_state=xy_loc_aug+STEP_DISPLACEMENT*Actions_aug\n",
    "        #(1000 x 2 x 4) : 현재 스텝(xy_loc_aug)에서 각 action(4걔)을 했을 때 next_step에 해당하는 좌표들의 값\n",
    "        \n",
    "        xy_loc_next_state[xy_loc_next_state<0]=0 #음수인 좌표에 대해서는 0으로 리턴하고음수인 좌표에 대해서는 0으로 리턴하고\n",
    "        xy_loc_next_state[:,0,:]=np.minimum(X_MAX,xy_loc_next_state[:,0,:]) #x좌표에 대해서\n",
    "        xy_loc_next_state[:,1,:]=np.minimum(Y_MAX,xy_loc_next_state[:,1,:]) #y좌표에 대해서\n",
    "        \n",
    "        end_loc_reshaped=np.zeros((1,2,1))\n",
    "        end_loc_reshaped[0,:,0]=DESTINATION #(1 x 2 x 1)\n",
    "        distance_to_destination=LA.norm(xy_loc_next_state-end_loc_reshaped,axis=1)\n",
    "        #compute the distance to destination  (num_states x 4)\n",
    "        Q_init=-distance_to_destination/STEP_DISPLACEMENT*MOVE_PENALTY\n",
    "        \n",
    "                \n",
    "        train_data=xy_loc[:int(num_states*0.8),:]\n",
    "        train_label=Q_init[:int(num_states*0.8),:]\n",
    "        #num_states 중 80% data를 train 사용     \n",
    "        test_data=xy_loc[int(num_states*0.8):,:]\n",
    "        test_label=Q_init[int(num_states*0.8):,:]\n",
    "        #num_states 중 20% data를 test 사용\n",
    "       \n",
    "        history=self.model.fit(self.normalize_data(train_data),train_label,epochs=20,\n",
    "                               validation_split=0.2,verbose=1)\n",
    "        #Model.fit(x=None,y=None,batch_size=None,epochs=1,verbose=1, validation_split)\n",
    "        #epochs : 전체 데이터 20번 사용해서 학습\n",
    "        #validation_split : 20% test\n",
    "        #verbose = 0 : silent, = 1 : progress bar, = 2 : one line bar per epochs\n",
    "        #self.model : def create_model 내의 함수이자 리턴값            \n",
    "        history_dict = history.history\n",
    "        history_dict.keys()\n",
    "        #history_dict는 딕셔너리 형태로 키와 값의 쌍으로 이루어진 데이터 타입인데, 키만 추출할 때\n",
    "                                                                \n",
    "        mse = history_dict['mean_squared_error']\n",
    "        val_mse = history_dict['val_mean_squared_error']\n",
    "        mae = history_dict['mean_absolute_error']\n",
    "        val_mae=history_dict['val_mean_absolute_error']\n",
    "        \n",
    "     \n",
    "        epochs = range(1, len(mse) + 1)\n",
    "        \n",
    "        plt.figure()   \n",
    "        \n",
    "        plt.plot(epochs, mse, 'bo', label='Training MSE')\n",
    "        plt.plot(epochs, val_mse, 'r', label='Validation MSE')\n",
    "        plt.title('Training and validation MSE')\n",
    "#        plt.ylim(0,100)\n",
    "        plt.xlabel('Epochs')\n",
    "        plt.ylabel('MSE')\n",
    "        plt.legend()\n",
    "        \n",
    "        plt.show()\n",
    "        \n",
    "        \n",
    "        plt.figure()   # clear figure\n",
    "        \n",
    "        plt.plot(epochs, mae, 'bo', label='Training MAE')\n",
    "        plt.plot(epochs, val_mae, 'r', label='Validation MAE')\n",
    "        plt.title('Training and validation accuracy')\n",
    "        plt.xlabel('Epochs')\n",
    "        plt.ylabel('MAE')\n",
    "    #    plt.ylim(0,15)\n",
    "        plt.legend()\n",
    "        \n",
    "        plt.show()\n",
    "             \n",
    "        result=self.model.evaluate(self.normalize_data(test_data),test_label)\n",
    "        #evaluate->test 데이터로 진행! : Loss value 리턴\n",
    "        print(result)\n",
    "                        \n",
    "             \n",
    "\n",
    "    #Add data to replay memory for n-step return\n",
    "    #(St, At, R_nstep, S_{t+n}, terminal, outbound, done)\n",
    "    #where R_nstep=R_{t+1}+gamma*R_{t+2}+gamma^2*R_{t+3}....+gamma^(nSTEP-1)*R_{t+n}\n",
    "    #논문 17p(multistep)\n",
    "    def update_replay_memory_nStepLearning(self,slide_window,nSTEP,endEpisode):\n",
    "        #update only after n steps\n",
    "        if len(slide_window)<nSTEP:\n",
    "            return\n",
    "\n",
    "#        slide_window contains the list in the following order:\n",
    "#        (current_state,action_idx,reward,next_state,terminal,outbound,done) 총 7개       \n",
    "        rewards_nsteps= [transition[2] for transition in slide_window]\n",
    "        discount_nsteps=DISCOUNT**np.arange(nSTEP)\n",
    "        R_nstep=sum(rewards_nsteps*discount_nsteps)\n",
    "        \n",
    "        St=slide_window[0][0]\n",
    "        At=slide_window[0][1]\n",
    "        \n",
    "        St_plus_n=slide_window[-1][3] #아직 왜[-1]인지는 안 나옴\n",
    "        terminal=slide_window[-1][4]\n",
    "        outbound=slide_window[-1][5]\n",
    "        done=slide_window[-1][6]\n",
    "        \n",
    "        \"\"\" Store experience in memory buffer\n",
    "        \"\"\"         \n",
    "        self.replay_memory.append((St,At,R_nstep,St_plus_n,terminal,outbound,done))\n",
    "        #def init에서 정의했음 : self.replay_memory = deque(maxlen=REPLAY_MEMORY_SIZE) REPLAY_MEMORY_SIZE = 100_000\n",
    "             \n",
    "        if endEpisode: #에피소드 끝의 마지막 몇 단계에 대한 잘린 n-step return     \n",
    "            for i in range(1,nSTEP):\n",
    "                rewards_i=rewards_nsteps[i:] #i부터 이후 값 리턴\n",
    "                discount_i=DISCOUNT**np.arange(nSTEP-i)\n",
    "                R_i=sum(rewards_i*discount_i)\n",
    "                \n",
    "                St_i=slide_window[i][0]\n",
    "                At_i=slide_window[i][1]\n",
    "                                \n",
    "                self.replay_memory.append((St_i,At_i,R_i,St_plus_n,terminal,outbound,done))\n",
    "            \n",
    "        \n",
    "    def sample_batch_from_replay_memory(self):\n",
    "        minibatch = random.sample(self.replay_memory, MINIBATCH_SIZE)\n",
    "        #MINIBATCH_SIZE = 32, OBSERVATION_SPACE_VALUES[0]=2\n",
    "        #minibatch (32 x 7)\n",
    "        current_state_batch = np.zeros((MINIBATCH_SIZE, OBSERVATION_SPACE_VALUES[0])) #OBSERVATION_SPACE_VALUES=(2,)\n",
    "        next_state_batch = np.zeros((MINIBATCH_SIZE, OBSERVATION_SPACE_VALUES[0])) \n",
    "        #(32 x 2)\n",
    "        actions_idx, rewards, terminal, outbound, done= [], [], [], [], []\n",
    "                \n",
    "        for idx, val in enumerate(minibatch):  \n",
    "            #minibatch (32 x 7)\n",
    "            current_state_batch[idx] = val[0] #별도로 만든 행렬에 넣고\n",
    "            actions_idx.append(val[1])\n",
    "            rewards.append(val[2])\n",
    "            next_state_batch[idx] = val[3]           \n",
    "            terminal.append(val[4])\n",
    "            outbound.append(val[5])\n",
    "            done.append(val[6])\n",
    "            \n",
    "        return current_state_batch, actions_idx, rewards, next_state_batch, terminal, outbound, done\n",
    "    #current_state_batch : (32x2), 나머지는 list\n",
    "       \n",
    "    \n",
    "    def deepDoubleQlearn(self,episode_done):\n",
    "        # Start training only if certain number of samples is already saved                 \n",
    "        if len(self.replay_memory) < MIN_REPLAY_MEMORY_SIZE:\n",
    "            return\n",
    "                    \n",
    "        current_state_batch, actions_idx, rewards, next_state_batch, terminal,outbound, done = self.sample_batch_from_replay_memory()\n",
    "                           \n",
    "        current_Q_values=self.model.predict(self.normalize_data(current_state_batch))\n",
    "        #모델 사용하기\n",
    "       \n",
    "        next_Q_values_currentNetwork=self.model.predict(self.normalize_data(next_state_batch))  \n",
    "        # use the current network to evaluate action\n",
    "        next_actions=np.argmax(next_Q_values_currentNetwork,axis=1)        \n",
    "          \n",
    "        next_Q_values = self.target_model.predict(self.normalize_data(next_state_batch))  \n",
    "        # use the target network to evaluate value\n",
    "        \n",
    "\n",
    "        Y=current_Q_values\n",
    "        \n",
    "        for i in range(MINIBATCH_SIZE):\n",
    "\n",
    "            if terminal[i]: #에피소드가 끝났다면\n",
    "                target = rewards[i]+REACH_DES_REWARD\n",
    "            elif outbound[i]: #범위를 벗어났다면\n",
    "                target=rewards[i]-OUT_BOUND_PENALTY\n",
    "            else:\n",
    "#               target = rewards[i] + DISCOUNT**nSTEP*np.minimum(next_Q_values[i,next_actions[i]],-1)\n",
    "                target = rewards[i] + DISCOUNT**nSTEP*next_Q_values[i,next_actions[i]]\n",
    "                #논문 17p참고\n",
    "            Y[i,actions_idx[i]]=target\n",
    "            #actions_idx : (1 x 32) 크기를 가짐\n",
    "                                  \n",
    "        self.model.fit(self.normalize_data(current_state_batch), \n",
    "                       Y,batch_size=MINIBATCH_SIZE,verbose=0, shuffle=False, \n",
    "                       #callbacks=[self.tensorboard] if episode_done else None\n",
    "                      )\n",
    "        #target lable에 대하여 fitting(훈련)\n",
    "        \n",
    "        # Update target network counter every episode\n",
    "        if episode_done:\n",
    "            self.target_update_counter += 1            \n",
    "            # If counter reaches set value, update target network with weights of main network\n",
    "            #즉, 타겟 네트워크 weight 최신화(5주기)\n",
    "            if self.target_update_counter >= UPDATE_TARGET_EVERY:\n",
    "                self.target_model.set_weights(self.model.get_weights())\n",
    "                self.target_update_counter = 0\n",
    "                             \n",
    "   \n",
    "    def choose_action(self,current_state,cur_traj,epsilon):                       \n",
    "        next_possible_states=current_state+STEP_DISPLACEMENT*ACTIONS       \n",
    "        #(4 x 2)\n",
    "        next_possible_states[next_possible_states<0]=0\n",
    "        next_possible_states[:,0]=np.minimum(next_possible_states[:,0],X_MAX)\n",
    "        next_possible_states[:,1]=np.minimum(next_possible_states[:,1],Y_MAX)        \n",
    "        #좌표 튜닝\n",
    "        next_possible_states=next_possible_states.tolist()\n",
    "        #tolist() : 같은 레벨에 있는 값끼리 묶어준다.\n",
    "        #예시 : array([[300, 410],[310, 400],[300, 390],[290, 400]])\n",
    "        #       [[300, 410], [310, 400], [300, 390], [290, 400]]\n",
    "        no_repetition=[] #means do not replay repetition\n",
    "        \n",
    "        cur_traj=cur_traj[-10:] #no return to the previous few locations\n",
    "        #최근 10step 반환\n",
    "        for state in next_possible_states:\n",
    "            no_repetition.append(state not in cur_traj)\n",
    "            #cur_traj 내에 state가 없다면 True, 있으면 False 반환\n",
    "            #예 : no_repetition = [True, True, False, True]\n",
    "             \n",
    "        \n",
    "        actions_idx_all=np.arange(ACTION_SPACE_SIZE)\n",
    "        actions_idx_valid=actions_idx_all[no_repetition]\n",
    "        #그래서 no_repetition = [False, True, False, True]이면\n",
    "        #actions_idx_valid = [1 3] 반환 -> 즉, trajectory를 지나온 state로 다시 가는 것을 방지\n",
    "           \n",
    "        if np.random.rand()<=epsilon or len(actions_idx_valid)==0:#Exploration\n",
    "            action_idx=np.random.randint(0,ACTION_SPACE_SIZE) \n",
    "            return action_idx\n",
    "        else:     #Exploitation   \n",
    "            Q_value=self.model.predict(self.normalize_data(current_state))\n",
    "            Q_value=Q_value[0]            \n",
    "            action_idx_maxVal=np.argmax(Q_value)\n",
    "            if action_idx_maxVal in actions_idx_valid:#유효한 action 범위면 그렇게 뽑고\n",
    "                action_idx=action_idx_maxVal\n",
    "            else: #아니면 유요한 action 범위 중 랜덤하게 하나 뽑아라\n",
    "                action_idx=random.sample(actions_idx_valid.tolist(),1)\n",
    "                action_idx=action_idx[0]                                                         \n",
    "            return action_idx\n",
    "        \n",
    "\n",
    "\n",
    "agent = DQNAgent()\n",
    "\n",
    "ep_rewards,ep_trajecotry,ep_reach_terminal,ep_outbound,ep_actions=[],[],[],[],[]\n",
    "\n",
    "# Iterate over episodes\n",
    "for episode in tqdm(range(1, EPISODES + 1), ascii=True, unit='episodes'):\n",
    "    #ascii = True : ######로 진행 표시\n",
    "    # Update tensorboard step every episode\n",
    "    # agent.tensorboard.step = episode\n",
    "    #.tensorboard.step : input(current_state, action_idx, cur_traj) \n",
    "    #-> output(next_state, reward, terminal,outbound,done)\n",
    "\n",
    "    # Restarting episode - reset episode reward and step number\n",
    "    episode_reward = 0\n",
    "\n",
    "    # Reset environment and get initial state\n",
    "    current_state = env.reset()\n",
    "    cur_trajectory=[]\n",
    "    cur_actions=[]\n",
    "    \n",
    "    slide_window=deque(maxlen=nSTEP)\n",
    "   \n",
    "    # Reset flag and start iterating until episode ends   \n",
    "    done=False\n",
    "    \n",
    "    while not done:\n",
    "        cur_trajectory.append(np.squeeze(current_state).tolist())\n",
    "        #np.squeeze : 1차원인 축 제거 + tolist = current_state 간단한 리스트\n",
    "        action_idx=agent.choose_action(current_state,cur_trajectory,epsilon)\n",
    "           \n",
    "        next_state, reward, terminal, outbound, done = env.step(current_state,action_idx,cur_trajectory)\n",
    "\n",
    "        episode_reward += reward\n",
    "        \n",
    "        slide_window.append((current_state,action_idx,reward,next_state,terminal,outbound,done)) \n",
    "\n",
    "        agent.update_replay_memory_nStepLearning(slide_window,nSTEP,done)\n",
    "               \n",
    "        agent.deepDoubleQlearn(done)\n",
    "\n",
    "        current_state = next_state\n",
    "\n",
    "\n",
    "    # Append episode reward to a list and log stats (every given number of episodes)\n",
    "    ep_rewards.append(episode_reward)\n",
    "    ep_trajecotry.append(cur_trajectory)\n",
    "    ep_reach_terminal.append(terminal)\n",
    "    ep_outbound.append(outbound)\n",
    "    \n",
    "   \n",
    "    \n",
    "    if episode%10 == 0:\n",
    "#        dist_to_dest=LA.norm(start_loc-end_loc)\n",
    "#        print(\"Start location:{}, distance to destination:{}\".format(start_loc,dist_to_dest))\n",
    "        print(\"Episode: {}, total steps: {},  final return: {}\".format(episode,len(cur_trajectory),episode_reward))\n",
    "        \n",
    "    if not episode % AGGREGATE_STATS_EVERY or episode == 1: #episode 50번째마다 또는 episode = 1 일때\n",
    "        average_reward = sum(ep_rewards[-AGGREGATE_STATS_EVERY:])/len(ep_rewards[-AGGREGATE_STATS_EVERY:])\n",
    "        min_reward = min(ep_rewards[-AGGREGATE_STATS_EVERY:])\n",
    "        max_reward = max(ep_rewards[-AGGREGATE_STATS_EVERY:])\n",
    "        #agent.tensorboard.update_stats(reward_avg=average_reward, \n",
    "        #                               reward_min=min_reward, reward_max=max_reward, epsilon=epsilon)\n",
    "\n",
    "        # Save model, but only when min reward is greater or equal a set value\n",
    "        if min_reward >= MIN_REWARD:\n",
    "            agent.model.save(f'models/{MODEL_NAME}__{max_reward:_>7.2f}max_{average_reward:_>7.2f}avg_{min_reward:_>7.2f}min__{int(time.time())}.model')\n",
    "\n",
    "    # Decay epsilon\n",
    "    if epsilon > MIN_EPSILON:\n",
    "        epsilon *= EPSILON_DECAY\n",
    "        epsilon = max(MIN_EPSILON, epsilon)\n",
    "        \n",
    " \n",
    "\n",
    "def get_moving_average(mylist,N):\n",
    "    cumsum, moving_aves = [0], []\n",
    "    for i, x in enumerate(mylist, 1):\n",
    "        cumsum.append(cumsum[i-1] + x)\n",
    "        if i>=N:\n",
    "            moving_ave = (cumsum[i] - cumsum[i-N])/N\n",
    "            moving_aves.append(moving_ave)\n",
    "    return moving_aves\n",
    "        \n",
    "\n",
    "\n",
    "plt.figure()\n",
    "plt.xlabel('Episode')\n",
    "plt.ylabel('Return per episode')\n",
    "plt.plot(range(len(ep_rewards)),ep_rewards)\n",
    "N=200\n",
    "return_mov_avg=get_moving_average(ep_rewards,N)\n",
    "plt.plot(np.arange(len(return_mov_avg))+N,return_mov_avg,'r-',linewidth=5)\n",
    "#plt.ylim(-6000,0)\n",
    "\n",
    "\n",
    "\n",
    "npzfile = np.load('radioenvir.npz')\n",
    "OutageMapActual=npzfile['arr_0']\n",
    "X_vec=npzfile['arr_1']\n",
    "Y_vec=npzfile['arr_2']\n",
    "\n",
    "fig=plt.figure(30)\n",
    "\n",
    "plt.contourf(np.array(X_vec)*10,np.array(Y_vec)*10,1-OutageMapActual)\n",
    "v = np.linspace(0, 1.0, 11, endpoint=True)\n",
    "cbar=plt.colorbar(ticks=v) \n",
    "\n",
    "\n",
    "#v = np.linspace(0, 1.0, 11, endpoint=True)\n",
    "#cbar=plt.colorbar(ticks=v)\n",
    "#cbar.ax.set_yticklabels(['0','0.2','0.4','0.6','0.8','1.0'])\n",
    "cbar.set_label('coverage probability',labelpad=20, rotation=270,fontsize=14)\n",
    "\n",
    "for episode_idx in range(episode-200, episode):\n",
    "    S_seq=ep_trajecotry[episode_idx]\n",
    "    S_seq=np.squeeze(np.asarray(S_seq))\n",
    "    \n",
    "    if S_seq.ndim>1:\n",
    "        plt.plot(S_seq[0,0],S_seq[0,1],'rx',markersize=5)\n",
    "        plt.plot(S_seq[:,0],S_seq[:,1],'-')\n",
    "    else:\n",
    "        plt.plot(S_seq[0],S_seq[1],'rx',markersize=5)\n",
    "        plt.plot(S_seq[0],S_seq[1],'-')\n",
    "        \n",
    " \n",
    "plt.plot(DESTINATION[0,0],DESTINATION[0,1],'b^',markersize=25)\n",
    "plt.xlabel('x (meter)',fontsize=14)\n",
    "plt.ylabel('y (meter)',fontsize=14)\n",
    "plt.show()\n",
    "fig.savefig('trajectoriesNoMapping.eps')\n",
    "fig.savefig('trajectoriesNoMapping.pdf')\n",
    "fig.savefig('trajectoriesNoMapping.jpg')\n",
    "\n",
    "\n",
    "print('{}/{} episodes reach terminal'.format(ep_reach_terminal.count(True),episode))\n",
    "\n",
    "\n",
    "#Save the simulation ressult\n",
    "np.savez('Dueling_DDQN_MultiStepLeaning_main_Results',return_mov_avg,ep_rewards,ep_trajecotry) "
   ]
  },
  {
   "cell_type": "code",
   "execution_count": null,
   "metadata": {},
   "outputs": [],
   "source": []
  }
 ],
 "metadata": {
  "kernelspec": {
   "display_name": "Python 3",
   "language": "python",
   "name": "python3"
  },
  "language_info": {
   "codemirror_mode": {
    "name": "ipython",
    "version": 3
   },
   "file_extension": ".py",
   "mimetype": "text/x-python",
   "name": "python",
   "nbconvert_exporter": "python",
   "pygments_lexer": "ipython3",
   "version": "3.7.9"
  },
  "toc": {
   "base_numbering": 1,
   "nav_menu": {},
   "number_sections": true,
   "sideBar": true,
   "skip_h1_title": false,
   "title_cell": "Table of Contents",
   "title_sidebar": "Contents",
   "toc_cell": false,
   "toc_position": {},
   "toc_section_display": true,
   "toc_window_display": false
  }
 },
 "nbformat": 4,
 "nbformat_minor": 4
}
