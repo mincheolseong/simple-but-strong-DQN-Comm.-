{
 "cells": [
  {
   "cell_type": "markdown",
   "metadata": {
    "colab_type": "text",
    "id": "view-in-github"
   },
   "source": [
    "<a href=\"https://colab.research.google.com/github/mincheolseong/simple-but-strong-DQN-Comm.-/blob/main/Dueling_DDQN_MultiStepLearning_main.ipynb\" target=\"_parent\"><img src=\"https://colab.research.google.com/assets/colab-badge.svg\" alt=\"Open In Colab\"/></a>"
   ]
  },
  {
   "cell_type": "code",
   "execution_count": 1,
   "metadata": {
    "colab": {
     "base_uri": "https://localhost:8080/"
    },
    "id": "d9hY6A_lAjRY",
    "outputId": "f3d11297-0b96-4c93-91fc-e3232f2c7a7e"
   },
   "outputs": [
    {
     "name": "stdout",
     "output_type": "stream",
     "text": [
      "Collecting import_ipynb\n",
      "  Downloading https://files.pythonhosted.org/packages/63/35/495e0021bfdcc924c7cdec4e9fbb87c88dd03b9b9b22419444dc370c8a45/import-ipynb-0.1.3.tar.gz\n",
      "Building wheels for collected packages: import-ipynb\n",
      "  Building wheel for import-ipynb (setup.py) ... \u001b[?25l\u001b[?25hdone\n",
      "  Created wheel for import-ipynb: filename=import_ipynb-0.1.3-cp37-none-any.whl size=2976 sha256=4596415b273e7ccbd9174092a88ad55ce8d0e70c2e60ce7f91cba0021f704147\n",
      "  Stored in directory: /root/.cache/pip/wheels/b4/7b/e9/a3a6e496115dffdb4e3085d0ae39ffe8a814eacc44bbf494b5\n",
      "Successfully built import-ipynb\n",
      "Installing collected packages: import-ipynb\n",
      "Successfully installed import-ipynb-0.1.3\n"
     ]
    }
   ],
   "source": [
    "!pip install import_ipynb"
   ]
  },
  {
   "cell_type": "code",
   "execution_count": 10,
   "metadata": {
    "colab": {
     "base_uri": "https://localhost:8080/",
     "height": 94,
     "resources": {
      "http://localhost:8080/nbextensions/google.colab/files.js": {
       "data": "Ly8gQ29weXJpZ2h0IDIwMTcgR29vZ2xlIExMQwovLwovLyBMaWNlbnNlZCB1bmRlciB0aGUgQXBhY2hlIExpY2Vuc2UsIFZlcnNpb24gMi4wICh0aGUgIkxpY2Vuc2UiKTsKLy8geW91IG1heSBub3QgdXNlIHRoaXMgZmlsZSBleGNlcHQgaW4gY29tcGxpYW5jZSB3aXRoIHRoZSBMaWNlbnNlLgovLyBZb3UgbWF5IG9idGFpbiBhIGNvcHkgb2YgdGhlIExpY2Vuc2UgYXQKLy8KLy8gICAgICBodHRwOi8vd3d3LmFwYWNoZS5vcmcvbGljZW5zZXMvTElDRU5TRS0yLjAKLy8KLy8gVW5sZXNzIHJlcXVpcmVkIGJ5IGFwcGxpY2FibGUgbGF3IG9yIGFncmVlZCB0byBpbiB3cml0aW5nLCBzb2Z0d2FyZQovLyBkaXN0cmlidXRlZCB1bmRlciB0aGUgTGljZW5zZSBpcyBkaXN0cmlidXRlZCBvbiBhbiAiQVMgSVMiIEJBU0lTLAovLyBXSVRIT1VUIFdBUlJBTlRJRVMgT1IgQ09ORElUSU9OUyBPRiBBTlkgS0lORCwgZWl0aGVyIGV4cHJlc3Mgb3IgaW1wbGllZC4KLy8gU2VlIHRoZSBMaWNlbnNlIGZvciB0aGUgc3BlY2lmaWMgbGFuZ3VhZ2UgZ292ZXJuaW5nIHBlcm1pc3Npb25zIGFuZAovLyBsaW1pdGF0aW9ucyB1bmRlciB0aGUgTGljZW5zZS4KCi8qKgogKiBAZmlsZW92ZXJ2aWV3IEhlbHBlcnMgZm9yIGdvb2dsZS5jb2xhYiBQeXRob24gbW9kdWxlLgogKi8KKGZ1bmN0aW9uKHNjb3BlKSB7CmZ1bmN0aW9uIHNwYW4odGV4dCwgc3R5bGVBdHRyaWJ1dGVzID0ge30pIHsKICBjb25zdCBlbGVtZW50ID0gZG9jdW1lbnQuY3JlYXRlRWxlbWVudCgnc3BhbicpOwogIGVsZW1lbnQudGV4dENvbnRlbnQgPSB0ZXh0OwogIGZvciAoY29uc3Qga2V5IG9mIE9iamVjdC5rZXlzKHN0eWxlQXR0cmlidXRlcykpIHsKICAgIGVsZW1lbnQuc3R5bGVba2V5XSA9IHN0eWxlQXR0cmlidXRlc1trZXldOwogIH0KICByZXR1cm4gZWxlbWVudDsKfQoKLy8gTWF4IG51bWJlciBvZiBieXRlcyB3aGljaCB3aWxsIGJlIHVwbG9hZGVkIGF0IGEgdGltZS4KY29uc3QgTUFYX1BBWUxPQURfU0laRSA9IDEwMCAqIDEwMjQ7CgpmdW5jdGlvbiBfdXBsb2FkRmlsZXMoaW5wdXRJZCwgb3V0cHV0SWQpIHsKICBjb25zdCBzdGVwcyA9IHVwbG9hZEZpbGVzU3RlcChpbnB1dElkLCBvdXRwdXRJZCk7CiAgY29uc3Qgb3V0cHV0RWxlbWVudCA9IGRvY3VtZW50LmdldEVsZW1lbnRCeUlkKG91dHB1dElkKTsKICAvLyBDYWNoZSBzdGVwcyBvbiB0aGUgb3V0cHV0RWxlbWVudCB0byBtYWtlIGl0IGF2YWlsYWJsZSBmb3IgdGhlIG5leHQgY2FsbAogIC8vIHRvIHVwbG9hZEZpbGVzQ29udGludWUgZnJvbSBQeXRob24uCiAgb3V0cHV0RWxlbWVudC5zdGVwcyA9IHN0ZXBzOwoKICByZXR1cm4gX3VwbG9hZEZpbGVzQ29udGludWUob3V0cHV0SWQpOwp9CgovLyBUaGlzIGlzIHJvdWdobHkgYW4gYXN5bmMgZ2VuZXJhdG9yIChub3Qgc3VwcG9ydGVkIGluIHRoZSBicm93c2VyIHlldCksCi8vIHdoZXJlIHRoZXJlIGFyZSBtdWx0aXBsZSBhc3luY2hyb25vdXMgc3RlcHMgYW5kIHRoZSBQeXRob24gc2lkZSBpcyBnb2luZwovLyB0byBwb2xsIGZvciBjb21wbGV0aW9uIG9mIGVhY2ggc3RlcC4KLy8gVGhpcyB1c2VzIGEgUHJvbWlzZSB0byBibG9jayB0aGUgcHl0aG9uIHNpZGUgb24gY29tcGxldGlvbiBvZiBlYWNoIHN0ZXAsCi8vIHRoZW4gcGFzc2VzIHRoZSByZXN1bHQgb2YgdGhlIHByZXZpb3VzIHN0ZXAgYXMgdGhlIGlucHV0IHRvIHRoZSBuZXh0IHN0ZXAuCmZ1bmN0aW9uIF91cGxvYWRGaWxlc0NvbnRpbnVlKG91dHB1dElkKSB7CiAgY29uc3Qgb3V0cHV0RWxlbWVudCA9IGRvY3VtZW50LmdldEVsZW1lbnRCeUlkKG91dHB1dElkKTsKICBjb25zdCBzdGVwcyA9IG91dHB1dEVsZW1lbnQuc3RlcHM7CgogIGNvbnN0IG5leHQgPSBzdGVwcy5uZXh0KG91dHB1dEVsZW1lbnQubGFzdFByb21pc2VWYWx1ZSk7CiAgcmV0dXJuIFByb21pc2UucmVzb2x2ZShuZXh0LnZhbHVlLnByb21pc2UpLnRoZW4oKHZhbHVlKSA9PiB7CiAgICAvLyBDYWNoZSB0aGUgbGFzdCBwcm9taXNlIHZhbHVlIHRvIG1ha2UgaXQgYXZhaWxhYmxlIHRvIHRoZSBuZXh0CiAgICAvLyBzdGVwIG9mIHRoZSBnZW5lcmF0b3IuCiAgICBvdXRwdXRFbGVtZW50Lmxhc3RQcm9taXNlVmFsdWUgPSB2YWx1ZTsKICAgIHJldHVybiBuZXh0LnZhbHVlLnJlc3BvbnNlOwogIH0pOwp9CgovKioKICogR2VuZXJhdG9yIGZ1bmN0aW9uIHdoaWNoIGlzIGNhbGxlZCBiZXR3ZWVuIGVhY2ggYXN5bmMgc3RlcCBvZiB0aGUgdXBsb2FkCiAqIHByb2Nlc3MuCiAqIEBwYXJhbSB7c3RyaW5nfSBpbnB1dElkIEVsZW1lbnQgSUQgb2YgdGhlIGlucHV0IGZpbGUgcGlja2VyIGVsZW1lbnQuCiAqIEBwYXJhbSB7c3RyaW5nfSBvdXRwdXRJZCBFbGVtZW50IElEIG9mIHRoZSBvdXRwdXQgZGlzcGxheS4KICogQHJldHVybiB7IUl0ZXJhYmxlPCFPYmplY3Q+fSBJdGVyYWJsZSBvZiBuZXh0IHN0ZXBzLgogKi8KZnVuY3Rpb24qIHVwbG9hZEZpbGVzU3RlcChpbnB1dElkLCBvdXRwdXRJZCkgewogIGNvbnN0IGlucHV0RWxlbWVudCA9IGRvY3VtZW50LmdldEVsZW1lbnRCeUlkKGlucHV0SWQpOwogIGlucHV0RWxlbWVudC5kaXNhYmxlZCA9IGZhbHNlOwoKICBjb25zdCBvdXRwdXRFbGVtZW50ID0gZG9jdW1lbnQuZ2V0RWxlbWVudEJ5SWQob3V0cHV0SWQpOwogIG91dHB1dEVsZW1lbnQuaW5uZXJIVE1MID0gJyc7CgogIGNvbnN0IHBpY2tlZFByb21pc2UgPSBuZXcgUHJvbWlzZSgocmVzb2x2ZSkgPT4gewogICAgaW5wdXRFbGVtZW50LmFkZEV2ZW50TGlzdGVuZXIoJ2NoYW5nZScsIChlKSA9PiB7CiAgICAgIHJlc29sdmUoZS50YXJnZXQuZmlsZXMpOwogICAgfSk7CiAgfSk7CgogIGNvbnN0IGNhbmNlbCA9IGRvY3VtZW50LmNyZWF0ZUVsZW1lbnQoJ2J1dHRvbicpOwogIGlucHV0RWxlbWVudC5wYXJlbnRFbGVtZW50LmFwcGVuZENoaWxkKGNhbmNlbCk7CiAgY2FuY2VsLnRleHRDb250ZW50ID0gJ0NhbmNlbCB1cGxvYWQnOwogIGNvbnN0IGNhbmNlbFByb21pc2UgPSBuZXcgUHJvbWlzZSgocmVzb2x2ZSkgPT4gewogICAgY2FuY2VsLm9uY2xpY2sgPSAoKSA9PiB7CiAgICAgIHJlc29sdmUobnVsbCk7CiAgICB9OwogIH0pOwoKICAvLyBXYWl0IGZvciB0aGUgdXNlciB0byBwaWNrIHRoZSBmaWxlcy4KICBjb25zdCBmaWxlcyA9IHlpZWxkIHsKICAgIHByb21pc2U6IFByb21pc2UucmFjZShbcGlja2VkUHJvbWlzZSwgY2FuY2VsUHJvbWlzZV0pLAogICAgcmVzcG9uc2U6IHsKICAgICAgYWN0aW9uOiAnc3RhcnRpbmcnLAogICAgfQogIH07CgogIGNhbmNlbC5yZW1vdmUoKTsKCiAgLy8gRGlzYWJsZSB0aGUgaW5wdXQgZWxlbWVudCBzaW5jZSBmdXJ0aGVyIHBpY2tzIGFyZSBub3QgYWxsb3dlZC4KICBpbnB1dEVsZW1lbnQuZGlzYWJsZWQgPSB0cnVlOwoKICBpZiAoIWZpbGVzKSB7CiAgICByZXR1cm4gewogICAgICByZXNwb25zZTogewogICAgICAgIGFjdGlvbjogJ2NvbXBsZXRlJywKICAgICAgfQogICAgfTsKICB9CgogIGZvciAoY29uc3QgZmlsZSBvZiBmaWxlcykgewogICAgY29uc3QgbGkgPSBkb2N1bWVudC5jcmVhdGVFbGVtZW50KCdsaScpOwogICAgbGkuYXBwZW5kKHNwYW4oZmlsZS5uYW1lLCB7Zm9udFdlaWdodDogJ2JvbGQnfSkpOwogICAgbGkuYXBwZW5kKHNwYW4oCiAgICAgICAgYCgke2ZpbGUudHlwZSB8fCAnbi9hJ30pIC0gJHtmaWxlLnNpemV9IGJ5dGVzLCBgICsKICAgICAgICBgbGFzdCBtb2RpZmllZDogJHsKICAgICAgICAgICAgZmlsZS5sYXN0TW9kaWZpZWREYXRlID8gZmlsZS5sYXN0TW9kaWZpZWREYXRlLnRvTG9jYWxlRGF0ZVN0cmluZygpIDoKICAgICAgICAgICAgICAgICAgICAgICAgICAgICAgICAgICAgJ24vYSd9IC0gYCkpOwogICAgY29uc3QgcGVyY2VudCA9IHNwYW4oJzAlIGRvbmUnKTsKICAgIGxpLmFwcGVuZENoaWxkKHBlcmNlbnQpOwoKICAgIG91dHB1dEVsZW1lbnQuYXBwZW5kQ2hpbGQobGkpOwoKICAgIGNvbnN0IGZpbGVEYXRhUHJvbWlzZSA9IG5ldyBQcm9taXNlKChyZXNvbHZlKSA9PiB7CiAgICAgIGNvbnN0IHJlYWRlciA9IG5ldyBGaWxlUmVhZGVyKCk7CiAgICAgIHJlYWRlci5vbmxvYWQgPSAoZSkgPT4gewogICAgICAgIHJlc29sdmUoZS50YXJnZXQucmVzdWx0KTsKICAgICAgfTsKICAgICAgcmVhZGVyLnJlYWRBc0FycmF5QnVmZmVyKGZpbGUpOwogICAgfSk7CiAgICAvLyBXYWl0IGZvciB0aGUgZGF0YSB0byBiZSByZWFkeS4KICAgIGxldCBmaWxlRGF0YSA9IHlpZWxkIHsKICAgICAgcHJvbWlzZTogZmlsZURhdGFQcm9taXNlLAogICAgICByZXNwb25zZTogewogICAgICAgIGFjdGlvbjogJ2NvbnRpbnVlJywKICAgICAgfQogICAgfTsKCiAgICAvLyBVc2UgYSBjaHVua2VkIHNlbmRpbmcgdG8gYXZvaWQgbWVzc2FnZSBzaXplIGxpbWl0cy4gU2VlIGIvNjIxMTU2NjAuCiAgICBsZXQgcG9zaXRpb24gPSAwOwogICAgd2hpbGUgKHBvc2l0aW9uIDwgZmlsZURhdGEuYnl0ZUxlbmd0aCkgewogICAgICBjb25zdCBsZW5ndGggPSBNYXRoLm1pbihmaWxlRGF0YS5ieXRlTGVuZ3RoIC0gcG9zaXRpb24sIE1BWF9QQVlMT0FEX1NJWkUpOwogICAgICBjb25zdCBjaHVuayA9IG5ldyBVaW50OEFycmF5KGZpbGVEYXRhLCBwb3NpdGlvbiwgbGVuZ3RoKTsKICAgICAgcG9zaXRpb24gKz0gbGVuZ3RoOwoKICAgICAgY29uc3QgYmFzZTY0ID0gYnRvYShTdHJpbmcuZnJvbUNoYXJDb2RlLmFwcGx5KG51bGwsIGNodW5rKSk7CiAgICAgIHlpZWxkIHsKICAgICAgICByZXNwb25zZTogewogICAgICAgICAgYWN0aW9uOiAnYXBwZW5kJywKICAgICAgICAgIGZpbGU6IGZpbGUubmFtZSwKICAgICAgICAgIGRhdGE6IGJhc2U2NCwKICAgICAgICB9LAogICAgICB9OwogICAgICBwZXJjZW50LnRleHRDb250ZW50ID0KICAgICAgICAgIGAke01hdGgucm91bmQoKHBvc2l0aW9uIC8gZmlsZURhdGEuYnl0ZUxlbmd0aCkgKiAxMDApfSUgZG9uZWA7CiAgICB9CiAgfQoKICAvLyBBbGwgZG9uZS4KICB5aWVsZCB7CiAgICByZXNwb25zZTogewogICAgICBhY3Rpb246ICdjb21wbGV0ZScsCiAgICB9CiAgfTsKfQoKc2NvcGUuZ29vZ2xlID0gc2NvcGUuZ29vZ2xlIHx8IHt9OwpzY29wZS5nb29nbGUuY29sYWIgPSBzY29wZS5nb29nbGUuY29sYWIgfHwge307CnNjb3BlLmdvb2dsZS5jb2xhYi5fZmlsZXMgPSB7CiAgX3VwbG9hZEZpbGVzLAogIF91cGxvYWRGaWxlc0NvbnRpbnVlLAp9Owp9KShzZWxmKTsK",
       "headers": [
        [
         "content-type",
         "application/javascript"
        ]
       ],
       "ok": true,
       "status": 200,
       "status_text": ""
      }
     }
    },
    "id": "f9o-qgUIDlu2",
    "outputId": "4b12e8d2-905f-4565-9bc5-e1cf07137465"
   },
   "outputs": [
    {
     "data": {
      "text/html": [
       "\n",
       "     <input type=\"file\" id=\"files-f2585236-887d-46ec-a001-667476ff6c33\" name=\"files[]\" multiple disabled\n",
       "        style=\"border:none\" />\n",
       "     <output id=\"result-f2585236-887d-46ec-a001-667476ff6c33\">\n",
       "      Upload widget is only available when the cell has been executed in the\n",
       "      current browser session. Please rerun this cell to enable.\n",
       "      </output>\n",
       "      <script src=\"/nbextensions/google.colab/files.js\"></script> "
      ],
      "text/plain": [
       "<IPython.core.display.HTML object>"
      ]
     },
     "metadata": {
      "tags": []
     },
     "output_type": "display_data"
    },
    {
     "name": "stdout",
     "output_type": "stream",
     "text": [
      "Saving radio_environment.ipynb to radio_environment (2).ipynb\n"
     ]
    },
    {
     "data": {
      "text/plain": [
       "85024"
      ]
     },
     "execution_count": 10,
     "metadata": {
      "tags": []
     },
     "output_type": "execute_result"
    }
   ],
   "source": [
    "from google.colab import files \n",
    "src = list(files.upload().values())[0] \n",
    "open('radio_environment.ipynb','wb').write(src) "
   ]
  },
  {
   "cell_type": "code",
   "execution_count": 11,
   "metadata": {
    "id": "sk8Fw0IYntMa"
   },
   "outputs": [],
   "source": [
    "from radio_environment import getPointMiniOutage"
   ]
  },
  {
   "cell_type": "code",
   "execution_count": 12,
   "metadata": {
    "id": "gSAK9dwrDotf"
   },
   "outputs": [],
   "source": [
    "import radio_environment"
   ]
  },
  {
   "cell_type": "code",
   "execution_count": 5,
   "metadata": {
    "colab": {
     "base_uri": "https://localhost:8080/"
    },
    "id": "gHd5qcaoDtht",
    "outputId": "05b637ed-687c-42e2-d64f-5c06c0dab08c"
   },
   "outputs": [
    {
     "name": "stdout",
     "output_type": "stream",
     "text": [
      "Mounted at /content/drive\n"
     ]
    }
   ],
   "source": [
    "from google.colab import drive\n",
    "drive.mount('/content/drive')"
   ]
  },
  {
   "cell_type": "code",
   "execution_count": 6,
   "metadata": {
    "colab": {
     "base_uri": "https://localhost:8080/"
    },
    "id": "RN7YV6r5DvnI",
    "outputId": "fe7a1137-81bb-4339-8843-6afac96baa03"
   },
   "outputs": [
    {
     "name": "stdout",
     "output_type": "stream",
     "text": [
      "/content/drive/MyDrive/basic ddqn\n"
     ]
    }
   ],
   "source": [
    "%cd drive/MyDrive/basic\\ ddqn"
   ]
  },
  {
   "cell_type": "code",
   "execution_count": 13,
   "metadata": {
    "colab": {
     "base_uri": "https://localhost:8080/"
    },
    "id": "FMoFyIL1DxZa",
    "outputId": "1b29a00e-8be3-4e0d-dcdf-4bdbfe0d7028"
   },
   "outputs": [
    {
     "name": "stdout",
     "output_type": "stream",
     "text": [
      "/content/drive/My Drive/basic ddqn\n"
     ]
    }
   ],
   "source": [
    "!pwd\n",
    "#우선 에피소드 5000에서 500으로 줄여봄"
   ]
  },
  {
   "cell_type": "code",
   "execution_count": 15,
   "metadata": {
    "ExecuteTime": {
     "start_time": "2021-04-02T10:13:05.197Z"
    },
    "code_folding": [
     113
    ],
    "colab": {
     "base_uri": "https://localhost:8080/",
     "height": 1000
    },
    "id": "qNOCdMszgGgv",
    "outputId": "83cccd0e-acf3-4e5d-dcc6-5681600fae31"
   },
   "outputs": [
    {
     "data": {
      "image/png": "[encoded data removed]",
      "text/plain": [
       "<Figure size 432x288 with 1 Axes>"
      ]
     },
     "metadata": {
      "needs_background": "light",
      "tags": []
     },
     "output_type": "display_data"
    },
    {
     "name": "stdout",
     "output_type": "stream",
     "text": [
      "Model: \"model_2\"\n",
      "_________________________________________________________________\n",
      "Layer (type)                 Output Shape              Param #   \n",
      "=================================================================\n",
      "input_3 (InputLayer)         [(None, 2)]               0         \n",
      "_________________________________________________________________\n",
      "dense_10 (Dense)             (None, 512)               1536      \n",
      "_________________________________________________________________\n",
      "dense_11 (Dense)             (None, 256)               131328    \n",
      "_________________________________________________________________\n",
      "dense_12 (Dense)             (None, 128)               32896     \n",
      "_________________________________________________________________\n",
      "dense_13 (Dense)             (None, 128)               16512     \n",
      "_________________________________________________________________\n",
      "dense_14 (Dense)             (None, 5)                 645       \n",
      "_________________________________________________________________\n",
      "lambda_2 (Lambda)            (None, 4)                 0         \n",
      "=================================================================\n",
      "Total params: 182,917\n",
      "Trainable params: 182,917\n",
      "Non-trainable params: 0\n",
      "_________________________________________________________________\n"
     ]
    },
    {
     "data": {
      "image/png": "[encoded data removed]",
      "text/plain": [
       "<Figure size 432x288 with 1 Axes>"
      ]
     },
     "metadata": {
      "needs_background": "light",
      "tags": []
     },
     "output_type": "display_data"
    },
    {
     "name": "stdout",
     "output_type": "stream",
     "text": [
      "Epoch 1/20\n",
      "2000/2000 [==============================] - 5s 2ms/step - loss: 1618.9864 - mean_absolute_error: 27.1722 - mean_squared_error: 1618.9864 - val_loss: 195.2973 - val_mean_absolute_error: 11.0730 - val_mean_squared_error: 195.2973\n",
      "Epoch 2/20\n",
      "2000/2000 [==============================] - 5s 3ms/step - loss: 175.7055 - mean_absolute_error: 10.4885 - mean_squared_error: 175.7055 - val_loss: 156.6215 - val_mean_absolute_error: 9.8832 - val_mean_squared_error: 156.6215\n",
      "Epoch 3/20\n",
      "2000/2000 [==============================] - 5s 2ms/step - loss: 151.4040 - mean_absolute_error: 9.7775 - mean_squared_error: 151.4040 - val_loss: 130.7656 - val_mean_absolute_error: 9.2074 - val_mean_squared_error: 130.7656\n",
      "Epoch 4/20\n",
      "2000/2000 [==============================] - 5s 2ms/step - loss: 127.8502 - mean_absolute_error: 8.9747 - mean_squared_error: 127.8502 - val_loss: 79.8453 - val_mean_absolute_error: 7.1709 - val_mean_squared_error: 79.8453\n",
      "Epoch 5/20\n",
      "2000/2000 [==============================] - 5s 2ms/step - loss: 89.8493 - mean_absolute_error: 7.4865 - mean_squared_error: 89.8493 - val_loss: 17.3452 - val_mean_absolute_error: 3.3331 - val_mean_squared_error: 17.3452\n",
      "Epoch 6/20\n",
      "2000/2000 [==============================] - 5s 3ms/step - loss: 19.9928 - mean_absolute_error: 3.5642 - mean_squared_error: 19.9928 - val_loss: 6.4195 - val_mean_absolute_error: 2.0120 - val_mean_squared_error: 6.4195\n",
      "Epoch 7/20\n",
      "2000/2000 [==============================] - 5s 3ms/step - loss: 12.0691 - mean_absolute_error: 2.7222 - mean_squared_error: 12.0691 - val_loss: 6.5626 - val_mean_absolute_error: 2.0855 - val_mean_squared_error: 6.5626\n",
      "Epoch 8/20\n",
      "2000/2000 [==============================] - 5s 2ms/step - loss: 8.1202 - mean_absolute_error: 2.2532 - mean_squared_error: 8.1202 - val_loss: 5.0799 - val_mean_absolute_error: 1.8046 - val_mean_squared_error: 5.0799\n",
      "Epoch 9/20\n",
      "2000/2000 [==============================] - 5s 2ms/step - loss: 5.9661 - mean_absolute_error: 1.9069 - mean_squared_error: 5.9661 - val_loss: 7.2559 - val_mean_absolute_error: 2.3135 - val_mean_squared_error: 7.2559\n",
      "Epoch 10/20\n",
      "2000/2000 [==============================] - 5s 3ms/step - loss: 4.5597 - mean_absolute_error: 1.6867 - mean_squared_error: 4.5597 - val_loss: 3.6454 - val_mean_absolute_error: 1.4666 - val_mean_squared_error: 3.6454\n",
      "Epoch 11/20\n",
      "2000/2000 [==============================] - 5s 3ms/step - loss: 4.0058 - mean_absolute_error: 1.5858 - mean_squared_error: 4.0058 - val_loss: 2.3273 - val_mean_absolute_error: 1.2091 - val_mean_squared_error: 2.3273\n",
      "Epoch 12/20\n",
      "2000/2000 [==============================] - 5s 3ms/step - loss: 3.8811 - mean_absolute_error: 1.5599 - mean_squared_error: 3.8811 - val_loss: 2.6900 - val_mean_absolute_error: 1.3697 - val_mean_squared_error: 2.6900\n",
      "Epoch 13/20\n",
      "2000/2000 [==============================] - 5s 2ms/step - loss: 3.8010 - mean_absolute_error: 1.5417 - mean_squared_error: 3.8010 - val_loss: 3.1707 - val_mean_absolute_error: 1.4759 - val_mean_squared_error: 3.1707\n",
      "Epoch 14/20\n",
      "2000/2000 [==============================] - 5s 2ms/step - loss: 3.7701 - mean_absolute_error: 1.5331 - mean_squared_error: 3.7701 - val_loss: 2.4267 - val_mean_absolute_error: 1.2547 - val_mean_squared_error: 2.4267\n",
      "Epoch 15/20\n",
      "2000/2000 [==============================] - 5s 3ms/step - loss: 3.0868 - mean_absolute_error: 1.3861 - mean_squared_error: 3.0868 - val_loss: 1.4126 - val_mean_absolute_error: 0.9463 - val_mean_squared_error: 1.4126\n",
      "Epoch 16/20\n",
      "2000/2000 [==============================] - 5s 3ms/step - loss: 3.0301 - mean_absolute_error: 1.3880 - mean_squared_error: 3.0301 - val_loss: 1.3132 - val_mean_absolute_error: 0.9017 - val_mean_squared_error: 1.3132\n",
      "Epoch 17/20\n",
      "2000/2000 [==============================] - 5s 3ms/step - loss: 2.6920 - mean_absolute_error: 1.2979 - mean_squared_error: 2.6920 - val_loss: 1.6081 - val_mean_absolute_error: 1.0554 - val_mean_squared_error: 1.6081\n",
      "Epoch 18/20\n",
      "2000/2000 [==============================] - 5s 2ms/step - loss: 1.6769 - mean_absolute_error: 1.0287 - mean_squared_error: 1.6769 - val_loss: 2.6947 - val_mean_absolute_error: 1.4801 - val_mean_squared_error: 2.6947\n",
      "Epoch 19/20\n",
      "2000/2000 [==============================] - 5s 2ms/step - loss: 1.1816 - mean_absolute_error: 0.8632 - mean_squared_error: 1.1816 - val_loss: 0.6795 - val_mean_absolute_error: 0.7064 - val_mean_squared_error: 0.6795\n",
      "Epoch 20/20\n",
      "2000/2000 [==============================] - 5s 2ms/step - loss: 0.8195 - mean_absolute_error: 0.7098 - mean_squared_error: 0.8195 - val_loss: 0.4672 - val_mean_absolute_error: 0.5974 - val_mean_squared_error: 0.4672\n"
     ]
    },
    {
     "data": {
      "image/png": "[encoded data removed]",
      "text/plain": [
       "<Figure size 432x288 with 1 Axes>"
      ]
     },
     "metadata": {
      "needs_background": "light",
      "tags": []
     },
     "output_type": "display_data"
    },
    {
     "data": {
      "image/png": "[encoded data removed]",
      "text/plain": [
       "<Figure size 432x288 with 1 Axes>"
      ]
     },
     "metadata": {
      "needs_background": "light",
      "tags": []
     },
     "output_type": "display_data"
    },
    {
     "name": "stdout",
     "output_type": "stream",
     "text": [
      "625/625 [==============================] - 1s 2ms/step - loss: 0.5193 - mean_absolute_error: 0.6348 - mean_squared_error: 0.5193\n",
      "[0.5192974209785461, 0.6347653269767761, 0.5192974209785461]\n",
      "Model: \"model_3\"\n",
      "_________________________________________________________________\n",
      "Layer (type)                 Output Shape              Param #   \n",
      "=================================================================\n",
      "input_4 (InputLayer)         [(None, 2)]               0         \n",
      "_________________________________________________________________\n",
      "dense_15 (Dense)             (None, 512)               1536      \n",
      "_________________________________________________________________\n",
      "dense_16 (Dense)             (None, 256)               131328    \n",
      "_________________________________________________________________\n",
      "dense_17 (Dense)             (None, 128)               32896     \n",
      "_________________________________________________________________\n",
      "dense_18 (Dense)             (None, 128)               16512     \n",
      "_________________________________________________________________\n",
      "dense_19 (Dense)             (None, 5)                 645       \n",
      "_________________________________________________________________\n",
      "lambda_3 (Lambda)            (None, 4)                 0         \n",
      "=================================================================\n",
      "Total params: 182,917\n",
      "Trainable params: 182,917\n",
      "Non-trainable params: 0\n",
      "_________________________________________________________________\n"
     ]
    },
    {
     "name": "stderr",
     "output_type": "stream",
     "text": [
      "\n",
      "  0%|          | 0/200 [00:00<?, ?episodes/s]\u001b[A\n",
      "  0%|          | 1/200 [00:02<09:13,  2.78s/episodes]\u001b[A"
     ]
    },
    {
     "name": "stdout",
     "output_type": "stream",
     "text": [
      "Reach destination====================================================================================!!!!!!!!\n",
      "Reach destination====================================================================================!!!!!!!!\n"
     ]
    },
    {
     "name": "stderr",
     "output_type": "stream",
     "text": [
      "\n",
      "  2%|1         | 3/200 [00:08<08:59,  2.74s/episodes]\u001b[A\n",
      "  2%|2         | 4/200 [00:12<10:26,  3.20s/episodes]\u001b[A\n",
      "  2%|2         | 5/200 [00:16<11:41,  3.60s/episodes]\u001b[A\n",
      "  3%|3         | 6/200 [00:21<12:27,  3.85s/episodes]\u001b[A\n",
      "  4%|3         | 7/200 [00:25<12:14,  3.80s/episodes]\u001b[A"
     ]
    },
    {
     "name": "stdout",
     "output_type": "stream",
     "text": [
      "Reach destination====================================================================================!!!!!!!!\n"
     ]
    },
    {
     "name": "stderr",
     "output_type": "stream",
     "text": [
      "\n",
      "  4%|4         | 8/200 [00:29<12:49,  4.01s/episodes]\u001b[A"
     ]
    },
    {
     "name": "stdout",
     "output_type": "stream",
     "text": [
      "Reach destination====================================================================================!!!!!!!!\n"
     ]
    },
    {
     "name": "stderr",
     "output_type": "stream",
     "text": [
      "\n",
      "  4%|4         | 9/200 [00:34<13:48,  4.34s/episodes]\u001b[A\n",
      "  5%|5         | 10/200 [00:39<13:52,  4.38s/episodes]\u001b[A"
     ]
    },
    {
     "name": "stdout",
     "output_type": "stream",
     "text": [
      "Episode: 10, total steps: 200,  final return: -2290.4399999999996\n"
     ]
    },
    {
     "name": "stderr",
     "output_type": "stream",
     "text": [
      "\n",
      "  6%|5         | 11/200 [00:42<12:49,  4.07s/episodes]\u001b[A"
     ]
    },
    {
     "name": "stdout",
     "output_type": "stream",
     "text": [
      "Reach destination====================================================================================!!!!!!!!\n"
     ]
    },
    {
     "name": "stderr",
     "output_type": "stream",
     "text": [
      "\n",
      "  6%|6         | 12/200 [00:46<13:07,  4.19s/episodes]\u001b[A\n",
      "  6%|6         | 13/200 [00:51<13:21,  4.29s/episodes]\u001b[A\n",
      "  7%|7         | 14/200 [00:55<13:12,  4.26s/episodes]\u001b[A"
     ]
    },
    {
     "name": "stdout",
     "output_type": "stream",
     "text": [
      "Reach destination====================================================================================!!!!!!!!\n"
     ]
    },
    {
     "name": "stderr",
     "output_type": "stream",
     "text": [
      "\n",
      "  8%|7         | 15/200 [01:00<13:24,  4.35s/episodes]\u001b[A\n",
      "  8%|8         | 16/200 [01:04<13:31,  4.41s/episodes]\u001b[A\n",
      "  8%|8         | 17/200 [01:09<13:43,  4.50s/episodes]\u001b[A\n",
      "  9%|9         | 18/200 [01:13<13:39,  4.50s/episodes]\u001b[A\n",
      " 10%|9         | 19/200 [01:15<10:29,  3.48s/episodes]\u001b[A"
     ]
    },
    {
     "name": "stdout",
     "output_type": "stream",
     "text": [
      "Reach destination====================================================================================!!!!!!!!\n"
     ]
    },
    {
     "name": "stderr",
     "output_type": "stream",
     "text": [
      "\n",
      " 10%|#         | 20/200 [01:19<11:27,  3.82s/episodes]\u001b[A"
     ]
    },
    {
     "name": "stdout",
     "output_type": "stream",
     "text": [
      "Episode: 20, total steps: 200,  final return: -4499.24\n"
     ]
    },
    {
     "name": "stderr",
     "output_type": "stream",
     "text": [
      "\n",
      " 10%|#         | 21/200 [01:24<11:55,  4.00s/episodes]\u001b[A\n",
      " 11%|#1        | 22/200 [01:28<12:34,  4.24s/episodes]\u001b[A\n",
      " 12%|#1        | 23/200 [01:33<13:10,  4.47s/episodes]\u001b[A\n",
      " 12%|#2        | 24/200 [01:38<13:10,  4.49s/episodes]\u001b[A\n",
      " 12%|#2        | 25/200 [01:42<13:06,  4.49s/episodes]\u001b[A\n",
      " 13%|#3        | 26/200 [01:47<13:14,  4.57s/episodes]\u001b[A\n",
      " 14%|#3        | 27/200 [01:52<13:09,  4.56s/episodes]\u001b[A\n",
      " 14%|#4        | 28/200 [01:57<13:22,  4.66s/episodes]\u001b[A\n",
      " 14%|#4        | 29/200 [02:03<15:12,  5.33s/episodes]\u001b[A\n",
      " 15%|#5        | 30/200 [02:30<33:00, 11.65s/episodes]\u001b[A"
     ]
    },
    {
     "name": "stdout",
     "output_type": "stream",
     "text": [
      "Episode: 30, total steps: 200,  final return: -4354.32\n"
     ]
    },
    {
     "name": "stderr",
     "output_type": "stream",
     "text": [
      "\n",
      " 16%|#5        | 31/200 [02:57<45:28, 16.15s/episodes]\u001b[A\n",
      " 16%|#6        | 32/200 [03:06<39:35, 14.14s/episodes]\u001b[A\n",
      " 16%|#6        | 33/200 [03:33<49:54, 17.93s/episodes]\u001b[A\n",
      " 17%|#7        | 34/200 [04:00<56:57, 20.59s/episodes]\u001b[A\n",
      " 18%|#7        | 35/200 [04:08<46:57, 17.08s/episodes]\u001b[A\n",
      " 18%|#8        | 36/200 [04:25<46:07, 16.87s/episodes]\u001b[A\n",
      " 18%|#8        | 37/200 [04:40<44:09, 16.26s/episodes]\u001b[A\n",
      " 19%|#9        | 38/200 [05:06<52:14, 19.35s/episodes]\u001b[A\n",
      " 20%|#9        | 39/200 [05:33<57:42, 21.51s/episodes]\u001b[A\n",
      " 20%|##        | 40/200 [05:41<46:32, 17.46s/episodes]\u001b[A"
     ]
    },
    {
     "name": "stdout",
     "output_type": "stream",
     "text": [
      "Reach destination====================================================================================!!!!!!!!\n",
      "Episode: 40, total steps: 58,  final return: -739.4\n"
     ]
    },
    {
     "name": "stderr",
     "output_type": "stream",
     "text": [
      "\n",
      " 20%|##        | 41/200 [06:08<53:57, 20.36s/episodes]\u001b[A\n",
      " 21%|##1       | 42/200 [06:29<54:14, 20.60s/episodes]\u001b[A\n",
      " 22%|##1       | 43/200 [06:56<58:53, 22.50s/episodes]\u001b[A\n",
      " 22%|##2       | 44/200 [07:08<49:59, 19.23s/episodes]\u001b[A\n",
      " 22%|##2       | 45/200 [07:12<38:25, 14.87s/episodes]\u001b[A\n",
      " 23%|##3       | 46/200 [07:40<47:50, 18.64s/episodes]\u001b[A\n",
      " 24%|##3       | 47/200 [08:06<53:41, 21.06s/episodes]\u001b[A\n",
      " 24%|##4       | 48/200 [08:34<58:22, 23.04s/episodes]\u001b[A\n",
      " 24%|##4       | 49/200 [09:02<1:01:27, 24.42s/episodes]\u001b[A\n",
      " 25%|##5       | 50/200 [09:28<1:02:31, 25.01s/episodes]\u001b[A"
     ]
    },
    {
     "name": "stdout",
     "output_type": "stream",
     "text": [
      "Episode: 50, total steps: 200,  final return: -2314.440000000001\n"
     ]
    },
    {
     "name": "stderr",
     "output_type": "stream",
     "text": [
      "\n",
      " 26%|##5       | 51/200 [09:55<1:03:19, 25.50s/episodes]\u001b[A\n",
      " 26%|##6       | 52/200 [10:22<1:04:06, 25.99s/episodes]\u001b[A\n",
      " 26%|##6       | 53/200 [10:49<1:04:19, 26.25s/episodes]\u001b[A\n",
      " 27%|##7       | 54/200 [11:15<1:04:13, 26.39s/episodes]\u001b[A\n",
      " 28%|##7       | 55/200 [11:42<1:04:14, 26.58s/episodes]\u001b[A\n",
      " 28%|##8       | 56/200 [12:09<1:03:42, 26.55s/episodes]\u001b[A\n",
      " 28%|##8       | 57/200 [12:36<1:03:46, 26.76s/episodes]\u001b[A\n",
      " 29%|##9       | 58/200 [13:04<1:03:49, 26.97s/episodes]\u001b[A\n",
      " 30%|##9       | 59/200 [13:31<1:03:27, 27.01s/episodes]\u001b[A\n",
      " 30%|###       | 60/200 [13:39<50:05, 21.46s/episodes]  \u001b[A"
     ]
    },
    {
     "name": "stdout",
     "output_type": "stream",
     "text": [
      "Episode: 60, total steps: 61,  final return: -1177.6399999999994\n"
     ]
    },
    {
     "name": "stderr",
     "output_type": "stream",
     "text": [
      "\n",
      " 30%|###       | 61/200 [14:07<53:50, 23.24s/episodes]\u001b[A\n",
      " 31%|###1      | 62/200 [14:33<55:51, 24.28s/episodes]\u001b[A\n",
      " 32%|###1      | 63/200 [15:00<56:59, 24.96s/episodes]\u001b[A\n",
      " 32%|###2      | 64/200 [15:27<58:11, 25.67s/episodes]\u001b[A\n",
      " 32%|###2      | 65/200 [15:54<58:39, 26.07s/episodes]\u001b[A\n",
      " 33%|###3      | 66/200 [16:21<58:56, 26.39s/episodes]\u001b[A\n",
      " 34%|###3      | 67/200 [16:49<59:12, 26.71s/episodes]\u001b[A\n",
      " 34%|###4      | 68/200 [17:16<58:48, 26.73s/episodes]\u001b[A\n",
      " 34%|###4      | 69/200 [17:43<58:43, 26.90s/episodes]\u001b[A\n",
      " 35%|###5      | 70/200 [18:10<58:16, 26.90s/episodes]\u001b[A"
     ]
    },
    {
     "name": "stdout",
     "output_type": "stream",
     "text": [
      "Episode: 70, total steps: 200,  final return: -1849.9200000000005\n"
     ]
    },
    {
     "name": "stderr",
     "output_type": "stream",
     "text": [
      "\n",
      " 36%|###5      | 71/200 [18:29<53:04, 24.69s/episodes]\u001b[A"
     ]
    },
    {
     "name": "stdout",
     "output_type": "stream",
     "text": [
      "Reach destination====================================================================================!!!!!!!!\n"
     ]
    },
    {
     "name": "stderr",
     "output_type": "stream",
     "text": [
      "\n",
      " 36%|###6      | 72/200 [18:57<54:36, 25.60s/episodes]\u001b[A\n",
      " 36%|###6      | 73/200 [19:24<55:14, 26.10s/episodes]\u001b[A\n",
      " 37%|###7      | 74/200 [19:52<55:39, 26.50s/episodes]\u001b[A\n",
      " 38%|###7      | 75/200 [20:19<55:34, 26.67s/episodes]\u001b[A\n",
      " 38%|###8      | 76/200 [20:46<55:34, 26.89s/episodes]\u001b[A\n",
      " 38%|###8      | 77/200 [21:13<55:06, 26.88s/episodes]\u001b[A\n",
      " 39%|###9      | 78/200 [21:18<41:10, 20.25s/episodes]\u001b[A"
     ]
    },
    {
     "name": "stdout",
     "output_type": "stream",
     "text": [
      "Reach destination====================================================================================!!!!!!!!\n"
     ]
    },
    {
     "name": "stderr",
     "output_type": "stream",
     "text": [
      "\n",
      " 40%|###9      | 79/200 [21:45<44:48, 22.22s/episodes]\u001b[A\n",
      " 40%|####      | 80/200 [21:59<39:27, 19.73s/episodes]\u001b[A"
     ]
    },
    {
     "name": "stdout",
     "output_type": "stream",
     "text": [
      "Reach destination====================================================================================!!!!!!!!\n",
      "Episode: 80, total steps: 104,  final return: -1051.6800000000003\n"
     ]
    },
    {
     "name": "stderr",
     "output_type": "stream",
     "text": [
      "\n",
      " 40%|####      | 81/200 [22:25<43:18, 21.84s/episodes]\u001b[A\n",
      " 41%|####1     | 82/200 [22:53<46:09, 23.47s/episodes]\u001b[A\n",
      " 42%|####1     | 83/200 [23:20<47:56, 24.58s/episodes]\u001b[A\n",
      " 42%|####2     | 84/200 [23:47<48:48, 25.25s/episodes]\u001b[A\n",
      " 42%|####2     | 85/200 [24:14<49:35, 25.87s/episodes]\u001b[A\n",
      " 43%|####3     | 86/200 [24:41<49:40, 26.15s/episodes]\u001b[A\n",
      " 44%|####3     | 87/200 [25:08<50:05, 26.60s/episodes]\u001b[A\n",
      " 44%|####4     | 88/200 [25:36<50:10, 26.88s/episodes]\u001b[A\n",
      " 44%|####4     | 89/200 [26:03<49:56, 26.99s/episodes]\u001b[A\n",
      " 45%|####5     | 90/200 [26:31<49:55, 27.23s/episodes]\u001b[A"
     ]
    },
    {
     "name": "stdout",
     "output_type": "stream",
     "text": [
      "Episode: 90, total steps: 200,  final return: -2534.6799999999994\n"
     ]
    },
    {
     "name": "stderr",
     "output_type": "stream",
     "text": [
      "\n",
      " 46%|####5     | 91/200 [26:58<49:27, 27.22s/episodes]\u001b[A\n",
      " 46%|####6     | 92/200 [27:25<48:46, 27.09s/episodes]\u001b[A\n",
      " 46%|####6     | 93/200 [27:52<48:32, 27.22s/episodes]\u001b[A\n",
      " 47%|####6     | 94/200 [28:19<47:55, 27.12s/episodes]\u001b[A\n",
      " 48%|####7     | 95/200 [28:32<40:02, 22.88s/episodes]\u001b[A"
     ]
    },
    {
     "name": "stdout",
     "output_type": "stream",
     "text": [
      "Reach destination====================================================================================!!!!!!!!\n"
     ]
    },
    {
     "name": "stderr",
     "output_type": "stream",
     "text": [
      "\n",
      " 48%|####8     | 96/200 [29:00<42:08, 24.31s/episodes]\u001b[A\n",
      " 48%|####8     | 97/200 [29:27<43:04, 25.09s/episodes]\u001b[A\n",
      " 49%|####9     | 98/200 [29:54<43:41, 25.70s/episodes]\u001b[A\n",
      " 50%|####9     | 99/200 [30:21<44:03, 26.17s/episodes]\u001b[A\n",
      " 50%|#####     | 100/200 [30:48<43:38, 26.18s/episodes]\u001b[A"
     ]
    },
    {
     "name": "stdout",
     "output_type": "stream",
     "text": [
      "Episode: 100, total steps: 200,  final return: -1831.0799999999988\n"
     ]
    },
    {
     "name": "stderr",
     "output_type": "stream",
     "text": [
      "\n",
      " 50%|#####     | 101/200 [31:14<43:26, 26.32s/episodes]\u001b[A\n",
      " 51%|#####1    | 102/200 [31:42<43:44, 26.78s/episodes]\u001b[A\n",
      " 52%|#####1    | 103/200 [32:09<43:23, 26.84s/episodes]\u001b[A\n",
      " 52%|#####2    | 104/200 [32:36<43:04, 26.92s/episodes]\u001b[A\n",
      " 52%|#####2    | 105/200 [33:03<42:43, 26.99s/episodes]\u001b[A\n",
      " 53%|#####3    | 106/200 [33:30<42:15, 26.97s/episodes]\u001b[A\n",
      " 54%|#####3    | 107/200 [33:57<41:48, 26.97s/episodes]\u001b[A\n",
      " 54%|#####4    | 108/200 [34:24<41:23, 26.99s/episodes]\u001b[A\n",
      " 55%|#####4    | 109/200 [34:46<38:29, 25.38s/episodes]\u001b[A"
     ]
    },
    {
     "name": "stdout",
     "output_type": "stream",
     "text": [
      "Reach destination====================================================================================!!!!!!!!\n"
     ]
    },
    {
     "name": "stderr",
     "output_type": "stream",
     "text": [
      "\n",
      " 55%|#####5    | 110/200 [35:13<38:41, 25.80s/episodes]\u001b[A"
     ]
    },
    {
     "name": "stdout",
     "output_type": "stream",
     "text": [
      "Episode: 110, total steps: 200,  final return: -3599.799999999996\n"
     ]
    },
    {
     "name": "stderr",
     "output_type": "stream",
     "text": [
      "\n",
      " 56%|#####5    | 111/200 [35:39<38:36, 26.03s/episodes]\u001b[A\n",
      " 56%|#####6    | 112/200 [36:07<38:46, 26.43s/episodes]\u001b[A\n",
      " 56%|#####6    | 113/200 [36:34<38:41, 26.69s/episodes]\u001b[A\n",
      " 57%|#####6    | 114/200 [37:01<38:29, 26.86s/episodes]\u001b[A\n",
      " 57%|#####7    | 115/200 [37:28<38:05, 26.89s/episodes]\u001b[A\n",
      " 58%|#####8    | 116/200 [37:55<37:34, 26.84s/episodes]\u001b[A\n",
      " 58%|#####8    | 117/200 [38:22<37:11, 26.89s/episodes]\u001b[A\n",
      " 59%|#####8    | 118/200 [38:49<36:48, 26.93s/episodes]\u001b[A\n",
      " 60%|#####9    | 119/200 [39:16<36:26, 26.99s/episodes]\u001b[A\n",
      " 60%|######    | 120/200 [39:44<36:15, 27.20s/episodes]\u001b[A"
     ]
    },
    {
     "name": "stdout",
     "output_type": "stream",
     "text": [
      "Episode: 120, total steps: 200,  final return: -3906.279999999999\n"
     ]
    },
    {
     "name": "stderr",
     "output_type": "stream",
     "text": [
      "\n",
      " 60%|######    | 121/200 [40:11<35:48, 27.20s/episodes]\u001b[A\n",
      " 61%|######1   | 122/200 [40:38<35:23, 27.23s/episodes]\u001b[A\n",
      " 62%|######1   | 123/200 [41:05<34:57, 27.24s/episodes]\u001b[A\n",
      " 62%|######2   | 124/200 [41:33<34:27, 27.21s/episodes]\u001b[A\n",
      " 62%|######2   | 125/200 [42:00<33:59, 27.19s/episodes]\u001b[A\n",
      " 63%|######3   | 126/200 [42:26<33:21, 27.05s/episodes]\u001b[A\n",
      " 64%|######3   | 127/200 [42:34<25:48, 21.21s/episodes]\u001b[A\n",
      " 64%|######4   | 128/200 [43:01<27:31, 22.94s/episodes]\u001b[A\n",
      " 64%|######4   | 129/200 [43:28<28:36, 24.18s/episodes]\u001b[A\n",
      " 65%|######5   | 130/200 [43:56<29:30, 25.29s/episodes]\u001b[A"
     ]
    },
    {
     "name": "stdout",
     "output_type": "stream",
     "text": [
      "Episode: 130, total steps: 200,  final return: -2892.9600000000005\n"
     ]
    },
    {
     "name": "stderr",
     "output_type": "stream",
     "text": [
      "\n",
      " 66%|######5   | 131/200 [44:01<22:17, 19.38s/episodes]\u001b[A\n",
      " 66%|######6   | 132/200 [44:26<23:47, 20.99s/episodes]\u001b[A"
     ]
    },
    {
     "name": "stdout",
     "output_type": "stream",
     "text": [
      "Reach destination====================================================================================!!!!!!!!\n"
     ]
    },
    {
     "name": "stderr",
     "output_type": "stream",
     "text": [
      "\n",
      " 66%|######6   | 133/200 [44:54<25:48, 23.11s/episodes]\u001b[A\n",
      " 67%|######7   | 134/200 [45:24<27:29, 24.99s/episodes]\u001b[A\n",
      " 68%|######7   | 135/200 [45:51<27:58, 25.83s/episodes]\u001b[A\n",
      " 68%|######8   | 136/200 [46:19<28:15, 26.49s/episodes]\u001b[A\n",
      " 68%|######8   | 137/200 [46:48<28:18, 26.96s/episodes]\u001b[A\n",
      " 69%|######9   | 138/200 [46:49<19:59, 19.35s/episodes]\u001b[A\n",
      " 70%|######9   | 139/200 [47:17<22:13, 21.86s/episodes]\u001b[A\n",
      " 70%|#######   | 140/200 [47:44<23:35, 23.59s/episodes]\u001b[A"
     ]
    },
    {
     "name": "stdout",
     "output_type": "stream",
     "text": [
      "Episode: 140, total steps: 200,  final return: -3629.1200000000017\n"
     ]
    },
    {
     "name": "stderr",
     "output_type": "stream",
     "text": [
      "\n",
      " 70%|#######   | 141/200 [48:12<24:21, 24.78s/episodes]\u001b[A\n",
      " 71%|#######1  | 142/200 [48:40<24:44, 25.60s/episodes]\u001b[A\n",
      " 72%|#######1  | 143/200 [49:07<24:54, 26.21s/episodes]\u001b[A\n",
      " 72%|#######2  | 144/200 [49:35<24:46, 26.55s/episodes]\u001b[A\n",
      " 72%|#######2  | 145/200 [50:02<24:37, 26.87s/episodes]\u001b[A\n",
      " 73%|#######3  | 146/200 [50:30<24:23, 27.11s/episodes]\u001b[A\n",
      " 74%|#######3  | 147/200 [50:40<19:34, 22.16s/episodes]\u001b[A\n",
      " 74%|#######4  | 148/200 [50:43<14:06, 16.27s/episodes]\u001b[A\n",
      " 74%|#######4  | 149/200 [51:10<16:41, 19.64s/episodes]\u001b[A\n",
      " 75%|#######5  | 150/200 [51:38<18:20, 22.00s/episodes]\u001b[A"
     ]
    },
    {
     "name": "stdout",
     "output_type": "stream",
     "text": [
      "Episode: 150, total steps: 200,  final return: -1911.3600000000004\n"
     ]
    },
    {
     "name": "stderr",
     "output_type": "stream",
     "text": [
      "\n",
      " 76%|#######5  | 151/200 [51:47<14:48, 18.14s/episodes]\u001b[A\n",
      " 76%|#######6  | 152/200 [52:15<16:47, 20.98s/episodes]\u001b[A\n",
      " 76%|#######6  | 153/200 [52:42<17:53, 22.85s/episodes]\u001b[A\n",
      " 77%|#######7  | 154/200 [53:09<18:30, 24.15s/episodes]\u001b[A\n",
      " 78%|#######7  | 155/200 [53:37<18:54, 25.21s/episodes]\u001b[A\n",
      " 78%|#######8  | 156/200 [53:39<13:22, 18.23s/episodes]\u001b[A\n",
      " 78%|#######8  | 157/200 [53:43<10:08, 14.15s/episodes]\u001b[A\n",
      " 79%|#######9  | 158/200 [54:11<12:42, 18.15s/episodes]\u001b[A\n",
      " 80%|#######9  | 159/200 [54:13<09:08, 13.37s/episodes]\u001b[A\n",
      " 80%|########  | 160/200 [54:26<08:49, 13.23s/episodes]\u001b[A"
     ]
    },
    {
     "name": "stdout",
     "output_type": "stream",
     "text": [
      "Reach destination====================================================================================!!!!!!!!\n",
      "Episode: 160, total steps: 92,  final return: -1280.2800000000002\n"
     ]
    },
    {
     "name": "stderr",
     "output_type": "stream",
     "text": [
      "\n",
      " 80%|########  | 161/200 [54:53<11:14, 17.29s/episodes]\u001b[A\n",
      " 81%|########1 | 162/200 [55:20<12:48, 20.22s/episodes]\u001b[A\n",
      " 82%|########1 | 163/200 [55:28<10:09, 16.48s/episodes]\u001b[A\n",
      " 82%|########2 | 164/200 [55:55<11:49, 19.71s/episodes]\u001b[A\n",
      " 82%|########2 | 165/200 [56:02<09:21, 16.03s/episodes]\u001b[A\n",
      " 83%|########2 | 166/200 [56:29<10:56, 19.31s/episodes]\u001b[A\n",
      " 84%|########3 | 167/200 [56:57<11:56, 21.72s/episodes]\u001b[A\n",
      " 84%|########4 | 168/200 [57:24<12:25, 23.31s/episodes]\u001b[A\n",
      " 84%|########4 | 169/200 [57:27<08:58, 17.38s/episodes]\u001b[A\n",
      " 85%|########5 | 170/200 [57:39<07:52, 15.74s/episodes]\u001b[A"
     ]
    },
    {
     "name": "stdout",
     "output_type": "stream",
     "text": [
      "Episode: 170, total steps: 90,  final return: -261.5599999999999\n"
     ]
    },
    {
     "name": "stderr",
     "output_type": "stream",
     "text": [
      "\n",
      " 86%|########5 | 171/200 [57:49<06:50, 14.14s/episodes]\u001b[A\n",
      " 86%|########6 | 172/200 [57:54<05:19, 11.41s/episodes]\u001b[A\n",
      " 86%|########6 | 173/200 [58:00<04:16,  9.50s/episodes]\u001b[A\n",
      " 87%|########7 | 174/200 [58:20<05:30, 12.70s/episodes]\u001b[A\n",
      " 88%|########7 | 175/200 [58:26<04:32, 10.88s/episodes]\u001b[A\n",
      " 88%|########8 | 176/200 [58:52<06:08, 15.35s/episodes]\u001b[A\n",
      " 88%|########8 | 177/200 [59:00<05:04, 13.25s/episodes]\u001b[A\n",
      " 89%|########9 | 178/200 [59:14<04:54, 13.41s/episodes]\u001b[A\n",
      " 90%|########9 | 179/200 [59:42<06:09, 17.61s/episodes]\u001b[A\n",
      " 90%|######### | 180/200 [59:48<04:46, 14.30s/episodes]\u001b[A"
     ]
    },
    {
     "name": "stdout",
     "output_type": "stream",
     "text": [
      "Episode: 180, total steps: 49,  final return: -626.9200000000002\n"
     ]
    },
    {
     "name": "stderr",
     "output_type": "stream",
     "text": [
      "\n",
      " 90%|######### | 181/200 [1:00:16<05:46, 18.24s/episodes]\u001b[A\n",
      " 91%|#########1| 182/200 [1:00:22<04:25, 14.78s/episodes]\u001b[A\n",
      " 92%|#########1| 183/200 [1:00:35<04:01, 14.18s/episodes]\u001b[A\n",
      " 92%|#########2| 184/200 [1:01:03<04:50, 18.14s/episodes]\u001b[A\n",
      " 92%|#########2| 185/200 [1:01:29<05:10, 20.71s/episodes]\u001b[A\n",
      " 93%|#########3| 186/200 [1:01:57<05:18, 22.73s/episodes]\u001b[A\n",
      " 94%|#########3| 187/200 [1:02:11<04:23, 20.24s/episodes]\u001b[A"
     ]
    },
    {
     "name": "stdout",
     "output_type": "stream",
     "text": [
      "Reach destination====================================================================================!!!!!!!!\n"
     ]
    },
    {
     "name": "stderr",
     "output_type": "stream",
     "text": [
      "\n",
      " 94%|#########3| 188/200 [1:02:26<03:44, 18.69s/episodes]\u001b[A\n",
      " 94%|#########4| 189/200 [1:02:53<03:53, 21.23s/episodes]\u001b[A\n",
      " 95%|#########5| 190/200 [1:03:21<03:51, 23.13s/episodes]\u001b[A"
     ]
    },
    {
     "name": "stdout",
     "output_type": "stream",
     "text": [
      "Episode: 190, total steps: 200,  final return: -3723.040000000001\n"
     ]
    },
    {
     "name": "stderr",
     "output_type": "stream",
     "text": [
      "\n",
      " 96%|#########5| 191/200 [1:03:48<03:38, 24.32s/episodes]\u001b[A\n",
      " 96%|#########6| 192/200 [1:04:05<02:57, 22.24s/episodes]\u001b[A\n",
      " 96%|#########6| 193/200 [1:04:18<02:15, 19.35s/episodes]\u001b[A\n",
      " 97%|#########7| 194/200 [1:04:37<01:56, 19.39s/episodes]\u001b[A"
     ]
    },
    {
     "name": "stdout",
     "output_type": "stream",
     "text": [
      "Reach destination====================================================================================!!!!!!!!\n"
     ]
    },
    {
     "name": "stderr",
     "output_type": "stream",
     "text": [
      "\n",
      " 98%|#########7| 195/200 [1:04:46<01:21, 16.25s/episodes]\u001b[A\n",
      " 98%|#########8| 196/200 [1:05:14<01:18, 19.64s/episodes]\u001b[A\n",
      " 98%|#########8| 197/200 [1:05:19<00:45, 15.23s/episodes]\u001b[A\n",
      " 99%|#########9| 198/200 [1:05:36<00:31, 15.80s/episodes]\u001b[A\n",
      "100%|#########9| 199/200 [1:05:51<00:15, 15.70s/episodes]\u001b[A\n",
      "100%|##########| 200/200 [1:06:19<00:00, 19.90s/episodes]"
     ]
    },
    {
     "name": "stdout",
     "output_type": "stream",
     "text": [
      "Episode: 200, total steps: 200,  final return: -4096.440000000002\n"
     ]
    },
    {
     "name": "stderr",
     "output_type": "stream",
     "text": [
      "\n"
     ]
    },
    {
     "data": {
      "image/png": "[encoded data removed]",
      "text/plain": [
       "<Figure size 432x288 with 1 Axes>"
      ]
     },
     "metadata": {
      "needs_background": "light",
      "tags": []
     },
     "output_type": "display_data"
    },
    {
     "data": {
      "image/png": "[encoded data removed]",
      "text/plain": [
       "<Figure size 432x288 with 2 Axes>"
      ]
     },
     "metadata": {
      "needs_background": "light",
      "tags": []
     },
     "output_type": "display_data"
    },
    {
     "name": "stdout",
     "output_type": "stream",
     "text": [
      "17/200 episodes reach terminal\n"
     ]
    },
    {
     "name": "stderr",
     "output_type": "stream",
     "text": [
      "/usr/local/lib/python3.7/dist-packages/numpy/core/_asarray.py:136: VisibleDeprecationWarning: Creating an ndarray from ragged nested sequences (which is a list-or-tuple of lists-or-tuples-or ndarrays with different lengths or shapes) is deprecated. If you meant to do this, you must specify 'dtype=object' when creating the ndarray\n",
      "  return array(a, dtype, copy=False, order=order, subok=True)\n"
     ]
    }
   ],
   "source": [
    "# -*- coding: utf-8 -*-\n",
    "\"\"\"\n",
    "Created on Nov. 7 2019 \n",
    "Modified on Jan. 2 2020\n",
    "\n",
    "@author: Yong Zeng\n",
    "Dueling double deep Q network (DDQN) multi-step learning for coverage-aware \n",
    "navigation for cellular-connected UAV\n",
    "\"\"\"\n",
    "\n",
    "%matplotlib inline\n",
    "import numpy as np\n",
    "#콜백(callbacks)은 학습 과정의 특정 단계에서 적용할 함수의 세트\n",
    "from keras.callbacks import TensorBoard #텐서플로우가 제공하는 시각화 도구\n",
    "import tensorflow as tf\n",
    "from collections import deque\n",
    "import time\n",
    "import random\n",
    "#keras의 Sequential model로 layer를 만들면 layer 맨 앞에 input은 따로 없고 \n",
    "#1st layer에서 input_shape에 데이터 형태 적어줌\n",
    "#Input : 순수한 데이터의 양으로, 텐서를 반환\n",
    "#Dense : Fully connected layer\n",
    "#Lambda : 이전 레이어를 trainable weight 추가없이 어떤 작업을 하고자 할 때 ex) my own activation function추가하고 싶을 때(not built-in keras) 람다 레이어 사용 !!\n",
    "from keras.layers import Input, Dense,Lambda \n",
    "from keras.models import Model\n",
    "#Model 사용 예시 : model = tf.keras.Model(inputs=inputs, outputs=outputs)\n",
    "#이러한 함수형 API사용시 학습된 모델을 재사용하기 편함!\n",
    "from tqdm import tqdm\n",
    "#tqdm : for문의 상태바를 나타내주는 파이썬 진행표시바 표시, 보통 for문의 ranage를 감쌈\n",
    "import os #운영체제와 상호작용\n",
    "import matplotlib.pyplot as plt\n",
    "from numpy import linalg as LA #선형대수\n",
    "import keras.backend as K \n",
    "#keras는 layer수준의 연산을 하기때문에 low level 연산은 지원못함 -> 이걸 backend하면 variable 연산 가능\n",
    "#Theano(th)와 Tensorflow(tf) 모두와 호환이 되는 Keras 모듈을 작성\n",
    "import import_ipynb #주피터 파일 임포트하기\n",
    "import radio_environment as rad_env #the actual radio environment\n",
    "\n",
    "\n",
    "X_MAX=2000.0 \n",
    "Y_MAX=2000.0 #The area region in meters\n",
    "MAX_VALS=np.array([[X_MAX,Y_MAX]])\n",
    "\n",
    "DESTINATION=np.array([[1400,1600]],dtype=\"float32\")#UAV flying destination in meter\n",
    "DIST_TOLERANCE=30#DESTINATION에 도착했다고 인정해주는 오차 거리(30m)\n",
    "\n",
    "DISCOUNT = 1 #Undiscounted!!\n",
    "REPLAY_MEMORY_SIZE = 100_000  # How many last steps to keep for model training\n",
    "MIN_REPLAY_MEMORY_SIZE = 5_000  # Minimum number of steps in a memory to start training\n",
    "MINIBATCH_SIZE = 32  # How many steps (samples) to use for training\n",
    "UPDATE_TARGET_EVERY = 5  # 타겟네트워크 파라미터 theta 업데이터 주기(Algo 1.의 line18)\n",
    "MAX_STEP=200 #maximum number of time steps per episode\n",
    "MODEL_NAME = '512_256_128_128' #The numbers of neurons of the first 4 hidden layers\n",
    "MIN_REWARD = -1000  # For model save\n",
    "nSTEP=30 #parameter for multi-step learning\n",
    "\n",
    "# Environment settings\n",
    "EPISODES = 200#Number of training episodes(원래 5000임)\n",
    "\n",
    "\n",
    "# Exploration settings\n",
    "epsilon =0.5  # not a constant, going to be decayed\n",
    "EPSILON_DECAY = 0.998\n",
    "MIN_EPSILON = 0\n",
    "\n",
    "episode_all=np.arange(EPISODES)\n",
    "#array([   0,    1,    2, ..., 4997, 4998, 4999])\n",
    "epsilon_all=epsilon*EPSILON_DECAY**episode_all\n",
    "#각 에피소드에 해당하는 epsilon\n",
    "epsilon_all=np.maximum(epsilon_all,MIN_EPSILON)\n",
    "\n",
    "#1st 그림\n",
    "plt.figure()\n",
    "plt.plot(episode_all,epsilon_all,'b',linewidth=2)\n",
    "plt.grid(True,which='major',axis='both')\n",
    "plt.title('Epsilon according to episode')\n",
    "plt.show()\n",
    "\n",
    "#  Stats settings\n",
    "AGGREGATE_STATS_EVERY = 50  # episodes\n",
    "SHOW_PREVIEW = False\n",
    "\n",
    "\n",
    "delta_t=0.5 #time step length in seconds(논문 14p)\n",
    "\n",
    "#penalty measured in terms of the time required to reach destination\n",
    "REACH_DES_REWARD=200\n",
    "MOVE_PENALTY = 1\n",
    "NON_COVER_PENALTY = 40 #Outage penalty weight µ \n",
    "OUT_BOUND_PENALTY = 10000 #Outbound penalty\n",
    "\n",
    "\n",
    "x=np.linspace(0,X_MAX,200)#0부터 2_000을 200개로 나눔\n",
    "y=np.linspace(0,Y_MAX,200)#0부터 2_000을 200개로 나눔\n",
    "\n",
    "\n",
    "OBSERVATION_SPACE_VALUES=(2,)#2차원 UAV비행(x,y)좌표\n",
    "ACTIONS=np.array([[0, 1],\n",
    "             [1,0],\n",
    "             [0,-1],\n",
    "             [-1,0]],dtype=int)#논문 24p(K=4)로 action을 나눔\n",
    "ACTION_SPACE_SIZE = ACTIONS.shape[0] #ACTION_SPACE_SIZE = 4\n",
    "   \n",
    "MAX_SPEED=20 #(14p : In order to get optimal solution, UAV should fly with the maximum speed)(m/s)\n",
    "STEP_DISPLACEMENT=MAX_SPEED*delta_t #The displacement per time step\n",
    "\n",
    "  \n",
    "# Create models folder\n",
    "if not os.path.isdir('models'):#'models'디렉토리가 있는지\n",
    "    os.makedirs('models')\n",
    "\n",
    "\n",
    "# Own Tensorboard class\n",
    "class ModifiedTensorBoard(TensorBoard):\n",
    "\n",
    "    # Overriding init to set initial step and writer (we want one log file for all .fit() calls)\n",
    "    def __init__(self, **kwargs):\n",
    "        #*args : 값을 넣으면 함수에 변수가 튜플로 입력, **kwargs : 딕셔너리 형태로 입력\n",
    "        super().__init__(**kwargs) \n",
    "        #ModifiedTensorBoard 클래스가 TensorBoard 클래스의 __init__()에 있는 클래스 변수 가지고 오기\n",
    "        #super()을 통해 TensorBoard의 __init__()의 overriding 방지\n",
    "        self.step = 1\n",
    "        #self.writer = tf.summary.FileWriter(self.log_dir)\n",
    "        self.writer = tf.summary.create_file_writer(self.log_dir)\n",
    "        #주어진 로그 디렉토리에 대한 요약 파일 작성기를 작성\n",
    "\n",
    "    # Overriding this method to stop creating default log writer\n",
    "    def set_model(self, model):\n",
    "        pass\n",
    "\n",
    "    # Overrided, saves logs with our step number\n",
    "    # (otherwise every .fit() will start writing from 0th step)\n",
    "#    def on_epoch_end(self, epoch, logs=None):\n",
    "#        self.update_stats(**logs)\n",
    "\n",
    "    # Overrided\n",
    "    # We train for one batch only, no need to save anything at epoch end\n",
    "    def on_batch_end(self, batch, logs=None):\n",
    "        pass\n",
    "\n",
    "    # Overrided, so won't close writer\n",
    "    def on_train_end(self, _):\n",
    "        pass\n",
    "\n",
    "    # Custom method for saving own metrics\n",
    "    # Creates writer, writes custom metrics and closes writer\n",
    "#    def update_stats(self, **stats):\n",
    "#        self._write_logs(stats, self.step)\n",
    "    \n",
    "#    def _write_logs(self, logs, index):\n",
    "#        with self.writer.as_default():\n",
    "#            for name, value in logs.items():\n",
    "#                tf.summary.scalar(name, value, step=index)\n",
    "#                #self.step += 1\n",
    "#            self.writer.flush()\n",
    "\n",
    "\n",
    "class UAVEnv:\n",
    "    \n",
    "    def reset(self):\n",
    "        self.episode_step = 0\n",
    "        s0=self.random_generate_states(num_states=1)\n",
    "         \n",
    "        return s0\n",
    "\n",
    "\n",
    "    def random_generate_states(self,num_states): #return loc : 50~1950 중 랜덤 x,y 좌표 생성\n",
    "        loc_x=np.random.uniform(50,X_MAX-50,(num_states,1)) #50 ~ 1950 중 위치 랜덤 생성\n",
    "        loc_y=np.random.uniform(50,Y_MAX-50,(num_states,1)) #50 ~ 1950 중 위치 랜덤 생성\n",
    "        loc=np.concatenate((loc_x,loc_y),axis=1)\n",
    "        \n",
    "        return loc\n",
    "            \n",
    "\n",
    "#for each location visited by the UAV, it will have the J signal measurementsfrom each of the M cellular BSs\n",
    "#based on these M*J measurements, calculate the empirical outage probability\n",
    "    def get_empirical_outage(self, location):\n",
    "        #location given in meters\n",
    "        #convert the location to kilometer\n",
    "        loc_km=np.zeros(shape=(1,3))\n",
    "        loc_km[0,:2]=location/1000\n",
    "        loc_km[0,2]=0.1#UAV height in km\n",
    "        #loc_km = np.array([[1.4, 1.1, 0.1]]) if location is np.array([1400, 1100])\n",
    "        Pout=rad_env.getPointMiniOutage(loc_km)\n",
    "        return Pout[0]\n",
    "    \n",
    "    \n",
    "    def step(self, current_state, action_idx, cur_traj):\n",
    "        self.episode_step += 1\n",
    "                      \n",
    "        next_state=current_state+STEP_DISPLACEMENT*ACTIONS[action_idx]\n",
    "        outbound=False\n",
    "        #out bound의 조건 3가지\n",
    "        out_bound_check1=next_state<0\n",
    "        out_bound_check2=next_state[0,0]>X_MAX\n",
    "        out_bound_check3=next_state[0,1]>Y_MAX\n",
    "        if out_bound_check1.any() or out_bound_check2.any() or out_bound_check3.any():#outbound되면\n",
    "            outbound=True       \n",
    "            next_state[next_state<0]=0 #'next_state<0'은 True, False를 리턴함 -> True index에 대하여 0으로 최종리턴\n",
    "            next_state[0,0]=np.minimum(X_MAX,next_state[0,0])\n",
    "            next_state[0,1]=np.minimum(Y_MAX,next_state[0,1])\n",
    "           \n",
    "        if LA.norm(next_state-DESTINATION)<=DIST_TOLERANCE: #터미널(인정 거리 포함)에 도착한다면\n",
    "            terminal=True\n",
    "            print('Reach destination====================================================================================!!!!!!!!')\n",
    "        else:\n",
    "            terminal=False\n",
    "    \n",
    "        if terminal or outbound:\n",
    "            reward=-MOVE_PENALTY\n",
    "        else: \n",
    "            Pout=self.get_empirical_outage(next_state)\n",
    "            reward=-MOVE_PENALTY-NON_COVER_PENALTY*Pout #p.16 에서 reward 정의\n",
    "                          \n",
    "        done = False\n",
    "                               \n",
    "        if terminal or self.episode_step >= MAX_STEP or outbound:\n",
    "            done = True\n",
    "                           \n",
    "        return next_state, reward, terminal,outbound,done\n",
    "    \n",
    "            \n",
    "\n",
    "env = UAVEnv()\n",
    "\n",
    "\n",
    "# For more repetitive results, seed값 고정\n",
    "random.seed(1)\n",
    "np.random.seed(1)\n",
    "tf.random.set_seed(1)\n",
    "\n",
    "\n",
    "# Agent class\n",
    "class DQNAgent:\n",
    "    def __init__(self):\n",
    "        # Main model\n",
    "        self.model = self.create_model(dueling=True)\n",
    "        \n",
    "        self.initilize_model()\n",
    "\n",
    "        # Target network\n",
    "        self.target_model = self.create_model(dueling=True)\n",
    "        self.target_model.set_weights(self.model.get_weights())\n",
    "       \n",
    "        self.replay_memory = deque(maxlen=REPLAY_MEMORY_SIZE)\n",
    "\n",
    "        # Custom tensorboard object\n",
    "        #self.tensorboard = ModifiedTensorBoard(log_dir=\"logs/{}-{}\".format(MODEL_NAME, int(time.time())))\n",
    "\n",
    "        # Used to count when to update target network with main network's weights\n",
    "        self.target_update_counter = 0\n",
    "\n",
    "    def create_model(self, dueling):\n",
    "        inp = Input(shape=OBSERVATION_SPACE_VALUES) #OBSERVATION_SPACE_VALUES = (2,)(x,y) 좌표\n",
    "        outp=Dense(512,activation='relu')(inp)\n",
    "        outp=Dense(256,activation='relu')(outp)\n",
    "        outp=Dense(128,activation='relu')(outp)\n",
    "        outp=Dense(128,activation='relu')(outp)#according to p.24\n",
    "        \n",
    "        if(dueling):\n",
    "            # Have the network estimate the Advantage function as an intermediate layer\n",
    "            outp=Dense(ACTION_SPACE_SIZE+1, activation='linear')(outp)\n",
    "            #Dueling : 끝단에 1layer를 더 만들어서 그 fully connected layer를 반으로 나눔\n",
    "            #(state-action value + action 수)\n",
    "            outp=Lambda(lambda i: K.expand_dims(i[:,0],-1) + i[:,1:] - K.mean(i[:,1:], keepdims=True),\n",
    "                        output_shape=(ACTION_SPACE_SIZE,))(outp)\n",
    "            #lambda i 식은 Dueling에서 Deterministic policy가 아닐 때 V, A를 더하는 식(RL algorithm table  참고)\n",
    "            #keepdims = True : 1차원 배열로 배열 원소간 합을 반환\n",
    "        else: # 평범한 기존 DQN의 output layer\n",
    "            outp=Dense(ACTION_SPACE_SIZE,activation='linear')(outp)\n",
    "            \n",
    "        model = Model(inp,outp)\n",
    "        \n",
    "        model.compile(optimizer='adam',loss='mean_squared_error',\n",
    "                      metrics=['mean_absolute_error', 'mean_squared_error'])\n",
    "        model.summary()\n",
    "        return model\n",
    "\n",
    "\n",
    "       \n",
    "    def normalize_data(self,input_data):\n",
    "        return input_data/MAX_VALS #MAX_VALS=np.array([[X_MAX,Y_MAX]])\n",
    "\n",
    "       \n",
    "    def initilize_model(self):       \n",
    "        #initialize the DQN so that the Q values of each (state,action) pair\n",
    "        #equal to: -MOVE_PENALTY*distance/STEP_DISPLACEMENT,\n",
    "        #where distance is the distance between the next state and the destination\n",
    "        #this will encourage shortest path flying initially when there is no information on the coverage map\n",
    "               \n",
    "        xx,yy=np.meshgrid(x,y,indexing='ij')\n",
    "        #indexing='ij' : 배열형. 출력의 인덱싱 정의(행렬)\n",
    "        \n",
    "        plt.figure(0)\n",
    "        plt.plot(DESTINATION[0,0],DESTINATION[0,1],'r>',markersize=15)\n",
    "        plt.show()\n",
    "                \n",
    "        num_states=100_000\n",
    "        xy_loc=env.random_generate_states(num_states) #num_states만큼의 random (x,y) 좌표 생성(num_states x 2)\n",
    "        \n",
    "        \n",
    "        Actions_aug=np.zeros((1,xy_loc.shape[1],ACTION_SPACE_SIZE),dtype=int)\n",
    "        #Actions_aug = (1 x 2 x 4)의 영행렬\n",
    "        for i in range(Actions_aug.shape[2]):\n",
    "            Actions_aug[:,:,i]=ACTIONS[i]\n",
    "            #Actions_aug = array([[[ 0,  1,  0, -1],\n",
    "                                 #[ 1,  0, -1,  0]]])\n",
    "            \n",
    "        Actions_aug=np.tile(Actions_aug,(xy_loc.shape[0],1,1))\n",
    "        #np.tile : 반복행렬 만들기 : Actions_aug을 (num_states x 1 x 1)만큼\n",
    "        xy_loc_aug=np.zeros((xy_loc.shape[0],xy_loc.shape[1],1))\n",
    "        #(num_states x 2 x 1)\n",
    "        xy_loc_aug[:,:,0]=xy_loc\n",
    "        #xy_loc_aug[:,:,0] : 마지막 축을 없앤 것과 같으므로 (num_states x 2) 즉, xy_loc 차원과 같다.\n",
    "        xy_loc_aug=np.repeat(xy_loc_aug,ACTION_SPACE_SIZE,axis=2)\n",
    "        #axis = 2 기준으로 ACTION_SPACE_SIZE = 4만큼 반복(1000 x 2 x 4)\n",
    "        xy_loc_next_state=xy_loc_aug+STEP_DISPLACEMENT*Actions_aug\n",
    "        #(1000 x 2 x 4) : 현재 스텝(xy_loc_aug)에서 각 action(4걔)을 했을 때 next_step에 해당하는 좌표들의 값\n",
    "        \n",
    "        xy_loc_next_state[xy_loc_next_state<0]=0 #음수인 좌표에 대해서는 0으로 리턴하고음수인 좌표에 대해서는 0으로 리턴하고\n",
    "        xy_loc_next_state[:,0,:]=np.minimum(X_MAX,xy_loc_next_state[:,0,:]) #x좌표에 대해서\n",
    "        xy_loc_next_state[:,1,:]=np.minimum(Y_MAX,xy_loc_next_state[:,1,:]) #y좌표에 대해서\n",
    "        \n",
    "        end_loc_reshaped=np.zeros((1,2,1))\n",
    "        end_loc_reshaped[0,:,0]=DESTINATION #(1 x 2 x 1)\n",
    "        distance_to_destination=LA.norm(xy_loc_next_state-end_loc_reshaped,axis=1)\n",
    "        #compute the distance to destination  (num_states x 4)\n",
    "        Q_init=-distance_to_destination/STEP_DISPLACEMENT*MOVE_PENALTY\n",
    "        \n",
    "                \n",
    "        train_data=xy_loc[:int(num_states*0.8),:]\n",
    "        train_label=Q_init[:int(num_states*0.8),:]\n",
    "        #num_states 중 80% data를 train 사용     \n",
    "        test_data=xy_loc[int(num_states*0.8):,:]\n",
    "        test_label=Q_init[int(num_states*0.8):,:]\n",
    "        #num_states 중 20% data를 test 사용\n",
    "       \n",
    "        history=self.model.fit(self.normalize_data(train_data),train_label,epochs=20,\n",
    "                               validation_split=0.2,verbose=1)\n",
    "        #Model.fit(x=None,y=None,batch_size=None,epochs=1,verbose=1, validation_split)\n",
    "        #epochs : 전체 데이터 20번 사용해서 학습\n",
    "        #validation_split : 20% test\n",
    "        #verbose = 0 : silent, = 1 : progress bar, = 2 : one line bar per epochs\n",
    "        #self.model : def create_model 내의 함수이자 리턴값            \n",
    "        history_dict = history.history\n",
    "        history_dict.keys()\n",
    "        #history_dict는 딕셔너리 형태로 키와 값의 쌍으로 이루어진 데이터 타입인데, 키만 추출할 때\n",
    "                                                                \n",
    "        mse = history_dict['mean_squared_error']\n",
    "        val_mse = history_dict['val_mean_squared_error']\n",
    "        mae = history_dict['mean_absolute_error']\n",
    "        val_mae=history_dict['val_mean_absolute_error']\n",
    "        \n",
    "     \n",
    "        epochs = range(1, len(mse) + 1)\n",
    "        \n",
    "        plt.figure()   \n",
    "        \n",
    "        plt.plot(epochs, mse, 'bo', label='Training MSE')\n",
    "        plt.plot(epochs, val_mse, 'r', label='Validation MSE')\n",
    "        plt.title('Training and validation MSE')\n",
    "#        plt.ylim(0,100)\n",
    "        plt.xlabel('Epochs')\n",
    "        plt.ylabel('MSE')\n",
    "        plt.legend()\n",
    "        \n",
    "        plt.show()\n",
    "        \n",
    "        \n",
    "        plt.figure()   # clear figure\n",
    "        \n",
    "        plt.plot(epochs, mae, 'bo', label='Training MAE')\n",
    "        plt.plot(epochs, val_mae, 'r', label='Validation MAE')\n",
    "        plt.title('Training and validation accuracy')\n",
    "        plt.xlabel('Epochs')\n",
    "        plt.ylabel('MAE')\n",
    "    #    plt.ylim(0,15)\n",
    "        plt.legend()\n",
    "        \n",
    "        plt.show()\n",
    "             \n",
    "        result=self.model.evaluate(self.normalize_data(test_data),test_label)\n",
    "        #evaluate->test 데이터로 진행! : Loss value 리턴\n",
    "        print(result)\n",
    "                        \n",
    "             \n",
    "\n",
    "    #Add data to replay memory for n-step return\n",
    "    #(St, At, R_nstep, S_{t+n}, terminal, outbound, done)\n",
    "    #where R_nstep=R_{t+1}+gamma*R_{t+2}+gamma^2*R_{t+3}....+gamma^(nSTEP-1)*R_{t+n}\n",
    "    #논문 17p(multistep)\n",
    "    def update_replay_memory_nStepLearning(self,slide_window,nSTEP,endEpisode):\n",
    "        #update only after n steps\n",
    "        if len(slide_window)<nSTEP:\n",
    "            return\n",
    "\n",
    "#        slide_window contains the list in the following order:\n",
    "#        (current_state,action_idx,reward,next_state,terminal,outbound,done) 총 7개       \n",
    "        rewards_nsteps= [transition[2] for transition in slide_window]\n",
    "        discount_nsteps=DISCOUNT**np.arange(nSTEP)\n",
    "        R_nstep=sum(rewards_nsteps*discount_nsteps)\n",
    "        \n",
    "        St=slide_window[0][0]\n",
    "        At=slide_window[0][1]\n",
    "        \n",
    "        St_plus_n=slide_window[-1][3] #아직 왜[-1]인지는 안 나옴\n",
    "        terminal=slide_window[-1][4]\n",
    "        outbound=slide_window[-1][5]\n",
    "        done=slide_window[-1][6]\n",
    "        \n",
    "        \"\"\" Store experience in memory buffer\n",
    "        \"\"\"         \n",
    "        self.replay_memory.append((St,At,R_nstep,St_plus_n,terminal,outbound,done))\n",
    "        #def init에서 정의했음 : self.replay_memory = deque(maxlen=REPLAY_MEMORY_SIZE) REPLAY_MEMORY_SIZE = 100_000\n",
    "             \n",
    "        if endEpisode: #에피소드 끝의 마지막 몇 단계에 대한 잘린 n-step return     \n",
    "            for i in range(1,nSTEP):\n",
    "                rewards_i=rewards_nsteps[i:] #i부터 이후 값 리턴\n",
    "                discount_i=DISCOUNT**np.arange(nSTEP-i)\n",
    "                R_i=sum(rewards_i*discount_i)\n",
    "                \n",
    "                St_i=slide_window[i][0]\n",
    "                At_i=slide_window[i][1]\n",
    "                                \n",
    "                self.replay_memory.append((St_i,At_i,R_i,St_plus_n,terminal,outbound,done))\n",
    "            \n",
    "        \n",
    "    def sample_batch_from_replay_memory(self):\n",
    "        minibatch = random.sample(self.replay_memory, MINIBATCH_SIZE)\n",
    "        #MINIBATCH_SIZE = 32, OBSERVATION_SPACE_VALUES[0]=2\n",
    "        #minibatch (32 x 7)\n",
    "        current_state_batch = np.zeros((MINIBATCH_SIZE, OBSERVATION_SPACE_VALUES[0])) #OBSERVATION_SPACE_VALUES=(2,)\n",
    "        next_state_batch = np.zeros((MINIBATCH_SIZE, OBSERVATION_SPACE_VALUES[0])) \n",
    "        #(32 x 2)\n",
    "        actions_idx, rewards, terminal, outbound, done= [], [], [], [], []\n",
    "                \n",
    "        for idx, val in enumerate(minibatch):  \n",
    "            #minibatch (32 x 7)\n",
    "            current_state_batch[idx] = val[0] #별도로 만든 행렬에 넣고\n",
    "            actions_idx.append(val[1])\n",
    "            rewards.append(val[2])\n",
    "            next_state_batch[idx] = val[3]           \n",
    "            terminal.append(val[4])\n",
    "            outbound.append(val[5])\n",
    "            done.append(val[6])\n",
    "            \n",
    "        return current_state_batch, actions_idx, rewards, next_state_batch, terminal, outbound, done\n",
    "    #current_state_batch : (32x2), 나머지는 list\n",
    "       \n",
    "    \n",
    "    def deepDoubleQlearn(self,episode_done):\n",
    "        # Start training only if certain number of samples is already saved                 \n",
    "        if len(self.replay_memory) < MIN_REPLAY_MEMORY_SIZE:\n",
    "            return\n",
    "                    \n",
    "        current_state_batch, actions_idx, rewards, next_state_batch, terminal,outbound, done= self.sample_batch_from_replay_memory()\n",
    "                           \n",
    "        current_Q_values=self.model.predict(self.normalize_data(current_state_batch))\n",
    "        #모델 사용하기\n",
    "       \n",
    "        next_Q_values_currentNetwork=self.model.predict(self.normalize_data(next_state_batch))  \n",
    "        # use the current network to evaluate action\n",
    "        next_actions=np.argmax(next_Q_values_currentNetwork,axis=1)        \n",
    "          \n",
    "        next_Q_values = self.target_model.predict(self.normalize_data(next_state_batch))  \n",
    "        # use the target network to evaluate value\n",
    "        \n",
    "\n",
    "        Y=current_Q_values\n",
    "        \n",
    "        for i in range(MINIBATCH_SIZE):\n",
    "\n",
    "            if terminal[i]: #에피소드가 끝났다면\n",
    "                target = rewards[i]+REACH_DES_REWARD\n",
    "            elif outbound[i]: #범위를 벗어났다면\n",
    "                target=rewards[i]-OUT_BOUND_PENALTY\n",
    "            else:\n",
    "#               target = rewards[i] + DISCOUNT**nSTEP*np.minimum(next_Q_values[i,next_actions[i]],-1)\n",
    "                target = rewards[i] + DISCOUNT**nSTEP*next_Q_values[i,next_actions[i]]\n",
    "                #논문 17p참고\n",
    "            Y[i,actions_idx[i]]=target\n",
    "            #actions_idx : (1 x 32) 크기를 가짐\n",
    "                                  \n",
    "        self.model.fit(self.normalize_data(current_state_batch), \n",
    "                       Y,batch_size=MINIBATCH_SIZE,verbose=0, shuffle=False, \n",
    "                       #callbacks=[self.tensorboard] if episode_done else None\n",
    "                      )\n",
    "        #target lable에 대하여 fitting(훈련)\n",
    "        \n",
    "        # Update target network counter every episode\n",
    "        if episode_done:\n",
    "            self.target_update_counter += 1            \n",
    "            # If counter reaches set value, update target network with weights of main network\n",
    "            #즉, 타겟 네트워크 weight 최신화(5주기)\n",
    "            if self.target_update_counter >= UPDATE_TARGET_EVERY:\n",
    "                self.target_model.set_weights(self.model.get_weights())\n",
    "                self.target_update_counter = 0\n",
    "                             \n",
    "   \n",
    "    def choose_action(self,current_state,cur_traj,epsilon):                       \n",
    "        next_possible_states=current_state+STEP_DISPLACEMENT*ACTIONS       \n",
    "        #(4 x 2)\n",
    "        next_possible_states[next_possible_states<0]=0\n",
    "        next_possible_states[:,0]=np.minimum(next_possible_states[:,0],X_MAX)\n",
    "        next_possible_states[:,1]=np.minimum(next_possible_states[:,1],Y_MAX)        \n",
    "        #좌표 튜닝\n",
    "        next_possible_states=next_possible_states.tolist()\n",
    "        #tolist() : 같은 레벨에 있는 값끼리 묶어준다.\n",
    "        #예시 : array([[300, 410],[310, 400],[300, 390],[290, 400]])\n",
    "        #       [[300, 410], [310, 400], [300, 390], [290, 400]]\n",
    "        no_repetition=[] #means do not replay repetition\n",
    "        \n",
    "        cur_traj=cur_traj[-10:] #no return to the previous few locations\n",
    "        #최근 10step 반환\n",
    "        for state in next_possible_states:\n",
    "            no_repetition.append(state not in cur_traj)\n",
    "            #cur_traj 내에 state가 없다면 True, 있으면 False 반환\n",
    "            #예 : no_repetition = [True, True, False, True]\n",
    "             \n",
    "        \n",
    "        actions_idx_all=np.arange(ACTION_SPACE_SIZE)\n",
    "        actions_idx_valid=actions_idx_all[no_repetition]\n",
    "        #그래서 no_repetition = [False, True, False, True]이면\n",
    "        #actions_idx_valid = [1 3] 반환 -> 즉, trajectory를 지나온 state로 다시 가는 것을 방지\n",
    "           \n",
    "        if np.random.rand()<=epsilon or len(actions_idx_valid)==0:#Exploration\n",
    "            action_idx=np.random.randint(0,ACTION_SPACE_SIZE) \n",
    "            return action_idx\n",
    "        else:     #Exploitation   \n",
    "            Q_value=self.model.predict(self.normalize_data(current_state))\n",
    "            Q_value=Q_value[0]            \n",
    "            action_idx_maxVal=np.argmax(Q_value)\n",
    "            if action_idx_maxVal in actions_idx_valid:#유효한 action 범위면 그렇게 뽑고\n",
    "                action_idx=action_idx_maxVal\n",
    "            else: #아니면 유요한 action 범위 중 랜덤하게 하나 뽑아라\n",
    "                action_idx=random.sample(actions_idx_valid.tolist(),1)\n",
    "                action_idx=action_idx[0]                                                         \n",
    "            return action_idx\n",
    "        \n",
    "\n",
    "\n",
    "agent = DQNAgent()\n",
    "\n",
    "ep_rewards,ep_trajecotry,ep_reach_terminal,ep_outbound,ep_actions=[],[],[],[],[]\n",
    "\n",
    "# Iterate over episodes\n",
    "for episode in tqdm(range(1, EPISODES + 1), ascii=True, unit='episodes'):\n",
    "    #ascii = True : ######로 진행 표시\n",
    "    # Update tensorboard step every episode\n",
    "    # agent.tensorboard.step = episode\n",
    "    #.tensorboard.step : input(current_state, action_idx, cur_traj) \n",
    "    #-> output(next_state, reward, terminal,outbound,done)\n",
    "\n",
    "    # Restarting episode - reset episode reward and step number\n",
    "    episode_reward = 0\n",
    "\n",
    "    # Reset environment and get initial state\n",
    "    current_state = env.reset()\n",
    "    cur_trajectory=[]\n",
    "    cur_actions=[]\n",
    "    \n",
    "    slide_window=deque(maxlen=nSTEP)\n",
    "   \n",
    "    # Reset flag and start iterating until episode ends   \n",
    "    done=False\n",
    "    \n",
    "    while not done:\n",
    "        cur_trajectory.append(np.squeeze(current_state).tolist())\n",
    "        #np.squeeze : 1차원인 축 제거 + tolist = current_state 간단한 리스트\n",
    "        action_idx=agent.choose_action(current_state,cur_trajectory,epsilon)\n",
    "           \n",
    "        next_state, reward, terminal, outbound, done = env.step(current_state,action_idx,cur_trajectory)\n",
    "\n",
    "        episode_reward += reward\n",
    "        \n",
    "        slide_window.append((current_state,action_idx,reward,next_state,terminal,outbound,done)) \n",
    "\n",
    "        agent.update_replay_memory_nStepLearning(slide_window,nSTEP,done)\n",
    "               \n",
    "        agent.deepDoubleQlearn(done)\n",
    "\n",
    "        current_state = next_state\n",
    "\n",
    "\n",
    "    # Append episode reward to a list and log stats (every given number of episodes)\n",
    "    ep_rewards.append(episode_reward)\n",
    "    ep_trajecotry.append(cur_trajectory)\n",
    "    ep_reach_terminal.append(terminal)\n",
    "    ep_outbound.append(outbound)\n",
    "    \n",
    "   \n",
    "    \n",
    "    if episode%10 == 0:\n",
    "#        dist_to_dest=LA.norm(start_loc-end_loc)\n",
    "#        print(\"Start location:{}, distance to destination:{}\".format(start_loc,dist_to_dest))\n",
    "        print(\"Episode: {}, total steps: {},  final return: {}\".format(episode,len(cur_trajectory),episode_reward))\n",
    "        \n",
    "    if not episode % AGGREGATE_STATS_EVERY or episode == 1: #episode 50번째마다 또는 episode = 1 일때\n",
    "        average_reward = sum(ep_rewards[-AGGREGATE_STATS_EVERY:])/len(ep_rewards[-AGGREGATE_STATS_EVERY:])\n",
    "        min_reward = min(ep_rewards[-AGGREGATE_STATS_EVERY:])\n",
    "        max_reward = max(ep_rewards[-AGGREGATE_STATS_EVERY:])\n",
    "        #agent.tensorboard.update_stats(reward_avg=average_reward, \n",
    "        #                               reward_min=min_reward, reward_max=max_reward, epsilon=epsilon)\n",
    "\n",
    "        # Save model, but only when min reward is greater or equal a set value\n",
    "        if min_reward >= MIN_REWARD:\n",
    "            agent.model.save(f'models/{MODEL_NAME}__{max_reward:_>7.2f}max_{average_reward:_>7.2f}avg_{min_reward:_>7.2f}min__{int(time.time())}.model')\n",
    "\n",
    "    # Decay epsilon\n",
    "    if epsilon > MIN_EPSILON:\n",
    "        epsilon *= EPSILON_DECAY\n",
    "        epsilon = max(MIN_EPSILON, epsilon)\n",
    "        \n",
    " \n",
    "\n",
    "def get_moving_average(mylist,N):\n",
    "    cumsum, moving_aves = [0], []\n",
    "    for i, x in enumerate(mylist, 1):\n",
    "        cumsum.append(cumsum[i-1] + x)\n",
    "        if i>=N:\n",
    "            moving_ave = (cumsum[i] - cumsum[i-N])/N\n",
    "            moving_aves.append(moving_ave)\n",
    "    return moving_aves\n",
    "        \n",
    "\n",
    "\n",
    "plt.figure()\n",
    "plt.xlabel('Episode')\n",
    "plt.ylabel('Return per episode')\n",
    "plt.plot(range(len(ep_rewards)),ep_rewards)\n",
    "N=200\n",
    "return_mov_avg=get_moving_average(ep_rewards,N)\n",
    "plt.plot(np.arange(len(return_mov_avg))+N,return_mov_avg,'r-',linewidth=5)\n",
    "#plt.ylim(-6000,0)\n",
    "\n",
    "\n",
    "\n",
    "npzfile = np.load('radioenvir.npz')\n",
    "OutageMapActual=npzfile['arr_0']\n",
    "X_vec=npzfile['arr_1']\n",
    "Y_vec=npzfile['arr_2']\n",
    "\n",
    "fig=plt.figure(30)\n",
    "\n",
    "plt.contourf(np.array(X_vec)*10,np.array(Y_vec)*10,1-OutageMapActual)\n",
    "v = np.linspace(0, 1.0, 11, endpoint=True)\n",
    "cbar=plt.colorbar(ticks=v) \n",
    "\n",
    "\n",
    "#v = np.linspace(0, 1.0, 11, endpoint=True)\n",
    "#cbar=plt.colorbar(ticks=v)\n",
    "#cbar.ax.set_yticklabels(['0','0.2','0.4','0.6','0.8','1.0'])\n",
    "cbar.set_label('coverage probability',labelpad=20, rotation=270,fontsize=14)\n",
    "\n",
    "for episode_idx in range(episode-200, episode):\n",
    "    S_seq=ep_trajecotry[episode_idx]\n",
    "    S_seq=np.squeeze(np.asarray(S_seq))\n",
    "    \n",
    "    if S_seq.ndim>1:\n",
    "        plt.plot(S_seq[0,0],S_seq[0,1],'rx',markersize=5)\n",
    "        plt.plot(S_seq[:,0],S_seq[:,1],'-')\n",
    "    else:\n",
    "        plt.plot(S_seq[0],S_seq[1],'rx',markersize=5)\n",
    "        plt.plot(S_seq[0],S_seq[1],'-')\n",
    "        \n",
    " \n",
    "plt.plot(DESTINATION[0,0],DESTINATION[0,1],'b^',markersize=25)\n",
    "plt.xlabel('x (meter)',fontsize=14)\n",
    "plt.ylabel('y (meter)',fontsize=14)\n",
    "plt.show()\n",
    "fig.savefig('trajectoriesNoMapping.eps')\n",
    "fig.savefig('trajectoriesNoMapping.pdf')\n",
    "fig.savefig('trajectoriesNoMapping.jpg')\n",
    "\n",
    "\n",
    "print('{}/{} episodes reach terminal'.format(ep_reach_terminal.count(True),episode))\n",
    "\n",
    "\n",
    "#Save the simulation ressult\n",
    "np.savez('Dueling_DDQN_MultiStepLeaning_main_Results',return_mov_avg,ep_rewards,ep_trajecotry) "
   ]
  },
  {
   "cell_type": "code",
   "execution_count": null,
   "metadata": {
    "id": "B5Qj8BN3C31G"
   },
   "outputs": [],
   "source": []
  }
 ],
 "metadata": {
  "accelerator": "GPU",
  "colab": {
   "collapsed_sections": [],
   "include_colab_link": true,
   "name": "Dueling_DDQN_MultiStepLearning_main.ipynb",
   "provenance": []
  },
  "kernelspec": {
   "display_name": "Python 3",
   "language": "python",
   "name": "python3"
  },
  "language_info": {
   "codemirror_mode": {
    "name": "ipython",
    "version": 3
   },
   "file_extension": ".py",
   "mimetype": "text/x-python",
   "name": "python",
   "nbconvert_exporter": "python",
   "pygments_lexer": "ipython3",
   "version": "3.7.9"
  },
  "toc": {
   "base_numbering": 1,
   "nav_menu": {},
   "number_sections": true,
   "sideBar": true,
   "skip_h1_title": false,
   "title_cell": "Table of Contents",
   "title_sidebar": "Contents",
   "toc_cell": false,
   "toc_position": {},
   "toc_section_display": true,
   "toc_window_display": false
  }
 },
 "nbformat": 4,
 "nbformat_minor": 1
}
