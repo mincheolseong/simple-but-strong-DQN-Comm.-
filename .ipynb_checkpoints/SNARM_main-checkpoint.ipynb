{
 "cells": [
  {
   "cell_type": "code",
   "execution_count": null,
   "metadata": {
    "ExecuteTime": {
     "start_time": "2021-04-04T00:38:28.341Z"
    },
    "code_folding": []
   },
   "outputs": [
    {
     "data": {
      "image/png": "[encoded data removed]",
      "text/plain": [
       "<Figure size 432x288 with 1 Axes>"
      ]
     },
     "metadata": {
      "needs_background": "light"
     },
     "output_type": "display_data"
    },
    {
     "name": "stdout",
     "output_type": "stream",
     "text": [
      "Model: \"model_3\"\n",
      "_________________________________________________________________\n",
      "Layer (type)                 Output Shape              Param #   \n",
      "=================================================================\n",
      "input_4 (InputLayer)         [(None, 2)]               0         \n",
      "_________________________________________________________________\n",
      "dense_16 (Dense)             (None, 512)               1536      \n",
      "_________________________________________________________________\n",
      "dense_17 (Dense)             (None, 256)               131328    \n",
      "_________________________________________________________________\n",
      "dense_18 (Dense)             (None, 128)               32896     \n",
      "_________________________________________________________________\n",
      "dense_19 (Dense)             (None, 64)                8256      \n",
      "_________________________________________________________________\n",
      "dense_20 (Dense)             (None, 32)                2080      \n",
      "_________________________________________________________________\n",
      "dense_21 (Dense)             (None, 2)                 66        \n",
      "=================================================================\n",
      "Total params: 176,162\n",
      "Trainable params: 176,162\n",
      "Non-trainable params: 0\n",
      "_________________________________________________________________\n",
      "Model: \"model_4\"\n",
      "_________________________________________________________________\n",
      "Layer (type)                 Output Shape              Param #   \n",
      "=================================================================\n",
      "input_5 (InputLayer)         [(None, 2)]               0         \n",
      "_________________________________________________________________\n",
      "dense_22 (Dense)             (None, 512)               1536      \n",
      "_________________________________________________________________\n",
      "dense_23 (Dense)             (None, 256)               131328    \n",
      "_________________________________________________________________\n",
      "dense_24 (Dense)             (None, 128)               32896     \n",
      "_________________________________________________________________\n",
      "dense_25 (Dense)             (None, 128)               16512     \n",
      "_________________________________________________________________\n",
      "dense_26 (Dense)             (None, 5)                 645       \n",
      "_________________________________________________________________\n",
      "lambda_2 (Lambda)            (None, 4)                 0         \n",
      "=================================================================\n",
      "Total params: 182,917\n",
      "Trainable params: 182,917\n",
      "Non-trainable params: 0\n",
      "_________________________________________________________________\n"
     ]
    },
    {
     "data": {
      "image/png": "[encoded data removed]",
      "text/plain": [
       "<Figure size 432x288 with 1 Axes>"
      ]
     },
     "metadata": {
      "needs_background": "light"
     },
     "output_type": "display_data"
    },
    {
     "name": "stdout",
     "output_type": "stream",
     "text": [
      "Epoch 1/20\n",
      "2000/2000 [==============================] - 6s 2ms/step - loss: 1619.0083 - mean_absolute_error: 27.1725 - mean_squared_error: 1619.0083 - val_loss: 195.1925 - val_mean_absolute_error: 11.0703 - val_mean_squared_error: 195.1925\n",
      "Epoch 2/20\n",
      "2000/2000 [==============================] - 4s 2ms/step - loss: 175.6698 - mean_absolute_error: 10.4875 - mean_squared_error: 175.6698 - val_loss: 156.6196 - val_mean_absolute_error: 9.8832 - val_mean_squared_error: 156.6196\n",
      "Epoch 3/20\n",
      "2000/2000 [==============================] - 4s 2ms/step - loss: 151.4114 - mean_absolute_error: 9.7778 - mean_squared_error: 151.4114 - val_loss: 130.7410 - val_mean_absolute_error: 9.2077 - val_mean_squared_error: 130.7410\n",
      "Epoch 4/20\n",
      "2000/2000 [==============================] - 4s 2ms/step - loss: 127.5147 - mean_absolute_error: 8.9643 - mean_squared_error: 127.5147 - val_loss: 79.5691 - val_mean_absolute_error: 7.1587 - val_mean_squared_error: 79.5691\n",
      "Epoch 5/20\n",
      "2000/2000 [==============================] - 4s 2ms/step - loss: 89.7953 - mean_absolute_error: 7.4828 - mean_squared_error: 89.7953 - val_loss: 17.2981 - val_mean_absolute_error: 3.3173 - val_mean_squared_error: 17.2981\n",
      "Epoch 6/20\n",
      "2000/2000 [==============================] - 4s 2ms/step - loss: 19.5105 - mean_absolute_error: 3.5176 - mean_squared_error: 19.5105 - val_loss: 6.0483 - val_mean_absolute_error: 1.9496 - val_mean_squared_error: 6.0483\n",
      "Epoch 7/20\n",
      "2000/2000 [==============================] - 4s 2ms/step - loss: 11.4646 - mean_absolute_error: 2.6641 - mean_squared_error: 11.4646 - val_loss: 5.2146 - val_mean_absolute_error: 1.8287 - val_mean_squared_error: 5.2146\n",
      "Epoch 8/20\n",
      "2000/2000 [==============================] - 5s 2ms/step - loss: 7.7339 - mean_absolute_error: 2.2015 - mean_squared_error: 7.7339 - val_loss: 3.1769 - val_mean_absolute_error: 1.4060 - val_mean_squared_error: 3.1769\n",
      "Epoch 9/20\n",
      "2000/2000 [==============================] - 4s 2ms/step - loss: 5.9824 - mean_absolute_error: 1.9192 - mean_squared_error: 5.9824 - val_loss: 9.9601 - val_mean_absolute_error: 2.7956 - val_mean_squared_error: 9.9601\n",
      "Epoch 10/20\n",
      "2000/2000 [==============================] - 4s 2ms/step - loss: 4.5649 - mean_absolute_error: 1.6851 - mean_squared_error: 4.5649 - val_loss: 3.1477 - val_mean_absolute_error: 1.4130 - val_mean_squared_error: 3.1477\n",
      "Epoch 11/20\n",
      "2000/2000 [==============================] - 5s 2ms/step - loss: 4.1166 - mean_absolute_error: 1.6113 - mean_squared_error: 4.1166 - val_loss: 3.4344 - val_mean_absolute_error: 1.5264 - val_mean_squared_error: 3.4344\n",
      "Epoch 12/20\n",
      "2000/2000 [==============================] - 4s 2ms/step - loss: 3.8920 - mean_absolute_error: 1.5624 - mean_squared_error: 3.8920 - val_loss: 2.8362 - val_mean_absolute_error: 1.4188 - val_mean_squared_error: 2.8362\n",
      "Epoch 13/20\n",
      "2000/2000 [==============================] - 4s 2ms/step - loss: 3.8710 - mean_absolute_error: 1.5512 - mean_squared_error: 3.8710 - val_loss: 3.6822 - val_mean_absolute_error: 1.5905 - val_mean_squared_error: 3.6822\n",
      "Epoch 14/20\n",
      "2000/2000 [==============================] - 4s 2ms/step - loss: 3.8325 - mean_absolute_error: 1.5467 - mean_squared_error: 3.8325 - val_loss: 2.3011 - val_mean_absolute_error: 1.2235 - val_mean_squared_error: 2.3011\n",
      "Epoch 15/20\n",
      "2000/2000 [==============================] - 5s 2ms/step - loss: 2.8299 - mean_absolute_error: 1.3270 - mean_squared_error: 2.8299 - val_loss: 1.1066 - val_mean_absolute_error: 0.8522 - val_mean_squared_error: 1.1066\n",
      "Epoch 16/20\n",
      "2000/2000 [==============================] - 5s 2ms/step - loss: 2.0946 - mean_absolute_error: 1.1444 - mean_squared_error: 2.0946 - val_loss: 2.5158 - val_mean_absolute_error: 1.3704 - val_mean_squared_error: 2.5158\n",
      "Epoch 17/20\n",
      "2000/2000 [==============================] - 4s 2ms/step - loss: 1.5877 - mean_absolute_error: 1.0004 - mean_squared_error: 1.5877 - val_loss: 0.5186 - val_mean_absolute_error: 0.5720 - val_mean_squared_error: 0.5186\n",
      "Epoch 18/20\n",
      "2000/2000 [==============================] - 4s 2ms/step - loss: 0.9914 - mean_absolute_error: 0.7875 - mean_squared_error: 0.9914 - val_loss: 1.2501 - val_mean_absolute_error: 0.8341 - val_mean_squared_error: 1.2501\n",
      "Epoch 19/20\n",
      "2000/2000 [==============================] - 5s 2ms/step - loss: 0.8422 - mean_absolute_error: 0.7223 - mean_squared_error: 0.8422 - val_loss: 0.1075 - val_mean_absolute_error: 0.2546 - val_mean_squared_error: 0.1075\n",
      "Epoch 20/20\n",
      "2000/2000 [==============================] - 4s 2ms/step - loss: 0.5240 - mean_absolute_error: 0.5551 - mean_squared_error: 0.5240 - val_loss: 0.3410 - val_mean_absolute_error: 0.4762 - val_mean_squared_error: 0.3410\n"
     ]
    },
    {
     "data": {
      "image/png": "[encoded data removed]",
      "text/plain": [
       "<Figure size 432x288 with 1 Axes>"
      ]
     },
     "metadata": {
      "needs_background": "light"
     },
     "output_type": "display_data"
    },
    {
     "data": {
      "image/png": "[encoded data removed]",
      "text/plain": [
       "<Figure size 432x288 with 1 Axes>"
      ]
     },
     "metadata": {
      "needs_background": "light"
     },
     "output_type": "display_data"
    },
    {
     "name": "stdout",
     "output_type": "stream",
     "text": [
      "625/625 [==============================] - 1s 1ms/step - loss: 0.3511 - mean_absolute_error: 0.4865 - mean_squared_error: 0.3511\n",
      "[0.35106518864631653, 0.48650771379470825, 0.35106518864631653]\n"
     ]
    },
    {
     "name": "stderr",
     "output_type": "stream",
     "text": [
      "\r",
      "  0%|                                                                                   | 0/5000 [00:00<?, ?episodes/s]"
     ]
    },
    {
     "name": "stdout",
     "output_type": "stream",
     "text": [
      "Model: \"model_5\"\n",
      "_________________________________________________________________\n",
      "Layer (type)                 Output Shape              Param #   \n",
      "=================================================================\n",
      "input_6 (InputLayer)         [(None, 2)]               0         \n",
      "_________________________________________________________________\n",
      "dense_27 (Dense)             (None, 512)               1536      \n",
      "_________________________________________________________________\n",
      "dense_28 (Dense)             (None, 256)               131328    \n",
      "_________________________________________________________________\n",
      "dense_29 (Dense)             (None, 128)               32896     \n",
      "_________________________________________________________________\n",
      "dense_30 (Dense)             (None, 128)               16512     \n",
      "_________________________________________________________________\n",
      "dense_31 (Dense)             (None, 5)                 645       \n",
      "_________________________________________________________________\n",
      "lambda_3 (Lambda)            (None, 4)                 0         \n",
      "=================================================================\n",
      "Total params: 182,917\n",
      "Trainable params: 182,917\n",
      "Non-trainable params: 0\n",
      "_________________________________________________________________\n",
      "Reach destination====================================================================================!!!!!!!!\n"
     ]
    },
    {
     "name": "stderr",
     "output_type": "stream",
     "text": [
      "  0%|1                                                                       | 7/5000 [01:30<17:07:48, 12.35s/episodes]"
     ]
    },
    {
     "name": "stdout",
     "output_type": "stream",
     "text": [
      "Reach destination====================================================================================!!!!!!!!\n"
     ]
    },
    {
     "name": "stderr",
     "output_type": "stream",
     "text": [
      "  0%|1                                                                      | 10/5000 [02:04<16:37:02, 11.99s/episodes]"
     ]
    },
    {
     "name": "stdout",
     "output_type": "stream",
     "text": [
      "Episode: 10, total steps: 200,  final return: -2235.6399999999994\n"
     ]
    },
    {
     "name": "stderr",
     "output_type": "stream",
     "text": [
      "  0%|2                                                                      | 15/5000 [03:11<16:30:51, 11.93s/episodes]"
     ]
    },
    {
     "name": "stdout",
     "output_type": "stream",
     "text": [
      "Reach destination====================================================================================!!!!!!!!\n"
     ]
    },
    {
     "name": "stderr",
     "output_type": "stream",
     "text": [
      "  0%|2                                                                      | 17/5000 [03:39<17:54:12, 12.93s/episodes]"
     ]
    },
    {
     "name": "stdout",
     "output_type": "stream",
     "text": [
      "Reach destination====================================================================================!!!!!!!!\n"
     ]
    },
    {
     "name": "stderr",
     "output_type": "stream",
     "text": [
      "  0%|2                                                                      | 20/5000 [04:24<19:34:54, 14.16s/episodes]"
     ]
    },
    {
     "name": "stdout",
     "output_type": "stream",
     "text": [
      "Episode: 20, total steps: 200,  final return: -4975.04\n"
     ]
    },
    {
     "name": "stderr",
     "output_type": "stream",
     "text": [
      "  1%|4                                                                      | 30/5000 [08:01<41:51:50, 30.32s/episodes]"
     ]
    },
    {
     "name": "stdout",
     "output_type": "stream",
     "text": [
      "Episode: 30, total steps: 200,  final return: -4817.040000000004\n"
     ]
    },
    {
     "name": "stderr",
     "output_type": "stream",
     "text": [
      "  1%|5                                                                      | 40/5000 [13:23<40:04:30, 29.09s/episodes]"
     ]
    },
    {
     "name": "stdout",
     "output_type": "stream",
     "text": [
      "Episode: 40, total steps: 200,  final return: -2385.1199999999985\n"
     ]
    },
    {
     "name": "stderr",
     "output_type": "stream",
     "text": [
      "  1%|6                                                                      | 44/5000 [14:48<34:40:50, 25.19s/episodes]"
     ]
    },
    {
     "name": "stdout",
     "output_type": "stream",
     "text": [
      "Reach destination====================================================================================!!!!!!!!\n"
     ]
    },
    {
     "name": "stderr",
     "output_type": "stream",
     "text": [
      "  1%|6                                                                      | 49/5000 [17:23<45:54:16, 33.38s/episodes]"
     ]
    },
    {
     "name": "stdout",
     "output_type": "stream",
     "text": [
      "Reach destination====================================================================================!!!!!!!!\n"
     ]
    },
    {
     "name": "stderr",
     "output_type": "stream",
     "text": [
      "\r",
      "  1%|7                                                                      | 50/5000 [17:54<45:13:24, 32.89s/episodes]"
     ]
    },
    {
     "name": "stdout",
     "output_type": "stream",
     "text": [
      "Episode: 50, total steps: 169,  final return: -2919.440000000001\n"
     ]
    },
    {
     "name": "stderr",
     "output_type": "stream",
     "text": [
      "  1%|8                                                                      | 60/5000 [23:47<42:32:38, 31.00s/episodes]"
     ]
    },
    {
     "name": "stdout",
     "output_type": "stream",
     "text": [
      "Episode: 60, total steps: 92,  final return: -1239.24\n"
     ]
    },
    {
     "name": "stderr",
     "output_type": "stream",
     "text": [
      "  1%|9                                                                      | 70/5000 [30:04<53:00:34, 38.71s/episodes]"
     ]
    },
    {
     "name": "stdout",
     "output_type": "stream",
     "text": [
      "Episode: 70, total steps: 200,  final return: -4097.159999999997\n"
     ]
    },
    {
     "name": "stderr",
     "output_type": "stream",
     "text": [
      "  2%|#1                                                                     | 80/5000 [36:03<52:16:10, 38.25s/episodes]"
     ]
    },
    {
     "name": "stdout",
     "output_type": "stream",
     "text": [
      "Episode: 80, total steps: 200,  final return: -1737.2000000000003\n"
     ]
    },
    {
     "name": "stderr",
     "output_type": "stream",
     "text": [
      "  2%|#2                                                                     | 90/5000 [42:32<53:58:33, 39.58s/episodes]"
     ]
    },
    {
     "name": "stdout",
     "output_type": "stream",
     "text": [
      "Episode: 90, total steps: 200,  final return: -4279.560000000001\n"
     ]
    },
    {
     "name": "stderr",
     "output_type": "stream",
     "text": [
      "  2%|#3                                                                     | 96/5000 [46:32<54:05:18, 39.71s/episodes]"
     ]
    },
    {
     "name": "stdout",
     "output_type": "stream",
     "text": [
      "Reach destination====================================================================================!!!!!!!!\n"
     ]
    },
    {
     "name": "stderr",
     "output_type": "stream",
     "text": [
      "  2%|#4                                                                    | 100/5000 [49:18<64:40:32, 47.52s/episodes]"
     ]
    },
    {
     "name": "stdout",
     "output_type": "stream",
     "text": [
      "Episode: 100, total steps: 200,  final return: -889.0399999999997\n"
     ]
    },
    {
     "name": "stderr",
     "output_type": "stream",
     "text": [
      "  2%|#4                                                                 | 110/5000 [1:02:25<107:47:14, 79.35s/episodes]"
     ]
    },
    {
     "name": "stdout",
     "output_type": "stream",
     "text": [
      "Episode: 110, total steps: 200,  final return: -2110.4399999999996\n"
     ]
    },
    {
     "name": "stderr",
     "output_type": "stream",
     "text": [
      "  2%|#5                                                                 | 115/5000 [1:09:13<110:20:40, 81.32s/episodes]"
     ]
    },
    {
     "name": "stdout",
     "output_type": "stream",
     "text": [
      "Simulated: Reach destination================================================================================!!!!!!!!\n"
     ]
    },
    {
     "name": "stderr",
     "output_type": "stream",
     "text": [
      "  2%|#5                                                                 | 118/5000 [1:13:11<108:37:47, 80.10s/episodes]"
     ]
    },
    {
     "name": "stdout",
     "output_type": "stream",
     "text": [
      "Reach destination====================================================================================!!!!!!!!\n"
     ]
    },
    {
     "name": "stderr",
     "output_type": "stream",
     "text": [
      "  2%|#6                                                                  | 120/5000 [1:14:47<90:21:52, 66.66s/episodes]"
     ]
    },
    {
     "name": "stdout",
     "output_type": "stream",
     "text": [
      "Episode: 120, total steps: 200,  final return: -3688.32\n"
     ]
    },
    {
     "name": "stderr",
     "output_type": "stream",
     "text": [
      "  3%|#7                                                                 | 129/5000 [1:26:42<106:28:15, 78.69s/episodes]"
     ]
    },
    {
     "name": "stdout",
     "output_type": "stream",
     "text": [
      "Simulated: Reach destination================================================================================!!!!!!!!\n"
     ]
    },
    {
     "name": "stderr",
     "output_type": "stream",
     "text": [
      "\r",
      "  3%|#7                                                                 | 130/5000 [1:28:02<106:59:18, 79.09s/episodes]"
     ]
    },
    {
     "name": "stdout",
     "output_type": "stream",
     "text": [
      "Episode: 130, total steps: 200,  final return: -1763.759999999999\n"
     ]
    },
    {
     "name": "stderr",
     "output_type": "stream",
     "text": [
      "  3%|#8                                                                 | 140/5000 [1:41:28<108:48:40, 80.60s/episodes]"
     ]
    },
    {
     "name": "stdout",
     "output_type": "stream",
     "text": [
      "Episode: 140, total steps: 200,  final return: -2154.5199999999986\n"
     ]
    },
    {
     "name": "stderr",
     "output_type": "stream",
     "text": [
      "  3%|#9                                                                 | 142/5000 [1:44:12<109:44:21, 81.32s/episodes]"
     ]
    },
    {
     "name": "stdout",
     "output_type": "stream",
     "text": [
      "Simulated: Reach destination================================================================================!!!!!!!!\n"
     ]
    },
    {
     "name": "stderr",
     "output_type": "stream",
     "text": [
      "  3%|#9                                                                 | 144/5000 [1:46:52<108:47:14, 80.65s/episodes]"
     ]
    },
    {
     "name": "stdout",
     "output_type": "stream",
     "text": [
      "Simulated: Reach destination================================================================================!!!!!!!!\n"
     ]
    },
    {
     "name": "stderr",
     "output_type": "stream",
     "text": [
      "\r",
      "  3%|#9                                                                 | 145/5000 [1:48:12<108:17:16, 80.30s/episodes]"
     ]
    },
    {
     "name": "stdout",
     "output_type": "stream",
     "text": [
      "Reach destination====================================================================================!!!!!!!!\n"
     ]
    },
    {
     "name": "stderr",
     "output_type": "stream",
     "text": [
      "  3%|##                                                                  | 150/5000 [1:53:28<90:47:22, 67.39s/episodes]"
     ]
    },
    {
     "name": "stdout",
     "output_type": "stream",
     "text": [
      "Episode: 150, total steps: 200,  final return: -5440.5599999999995\n"
     ]
    },
    {
     "name": "stderr",
     "output_type": "stream",
     "text": [
      "  3%|##                                                                  | 152/5000 [1:56:04<98:12:58, 72.93s/episodes]"
     ]
    },
    {
     "name": "stdout",
     "output_type": "stream",
     "text": [
      "Simulated: Reach destination================================================================================!!!!!!!!\n"
     ]
    },
    {
     "name": "stderr",
     "output_type": "stream",
     "text": [
      "  3%|##                                                                  | 154/5000 [1:57:37<76:11:34, 56.60s/episodes]"
     ]
    },
    {
     "name": "stdout",
     "output_type": "stream",
     "text": [
      "Simulated: Reach destination================================================================================!!!!!!!!\n"
     ]
    },
    {
     "name": "stderr",
     "output_type": "stream",
     "text": [
      "  3%|##1                                                                 | 160/5000 [2:05:08<94:52:05, 70.56s/episodes]"
     ]
    },
    {
     "name": "stdout",
     "output_type": "stream",
     "text": [
      "Episode: 160, total steps: 200,  final return: -2099.6\n"
     ]
    },
    {
     "name": "stderr",
     "output_type": "stream",
     "text": [
      "  3%|##2                                                                 | 162/5000 [2:05:49<60:28:50, 45.00s/episodes]"
     ]
    },
    {
     "name": "stdout",
     "output_type": "stream",
     "text": [
      "Reach destination====================================================================================!!!!!!!!\n"
     ]
    },
    {
     "name": "stderr",
     "output_type": "stream",
     "text": [
      "\r",
      "  3%|##2                                                                 | 163/5000 [2:07:11<75:36:53, 56.28s/episodes]"
     ]
    },
    {
     "name": "stdout",
     "output_type": "stream",
     "text": [
      "Reach destination====================================================================================!!!!!!!!\n"
     ]
    },
    {
     "name": "stderr",
     "output_type": "stream",
     "text": [
      "  3%|##2                                                                 | 165/5000 [2:08:11<54:54:35, 40.88s/episodes]"
     ]
    },
    {
     "name": "stdout",
     "output_type": "stream",
     "text": [
      "Reach destination====================================================================================!!!!!!!!\n"
     ]
    },
    {
     "name": "stderr",
     "output_type": "stream",
     "text": [
      "  3%|##2                                                                 | 169/5000 [2:11:39<70:22:44, 52.45s/episodes]"
     ]
    },
    {
     "name": "stdout",
     "output_type": "stream",
     "text": [
      "Simulated: Reach destination================================================================================!!!!!!!!\n"
     ]
    },
    {
     "name": "stderr",
     "output_type": "stream",
     "text": [
      "\r",
      "  3%|##3                                                                 | 170/5000 [2:13:06<84:11:10, 62.75s/episodes]"
     ]
    },
    {
     "name": "stdout",
     "output_type": "stream",
     "text": [
      "Episode: 170, total steps: 200,  final return: -4152.560000000002\n",
      "Simulated: Reach destination================================================================================!!!!!!!!\n",
      "Reach destination====================================================================================!!!!!!!!\n"
     ]
    },
    {
     "name": "stderr",
     "output_type": "stream",
     "text": [
      "  3%|##3                                                                 | 173/5000 [2:14:51<57:41:38, 43.03s/episodes]"
     ]
    },
    {
     "name": "stdout",
     "output_type": "stream",
     "text": [
      "Reach destination====================================================================================!!!!!!!!\n"
     ]
    },
    {
     "name": "stderr",
     "output_type": "stream",
     "text": [
      "  4%|##3                                                                 | 176/5000 [2:18:26<84:12:17, 62.84s/episodes]"
     ]
    },
    {
     "name": "stdout",
     "output_type": "stream",
     "text": [
      "Reach destination====================================================================================!!!!!!!!\n"
     ]
    },
    {
     "name": "stderr",
     "output_type": "stream",
     "text": [
      "  4%|##4                                                                 | 180/5000 [2:21:32<57:15:08, 42.76s/episodes]"
     ]
    },
    {
     "name": "stdout",
     "output_type": "stream",
     "text": [
      "Episode: 180, total steps: 42,  final return: -435.64000000000004\n"
     ]
    },
    {
     "name": "stderr",
     "output_type": "stream",
     "text": [
      "  4%|##4                                                                 | 182/5000 [2:23:09<65:27:27, 48.91s/episodes]"
     ]
    },
    {
     "name": "stdout",
     "output_type": "stream",
     "text": [
      "Simulated: Reach destination================================================================================!!!!!!!!\n",
      "Reach destination====================================================================================!!!!!!!!\n"
     ]
    },
    {
     "name": "stderr",
     "output_type": "stream",
     "text": [
      "  4%|##5                                                                 | 190/5000 [2:30:38<83:41:16, 62.64s/episodes]"
     ]
    },
    {
     "name": "stdout",
     "output_type": "stream",
     "text": [
      "Episode: 190, total steps: 200,  final return: -1460.1200000000003\n",
      "Simulated: Reach destination================================================================================!!!!!!!!\n"
     ]
    },
    {
     "name": "stderr",
     "output_type": "stream",
     "text": [
      "  4%|##6                                                                 | 193/5000 [2:33:55<86:58:58, 65.14s/episodes]"
     ]
    },
    {
     "name": "stdout",
     "output_type": "stream",
     "text": [
      "Reach destination====================================================================================!!!!!!!!\n"
     ]
    },
    {
     "name": "stderr",
     "output_type": "stream",
     "text": [
      "  4%|##6                                                                 | 196/5000 [2:37:38<98:11:26, 73.58s/episodes]"
     ]
    },
    {
     "name": "stdout",
     "output_type": "stream",
     "text": [
      "Reach destination====================================================================================!!!!!!!!\n"
     ]
    },
    {
     "name": "stderr",
     "output_type": "stream",
     "text": [
      "  4%|##6                                                                 | 198/5000 [2:39:33<89:37:52, 67.20s/episodes]"
     ]
    },
    {
     "name": "stdout",
     "output_type": "stream",
     "text": [
      "Reach destination====================================================================================!!!!!!!!\n"
     ]
    },
    {
     "name": "stderr",
     "output_type": "stream",
     "text": [
      "\r",
      "  4%|##7                                                                 | 199/5000 [2:40:04<75:04:39, 56.30s/episodes]"
     ]
    },
    {
     "name": "stdout",
     "output_type": "stream",
     "text": [
      "Simulated: Reach destination================================================================================!!!!!!!!\n",
      "Reach destination====================================================================================!!!!!!!!\n"
     ]
    },
    {
     "name": "stderr",
     "output_type": "stream",
     "text": [
      "\r",
      "  4%|##7                                                                 | 200/5000 [2:41:03<75:53:23, 56.92s/episodes]"
     ]
    },
    {
     "name": "stdout",
     "output_type": "stream",
     "text": [
      "Episode: 200, total steps: 102,  final return: -1481.9999999999998\n"
     ]
    },
    {
     "name": "stderr",
     "output_type": "stream",
     "text": [
      "  4%|##7                                                                | 202/5000 [2:44:58<116:58:18, 87.77s/episodes]"
     ]
    },
    {
     "name": "stdout",
     "output_type": "stream",
     "text": [
      "Simulated: Reach destination================================================================================!!!!!!!!\n"
     ]
    },
    {
     "name": "stderr",
     "output_type": "stream",
     "text": [
      "  4%|##7                                                                | 204/5000 [2:47:37<106:52:02, 80.22s/episodes]"
     ]
    },
    {
     "name": "stdout",
     "output_type": "stream",
     "text": [
      "Simulated: Reach destination================================================================================!!!!!!!!\n"
     ]
    },
    {
     "name": "stderr",
     "output_type": "stream",
     "text": [
      "\r",
      "  4%|##7                                                                | 205/5000 [2:48:43<100:53:26, 75.75s/episodes]"
     ]
    },
    {
     "name": "stdout",
     "output_type": "stream",
     "text": [
      "Reach destination====================================================================================!!!!!!!!\n"
     ]
    },
    {
     "name": "stderr",
     "output_type": "stream",
     "text": [
      "\r",
      "  4%|##8                                                                 | 206/5000 [2:49:14<83:05:40, 62.40s/episodes]"
     ]
    },
    {
     "name": "stdout",
     "output_type": "stream",
     "text": [
      "Reach destination====================================================================================!!!!!!!!\n"
     ]
    },
    {
     "name": "stderr",
     "output_type": "stream",
     "text": [
      "\r",
      "  4%|##8                                                                 | 207/5000 [2:50:38<91:42:47, 68.89s/episodes]"
     ]
    },
    {
     "name": "stdout",
     "output_type": "stream",
     "text": [
      "Simulated: Reach destination================================================================================!!!!!!!!\n",
      "Reach destination====================================================================================!!!!!!!!\n"
     ]
    },
    {
     "name": "stderr",
     "output_type": "stream",
     "text": [
      "\r",
      "  4%|##7                                                                | 208/5000 [2:52:27<107:39:08, 80.87s/episodes]"
     ]
    },
    {
     "name": "stdout",
     "output_type": "stream",
     "text": [
      "Simulated: Reach destination================================================================================!!!!!!!!\n",
      "Simulated: Reach destination================================================================================!!!!!!!!\n",
      "Simulated: Reach destination================================================================================!!!!!!!!\n"
     ]
    },
    {
     "name": "stderr",
     "output_type": "stream",
     "text": [
      "\r",
      "  4%|##8                                                                | 209/5000 [2:54:24<122:08:50, 91.78s/episodes]"
     ]
    },
    {
     "name": "stdout",
     "output_type": "stream",
     "text": [
      "Simulated: Reach destination================================================================================!!!!!!!!\n",
      "Simulated: Reach destination================================================================================!!!!!!!!\n",
      "Simulated: Reach destination================================================================================!!!!!!!!\n"
     ]
    },
    {
     "name": "stderr",
     "output_type": "stream",
     "text": [
      "\r",
      "  4%|##7                                                               | 210/5000 [2:56:24<133:25:08, 100.27s/episodes]"
     ]
    },
    {
     "name": "stdout",
     "output_type": "stream",
     "text": [
      "Episode: 210, total steps: 200,  final return: -1301.0400000000002\n",
      "Simulated: Reach destination================================================================================!!!!!!!!\n"
     ]
    },
    {
     "name": "stderr",
     "output_type": "stream",
     "text": [
      "\r",
      "  4%|##7                                                               | 211/5000 [2:58:21<140:14:04, 105.42s/episodes]"
     ]
    },
    {
     "name": "stdout",
     "output_type": "stream",
     "text": [
      "Simulated: Reach destination================================================================================!!!!!!!!\n"
     ]
    },
    {
     "name": "stderr",
     "output_type": "stream",
     "text": [
      "  4%|##9                                                                 | 216/5000 [3:03:08<79:51:43, 60.10s/episodes]"
     ]
    },
    {
     "name": "stdout",
     "output_type": "stream",
     "text": [
      "Simulated: Reach destination================================================================================!!!!!!!!\n"
     ]
    },
    {
     "name": "stderr",
     "output_type": "stream",
     "text": [
      "\r",
      "  4%|##9                                                                | 217/5000 [3:05:09<103:52:05, 78.18s/episodes]"
     ]
    },
    {
     "name": "stdout",
     "output_type": "stream",
     "text": [
      "Simulated: Reach destination================================================================================!!!!!!!!\n",
      "Simulated: Reach destination================================================================================!!!!!!!!\n",
      "Simulated: Reach destination================================================================================!!!!!!!!\n"
     ]
    },
    {
     "name": "stderr",
     "output_type": "stream",
     "text": [
      "  4%|##9                                                                 | 219/5000 [3:07:42<97:33:48, 73.46s/episodes]"
     ]
    },
    {
     "name": "stdout",
     "output_type": "stream",
     "text": [
      "Simulated: Reach destination================================================================================!!!!!!!!\n",
      "Reach destination====================================================================================!!!!!!!!\n"
     ]
    },
    {
     "name": "stderr",
     "output_type": "stream",
     "text": [
      "\r",
      "  4%|##9                                                                | 220/5000 [3:09:09<102:39:18, 77.31s/episodes]"
     ]
    },
    {
     "name": "stdout",
     "output_type": "stream",
     "text": [
      "Episode: 220, total steps: 142,  final return: -4163.44\n",
      "Simulated: Reach destination================================================================================!!!!!!!!\n",
      "Simulated: Reach destination================================================================================!!!!!!!!\n"
     ]
    },
    {
     "name": "stderr",
     "output_type": "stream",
     "text": [
      "\r",
      "  4%|##9                                                                | 221/5000 [3:11:09<119:59:12, 90.39s/episodes]"
     ]
    },
    {
     "name": "stdout",
     "output_type": "stream",
     "text": [
      "Simulated: Reach destination================================================================================!!!!!!!!\n",
      "Simulated: Reach destination================================================================================!!!!!!!!\n"
     ]
    },
    {
     "name": "stderr",
     "output_type": "stream",
     "text": [
      "\r",
      "  4%|##9                                                                | 222/5000 [3:13:10<131:52:37, 99.36s/episodes]"
     ]
    },
    {
     "name": "stdout",
     "output_type": "stream",
     "text": [
      "Simulated: Reach destination================================================================================!!!!!!!!\n",
      "Reach destination====================================================================================!!!!!!!!\n"
     ]
    },
    {
     "name": "stderr",
     "output_type": "stream",
     "text": [
      "\r",
      "  4%|##9                                                                | 223/5000 [3:14:02<113:06:49, 85.24s/episodes]"
     ]
    },
    {
     "name": "stdout",
     "output_type": "stream",
     "text": [
      "Reach destination====================================================================================!!!!!!!!\n"
     ]
    },
    {
     "name": "stderr",
     "output_type": "stream",
     "text": [
      "\r",
      "  4%|###                                                                 | 224/5000 [3:14:26<88:47:34, 66.93s/episodes]"
     ]
    },
    {
     "name": "stdout",
     "output_type": "stream",
     "text": [
      "Simulated: Reach destination================================================================================!!!!!!!!\n",
      "Reach destination====================================================================================!!!!!!!!\n"
     ]
    },
    {
     "name": "stderr",
     "output_type": "stream",
     "text": [
      "\r",
      "  4%|###                                                                | 225/5000 [3:16:17<106:22:41, 80.20s/episodes]"
     ]
    },
    {
     "name": "stdout",
     "output_type": "stream",
     "text": [
      "Reach destination====================================================================================!!!!!!!!\n"
     ]
    },
    {
     "name": "stderr",
     "output_type": "stream",
     "text": [
      "\r",
      "  5%|###                                                                 | 226/5000 [3:16:57<90:20:44, 68.13s/episodes]"
     ]
    },
    {
     "name": "stdout",
     "output_type": "stream",
     "text": [
      "Reach destination====================================================================================!!!!!!!!\n"
     ]
    },
    {
     "name": "stderr",
     "output_type": "stream",
     "text": [
      "\r",
      "  5%|###                                                                 | 227/5000 [3:18:00<88:13:51, 66.55s/episodes]"
     ]
    },
    {
     "name": "stdout",
     "output_type": "stream",
     "text": [
      "Simulated: Reach destination================================================================================!!!!!!!!\n",
      "Reach destination====================================================================================!!!!!!!!\n"
     ]
    },
    {
     "name": "stderr",
     "output_type": "stream",
     "text": [
      "\r",
      "  5%|###1                                                                | 228/5000 [3:19:00<85:27:20, 64.47s/episodes]"
     ]
    },
    {
     "name": "stdout",
     "output_type": "stream",
     "text": [
      "Simulated: Reach destination================================================================================!!!!!!!!\n",
      "Simulated: Reach destination================================================================================!!!!!!!!\n"
     ]
    },
    {
     "name": "stderr",
     "output_type": "stream",
     "text": [
      "\r",
      "  5%|###                                                                | 229/5000 [3:20:58<106:56:46, 80.70s/episodes]"
     ]
    },
    {
     "name": "stdout",
     "output_type": "stream",
     "text": [
      "Reach destination====================================================================================!!!!!!!!\n"
     ]
    },
    {
     "name": "stderr",
     "output_type": "stream",
     "text": [
      "\r",
      "  5%|###1                                                                | 230/5000 [3:21:25<85:24:59, 64.47s/episodes]"
     ]
    },
    {
     "name": "stdout",
     "output_type": "stream",
     "text": [
      "Episode: 230, total steps: 43,  final return: -666.52\n"
     ]
    },
    {
     "name": "stderr",
     "output_type": "stream",
     "text": [
      "  5%|###1                                                                | 232/5000 [3:24:13<93:48:58, 70.83s/episodes]"
     ]
    },
    {
     "name": "stdout",
     "output_type": "stream",
     "text": [
      "Reach destination====================================================================================!!!!!!!!\n"
     ]
    },
    {
     "name": "stderr",
     "output_type": "stream",
     "text": [
      "\r",
      "  5%|###1                                                                | 233/5000 [3:24:42<77:14:23, 58.33s/episodes]"
     ]
    },
    {
     "name": "stdout",
     "output_type": "stream",
     "text": [
      "Reach destination====================================================================================!!!!!!!!\n"
     ]
    },
    {
     "name": "stderr",
     "output_type": "stream",
     "text": [
      "\r",
      "  5%|###1                                                                | 234/5000 [3:26:22<93:45:42, 70.82s/episodes]"
     ]
    },
    {
     "name": "stdout",
     "output_type": "stream",
     "text": [
      "Simulated: Reach destination================================================================================!!!!!!!!\n",
      "Reach destination====================================================================================!!!!!!!!\n"
     ]
    },
    {
     "name": "stderr",
     "output_type": "stream",
     "text": [
      "\r",
      "  5%|###1                                                               | 235/5000 [3:28:19<112:13:31, 84.79s/episodes]"
     ]
    },
    {
     "name": "stdout",
     "output_type": "stream",
     "text": [
      "Reach destination====================================================================================!!!!!!!!\n"
     ]
    },
    {
     "name": "stderr",
     "output_type": "stream",
     "text": [
      "\r",
      "  5%|###1                                                               | 236/5000 [3:30:21<126:55:17, 95.91s/episodes]"
     ]
    },
    {
     "name": "stdout",
     "output_type": "stream",
     "text": [
      "Simulated: Reach destination================================================================================!!!!!!!!\n"
     ]
    },
    {
     "name": "stderr",
     "output_type": "stream",
     "text": [
      "\r",
      "  5%|###1                                                              | 237/5000 [3:32:16<134:23:19, 101.57s/episodes]"
     ]
    },
    {
     "name": "stdout",
     "output_type": "stream",
     "text": [
      "Simulated: Reach destination================================================================================!!!!!!!!\n",
      "Reach destination====================================================================================!!!!!!!!\n"
     ]
    },
    {
     "name": "stderr",
     "output_type": "stream",
     "text": [
      "\r",
      "  5%|###1                                                               | 238/5000 [3:33:46<130:00:34, 98.29s/episodes]"
     ]
    },
    {
     "name": "stdout",
     "output_type": "stream",
     "text": [
      "Simulated: Reach destination================================================================================!!!!!!!!\n",
      "Simulated: Reach destination================================================================================!!!!!!!!\n",
      "Simulated: Reach destination================================================================================!!!!!!!!\n"
     ]
    },
    {
     "name": "stderr",
     "output_type": "stream",
     "text": [
      "\r",
      "  5%|###1                                                              | 239/5000 [3:35:47<138:42:59, 104.89s/episodes]"
     ]
    },
    {
     "name": "stdout",
     "output_type": "stream",
     "text": [
      "Simulated: Reach destination================================================================================!!!!!!!!\n",
      "Reach destination====================================================================================!!!!!!!!\n"
     ]
    },
    {
     "name": "stderr",
     "output_type": "stream",
     "text": [
      "\r",
      "  5%|###2                                                               | 240/5000 [3:36:55<124:13:46, 93.96s/episodes]"
     ]
    },
    {
     "name": "stdout",
     "output_type": "stream",
     "text": [
      "Episode: 240, total steps: 112,  final return: -1490.2800000000004\n",
      "Simulated: Reach destination================================================================================!!!!!!!!\n"
     ]
    },
    {
     "name": "stderr",
     "output_type": "stream",
     "text": [
      "\r",
      "  5%|###1                                                              | 241/5000 [3:38:58<135:35:39, 102.57s/episodes]"
     ]
    },
    {
     "name": "stdout",
     "output_type": "stream",
     "text": [
      "Simulated: Reach destination================================================================================!!!!!!!!\n"
     ]
    },
    {
     "name": "stderr",
     "output_type": "stream",
     "text": [
      "\r",
      "  5%|###1                                                              | 242/5000 [3:40:59<143:02:37, 108.23s/episodes]"
     ]
    },
    {
     "name": "stdout",
     "output_type": "stream",
     "text": [
      "Reach destination====================================================================================!!!!!!!!\n"
     ]
    },
    {
     "name": "stderr",
     "output_type": "stream",
     "text": [
      "\r",
      "  5%|###2                                                               | 243/5000 [3:41:51<120:48:44, 91.43s/episodes]"
     ]
    },
    {
     "name": "stdout",
     "output_type": "stream",
     "text": [
      "Reach destination====================================================================================!!!!!!!!\n"
     ]
    },
    {
     "name": "stderr",
     "output_type": "stream",
     "text": [
      "\r",
      "  5%|###3                                                                | 244/5000 [3:42:16<94:27:32, 71.50s/episodes]"
     ]
    },
    {
     "name": "stdout",
     "output_type": "stream",
     "text": [
      "Simulated: Reach destination================================================================================!!!!!!!!\n",
      "Simulated: Reach destination================================================================================!!!!!!!!\n",
      "Reach destination====================================================================================!!!!!!!!\n"
     ]
    },
    {
     "name": "stderr",
     "output_type": "stream",
     "text": [
      "\r",
      "  5%|###2                                                               | 245/5000 [3:43:53<104:18:51, 78.98s/episodes]"
     ]
    },
    {
     "name": "stdout",
     "output_type": "stream",
     "text": [
      "Simulated: Reach destination================================================================================!!!!!!!!\n",
      "Reach destination====================================================================================!!!!!!!!\n"
     ]
    },
    {
     "name": "stderr",
     "output_type": "stream",
     "text": [
      "  5%|###2                                                              | 247/5000 [3:48:33<145:35:49, 110.28s/episodes]"
     ]
    },
    {
     "name": "stdout",
     "output_type": "stream",
     "text": [
      "Simulated: Reach destination================================================================================!!!!!!!!\n"
     ]
    },
    {
     "name": "stderr",
     "output_type": "stream",
     "text": [
      "  5%|###2                                                              | 249/5000 [4:03:33<410:37:44, 311.15s/episodes]"
     ]
    },
    {
     "name": "stdout",
     "output_type": "stream",
     "text": [
      "Simulated: Reach destination================================================================================!!!!!!!!\n"
     ]
    },
    {
     "name": "stderr",
     "output_type": "stream",
     "text": [
      "\r",
      "  5%|###3                                                              | 250/5000 [4:05:36<335:55:26, 254.60s/episodes]"
     ]
    },
    {
     "name": "stdout",
     "output_type": "stream",
     "text": [
      "Episode: 250, total steps: 200,  final return: -1965.8400000000004\n",
      "Simulated: Reach destination================================================================================!!!!!!!!\n",
      "Reach destination====================================================================================!!!!!!!!\n"
     ]
    },
    {
     "name": "stderr",
     "output_type": "stream",
     "text": [
      "  5%|###3                                                              | 253/5000 [4:10:04<182:56:47, 138.74s/episodes]"
     ]
    },
    {
     "name": "stdout",
     "output_type": "stream",
     "text": [
      "Simulated: Reach destination================================================================================!!!!!!!!\n",
      "Reach destination====================================================================================!!!!!!!!\n"
     ]
    },
    {
     "name": "stderr",
     "output_type": "stream",
     "text": [
      "\r",
      "  5%|###3                                                              | 254/5000 [4:11:28<161:33:26, 122.55s/episodes]"
     ]
    },
    {
     "name": "stdout",
     "output_type": "stream",
     "text": [
      "Simulated: Reach destination================================================================================!!!!!!!!\n",
      "Simulated: Reach destination================================================================================!!!!!!!!\n"
     ]
    },
    {
     "name": "stderr",
     "output_type": "stream",
     "text": [
      "\r",
      "  5%|###3                                                              | 255/5000 [4:13:26<159:41:21, 121.16s/episodes]"
     ]
    },
    {
     "name": "stdout",
     "output_type": "stream",
     "text": [
      "Simulated: Reach destination================================================================================!!!!!!!!\n"
     ]
    },
    {
     "name": "stderr",
     "output_type": "stream",
     "text": [
      "  5%|###3                                                              | 257/5000 [4:17:27<158:41:54, 120.45s/episodes]"
     ]
    },
    {
     "name": "stdout",
     "output_type": "stream",
     "text": [
      "Reach destination====================================================================================!!!!!!!!\n"
     ]
    },
    {
     "name": "stderr",
     "output_type": "stream",
     "text": [
      "\r",
      "  5%|###4                                                               | 258/5000 [4:18:08<127:10:49, 96.55s/episodes]"
     ]
    },
    {
     "name": "stdout",
     "output_type": "stream",
     "text": [
      "Simulated: Reach destination================================================================================!!!!!!!!\n"
     ]
    },
    {
     "name": "stderr",
     "output_type": "stream",
     "text": [
      "\r",
      "  5%|###4                                                              | 259/5000 [4:20:06<135:49:37, 103.14s/episodes]"
     ]
    },
    {
     "name": "stdout",
     "output_type": "stream",
     "text": [
      "Reach destination====================================================================================!!!!!!!!\n"
     ]
    },
    {
     "name": "stderr",
     "output_type": "stream",
     "text": [
      "\r",
      "  5%|###4                                                               | 260/5000 [4:21:01<116:31:24, 88.50s/episodes]"
     ]
    },
    {
     "name": "stdout",
     "output_type": "stream",
     "text": [
      "Episode: 260, total steps: 93,  final return: -666.4000000000001\n",
      "Simulated: Reach destination================================================================================!!!!!!!!\n",
      "Reach destination====================================================================================!!!!!!!!\n"
     ]
    },
    {
     "name": "stderr",
     "output_type": "stream",
     "text": [
      "  5%|###4                                                              | 265/5000 [4:29:50<136:01:42, 103.42s/episodes]"
     ]
    },
    {
     "name": "stdout",
     "output_type": "stream",
     "text": [
      "Simulated: Reach destination================================================================================!!!!!!!!\n",
      "Simulated: Reach destination================================================================================!!!!!!!!\n"
     ]
    },
    {
     "name": "stderr",
     "output_type": "stream",
     "text": [
      "\r",
      "  5%|###5                                                              | 266/5000 [4:31:53<143:43:01, 109.29s/episodes]"
     ]
    },
    {
     "name": "stdout",
     "output_type": "stream",
     "text": [
      "Simulated: Reach destination================================================================================!!!!!!!!\n"
     ]
    },
    {
     "name": "stderr",
     "output_type": "stream",
     "text": [
      "\r",
      "  5%|###5                                                              | 267/5000 [4:33:57<149:28:48, 113.70s/episodes]"
     ]
    },
    {
     "name": "stdout",
     "output_type": "stream",
     "text": [
      "Reach destination====================================================================================!!!!!!!!\n"
     ]
    },
    {
     "name": "stderr",
     "output_type": "stream",
     "text": [
      "  5%|###5                                                              | 269/5000 [4:37:58<154:23:45, 117.49s/episodes]"
     ]
    },
    {
     "name": "stdout",
     "output_type": "stream",
     "text": [
      "Simulated: Reach destination================================================================================!!!!!!!!\n",
      "Simulated: Reach destination================================================================================!!!!!!!!\n"
     ]
    },
    {
     "name": "stderr",
     "output_type": "stream",
     "text": [
      "\r",
      "  5%|###5                                                              | 270/5000 [4:39:59<155:42:54, 118.51s/episodes]"
     ]
    },
    {
     "name": "stdout",
     "output_type": "stream",
     "text": [
      "Episode: 270, total steps: 200,  final return: -2314.6000000000004\n",
      "Reach destination====================================================================================!!!!!!!!\n"
     ]
    },
    {
     "name": "stderr",
     "output_type": "stream",
     "text": [
      "\r",
      "  5%|###6                                                               | 271/5000 [4:40:20<117:13:04, 89.23s/episodes]"
     ]
    },
    {
     "name": "stdout",
     "output_type": "stream",
     "text": [
      "Simulated: Reach destination================================================================================!!!!!!!!\n"
     ]
    },
    {
     "name": "stderr",
     "output_type": "stream",
     "text": [
      "\r",
      "  5%|###6                                                               | 272/5000 [4:42:21<129:56:43, 98.94s/episodes]"
     ]
    },
    {
     "name": "stdout",
     "output_type": "stream",
     "text": [
      "Simulated: Reach destination================================================================================!!!!!!!!\n",
      "Reach destination====================================================================================!!!!!!!!\n"
     ]
    },
    {
     "name": "stderr",
     "output_type": "stream",
     "text": [
      "\r",
      "  5%|###6                                                               | 273/5000 [4:44:00<129:34:34, 98.68s/episodes]"
     ]
    },
    {
     "name": "stdout",
     "output_type": "stream",
     "text": [
      "Simulated: Reach destination================================================================================!!!!!!!!\n",
      "Reach destination====================================================================================!!!!!!!!\n"
     ]
    },
    {
     "name": "stderr",
     "output_type": "stream",
     "text": [
      "  6%|###6                                                              | 275/5000 [4:47:26<134:54:03, 102.78s/episodes]"
     ]
    },
    {
     "name": "stdout",
     "output_type": "stream",
     "text": [
      "Reach destination====================================================================================!!!!!!!!\n"
     ]
    },
    {
     "name": "stderr",
     "output_type": "stream",
     "text": [
      "\r",
      "  6%|###6                                                               | 276/5000 [4:48:38<122:38:33, 93.46s/episodes]"
     ]
    },
    {
     "name": "stdout",
     "output_type": "stream",
     "text": [
      "Simulated: Reach destination================================================================================!!!!!!!!\n",
      "Reach destination====================================================================================!!!!!!!!\n"
     ]
    },
    {
     "name": "stderr",
     "output_type": "stream",
     "text": [
      "\r",
      "  6%|###7                                                               | 277/5000 [4:50:27<128:37:14, 98.04s/episodes]"
     ]
    },
    {
     "name": "stdout",
     "output_type": "stream",
     "text": [
      "Reach destination====================================================================================!!!!!!!!\n"
     ]
    },
    {
     "name": "stderr",
     "output_type": "stream",
     "text": [
      "  6%|###7                                                               | 279/5000 [4:53:15<123:36:28, 94.26s/episodes]"
     ]
    },
    {
     "name": "stdout",
     "output_type": "stream",
     "text": [
      "Simulated: Reach destination================================================================================!!!!!!!!\n",
      "Simulated: Reach destination================================================================================!!!!!!!!\n",
      "Simulated: Reach destination================================================================================!!!!!!!!\n"
     ]
    },
    {
     "name": "stderr",
     "output_type": "stream",
     "text": [
      "\r",
      "  6%|###6                                                              | 280/5000 [4:55:17<134:46:50, 102.80s/episodes]"
     ]
    },
    {
     "name": "stdout",
     "output_type": "stream",
     "text": [
      "Episode: 280, total steps: 200,  final return: -3376.520000000001\n",
      "Simulated: Reach destination================================================================================!!!!!!!!\n",
      "Simulated: Reach destination================================================================================!!!!!!!!\n"
     ]
    },
    {
     "name": "stderr",
     "output_type": "stream",
     "text": [
      "\r",
      "  6%|###7                                                              | 281/5000 [4:57:17<141:29:42, 107.94s/episodes]"
     ]
    },
    {
     "name": "stdout",
     "output_type": "stream",
     "text": [
      "Simulated: Reach destination================================================================================!!!!!!!!\n",
      "Reach destination====================================================================================!!!!!!!!\n"
     ]
    },
    {
     "name": "stderr",
     "output_type": "stream",
     "text": [
      "\r",
      "  6%|###7                                                               | 282/5000 [4:58:32<128:29:33, 98.04s/episodes]"
     ]
    },
    {
     "name": "stdout",
     "output_type": "stream",
     "text": [
      "Reach destination====================================================================================!!!!!!!!\n"
     ]
    },
    {
     "name": "stderr",
     "output_type": "stream",
     "text": [
      "  6%|###8                                                               | 286/5000 [5:04:48<122:57:00, 93.89s/episodes]"
     ]
    },
    {
     "name": "stdout",
     "output_type": "stream",
     "text": [
      "Simulated: Reach destination================================================================================!!!!!!!!\n",
      "Simulated: Reach destination================================================================================!!!!!!!!\n"
     ]
    },
    {
     "name": "stderr",
     "output_type": "stream",
     "text": [
      "\r",
      "  6%|###7                                                              | 287/5000 [5:06:53<135:00:05, 103.12s/episodes]"
     ]
    },
    {
     "name": "stdout",
     "output_type": "stream",
     "text": [
      "Simulated: Reach destination================================================================================!!!!!!!!\n"
     ]
    },
    {
     "name": "stderr",
     "output_type": "stream",
     "text": [
      "\r",
      "  6%|###8                                                              | 288/5000 [5:08:58<143:44:04, 109.81s/episodes]"
     ]
    },
    {
     "name": "stdout",
     "output_type": "stream",
     "text": [
      "Simulated: Reach destination================================================================================!!!!!!!!\n",
      "Reach destination====================================================================================!!!!!!!!\n"
     ]
    },
    {
     "name": "stderr",
     "output_type": "stream",
     "text": [
      "\r",
      "  6%|###8                                                              | 289/5000 [5:11:06<150:56:58, 115.35s/episodes]"
     ]
    },
    {
     "name": "stdout",
     "output_type": "stream",
     "text": [
      "Simulated: Reach destination================================================================================!!!!!!!!\n",
      "Simulated: Reach destination================================================================================!!!!!!!!\n"
     ]
    },
    {
     "name": "stderr",
     "output_type": "stream",
     "text": [
      "\r",
      "  6%|###8                                                              | 290/5000 [5:13:02<151:08:16, 115.52s/episodes]"
     ]
    },
    {
     "name": "stdout",
     "output_type": "stream",
     "text": [
      "Episode: 290, total steps: 200,  final return: -4636.639999999999\n",
      "Simulated: Reach destination================================================================================!!!!!!!!\n"
     ]
    },
    {
     "name": "stderr",
     "output_type": "stream",
     "text": [
      "\r",
      "  6%|###8                                                              | 291/5000 [5:14:29<139:49:19, 106.89s/episodes]"
     ]
    },
    {
     "name": "stdout",
     "output_type": "stream",
     "text": [
      "Simulated: Reach destination================================================================================!!!!!!!!\n",
      "Simulated: Reach destination================================================================================!!!!!!!!\n",
      "Reach destination====================================================================================!!!!!!!!\n"
     ]
    },
    {
     "name": "stderr",
     "output_type": "stream",
     "text": [
      "\r",
      "  6%|###8                                                              | 292/5000 [5:16:01<133:45:38, 102.28s/episodes]"
     ]
    },
    {
     "name": "stdout",
     "output_type": "stream",
     "text": [
      "Simulated: Reach destination================================================================================!!!!!!!!\n",
      "Simulated: Reach destination================================================================================!!!!!!!!\n"
     ]
    },
    {
     "name": "stderr",
     "output_type": "stream",
     "text": [
      "  6%|###9                                                               | 294/5000 [5:19:06<130:40:08, 99.96s/episodes]"
     ]
    },
    {
     "name": "stdout",
     "output_type": "stream",
     "text": [
      "Simulated: Reach destination================================================================================!!!!!!!!\n",
      "Simulated: Reach destination================================================================================!!!!!!!!\n"
     ]
    },
    {
     "name": "stderr",
     "output_type": "stream",
     "text": [
      "  6%|###9                                                               | 297/5000 [5:23:08<116:19:02, 89.04s/episodes]"
     ]
    },
    {
     "name": "stdout",
     "output_type": "stream",
     "text": [
      "Reach destination====================================================================================!!!!!!!!\n"
     ]
    },
    {
     "name": "stderr",
     "output_type": "stream",
     "text": [
      "\r",
      "  6%|####                                                                | 298/5000 [5:23:39<93:34:58, 71.65s/episodes]"
     ]
    },
    {
     "name": "stdout",
     "output_type": "stream",
     "text": [
      "Simulated: Reach destination================================================================================!!!!!!!!\n"
     ]
    },
    {
     "name": "stderr",
     "output_type": "stream",
     "text": [
      "\r",
      "  6%|####                                                               | 299/5000 [5:25:44<114:41:46, 87.83s/episodes]"
     ]
    },
    {
     "name": "stdout",
     "output_type": "stream",
     "text": [
      "Simulated: Reach destination================================================================================!!!!!!!!\n",
      "Reach destination====================================================================================!!!!!!!!\n"
     ]
    },
    {
     "name": "stderr",
     "output_type": "stream",
     "text": [
      "\r",
      "  6%|###9                                                              | 300/5000 [5:27:58<132:48:17, 101.72s/episodes]"
     ]
    },
    {
     "name": "stdout",
     "output_type": "stream",
     "text": [
      "Episode: 300, total steps: 180,  final return: -2981.56\n",
      "Simulated: Reach destination================================================================================!!!!!!!!\n",
      "Simulated: Reach destination================================================================================!!!!!!!!\n",
      "Reach destination====================================================================================!!!!!!!!\n"
     ]
    },
    {
     "name": "stderr",
     "output_type": "stream",
     "text": [
      "\r",
      "  6%|####                                                               | 301/5000 [5:29:05<118:53:48, 91.09s/episodes]"
     ]
    },
    {
     "name": "stdout",
     "output_type": "stream",
     "text": [
      "Simulated: Reach destination================================================================================!!!!!!!!\n"
     ]
    },
    {
     "name": "stderr",
     "output_type": "stream",
     "text": [
      "\r",
      "  6%|###9                                                              | 302/5000 [5:31:43<145:19:11, 111.36s/episodes]"
     ]
    },
    {
     "name": "stdout",
     "output_type": "stream",
     "text": [
      "Simulated: Reach destination================================================================================!!!!!!!!\n",
      "Simulated: Reach destination================================================================================!!!!!!!!\n",
      "Simulated: Reach destination================================================================================!!!!!!!!\n",
      "Simulated: Reach destination================================================================================!!!!!!!!\n",
      "Simulated: Reach destination================================================================================!!!!!!!!\n"
     ]
    },
    {
     "name": "stderr",
     "output_type": "stream",
     "text": [
      "\r",
      "  6%|###9                                                              | 303/5000 [5:34:24<164:30:51, 126.09s/episodes]"
     ]
    },
    {
     "name": "stdout",
     "output_type": "stream",
     "text": [
      "Reach destination====================================================================================!!!!!!!!\n"
     ]
    },
    {
     "name": "stderr",
     "output_type": "stream",
     "text": [
      "  6%|####                                                              | 305/5000 [5:37:18<146:07:03, 112.04s/episodes]"
     ]
    },
    {
     "name": "stdout",
     "output_type": "stream",
     "text": [
      "Reach destination====================================================================================!!!!!!!!\n"
     ]
    },
    {
     "name": "stderr",
     "output_type": "stream",
     "text": [
      "\r",
      "  6%|####1                                                              | 306/5000 [5:37:24<104:48:30, 80.38s/episodes]"
     ]
    },
    {
     "name": "stdout",
     "output_type": "stream",
     "text": [
      "Simulated: Reach destination================================================================================!!!!!!!!\n",
      "Simulated: Reach destination================================================================================!!!!!!!!\n",
      "Reach destination====================================================================================!!!!!!!!\n"
     ]
    },
    {
     "name": "stderr",
     "output_type": "stream",
     "text": [
      "\r",
      "  6%|####1                                                               | 307/5000 [5:38:29<98:35:39, 75.63s/episodes]"
     ]
    },
    {
     "name": "stdout",
     "output_type": "stream",
     "text": [
      "Simulated: Reach destination================================================================================!!!!!!!!\n",
      "Simulated: Reach destination================================================================================!!!!!!!!\n",
      "Reach destination====================================================================================!!!!!!!!\n"
     ]
    },
    {
     "name": "stderr",
     "output_type": "stream",
     "text": [
      "\r",
      "  6%|####1                                                              | 308/5000 [5:40:10<108:36:19, 83.33s/episodes]"
     ]
    },
    {
     "name": "stdout",
     "output_type": "stream",
     "text": [
      "Simulated: Reach destination================================================================================!!!!!!!!\n",
      "Reach destination====================================================================================!!!!!!!!\n"
     ]
    },
    {
     "name": "stderr",
     "output_type": "stream",
     "text": [
      "\r",
      "  6%|####1                                                              | 309/5000 [5:41:39<110:38:47, 84.91s/episodes]"
     ]
    },
    {
     "name": "stdout",
     "output_type": "stream",
     "text": [
      "Simulated: Reach destination================================================================================!!!!!!!!\n",
      "Simulated: Reach destination================================================================================!!!!!!!!\n",
      "Simulated: Reach destination================================================================================!!!!!!!!\n"
     ]
    },
    {
     "name": "stderr",
     "output_type": "stream",
     "text": [
      "\r",
      "  6%|####                                                              | 310/5000 [5:44:16<138:53:34, 106.61s/episodes]"
     ]
    },
    {
     "name": "stdout",
     "output_type": "stream",
     "text": [
      "Episode: 310, total steps: 200,  final return: -2515.6800000000003\n",
      "Simulated: Reach destination================================================================================!!!!!!!!\n"
     ]
    },
    {
     "name": "stderr",
     "output_type": "stream",
     "text": [
      "\r",
      "  6%|####1                                                             | 311/5000 [5:46:54<159:02:59, 122.11s/episodes]"
     ]
    },
    {
     "name": "stdout",
     "output_type": "stream",
     "text": [
      "Reach destination====================================================================================!!!!!!!!\n"
     ]
    },
    {
     "name": "stderr",
     "output_type": "stream",
     "text": [
      "\r",
      "  6%|####1                                                             | 312/5000 [5:48:20<145:01:02, 111.36s/episodes]"
     ]
    },
    {
     "name": "stdout",
     "output_type": "stream",
     "text": [
      "Simulated: Reach destination================================================================================!!!!!!!!\n"
     ]
    },
    {
     "name": "stderr",
     "output_type": "stream",
     "text": [
      "\r",
      "  6%|####1                                                             | 313/5000 [5:50:58<163:08:37, 125.31s/episodes]"
     ]
    },
    {
     "name": "stdout",
     "output_type": "stream",
     "text": [
      "Simulated: Reach destination================================================================================!!!!!!!!\n",
      "Simulated: Reach destination================================================================================!!!!!!!!\n",
      "Reach destination====================================================================================!!!!!!!!\n"
     ]
    },
    {
     "name": "stderr",
     "output_type": "stream",
     "text": [
      "\r",
      "  6%|####1                                                             | 314/5000 [5:53:24<171:16:02, 131.58s/episodes]"
     ]
    },
    {
     "name": "stdout",
     "output_type": "stream",
     "text": [
      "Simulated: Reach destination================================================================================!!!!!!!!\n",
      "Simulated: Reach destination================================================================================!!!!!!!!\n",
      "Simulated: Reach destination================================================================================!!!!!!!!\n"
     ]
    },
    {
     "name": "stderr",
     "output_type": "stream",
     "text": [
      "\r",
      "  6%|####1                                                             | 315/5000 [5:56:07<183:21:55, 140.90s/episodes]"
     ]
    },
    {
     "name": "stdout",
     "output_type": "stream",
     "text": [
      "Reach destination====================================================================================!!!!!!!!\n"
     ]
    },
    {
     "name": "stderr",
     "output_type": "stream",
     "text": [
      "\r",
      "  6%|####1                                                             | 316/5000 [5:57:05<150:48:23, 115.91s/episodes]"
     ]
    },
    {
     "name": "stdout",
     "output_type": "stream",
     "text": [
      "Reach destination====================================================================================!!!!!!!!\n"
     ]
    },
    {
     "name": "stderr",
     "output_type": "stream",
     "text": [
      "  6%|####2                                                             | 319/5000 [6:05:02<194:23:25, 149.50s/episodes]"
     ]
    },
    {
     "name": "stdout",
     "output_type": "stream",
     "text": [
      "Simulated: Reach destination================================================================================!!!!!!!!\n",
      "Reach destination====================================================================================!!!!!!!!\n"
     ]
    },
    {
     "name": "stderr",
     "output_type": "stream",
     "text": [
      "\r",
      "  6%|####2                                                             | 320/5000 [6:06:05<160:37:46, 123.56s/episodes]"
     ]
    },
    {
     "name": "stdout",
     "output_type": "stream",
     "text": [
      "Episode: 320, total steps: 67,  final return: -909.32\n",
      "Reach destination====================================================================================!!!!!!!!\n"
     ]
    },
    {
     "name": "stderr",
     "output_type": "stream",
     "text": [
      "\r",
      "  6%|####2                                                             | 321/5000 [6:07:10<137:44:19, 105.98s/episodes]"
     ]
    },
    {
     "name": "stdout",
     "output_type": "stream",
     "text": [
      "Simulated: Reach destination================================================================================!!!!!!!!\n",
      "Reach destination====================================================================================!!!!!!!!\n"
     ]
    },
    {
     "name": "stderr",
     "output_type": "stream",
     "text": [
      "\r",
      "  6%|####2                                                             | 322/5000 [6:08:39<131:00:29, 100.82s/episodes]"
     ]
    },
    {
     "name": "stdout",
     "output_type": "stream",
     "text": [
      "Simulated: Reach destination================================================================================!!!!!!!!\n"
     ]
    },
    {
     "name": "stderr",
     "output_type": "stream",
     "text": [
      "\r",
      "  6%|####2                                                             | 323/5000 [6:11:26<156:59:09, 120.84s/episodes]"
     ]
    },
    {
     "name": "stdout",
     "output_type": "stream",
     "text": [
      "Simulated: Reach destination================================================================================!!!!!!!!\n"
     ]
    },
    {
     "name": "stderr",
     "output_type": "stream",
     "text": [
      "\r",
      "  6%|####2                                                             | 324/5000 [6:14:13<174:44:37, 134.53s/episodes]"
     ]
    },
    {
     "name": "stdout",
     "output_type": "stream",
     "text": [
      "Simulated: Reach destination================================================================================!!!!!!!!\n",
      "Simulated: Reach destination================================================================================!!!!!!!!\n",
      "Reach destination====================================================================================!!!!!!!!\n"
     ]
    },
    {
     "name": "stderr",
     "output_type": "stream",
     "text": [
      "\r",
      "  6%|####2                                                             | 325/5000 [6:15:20<148:30:50, 114.36s/episodes]"
     ]
    },
    {
     "name": "stdout",
     "output_type": "stream",
     "text": [
      "Simulated: Reach destination================================================================================!!!!!!!!\n",
      "Simulated: Reach destination================================================================================!!!!!!!!\n",
      "Reach destination====================================================================================!!!!!!!!\n"
     ]
    },
    {
     "name": "stderr",
     "output_type": "stream",
     "text": [
      "\r",
      "  7%|####3                                                             | 326/5000 [6:17:03<144:07:07, 111.00s/episodes]"
     ]
    },
    {
     "name": "stdout",
     "output_type": "stream",
     "text": [
      "Simulated: Reach destination================================================================================!!!!!!!!\n",
      "Reach destination====================================================================================!!!!!!!!\n"
     ]
    },
    {
     "name": "stderr",
     "output_type": "stream",
     "text": [
      "\r",
      "  7%|####3                                                             | 327/5000 [6:18:40<138:38:25, 106.81s/episodes]"
     ]
    },
    {
     "name": "stdout",
     "output_type": "stream",
     "text": [
      "Simulated: Reach destination================================================================================!!!!!!!!\n"
     ]
    },
    {
     "name": "stderr",
     "output_type": "stream",
     "text": [
      "\r",
      "  7%|####3                                                             | 328/5000 [6:21:25<161:21:16, 124.33s/episodes]"
     ]
    },
    {
     "name": "stdout",
     "output_type": "stream",
     "text": [
      "Simulated: Reach destination================================================================================!!!!!!!!\n"
     ]
    },
    {
     "name": "stderr",
     "output_type": "stream",
     "text": [
      "\r",
      "  7%|####3                                                             | 329/5000 [6:24:14<178:21:08, 137.46s/episodes]"
     ]
    },
    {
     "name": "stdout",
     "output_type": "stream",
     "text": [
      "Simulated: Reach destination================================================================================!!!!!!!!\n",
      "Simulated: Reach destination================================================================================!!!!!!!!\n",
      "Reach destination====================================================================================!!!!!!!!\n"
     ]
    },
    {
     "name": "stderr",
     "output_type": "stream",
     "text": [
      "\r",
      "  7%|####3                                                             | 330/5000 [6:25:53<163:38:01, 126.14s/episodes]"
     ]
    },
    {
     "name": "stdout",
     "output_type": "stream",
     "text": [
      "Episode: 330, total steps: 118,  final return: -2156.1999999999985\n",
      "Simulated: Reach destination================================================================================!!!!!!!!\n"
     ]
    },
    {
     "name": "stderr",
     "output_type": "stream",
     "text": [
      "\r",
      "  7%|####3                                                             | 331/5000 [6:28:31<175:44:05, 135.50s/episodes]"
     ]
    },
    {
     "name": "stdout",
     "output_type": "stream",
     "text": [
      "Reach destination====================================================================================!!!!!!!!\n"
     ]
    },
    {
     "name": "stderr",
     "output_type": "stream",
     "text": [
      "\r",
      "  7%|####3                                                             | 332/5000 [6:31:02<181:43:03, 140.14s/episodes]"
     ]
    },
    {
     "name": "stdout",
     "output_type": "stream",
     "text": [
      "Simulated: Reach destination================================================================================!!!!!!!!\n",
      "Simulated: Reach destination================================================================================!!!!!!!!\n",
      "Simulated: Reach destination================================================================================!!!!!!!!\n",
      "Simulated: Reach destination================================================================================!!!!!!!!\n",
      "Simulated: Reach destination================================================================================!!!!!!!!\n",
      "Simulated: Reach destination================================================================================!!!!!!!!\n",
      "Reach destination====================================================================================!!!!!!!!\n"
     ]
    },
    {
     "name": "stderr",
     "output_type": "stream",
     "text": [
      "\r",
      "  7%|####3                                                             | 333/5000 [6:33:36<187:21:30, 144.52s/episodes]"
     ]
    },
    {
     "name": "stdout",
     "output_type": "stream",
     "text": [
      "Simulated: Reach destination================================================================================!!!!!!!!\n",
      "Reach destination====================================================================================!!!!!!!!\n"
     ]
    },
    {
     "name": "stderr",
     "output_type": "stream",
     "text": [
      "\r",
      "  7%|####4                                                             | 334/5000 [6:34:20<148:15:57, 114.39s/episodes]"
     ]
    },
    {
     "name": "stdout",
     "output_type": "stream",
     "text": [
      "Simulated: Reach destination================================================================================!!!!!!!!\n",
      "Reach destination====================================================================================!!!!!!!!\n"
     ]
    },
    {
     "name": "stderr",
     "output_type": "stream",
     "text": [
      "\r",
      "  7%|####4                                                             | 335/5000 [6:36:24<151:39:21, 117.03s/episodes]"
     ]
    },
    {
     "name": "stdout",
     "output_type": "stream",
     "text": [
      "Simulated: Reach destination================================================================================!!!!!!!!\n",
      "Simulated: Reach destination================================================================================!!!!!!!!\n",
      "Simulated: Reach destination================================================================================!!!!!!!!\n",
      "Reach destination====================================================================================!!!!!!!!\n"
     ]
    },
    {
     "name": "stderr",
     "output_type": "stream",
     "text": [
      "\r",
      "  7%|####4                                                             | 336/5000 [6:38:24<152:45:10, 117.91s/episodes]"
     ]
    },
    {
     "name": "stdout",
     "output_type": "stream",
     "text": [
      "Simulated: Reach destination================================================================================!!!!!!!!\n",
      "Simulated: Reach destination================================================================================!!!!!!!!\n"
     ]
    },
    {
     "name": "stderr",
     "output_type": "stream",
     "text": [
      "\r",
      "  7%|####4                                                             | 337/5000 [6:41:03<168:53:13, 130.39s/episodes]"
     ]
    },
    {
     "name": "stdout",
     "output_type": "stream",
     "text": [
      "Simulated: Reach destination================================================================================!!!!!!!!\n",
      "Simulated: Reach destination================================================================================!!!!!!!!\n",
      "Reach destination====================================================================================!!!!!!!!\n"
     ]
    },
    {
     "name": "stderr",
     "output_type": "stream",
     "text": [
      "\r",
      "  7%|####4                                                             | 338/5000 [6:41:51<136:41:13, 105.55s/episodes]"
     ]
    },
    {
     "name": "stdout",
     "output_type": "stream",
     "text": [
      "Simulated: Reach destination================================================================================!!!!!!!!\n",
      "Reach destination====================================================================================!!!!!!!!\n"
     ]
    },
    {
     "name": "stderr",
     "output_type": "stream",
     "text": [
      "\r",
      "  7%|####5                                                              | 339/5000 [6:43:10<126:40:14, 97.84s/episodes]"
     ]
    },
    {
     "name": "stdout",
     "output_type": "stream",
     "text": [
      "Reach destination====================================================================================!!!!!!!!\n"
     ]
    },
    {
     "name": "stderr",
     "output_type": "stream",
     "text": [
      "\r",
      "  7%|####5                                                              | 340/5000 [6:44:03<109:08:59, 84.32s/episodes]"
     ]
    },
    {
     "name": "stdout",
     "output_type": "stream",
     "text": [
      "Episode: 340, total steps: 54,  final return: -849.6399999999999\n",
      "Simulated: Reach destination================================================================================!!!!!!!!\n"
     ]
    },
    {
     "name": "stderr",
     "output_type": "stream",
     "text": [
      "\r",
      "  7%|####5                                                             | 341/5000 [6:47:18<152:04:27, 117.51s/episodes]"
     ]
    },
    {
     "name": "stdout",
     "output_type": "stream",
     "text": [
      "Simulated: Reach destination================================================================================!!!!!!!!\n",
      "Simulated: Reach destination================================================================================!!!!!!!!\n",
      "Simulated: Reach destination================================================================================!!!!!!!!\n",
      "Simulated: Reach destination================================================================================!!!!!!!!\n"
     ]
    },
    {
     "name": "stderr",
     "output_type": "stream",
     "text": [
      "  7%|####5                                                             | 343/5000 [6:52:44<181:49:07, 140.55s/episodes]"
     ]
    },
    {
     "name": "stdout",
     "output_type": "stream",
     "text": [
      "Reach destination====================================================================================!!!!!!!!\n"
     ]
    },
    {
     "name": "stderr",
     "output_type": "stream",
     "text": [
      "\r",
      "  7%|####5                                                             | 344/5000 [6:54:43<173:21:40, 134.04s/episodes]"
     ]
    },
    {
     "name": "stdout",
     "output_type": "stream",
     "text": [
      "Simulated: Reach destination================================================================================!!!!!!!!\n",
      "Simulated: Reach destination================================================================================!!!!!!!!\n"
     ]
    },
    {
     "name": "stderr",
     "output_type": "stream",
     "text": [
      "\r",
      "  7%|####5                                                             | 345/5000 [6:57:24<183:55:18, 142.24s/episodes]"
     ]
    },
    {
     "name": "stdout",
     "output_type": "stream",
     "text": [
      "Simulated: Reach destination================================================================================!!!!!!!!\n",
      "Simulated: Reach destination================================================================================!!!!!!!!\n",
      "Reach destination====================================================================================!!!!!!!!\n"
     ]
    },
    {
     "name": "stderr",
     "output_type": "stream",
     "text": [
      "\r",
      "  7%|####5                                                             | 346/5000 [6:58:26<152:44:56, 118.16s/episodes]"
     ]
    },
    {
     "name": "stdout",
     "output_type": "stream",
     "text": [
      "Simulated: Reach destination================================================================================!!!!!!!!\n",
      "Simulated: Reach destination================================================================================!!!!!!!!\n",
      "Simulated: Reach destination================================================================================!!!!!!!!\n",
      "Simulated: Reach destination================================================================================!!!!!!!!\n"
     ]
    },
    {
     "name": "stderr",
     "output_type": "stream",
     "text": [
      "  7%|####5                                                             | 348/5000 [7:03:39<178:31:49, 138.16s/episodes]"
     ]
    },
    {
     "name": "stdout",
     "output_type": "stream",
     "text": [
      "Simulated: Reach destination================================================================================!!!!!!!!\n",
      "Simulated: Reach destination================================================================================!!!!!!!!\n",
      "Simulated: Reach destination================================================================================!!!!!!!!\n",
      "Simulated: Reach destination================================================================================!!!!!!!!\n",
      "Simulated: Reach destination================================================================================!!!!!!!!\n"
     ]
    },
    {
     "name": "stderr",
     "output_type": "stream",
     "text": [
      "\r",
      "  7%|####6                                                             | 349/5000 [7:06:21<187:39:33, 145.25s/episodes]"
     ]
    },
    {
     "name": "stdout",
     "output_type": "stream",
     "text": [
      "Simulated: Reach destination================================================================================!!!!!!!!\n",
      "Simulated: Reach destination================================================================================!!!!!!!!\n",
      "Simulated: Reach destination================================================================================!!!!!!!!\n",
      "Simulated: Reach destination================================================================================!!!!!!!!\n"
     ]
    },
    {
     "name": "stderr",
     "output_type": "stream",
     "text": [
      "\r",
      "  7%|####6                                                             | 350/5000 [7:08:56<191:40:25, 148.39s/episodes]"
     ]
    },
    {
     "name": "stdout",
     "output_type": "stream",
     "text": [
      "Episode: 350, total steps: 200,  final return: -2685.6400000000003\n"
     ]
    },
    {
     "name": "stderr",
     "output_type": "stream",
     "text": [
      "\r",
      "  7%|####6                                                             | 351/5000 [7:11:34<195:14:38, 151.19s/episodes]"
     ]
    },
    {
     "name": "stdout",
     "output_type": "stream",
     "text": [
      "Simulated: Reach destination================================================================================!!!!!!!!\n",
      "Reach destination====================================================================================!!!!!!!!\n"
     ]
    },
    {
     "name": "stderr",
     "output_type": "stream",
     "text": [
      "\r",
      "  7%|####6                                                             | 352/5000 [7:13:54<190:49:40, 147.80s/episodes]"
     ]
    },
    {
     "name": "stdout",
     "output_type": "stream",
     "text": [
      "Simulated: Reach destination================================================================================!!!!!!!!\n"
     ]
    },
    {
     "name": "stderr",
     "output_type": "stream",
     "text": [
      "  7%|####6                                                             | 354/5000 [7:19:17<200:10:42, 155.11s/episodes]"
     ]
    },
    {
     "name": "stdout",
     "output_type": "stream",
     "text": [
      "Simulated: Reach destination================================================================================!!!!!!!!\n"
     ]
    },
    {
     "name": "stderr",
     "output_type": "stream",
     "text": [
      "\r",
      "  7%|####6                                                             | 355/5000 [7:21:57<202:15:38, 156.76s/episodes]"
     ]
    },
    {
     "name": "stdout",
     "output_type": "stream",
     "text": [
      "Reach destination====================================================================================!!!!!!!!\n"
     ]
    },
    {
     "name": "stderr",
     "output_type": "stream",
     "text": [
      "\r",
      "  7%|####6                                                             | 356/5000 [7:23:31<177:38:43, 137.71s/episodes]"
     ]
    },
    {
     "name": "stdout",
     "output_type": "stream",
     "text": [
      "Simulated: Reach destination================================================================================!!!!!!!!\n",
      "Reach destination====================================================================================!!!!!!!!\n"
     ]
    },
    {
     "name": "stderr",
     "output_type": "stream",
     "text": [
      "\r",
      "  7%|####7                                                             | 357/5000 [7:26:07<184:45:52, 143.26s/episodes]"
     ]
    },
    {
     "name": "stdout",
     "output_type": "stream",
     "text": [
      "Simulated: Reach destination================================================================================!!!!!!!!\n",
      "Reach destination====================================================================================!!!!!!!!\n"
     ]
    },
    {
     "name": "stderr",
     "output_type": "stream",
     "text": [
      "\r",
      "  7%|####7                                                             | 358/5000 [7:28:20<180:53:26, 140.29s/episodes]"
     ]
    },
    {
     "name": "stdout",
     "output_type": "stream",
     "text": [
      "Simulated: Reach destination================================================================================!!!!!!!!\n",
      "Simulated: Reach destination================================================================================!!!!!!!!\n"
     ]
    },
    {
     "name": "stderr",
     "output_type": "stream",
     "text": [
      "\r",
      "  7%|####7                                                             | 359/5000 [7:31:00<188:35:02, 146.28s/episodes]"
     ]
    },
    {
     "name": "stdout",
     "output_type": "stream",
     "text": [
      "Simulated: Reach destination================================================================================!!!!!!!!\n"
     ]
    },
    {
     "name": "stderr",
     "output_type": "stream",
     "text": [
      "\r",
      "  7%|####7                                                             | 360/5000 [7:33:40<193:46:27, 150.34s/episodes]"
     ]
    },
    {
     "name": "stdout",
     "output_type": "stream",
     "text": [
      "Episode: 360, total steps: 200,  final return: -4187.520000000001\n",
      "Simulated: Reach destination================================================================================!!!!!!!!\n"
     ]
    },
    {
     "name": "stderr",
     "output_type": "stream",
     "text": [
      "\r",
      "  7%|####7                                                             | 361/5000 [7:36:23<198:34:20, 154.10s/episodes]"
     ]
    },
    {
     "name": "stdout",
     "output_type": "stream",
     "text": [
      "Simulated: Reach destination================================================================================!!!!!!!!\n",
      "Simulated: Reach destination================================================================================!!!!!!!!\n",
      "Simulated: Reach destination================================================================================!!!!!!!!\n"
     ]
    },
    {
     "name": "stderr",
     "output_type": "stream",
     "text": [
      "\r",
      "  7%|####7                                                             | 362/5000 [7:39:02<200:19:29, 155.49s/episodes]"
     ]
    },
    {
     "name": "stdout",
     "output_type": "stream",
     "text": [
      "Reach destination====================================================================================!!!!!!!!\n"
     ]
    },
    {
     "name": "stderr",
     "output_type": "stream",
     "text": [
      "  7%|####8                                                             | 364/5000 [7:42:18<169:25:13, 131.56s/episodes]"
     ]
    },
    {
     "name": "stdout",
     "output_type": "stream",
     "text": [
      "Reach destination====================================================================================!!!!!!!!\n"
     ]
    },
    {
     "name": "stderr",
     "output_type": "stream",
     "text": [
      "\r",
      "  7%|####8                                                             | 365/5000 [7:43:05<136:43:32, 106.19s/episodes]"
     ]
    },
    {
     "name": "stdout",
     "output_type": "stream",
     "text": [
      "Simulated: Reach destination================================================================================!!!!!!!!\n"
     ]
    },
    {
     "name": "stderr",
     "output_type": "stream",
     "text": [
      "\r",
      "  7%|####8                                                             | 366/5000 [7:45:47<158:28:33, 123.11s/episodes]"
     ]
    },
    {
     "name": "stdout",
     "output_type": "stream",
     "text": [
      "Simulated: Reach destination================================================================================!!!!!!!!\n",
      "Simulated: Reach destination================================================================================!!!!!!!!\n",
      "Reach destination====================================================================================!!!!!!!!\n"
     ]
    },
    {
     "name": "stderr",
     "output_type": "stream",
     "text": [
      "\r",
      "  7%|####8                                                             | 367/5000 [7:46:56<137:28:33, 106.82s/episodes]"
     ]
    },
    {
     "name": "stdout",
     "output_type": "stream",
     "text": [
      "Simulated: Reach destination================================================================================!!!!!!!!\n",
      "Simulated: Reach destination================================================================================!!!!!!!!\n",
      "Simulated: Reach destination================================================================================!!!!!!!!\n"
     ]
    },
    {
     "name": "stderr",
     "output_type": "stream",
     "text": [
      "  7%|####9                                                              | 369/5000 [7:50:12<123:48:11, 96.24s/episodes]"
     ]
    },
    {
     "name": "stdout",
     "output_type": "stream",
     "text": [
      "Simulated: Reach destination================================================================================!!!!!!!!\n"
     ]
    },
    {
     "name": "stderr",
     "output_type": "stream",
     "text": [
      "\r",
      "  7%|####8                                                             | 370/5000 [7:52:55<149:31:23, 116.26s/episodes]"
     ]
    },
    {
     "name": "stdout",
     "output_type": "stream",
     "text": [
      "Episode: 370, total steps: 200,  final return: -2972.5200000000013\n",
      "Simulated: Reach destination================================================================================!!!!!!!!\n"
     ]
    },
    {
     "name": "stderr",
     "output_type": "stream",
     "text": [
      "\r",
      "  7%|####8                                                             | 371/5000 [7:55:35<166:08:35, 129.21s/episodes]"
     ]
    },
    {
     "name": "stdout",
     "output_type": "stream",
     "text": [
      "Reach destination====================================================================================!!!!!!!!\n"
     ]
    },
    {
     "name": "stderr",
     "output_type": "stream",
     "text": [
      "\r",
      "  7%|####9                                                              | 372/5000 [7:55:38<117:25:08, 91.34s/episodes]"
     ]
    },
    {
     "name": "stdout",
     "output_type": "stream",
     "text": [
      "Simulated: Reach destination================================================================================!!!!!!!!\n",
      "Reach destination====================================================================================!!!!!!!!\n"
     ]
    },
    {
     "name": "stderr",
     "output_type": "stream",
     "text": [
      "\r",
      "  7%|####9                                                              | 373/5000 [7:56:53<111:14:04, 86.55s/episodes]"
     ]
    },
    {
     "name": "stdout",
     "output_type": "stream",
     "text": [
      "Simulated: Reach destination================================================================================!!!!!!!!\n"
     ]
    },
    {
     "name": "stderr",
     "output_type": "stream",
     "text": [
      "\r",
      "  7%|####9                                                             | 374/5000 [7:59:37<140:55:23, 109.67s/episodes]"
     ]
    },
    {
     "name": "stdout",
     "output_type": "stream",
     "text": [
      "Simulated: Reach destination================================================================================!!!!!!!!\n",
      "Simulated: Reach destination================================================================================!!!!!!!!\n",
      "Simulated: Reach destination================================================================================!!!!!!!!\n"
     ]
    },
    {
     "name": "stderr",
     "output_type": "stream",
     "text": [
      "\r",
      "  8%|####9                                                             | 375/5000 [8:02:19<161:13:41, 125.50s/episodes]"
     ]
    },
    {
     "name": "stdout",
     "output_type": "stream",
     "text": [
      "Simulated: Reach destination================================================================================!!!!!!!!\n",
      "Simulated: Reach destination================================================================================!!!!!!!!\n"
     ]
    },
    {
     "name": "stderr",
     "output_type": "stream",
     "text": [
      "\r",
      "  8%|####9                                                             | 376/5000 [8:05:10<178:38:42, 139.08s/episodes]"
     ]
    },
    {
     "name": "stdout",
     "output_type": "stream",
     "text": [
      "Simulated: Reach destination================================================================================!!!!!!!!\n",
      "Simulated: Reach destination================================================================================!!!!!!!!\n",
      "Simulated: Reach destination================================================================================!!!!!!!!\n",
      "Reach destination====================================================================================!!!!!!!!\n"
     ]
    },
    {
     "name": "stderr",
     "output_type": "stream",
     "text": [
      "\r",
      "  8%|####9                                                             | 377/5000 [8:07:12<171:56:13, 133.89s/episodes]"
     ]
    },
    {
     "name": "stdout",
     "output_type": "stream",
     "text": [
      "Simulated: Reach destination================================================================================!!!!!!!!\n"
     ]
    },
    {
     "name": "stderr",
     "output_type": "stream",
     "text": [
      "\r",
      "  8%|####9                                                             | 378/5000 [8:09:58<184:25:29, 143.65s/episodes]"
     ]
    },
    {
     "name": "stdout",
     "output_type": "stream",
     "text": [
      "Simulated: Reach destination================================================================================!!!!!!!!\n",
      "Simulated: Reach destination================================================================================!!!!!!!!\n"
     ]
    },
    {
     "name": "stderr",
     "output_type": "stream",
     "text": [
      "\r",
      "  8%|#####                                                             | 379/5000 [8:12:46<193:38:11, 150.85s/episodes]"
     ]
    },
    {
     "name": "stdout",
     "output_type": "stream",
     "text": [
      "Simulated: Reach destination================================================================================!!!!!!!!\n",
      "Simulated: Reach destination================================================================================!!!!!!!!\n",
      "Reach destination====================================================================================!!!!!!!!\n"
     ]
    },
    {
     "name": "stderr",
     "output_type": "stream",
     "text": [
      "\r",
      "  8%|#####                                                             | 380/5000 [8:14:21<172:15:28, 134.23s/episodes]"
     ]
    },
    {
     "name": "stdout",
     "output_type": "stream",
     "text": [
      "Episode: 380, total steps: 115,  final return: -800.4799999999998\n",
      "Simulated: Reach destination================================================================================!!!!!!!!\n",
      "Reach destination====================================================================================!!!!!!!!\n"
     ]
    },
    {
     "name": "stderr",
     "output_type": "stream",
     "text": [
      "\r",
      "  8%|#####                                                             | 381/5000 [8:17:05<183:34:19, 143.07s/episodes]"
     ]
    },
    {
     "name": "stdout",
     "output_type": "stream",
     "text": [
      "Reach destination====================================================================================!!!!!!!!\n"
     ]
    },
    {
     "name": "stderr",
     "output_type": "stream",
     "text": [
      "  8%|#####                                                             | 383/5000 [8:22:22<194:10:24, 151.40s/episodes]"
     ]
    },
    {
     "name": "stdout",
     "output_type": "stream",
     "text": [
      "Simulated: Reach destination================================================================================!!!!!!!!\n",
      "Simulated: Reach destination================================================================================!!!!!!!!\n"
     ]
    },
    {
     "name": "stderr",
     "output_type": "stream",
     "text": [
      "\r",
      "  8%|#####                                                             | 384/5000 [8:24:56<195:00:55, 152.09s/episodes]"
     ]
    },
    {
     "name": "stdout",
     "output_type": "stream",
     "text": [
      "Simulated: Reach destination================================================================================!!!!!!!!\n",
      "Simulated: Reach destination================================================================================!!!!!!!!\n",
      "Simulated: Reach destination================================================================================!!!!!!!!\n"
     ]
    },
    {
     "name": "stderr",
     "output_type": "stream",
     "text": [
      "\r",
      "  8%|#####                                                             | 385/5000 [8:27:40<199:46:27, 155.84s/episodes]"
     ]
    },
    {
     "name": "stdout",
     "output_type": "stream",
     "text": [
      "Simulated: Reach destination================================================================================!!!!!!!!\n"
     ]
    },
    {
     "name": "stderr",
     "output_type": "stream",
     "text": [
      "\r",
      "  8%|#####                                                             | 386/5000 [8:30:49<212:30:24, 165.81s/episodes]"
     ]
    },
    {
     "name": "stdout",
     "output_type": "stream",
     "text": [
      "Simulated: Reach destination================================================================================!!!!!!!!\n",
      "Simulated: Reach destination================================================================================!!!!!!!!\n"
     ]
    },
    {
     "name": "stderr",
     "output_type": "stream",
     "text": [
      "  8%|#####1                                                            | 388/5000 [8:36:34<215:22:03, 168.11s/episodes]"
     ]
    },
    {
     "name": "stdout",
     "output_type": "stream",
     "text": [
      "Reach destination====================================================================================!!!!!!!!\n"
     ]
    },
    {
     "name": "stderr",
     "output_type": "stream",
     "text": [
      "\r",
      "  8%|#####1                                                            | 389/5000 [8:37:51<180:38:06, 141.03s/episodes]"
     ]
    },
    {
     "name": "stdout",
     "output_type": "stream",
     "text": [
      "Simulated: Reach destination================================================================================!!!!!!!!\n",
      "Reach destination====================================================================================!!!!!!!!\n"
     ]
    },
    {
     "name": "stderr",
     "output_type": "stream",
     "text": [
      "\r",
      "  8%|#####1                                                            | 390/5000 [8:39:19<160:07:09, 125.04s/episodes]"
     ]
    },
    {
     "name": "stdout",
     "output_type": "stream",
     "text": [
      "Episode: 390, total steps: 110,  final return: -1453.8400000000001\n",
      "Simulated: Reach destination================================================================================!!!!!!!!\n",
      "Simulated: Reach destination================================================================================!!!!!!!!\n",
      "Simulated: Reach destination================================================================================!!!!!!!!\n"
     ]
    },
    {
     "name": "stderr",
     "output_type": "stream",
     "text": [
      "\r",
      "  8%|#####1                                                            | 391/5000 [8:42:03<174:52:02, 136.59s/episodes]"
     ]
    },
    {
     "name": "stdout",
     "output_type": "stream",
     "text": [
      "Simulated: Reach destination================================================================================!!!!!!!!\n",
      "Simulated: Reach destination================================================================================!!!!!!!!\n"
     ]
    },
    {
     "name": "stderr",
     "output_type": "stream",
     "text": [
      "\r",
      "  8%|#####1                                                            | 392/5000 [8:44:46<185:03:01, 144.57s/episodes]"
     ]
    },
    {
     "name": "stdout",
     "output_type": "stream",
     "text": [
      "Reach destination====================================================================================!!!!!!!!\n"
     ]
    },
    {
     "name": "stderr",
     "output_type": "stream",
     "text": [
      "\r",
      "  8%|#####1                                                            | 393/5000 [8:46:09<161:27:23, 126.17s/episodes]"
     ]
    },
    {
     "name": "stdout",
     "output_type": "stream",
     "text": [
      "Simulated: Reach destination================================================================================!!!!!!!!\n"
     ]
    },
    {
     "name": "stderr",
     "output_type": "stream",
     "text": [
      "\r",
      "  8%|#####2                                                            | 394/5000 [8:48:52<175:19:51, 137.04s/episodes]"
     ]
    },
    {
     "name": "stdout",
     "output_type": "stream",
     "text": [
      "Simulated: Reach destination================================================================================!!!!!!!!\n",
      "Simulated: Reach destination================================================================================!!!!!!!!\n"
     ]
    },
    {
     "name": "stderr",
     "output_type": "stream",
     "text": [
      "  8%|#####2                                                            | 396/5000 [8:54:25<194:45:08, 152.28s/episodes]"
     ]
    },
    {
     "name": "stdout",
     "output_type": "stream",
     "text": [
      "Simulated: Reach destination================================================================================!!!!!!!!\n",
      "Reach destination====================================================================================!!!!!!!!\n"
     ]
    },
    {
     "name": "stderr",
     "output_type": "stream",
     "text": [
      "\r",
      "  8%|#####2                                                            | 397/5000 [8:55:52<169:43:42, 132.74s/episodes]"
     ]
    },
    {
     "name": "stdout",
     "output_type": "stream",
     "text": [
      "Simulated: Reach destination================================================================================!!!!!!!!\n",
      "Simulated: Reach destination================================================================================!!!!!!!!\n",
      "Simulated: Reach destination================================================================================!!!!!!!!\n",
      "Simulated: Reach destination================================================================================!!!!!!!!\n"
     ]
    },
    {
     "name": "stderr",
     "output_type": "stream",
     "text": [
      "\r",
      "  8%|#####2                                                            | 398/5000 [8:58:38<182:10:07, 142.50s/episodes]"
     ]
    },
    {
     "name": "stdout",
     "output_type": "stream",
     "text": [
      "Simulated: Reach destination================================================================================!!!!!!!!\n"
     ]
    },
    {
     "name": "stderr",
     "output_type": "stream",
     "text": [
      "\r",
      "  8%|#####2                                                            | 399/5000 [9:01:27<192:32:26, 150.65s/episodes]"
     ]
    },
    {
     "name": "stdout",
     "output_type": "stream",
     "text": [
      "Simulated: Reach destination================================================================================!!!!!!!!\n",
      "Simulated: Reach destination================================================================================!!!!!!!!\n"
     ]
    },
    {
     "name": "stderr",
     "output_type": "stream",
     "text": [
      "\r",
      "  8%|#####2                                                            | 400/5000 [9:04:57<215:12:04, 168.42s/episodes]"
     ]
    },
    {
     "name": "stdout",
     "output_type": "stream",
     "text": [
      "Episode: 400, total steps: 200,  final return: -2375.56\n",
      "Simulated: Reach destination================================================================================!!!!!!!!\n",
      "Reach destination====================================================================================!!!!!!!!\n"
     ]
    },
    {
     "name": "stderr",
     "output_type": "stream",
     "text": [
      "\r",
      "  8%|#####2                                                            | 401/5000 [9:08:05<222:27:45, 174.14s/episodes]"
     ]
    },
    {
     "name": "stdout",
     "output_type": "stream",
     "text": [
      "Simulated: Reach destination================================================================================!!!!!!!!\n"
     ]
    },
    {
     "name": "stderr",
     "output_type": "stream",
     "text": [
      "\r",
      "  8%|#####3                                                            | 402/5000 [9:11:40<238:03:08, 186.38s/episodes]"
     ]
    },
    {
     "name": "stdout",
     "output_type": "stream",
     "text": [
      "Simulated: Reach destination================================================================================!!!!!!!!\n",
      "Simulated: Reach destination================================================================================!!!!!!!!\n",
      "Simulated: Reach destination================================================================================!!!!!!!!\n",
      "Simulated: Reach destination================================================================================!!!!!!!!\n"
     ]
    },
    {
     "name": "stderr",
     "output_type": "stream",
     "text": [
      "\r",
      "  8%|#####3                                                            | 403/5000 [9:15:13<248:25:54, 194.55s/episodes]"
     ]
    },
    {
     "name": "stdout",
     "output_type": "stream",
     "text": [
      "Reach destination====================================================================================!!!!!!!!\n"
     ]
    },
    {
     "name": "stderr",
     "output_type": "stream",
     "text": [
      "\r",
      "  8%|#####3                                                            | 404/5000 [9:16:48<210:00:42, 164.50s/episodes]"
     ]
    },
    {
     "name": "stdout",
     "output_type": "stream",
     "text": [
      "Simulated: Reach destination================================================================================!!!!!!!!\n",
      "Reach destination====================================================================================!!!!!!!!\n"
     ]
    },
    {
     "name": "stderr",
     "output_type": "stream",
     "text": [
      "  8%|#####3                                                            | 406/5000 [9:23:29<233:45:56, 183.19s/episodes]"
     ]
    },
    {
     "name": "stdout",
     "output_type": "stream",
     "text": [
      "Reach destination====================================================================================!!!!!!!!\n"
     ]
    },
    {
     "name": "stderr",
     "output_type": "stream",
     "text": [
      "\r",
      "  8%|#####3                                                            | 407/5000 [9:26:25<230:48:35, 180.91s/episodes]"
     ]
    },
    {
     "name": "stdout",
     "output_type": "stream",
     "text": [
      "Simulated: Reach destination================================================================================!!!!!!!!\n",
      "Simulated: Reach destination================================================================================!!!!!!!!\n"
     ]
    },
    {
     "name": "stderr",
     "output_type": "stream",
     "text": [
      "  8%|#####3                                                            | 409/5000 [9:33:13<245:50:20, 192.77s/episodes]"
     ]
    },
    {
     "name": "stdout",
     "output_type": "stream",
     "text": [
      "Simulated: Reach destination================================================================================!!!!!!!!\n",
      "Simulated: Reach destination================================================================================!!!!!!!!\n",
      "Simulated: Reach destination================================================================================!!!!!!!!\n"
     ]
    },
    {
     "name": "stderr",
     "output_type": "stream",
     "text": [
      "\r",
      "  8%|#####4                                                            | 410/5000 [9:36:46<253:42:00, 198.98s/episodes]"
     ]
    },
    {
     "name": "stdout",
     "output_type": "stream",
     "text": [
      "Episode: 410, total steps: 200,  final return: -1861.199999999999\n",
      "Reach destination====================================================================================!!!!!!!!\n"
     ]
    },
    {
     "name": "stderr",
     "output_type": "stream",
     "text": [
      "\r",
      "  8%|#####4                                                            | 411/5000 [9:40:00<251:56:02, 197.64s/episodes]"
     ]
    },
    {
     "name": "stdout",
     "output_type": "stream",
     "text": [
      "Simulated: Reach destination================================================================================!!!!!!!!\n",
      "Simulated: Reach destination================================================================================!!!!!!!!\n"
     ]
    },
    {
     "name": "stderr",
     "output_type": "stream",
     "text": [
      "\r",
      "  8%|#####4                                                            | 412/5000 [9:43:23<253:54:45, 199.23s/episodes]"
     ]
    },
    {
     "name": "stdout",
     "output_type": "stream",
     "text": [
      "Simulated: Reach destination================================================================================!!!!!!!!\n",
      "Simulated: Reach destination================================================================================!!!!!!!!\n"
     ]
    },
    {
     "name": "stderr",
     "output_type": "stream",
     "text": [
      "\r",
      "  8%|#####4                                                            | 413/5000 [9:46:43<253:49:30, 199.21s/episodes]"
     ]
    },
    {
     "name": "stdout",
     "output_type": "stream",
     "text": [
      "Simulated: Reach destination================================================================================!!!!!!!!\n",
      "Simulated: Reach destination================================================================================!!!!!!!!\n",
      "Reach destination====================================================================================!!!!!!!!\n"
     ]
    },
    {
     "name": "stderr",
     "output_type": "stream",
     "text": [
      "\r",
      "  8%|#####4                                                            | 414/5000 [9:49:35<243:42:28, 191.31s/episodes]"
     ]
    },
    {
     "name": "stdout",
     "output_type": "stream",
     "text": [
      "Simulated: Reach destination================================================================================!!!!!!!!\n",
      "Simulated: Reach destination================================================================================!!!!!!!!\n",
      "Simulated: Reach destination================================================================================!!!!!!!!\n",
      "Simulated: Reach destination================================================================================!!!!!!!!\n",
      "Simulated: Reach destination================================================================================!!!!!!!!\n"
     ]
    },
    {
     "name": "stderr",
     "output_type": "stream",
     "text": [
      "\r",
      "  8%|#####4                                                            | 415/5000 [9:53:03<249:42:59, 196.07s/episodes]"
     ]
    },
    {
     "name": "stdout",
     "output_type": "stream",
     "text": [
      "Simulated: Reach destination================================================================================!!!!!!!!\n"
     ]
    }
   ],
   "source": [
    "# -*- coding: utf-8 -*-\n",
    "#Dueling DQN과 차이점은 앞으로 '###'으로 표시하겠음\n",
    "\"\"\"\n",
    "Created on Nov. 7\n",
    "Modified on Nov. 25, 2019\n",
    "@author: Yong Zeng\n",
    "\n",
    "For cellular-connected UAV, implement simultaneous navigation and radio mapping (SNARM) via\n",
    "deep reinforcement learning (DRL)\n",
    "\"\"\"\n",
    "%matplotlib inline\n",
    "import import_ipynb\n",
    "import numpy as np\n",
    "from keras.callbacks import TensorBoard\n",
    "import tensorflow as tf\n",
    "from collections import deque\n",
    "import time\n",
    "import random\n",
    "from keras.layers import Input, Dense,Lambda\n",
    "from keras.models import Model\n",
    "from tqdm import tqdm\n",
    "import os\n",
    "import matplotlib.pyplot as plt\n",
    "from numpy import linalg as LA\n",
    "import keras.backend as K\n",
    "\n",
    "\n",
    "import radio_environment as rad_env #the actual radio environment\n",
    "from radio_mapping import RadioMap  #the radio map class\n",
    "###SNARM은 model-based learning이니까이니까\n",
    "\n",
    "\n",
    "\n",
    "X_MAX=2000.0 \n",
    "Y_MAX=2000.0 #The area region in meters\n",
    "MAX_VALS=np.array([[X_MAX,Y_MAX]])\n",
    "\n",
    "DESTINATION=np.array([[1400,1600]],dtype=\"float32\")#UAV flying destination in meter\n",
    "DIST_TOLERANCE=30#considered as reach destination if UAV reaches the vicinity within DIST_TOLERANCE meters\n",
    "\n",
    "DISCOUNT = 1\n",
    "REPLAY_MEMORY_SIZE = 100_000  # How many last steps to keep for model training\n",
    "MIN_REPLAY_MEMORY_SIZE = 5_000  # Minimum number of steps in a memory to start training\n",
    "MINIBATCH_SIZE = 32  # How many steps (samples) to use for training\n",
    "UPDATE_TARGET_EVERY = 5  # Terminal states (end of episodes)\n",
    "MAX_STEP=200 #maximum number of time steps per episode\n",
    "MODEL_NAME = '512_256_128_128'\n",
    "MIN_REWARD = -1000  # For model save\n",
    "nSTEP=30 #parameter for multi-step learning\n",
    "\n",
    "# Environment settings\n",
    "EPISODES = 5000#Number of training episodes\n",
    "\n",
    "\n",
    "# Exploration settings\n",
    "epsilon =0.5  # not a constant, going to be decayed\n",
    "EPSILON_DECAY = 0.998\n",
    "MIN_EPSILON = 0\n",
    "\n",
    "episode_all=np.arange(EPISODES)\n",
    "epsilon_all=epsilon*EPSILON_DECAY**episode_all\n",
    "epsilon_all=np.maximum(epsilon_all,MIN_EPSILON)\n",
    "\n",
    "plt.figure()\n",
    "plt.plot(episode_all,epsilon_all,'b',linewidth=2)\n",
    "plt.grid(True,which='major',axis='both')\n",
    "plt.title('Epsilon according to episode')\n",
    "plt.show()\n",
    "\n",
    "#  Stats settings\n",
    "AGGREGATE_STATS_EVERY = 50  # episodes\n",
    "SHOW_PREVIEW = False\n",
    "\n",
    "\n",
    "delta_t=0.5 #time step length in seconds\n",
    "\n",
    "#penalty measured in terms of the time required to reach destination\n",
    "REACH_DES_REWARD=200\n",
    "MOVE_PENALTY = 1\n",
    "NON_COVER_PENALTY = 40\n",
    "OUT_BOUND_PENALTY = 10000\n",
    "\n",
    "\n",
    "x=np.linspace(0,X_MAX,200)\n",
    "y=np.linspace(0,Y_MAX,200)\n",
    "\n",
    "\n",
    "OBSERVATION_SPACE_VALUES=(2,)#2-dimensional UAV flight, x-y coordinate of UAV\n",
    "ACTIONS=np.array([[0, 1],\n",
    "             [1,0],\n",
    "             [0,-1],\n",
    "             [-1,0]],dtype=int)#the possible actions (UAV flying directions)   \n",
    "ACTION_SPACE_SIZE = ACTIONS.shape[0]\n",
    "   \n",
    "MAX_SPEED=20 #maximum UAV speed in m/s\n",
    "STEP_DISPLACEMENT=MAX_SPEED*delta_t #The displacement per time step\n",
    "\n",
    "  \n",
    "# Create models folder\n",
    "if not os.path.isdir('models'):\n",
    "    os.makedirs('models')\n",
    "\n",
    "\n",
    "# Own Tensorboard class\n",
    "class ModifiedTensorBoard(TensorBoard):\n",
    "\n",
    "    # Overriding init to set initial step and writer (we want one log file for all .fit() calls)\n",
    "    def __init__(self, **kwargs):\n",
    "        super().__init__(**kwargs)\n",
    "        self.step = 1\n",
    "        self.writer = tf.summary.create_file_writer(self.log_dir)\n",
    "\n",
    "    # Overriding this method to stop creating default log writer\n",
    "    def set_model(self, model):\n",
    "        pass\n",
    "\n",
    "    # Overrided, saves logs with our step number\n",
    "    # (otherwise every .fit() will start writing from 0th step)\n",
    "    #def on_epoch_end(self, epoch, logs=None):\n",
    "    #    self.update_stats(**logs)\n",
    "\n",
    "    # Overrided\n",
    "    # We train for one batch only, no need to save anything at epoch end\n",
    "    def on_batch_end(self, batch, logs=None):\n",
    "        pass\n",
    "\n",
    "    # Overrided, so won't close writer\n",
    "    def on_train_end(self, _):\n",
    "        pass\n",
    "\n",
    "    # Custom method for saving own metrics\n",
    "    # Creates writer, writes custom metrics and closes writer\n",
    " #   def update_stats(self, **stats):\n",
    " #       self._write_logs(stats, self.step)\n",
    "\n",
    "\n",
    "class UAVEnv:\n",
    "    \n",
    "    def reset(self):\n",
    "        self.episode_step = 0\n",
    "        s0=self.random_generate_states(num_states=1)\n",
    "         \n",
    "        return s0\n",
    "\n",
    "\n",
    "    def random_generate_states(self,num_states):\n",
    "        loc_x=np.random.uniform(50,X_MAX-50,(num_states,1))\n",
    "        loc_y=np.random.uniform(50,Y_MAX-50,(num_states,1))\n",
    "        loc=np.concatenate((loc_x,loc_y),axis=1)\n",
    "        \n",
    "        return loc\n",
    "            \n",
    "\n",
    "   #for each location visited by the UAV, it will have the J signal measurements from\n",
    "   #each of the M cellular BSs\n",
    "    #based on these M*J measurements, calculate the empirical outage probability\n",
    "    def get_empirical_outage(self, location):\n",
    "        #location given in meters\n",
    "        #convert the location to kilometer\n",
    "        loc_km=np.zeros(shape=(1,3))\n",
    "        loc_km[0,:2]=location/1000\n",
    "        loc_km[0,2]=0.1\n",
    "        Pout=rad_env.getPointMiniOutage(loc_km)\n",
    "              \n",
    "        return Pout[0]\n",
    "    \n",
    "  \n",
    "    \n",
    "    def step(self, current_state, action_idx, cur_traj):#the actual step\n",
    "        self.episode_step += 1\n",
    "                      \n",
    "        next_state=current_state+STEP_DISPLACEMENT*ACTIONS[action_idx]\n",
    "        outbound=False\n",
    "        out_bound_check1=next_state<0\n",
    "        out_bound_check2=next_state[0,0]>X_MAX\n",
    "        out_bound_check3=next_state[0,1]>Y_MAX\n",
    "        if out_bound_check1.any() or out_bound_check2.any() or out_bound_check3.any():\n",
    "            outbound=True       \n",
    "            next_state[next_state<0]=0\n",
    "            next_state[0,0]=np.minimum(X_MAX,next_state[0,0])\n",
    "            next_state[0,1]=np.minimum(Y_MAX,next_state[0,1])\n",
    "           \n",
    "        if LA.norm(next_state-DESTINATION)<=DIST_TOLERANCE:\n",
    "            terminal=True\n",
    "            print('Reach destination====================================================================================!!!!!!!!')\n",
    "        else:\n",
    "            terminal=False\n",
    "    \n",
    "        if terminal or outbound:\n",
    "            reward=-MOVE_PENALTY\n",
    "        else: \n",
    "            Pout=self.get_empirical_outage(next_state)\n",
    "            reward=-MOVE_PENALTY-NON_COVER_PENALTY*Pout\n",
    "\n",
    "            ###Store the measured data to the databased of radio map\n",
    "            Pout=np.array(Pout)\n",
    "            Pout=Pout.reshape((-1,1))#열1로 고정, 모두 행으로 나타내기, 모두 행으로 나타내기\n",
    "            new_row=np.concatenate((next_state,Pout),axis=1) #열이 늘어나게 배열을 합침\n",
    "            radio_map.add_new_measured_data(new_row)\n",
    "#             def add_new_measured_data(self,new_row):\n",
    "#        self.measured_database=np.concatenate((self.measured_database,new_row),axis=0)\n",
    "#        #concatenate : axis = 0 -> 열기준으로 배열을 합쳐라\\(즉, 열은 그대로 행이 늘어남)\n",
    "            \n",
    "                          \n",
    "        done = False\n",
    "                               \n",
    "        if terminal or self.episode_step >= MAX_STEP or outbound:\n",
    "            done = True\n",
    "                           \n",
    "        return next_state, reward, terminal,outbound,done\n",
    "    \n",
    "    \n",
    "    ###Dueling DQN과 차이점! map을 만드는 simulated step 정의(def step과 동일함)\n",
    "    def simulated_step(self,current_state, action_idx, cur_traj):\n",
    "        #the simulated step: the UAV does not actually take the fly, but use the\n",
    "        #radio map to have a simulated step              \n",
    "        self.episode_step+=1\n",
    "                     \n",
    "        next_state=current_state+STEP_DISPLACEMENT*ACTIONS[action_idx]\n",
    "        outbound=False\n",
    "        out_bound_check1=next_state<0\n",
    "        out_bound_check2=next_state[0,0]>X_MAX\n",
    "        out_bound_check3=next_state[0,1]>Y_MAX\n",
    "        if out_bound_check1.any() or out_bound_check2.any() or out_bound_check3.any():\n",
    "            outbound=True       \n",
    "            next_state[next_state<0]=0\n",
    "            next_state[0,0]=np.minimum(X_MAX,next_state[0,0])\n",
    "            next_state[0,1]=np.minimum(Y_MAX,next_state[0,1])\n",
    "           \n",
    "        if LA.norm(next_state-DESTINATION)<=DIST_TOLERANCE:\n",
    "            terminal=True\n",
    "            print('Simulated: Reach destination================================================================================!!!!!!!!')\n",
    "        else:\n",
    "            terminal=False\n",
    "    \n",
    "        if terminal or outbound:\n",
    "            reward=-MOVE_PENALTY\n",
    "        else:#This part makes a difference between the actual step and the simulated step\n",
    "            Pout=radio_map.predict_outage_prob(next_state)#The outage probability is predicted based on the radio map, instead of being measured\n",
    "            reward=-MOVE_PENALTY-NON_COVER_PENALTY*Pout[0]\n",
    "\n",
    "                          \n",
    "        done = False\n",
    "                               \n",
    "        if terminal or self.episode_step >= MAX_STEP or outbound:\n",
    "            done = True\n",
    "                           \n",
    "        return next_state, reward, terminal,outbound,done\n",
    "    \n",
    "            \n",
    "\n",
    "env = UAVEnv()\n",
    "sim_env=UAVEnv()#Simulated UAV environment ###\n",
    "radio_map=RadioMap(X_MAX,Y_MAX)    ###\n",
    "\n",
    "\n",
    "# For more repetitive results\n",
    "random.seed(1)\n",
    "np.random.seed(1)\n",
    "tf.random.set_seed(1)\n",
    "\n",
    "\n",
    "# Agent class\n",
    "class DQNAgent:\n",
    "    def __init__(self):\n",
    "        # Main model\n",
    "        \n",
    "        self.model = self.create_model(dueling=True)\n",
    "        \n",
    "        self.initilize_model()\n",
    "\n",
    "        # Target network\n",
    "        self.target_model = self.create_model(dueling=True)\n",
    "        self.target_model.set_weights(self.model.get_weights())\n",
    "\n",
    "        self.replay_memory = deque(maxlen=REPLAY_MEMORY_SIZE)\n",
    "\n",
    "        # Custom tensorboard object\n",
    "#        self.tensorboard = ModifiedTensorBoard(log_dir=\"logs/{}-{}\".format(MODEL_NAME, int(time.time())))\n",
    "\n",
    "        # Used to count when to update target network with main network's weights\n",
    "        self.target_update_counter = 0\n",
    "\n",
    "    def create_model(self, dueling):\n",
    "        inp = Input(shape=OBSERVATION_SPACE_VALUES)\n",
    "        outp=Dense(512,activation='relu')(inp)\n",
    "        outp=Dense(256,activation='relu')(outp)\n",
    "        outp=Dense(128,activation='relu')(outp)\n",
    "        outp=Dense(128,activation='relu')(outp)\n",
    "        \n",
    "        if(dueling):\n",
    "            # Have the network estimate the Advantage function as an intermediate layer\n",
    "            outp=Dense(ACTION_SPACE_SIZE+1, activation='linear')(outp)\n",
    "            outp=Lambda(lambda i: K.expand_dims(i[:,0],-1) + i[:,1:] - K.mean(i[:,1:], keepdims=True), \n",
    "                        output_shape=(ACTION_SPACE_SIZE,))(outp)\n",
    "        else:\n",
    "            outp=Dense(ACTION_SPACE_SIZE,activation='linear')(outp)\n",
    "            \n",
    "        model=Model(inp,outp)\n",
    "        \n",
    "        model.compile(optimizer='adam',loss='mean_squared_error',\n",
    "                      metrics=['mean_absolute_error', 'mean_squared_error'])\n",
    "        model.summary()\n",
    "        return model\n",
    "\n",
    "\n",
    "       \n",
    "    def normalize_data(self,input_data):        \n",
    "        return input_data/MAX_VALS\n",
    "\n",
    "       \n",
    "    def initilize_model(self):       \n",
    "        #initialize the DQN so that the Q values of each (state,action) pair\n",
    "        #equal to: -MOVE_PENALTY*distance/STEP_DISPLACEMENT,\n",
    "        #where distance is the distance between the next state and the destination\n",
    "        #this will encourage shortest path flying initially when there is no information on the coverage map\n",
    "               \n",
    "        xx,yy=np.meshgrid(x,y,indexing='ij')\n",
    "        \n",
    "        plt.figure(0)\n",
    "        plt.plot(DESTINATION[0,0],DESTINATION[0,1],'r>',markersize=15)\n",
    "        plt.show()\n",
    "                \n",
    "        num_states=100_000\n",
    "        xy_loc=env.random_generate_states(num_states)\n",
    "        \n",
    "        \n",
    "        Actions_aug=np.zeros((1,xy_loc.shape[1],ACTION_SPACE_SIZE),dtype=int)\n",
    "        for i in range(Actions_aug.shape[2]):\n",
    "            Actions_aug[:,:,i]=ACTIONS[i]\n",
    "            \n",
    "        Actions_aug=np.tile(Actions_aug,(xy_loc.shape[0],1,1))\n",
    "        xy_loc_aug=np.zeros((xy_loc.shape[0],xy_loc.shape[1],1))\n",
    "        xy_loc_aug[:,:,0]=xy_loc\n",
    "        xy_loc_aug=np.repeat(xy_loc_aug,ACTION_SPACE_SIZE,axis=2)\n",
    "        xy_loc_next_state=xy_loc_aug+STEP_DISPLACEMENT*Actions_aug\n",
    "        \n",
    "        xy_loc_next_state[xy_loc_next_state<0]=0\n",
    "        xy_loc_next_state[:,0,:]=np.minimum(X_MAX,xy_loc_next_state[:,0,:])\n",
    "        xy_loc_next_state[:,1,:]=np.minimum(Y_MAX,xy_loc_next_state[:,1,:])\n",
    "        \n",
    "        end_loc_reshaped=np.zeros((1,2,1))\n",
    "        end_loc_reshaped[0,:,0]=DESTINATION\n",
    "        distance_to_destination=LA.norm(xy_loc_next_state-end_loc_reshaped,axis=1)#compute the distance to destination            \n",
    "        Q_init=-distance_to_destination/STEP_DISPLACEMENT*MOVE_PENALTY\n",
    "        \n",
    "                \n",
    "        train_data=xy_loc[:int(num_states*0.8),:]\n",
    "        train_label=Q_init[:int(num_states*0.8),:]\n",
    "             \n",
    "        test_data=xy_loc[int(num_states*0.8):,:]\n",
    "        test_label=Q_init[int(num_states*0.8):,:]\n",
    "        \n",
    "       \n",
    "        history=self.model.fit(self.normalize_data(train_data),train_label,epochs=20,\n",
    "                               validation_split=0.2,verbose=1)\n",
    "                    \n",
    "        history_dict = history.history\n",
    "        history_dict.keys()\n",
    "                                                                \n",
    "        mse = history_dict['mean_squared_error']\n",
    "        val_mse = history_dict['val_mean_squared_error']\n",
    "        mae = history_dict['mean_absolute_error']\n",
    "        val_mae=history_dict['val_mean_absolute_error']\n",
    "        \n",
    "     \n",
    "        epochs = range(1, len(mse) + 1)\n",
    "        \n",
    "        plt.figure()   \n",
    "        \n",
    "        plt.plot(epochs, mse, 'bo', label='Training MSE')\n",
    "        plt.plot(epochs, val_mse, 'r', label='Validation MSE')\n",
    "        plt.title('Training and validation MSE')\n",
    "#        plt.ylim(0,100)\n",
    "        plt.xlabel('Epochs')\n",
    "        plt.ylabel('MSE')\n",
    "        plt.legend()\n",
    "        \n",
    "        plt.show()\n",
    "        \n",
    "        \n",
    "        plt.figure()   # clear figure\n",
    "        \n",
    "        plt.plot(epochs, mae, 'bo', label='Training MAE')\n",
    "        plt.plot(epochs, val_mae, 'r', label='Validation MAE')\n",
    "        plt.title('Training and validation accuracy')\n",
    "        plt.xlabel('Epochs')\n",
    "        plt.ylabel('MAE')\n",
    "    #    plt.ylim(0,15)\n",
    "        plt.legend()\n",
    "        \n",
    "        plt.show()\n",
    "             \n",
    "        result=self.model.evaluate(self.normalize_data(test_data),test_label)\n",
    "        print(result)\n",
    "                        \n",
    "    \n",
    " \n",
    "    #Add data to replay memory for n-step return\n",
    "    #(St, At, R_nstep, S_{t+n}, terminal, outbound, done)\n",
    "    #where R_nstep=R_{t+1}+gamma*R_{t+2}+gamma^2*R_{t+3}....+gamma^(nSTEP-1)*R_{t+n}\n",
    "    def update_replay_memory_nStepLearning(self,slide_window,nSTEP,endEpisode):\n",
    "        #update only after n steps\n",
    "        if len(slide_window)<nSTEP:\n",
    "            return\n",
    "\n",
    "#        slide_window contains the list in the following order:\n",
    "#        (current_state,action_idx,reward,next_state,terminal,outbound,done)        \n",
    "        rewards_nsteps= [transition[2] for transition in slide_window]\n",
    "        discount_nsteps=DISCOUNT**np.arange(nSTEP)\n",
    "        R_nstep=sum(rewards_nsteps*discount_nsteps)\n",
    "        \n",
    "        St=slide_window[0][0]\n",
    "        At=slide_window[0][1]\n",
    "        \n",
    "        St_plus_n=slide_window[-1][3]\n",
    "        terminal=slide_window[-1][4]\n",
    "        outbound=slide_window[-1][5]\n",
    "        done=slide_window[-1][6]\n",
    "        \n",
    "        \"\"\" Store experience in memory buffer\n",
    "        \"\"\"         \n",
    "        self.replay_memory.append((St,At,R_nstep,St_plus_n,terminal,outbound,done))\n",
    "        \n",
    "             \n",
    "        if endEpisode:#Truncated n-step return for the last few steps at the end of the episode \n",
    "            for i in range(1,nSTEP):\n",
    "                rewards_i=rewards_nsteps[i:]\n",
    "                discount_i=DISCOUNT**np.arange(nSTEP-i)\n",
    "                R_i=sum(rewards_i*discount_i)\n",
    "                \n",
    "                St_i=slide_window[i][0]\n",
    "                At_i=slide_window[i][1]\n",
    "                              \n",
    "                self.replay_memory.append((St_i,At_i,R_i,St_plus_n,terminal,outbound,done))\n",
    "            \n",
    "        \n",
    "    def sample_batch_from_replay_memory(self):\n",
    "        minibatch = random.sample(self.replay_memory, MINIBATCH_SIZE)\n",
    "        current_state_batch = np.zeros((MINIBATCH_SIZE, OBSERVATION_SPACE_VALUES[0]))\n",
    "        next_state_batch = np.zeros((MINIBATCH_SIZE, OBSERVATION_SPACE_VALUES[0]))\n",
    "        \n",
    "        actions_idx, rewards, terminal, outbound, done= [], [], [],[],[]\n",
    "                \n",
    "        for idx, val in enumerate(minibatch):     \n",
    "            current_state_batch[idx] = val[0]\n",
    "            actions_idx.append(val[1])\n",
    "            rewards.append(val[2])\n",
    "            next_state_batch[idx] = val[3]           \n",
    "            terminal.append(val[4])\n",
    "            outbound.append(val[5])\n",
    "            done.append(val[6])\n",
    "            \n",
    "        return current_state_batch, actions_idx, rewards, next_state_batch, terminal, outbound, done\n",
    "\n",
    "  \n",
    "    \n",
    "    def deepDoubleQlearn(self,episode_done):\n",
    "        # Start training only if certain number of samples is already saved                 \n",
    "        if len(self.replay_memory) < MIN_REPLAY_MEMORY_SIZE:\n",
    "            return\n",
    "                                \n",
    "        current_state_batch, actions_idx, rewards, next_state_batch, terminal,outbound, done = self.sample_batch_from_replay_memory()\n",
    "                    \n",
    "        \n",
    "        current_Q_values=self.model.predict(self.normalize_data(current_state_batch))\n",
    "       \n",
    "        next_Q_values_currentNetwork=self.model.predict(self.normalize_data(next_state_batch))  # use the current network to evaluate action\n",
    "        next_actions=np.argmax(next_Q_values_currentNetwork,axis=1)        \n",
    "          \n",
    "        next_Q_values = self.target_model.predict(self.normalize_data(next_state_batch))  # still use the target network to evaluate value\n",
    "        \n",
    "\n",
    "        Y=current_Q_values\n",
    "        \n",
    "        for i in range(MINIBATCH_SIZE):\n",
    "       \n",
    "            if terminal[i]:\n",
    "                target = rewards[i]+REACH_DES_REWARD\n",
    "            elif outbound[i]:\n",
    "                target=rewards[i]-OUT_BOUND_PENALTY\n",
    "            else:\n",
    "                target = rewards[i] + DISCOUNT**nSTEP*next_Q_values[i,next_actions[i]]\n",
    "                        \n",
    "            Y[i,actions_idx[i]]=target\n",
    "            \n",
    "     \n",
    "                   \n",
    "        self.model.fit(self.normalize_data(current_state_batch),\n",
    "                       Y, batch_size=MINIBATCH_SIZE,verbose=0, shuffle=False,\n",
    "                       #callbacks=[self.tensorboard] if episode_done else None\n",
    "                      )\n",
    "        \n",
    "        \n",
    "        # Update target network counter every episode\n",
    "        if episode_done:\n",
    "            self.target_update_counter += 1            \n",
    "            # If counter reaches set value, update target network with weights of main network\n",
    "            if self.target_update_counter >= UPDATE_TARGET_EVERY:\n",
    "                self.target_model.set_weights(self.model.get_weights())\n",
    "                self.target_update_counter = 0\n",
    "                      \n",
    "   \n",
    "    def choose_action(self,current_state,cur_traj,epsilon):                       \n",
    "        next_possible_states=current_state+STEP_DISPLACEMENT*ACTIONS       \n",
    "        \n",
    "        next_possible_states[next_possible_states<0]=0\n",
    "        next_possible_states[:,0]=np.minimum(next_possible_states[:,0],X_MAX)\n",
    "        next_possible_states[:,1]=np.minimum(next_possible_states[:,1],Y_MAX)        \n",
    "        \n",
    "        next_possible_states=next_possible_states.tolist()\n",
    "        \n",
    "        no_repetition=[]\n",
    "        \n",
    "        cur_traj=cur_traj[-10:] #no return to the previous few locations\n",
    "        \n",
    "        for state in next_possible_states:\n",
    "            no_repetition.append(state not in cur_traj)\n",
    "             \n",
    "        \n",
    "        actions_idx_all=np.arange(ACTION_SPACE_SIZE)\n",
    "        actions_idx_valid=actions_idx_all[no_repetition]\n",
    "           \n",
    "        if np.random.rand()<=epsilon or len(actions_idx_valid)==0:#Exploration\n",
    "            action_idx=np.random.randint(0,ACTION_SPACE_SIZE) \n",
    "            return action_idx\n",
    "        else:        \n",
    "            Q_value=self.model.predict(self.normalize_data(current_state))\n",
    "            Q_value=Q_value[0]            \n",
    "            action_idx_maxVal=np.argmax(Q_value)\n",
    "            if action_idx_maxVal in actions_idx_valid:\n",
    "                action_idx=action_idx_maxVal\n",
    "            else:\n",
    "                action_idx=random.sample(actions_idx_valid.tolist(),1)\n",
    "                action_idx=action_idx[0]                                                         \n",
    "            return action_idx\n",
    "        \n",
    "\n",
    "\n",
    "agent = DQNAgent()\n",
    "\n",
    "ep_rewards,ep_trajecotry,ep_reach_terminal,ep_outbound,ep_actions=[],[],[],[],[]\n",
    "###밑에 두 줄이 추가 되었음\n",
    "ep_MSE,ep_MAE,ep_Max_Absolute_Error,ep_bin_cross_entr=[],[],[],[]\n",
    "ep_sim_rewards,ep_sim_trajecotry,ep_sim_reach_terminal,ep_sim_outbound,ep_sim_actions=[],[],[],[],[]\n",
    "\n",
    "# Iterate over episodes\n",
    "for episode in tqdm(range(1, EPISODES + 1), ascii=True, unit='episodes'):\n",
    "\n",
    "    # Update tensorboard step every episode\n",
    "    #agent.tensorboard.step = episode\n",
    "\n",
    "    # Restarting episode - reset episode reward and step number\n",
    "    episode_reward = 0\n",
    "    ###sim_reward 추가\n",
    "    episode_sim_reward = 0\n",
    "\n",
    "    # Reset environment and get initial state\n",
    "    current_state = env.reset()\n",
    "    cur_trajectory=[]\n",
    "#    cur_trajectory=np.array([]).reshape(0,OBSERVATION_SPACE_VALUES[0])\n",
    "    cur_actions=[]   \n",
    "    slide_window=deque(maxlen=nSTEP)\n",
    "    # Reset flag and start iterating until episode ends   \n",
    "    done=False\n",
    "    \n",
    "    ###아래 6줄 추가\n",
    "    #The starting state of the simulated trajectory\n",
    "#    sim_current_state=env.random_generate_states(num_states=1)\n",
    "    sim_current_state=sim_env.reset()\n",
    "    sim_cur_trajectory=[]\n",
    "    sim_slide_window=deque(maxlen=nSTEP)\n",
    "    sim_done=False\n",
    "\n",
    "    sim_step_per_act_step=int(np.floor(episode/100))#Number of simulation steps performed per actual step\n",
    "    sim_step_per_act_step=np.minimum(sim_step_per_act_step,10)\n",
    "    #minimum : 두 어레이간 작은 값으로 배열 생성 -> 최대 10번까지는 sim_step을 해라\n",
    "    \n",
    "    \n",
    "    \n",
    "    while not done:\n",
    "        #The actual UAV flight\n",
    "        cur_trajectory.append(np.squeeze(current_state).tolist())\n",
    "        action_idx=agent.choose_action(current_state,cur_trajectory,epsilon)\n",
    "             \n",
    "        #actual step and measurement\n",
    "        next_state, reward, terminal, outbound, done = env.step(current_state,action_idx,cur_trajectory)\n",
    "        ###radio_map도 업데이트함\n",
    "        radio_map.update_radio_map(verbose_on=0)\n",
    "        \n",
    "        \n",
    "        episode_reward += reward        \n",
    "        slide_window.append((current_state,action_idx,reward,next_state,terminal,outbound,done)) \n",
    "\n",
    "        agent.update_replay_memory_nStepLearning(slide_window,nSTEP,done)  \n",
    "        agent.deepDoubleQlearn(done)\n",
    "        current_state = next_state\n",
    "        \n",
    "        \n",
    "        ###The simulated trajectory\n",
    "        for temp_counter in range(sim_step_per_act_step):\n",
    "            sim_cur_trajectory.append(np.squeeze(sim_current_state).tolist())\n",
    "            sim_action_idx=agent.choose_action(sim_current_state,sim_cur_trajectory,epsilon)\n",
    "            sim_next_state, sim_reward, sim_terminal, sim_outbound, sim_done =sim_env.simulated_step(sim_current_state,sim_action_idx,sim_cur_trajectory)\n",
    "            episode_sim_reward+=sim_reward\n",
    "            sim_slide_window.append((sim_current_state,sim_action_idx,sim_reward,sim_next_state,sim_terminal,sim_outbound,sim_done))\n",
    "            agent.update_replay_memory_nStepLearning(sim_slide_window,nSTEP,sim_done)\n",
    "            agent.deepDoubleQlearn(sim_done)\n",
    "            sim_current_state = sim_next_state\n",
    "            if sim_done:#start a new episode if the simulation trajectory completes one episode\n",
    "                ep_sim_rewards.append(episode_sim_reward)\n",
    "                ep_sim_trajecotry.append(sim_cur_trajectory)\n",
    "                ep_sim_reach_terminal.append(sim_terminal)\n",
    "                ep_sim_outbound.append(sim_outbound)\n",
    "                \n",
    "                episode_sim_reward = 0\n",
    "                sim_current_state=sim_env.reset()\n",
    "                sim_cur_trajectory=[]\n",
    "                sim_slide_window=deque(maxlen=nSTEP)\n",
    "                sim_done=False\n",
    "                \n",
    "                \n",
    "\n",
    "                   \n",
    "    MSE,MAE,Max_Absolute_Error,bin_cross_entr=radio_map.check_radio_map_acc()\n",
    "    ep_MSE.append(MSE)\n",
    "#    print('ep_MSE:', ep_MSE)\n",
    "    ep_MAE.append(MAE)\n",
    "#    print('ep_MAE:', ep_MAE)\n",
    "    ep_Max_Absolute_Error.append(Max_Absolute_Error)\n",
    "#    print('ep_Max_Absolute_Error:', ep_Max_Absolute_Error)\n",
    "    ep_bin_cross_entr.append(bin_cross_entr)\n",
    "#    print('bin_cross_entr:', ep_bin_cross_entr)\n",
    "    ###이상까지 모두 simulated trajectory!!\n",
    "    \n",
    "    \n",
    "    # Append episode reward to a list and log stats (every given number of episodes)\n",
    "    ep_rewards.append(episode_reward)\n",
    "    ep_trajecotry.append(cur_trajectory)\n",
    "    ep_reach_terminal.append(terminal)\n",
    "    ep_outbound.append(outbound)\n",
    "#    ep_actions.append(cur_actions)\n",
    "    \n",
    "   \n",
    "    \n",
    "    if episode%10 == 0:\n",
    "#        dist_to_dest=LA.norm(start_loc-end_loc)\n",
    "#        print(\"Start location:{}, distance to destination:{}\".format(start_loc,dist_to_dest))\n",
    "        print(\"Episode: {}, total steps: {},  final return: {}\".format(episode,len(cur_trajectory),episode_reward))\n",
    "        \n",
    "    if not episode % AGGREGATE_STATS_EVERY or episode == 1:\n",
    "        average_reward = sum(ep_rewards[-AGGREGATE_STATS_EVERY:])/len(ep_rewards[-AGGREGATE_STATS_EVERY:])\n",
    "        min_reward = min(ep_rewards[-AGGREGATE_STATS_EVERY:])\n",
    "        max_reward = max(ep_rewards[-AGGREGATE_STATS_EVERY:])\n",
    "#        agent.tensorboard.update_stats(reward_avg=average_reward,\n",
    "#                                       reward_min=min_reward, reward_max=max_reward, epsilon=epsilon)\n",
    "\n",
    "        # Save model, but only when min reward is greater or equal a set value\n",
    "        if min_reward >= MIN_REWARD:\n",
    "            agent.model.save(f'models/{MODEL_NAME}__{max_reward:_>7.2f}max_{average_reward:_>7.2f}avg_{min_reward:_>7.2f}min__{int(time.time())}.model')\n",
    "\n",
    "    # Decay epsilon\n",
    "    if epsilon > MIN_EPSILON:\n",
    "        epsilon *= EPSILON_DECAY\n",
    "        epsilon = max(MIN_EPSILON, epsilon)\n",
    "        \n",
    "        \n",
    "\n",
    "###아래 plt.figure(60~90)\n",
    "\n",
    "fig=plt.figure(60)\n",
    "plt.plot(np.arange(len(ep_MSE))+1,ep_MSE,'b-',linewidth=2)\n",
    "plt.grid(which='major', axis='both')\n",
    "plt.xlabel('Episode')\n",
    "plt.ylabel('MSE')\n",
    "fig.savefig('MSE.eps')\n",
    "fig.savefig('MSE.pdf')\n",
    "fig.savefig('MSE.jpg')\n",
    "\n",
    "fig=plt.figure(70)\n",
    "plt.plot(np.arange(len(ep_MAE))+1,ep_MAE,'b-',linewidth=2)\n",
    "plt.grid(which='major', axis='both')\n",
    "plt.xlabel('Episode')\n",
    "plt.ylabel('MAE')\n",
    "fig.savefig('MAE.eps')\n",
    "fig.savefig('MAE.pdf')\n",
    "fig.savefig('MAE.jpg')\n",
    "\n",
    "fig=plt.figure(80)\n",
    "plt.plot(np.arange(len(ep_Max_Absolute_Error))+1,ep_Max_Absolute_Error,'b-',linewidth=2)\n",
    "plt.grid(which='major', axis='both')\n",
    "plt.xlabel('Episode')\n",
    "plt.ylabel('Maximum absolute eror')\n",
    "fig.savefig('Max_Absolute_Error.eps')\n",
    "fig.savefig('Max_Absolute_Error.pdf')\n",
    "fig.savefig('Max_Absolute_Error.jpg')\n",
    "\n",
    "fig=plt.figure(90)\n",
    "plt.plot(np.arange(len(ep_bin_cross_entr))+1,ep_bin_cross_entr,'b-',linewidth=2)\n",
    "plt.grid(which='major', axis='both')\n",
    "plt.xlabel('Episode')\n",
    "plt.ylabel('Binary cross entropy')\n",
    "fig.savefig('Bin_cross_entr.eps')\n",
    "fig.savefig('Bin_cross_entr.pdf')\n",
    "fig.savefig('Bin_cross_entr.jpg')\n",
    "###이상까지 모두 plt.figure!!    \n",
    "   \n",
    "\n",
    "def get_moving_average(mylist,N):\n",
    "    cumsum, moving_aves = [0], []\n",
    "    for i, x in enumerate(mylist, 1):\n",
    "        cumsum.append(cumsum[i-1] + x)\n",
    "\n",
    "        if i>=N:\n",
    "            moving_ave = (cumsum[i] - cumsum[i-N])/N\n",
    "            moving_aves.append(moving_ave)\n",
    "    return moving_aves\n",
    "        \n",
    "\n",
    "    \n",
    "\n",
    "fig=plt.figure()\n",
    "plt.xlabel('Episode',fontsize=14)\n",
    "plt.ylabel('Return per episode',fontsize=14,labelpad=-2)\n",
    "N=200\n",
    "return_mov_avg=get_moving_average(ep_rewards,N)\n",
    "plt.plot(np.arange(len(return_mov_avg))+N,return_mov_avg,'r-',linewidth=5)\n",
    "#plt.ylim(-6000,0)\n",
    "####\n",
    "fig.savefig('return.eps')\n",
    "fig.savefig('return.pdf')\n",
    "fig.savefig('return.jpg')\n",
    "\n",
    "\n",
    "###VIew the learned radio map for given height\n",
    "UAV_height=0.1 # UAV height in km\n",
    "step=101 #include the start point at 0 and end point, the space between two sample points is D/(step-1)\n",
    "D=2\n",
    "X_vec=range(D*(step-1)+1)\n",
    "Y_vec=range(D*(step-1)+1)\n",
    "numX,numY=np.size(X_vec),np.size(Y_vec)\n",
    "\n",
    "OutageMapLearned=np.zeros(shape=(numX,numY))\n",
    "#Loc_All=np.zeros(shape=(0,3))\n",
    "for i in range(numX):\n",
    "    Loc_cur=np.zeros(shape=(numY,2))\n",
    "    Loc_cur[:,0]=X_vec[i]/step\n",
    "    Loc_cur[:,1]=np.array(Y_vec)/step\n",
    "    Loc_cur=Loc_cur*1000 #convert to meter\n",
    "    OutageMapLearned[i,:]=radio_map.predict_outage_prob(Loc_cur)\n",
    "#    Loc_cur[:,2]=UAV_height\n",
    "#    Loc_All=np.concatenate((Loc_All,Loc_cur),axis=0)\n",
    "###VIew the learned radio map for given height    \n",
    "\n",
    "\n",
    "fig=plt.figure(20)\n",
    "#plt.style.use('classic')\n",
    "plt.contourf(np.array(X_vec)*10,np.array(Y_vec)*10,1-OutageMapLearned)\n",
    "v = np.linspace(0, 1.0, 11, endpoint=True)\n",
    "cbar=plt.colorbar(ticks=v) \n",
    "cbar.set_label('coverage probability',labelpad=20, rotation=270,fontsize=14)\n",
    "plt.xlabel('x (meter)',fontsize=14)\n",
    "plt.ylabel('y (meter)',fontsize=14)\n",
    "plt.show()\n",
    "fig.savefig('CoverageMapLearned.eps')\n",
    "fig.savefig('CoverageMapLearned.pdf')\n",
    "fig.savefig('CoverageMapLearned.jpg')\n",
    "          \n",
    "    \n",
    "\n",
    "\n",
    "npzfile = np.load('radioenvir.npz')\n",
    "OutageMapActual=npzfile['arr_0']\n",
    "X_vec=npzfile['arr_1']\n",
    "Y_vec=npzfile['arr_2']\n",
    "\n",
    "\n",
    "fig=plt.figure(30)\n",
    "#xx,yy=np.meshgrid(x,y,indexing='ij')\n",
    "#plt.contourf(xx,yy,coverage_map)\n",
    "\n",
    "plt.contourf(np.array(X_vec)*10,np.array(Y_vec)*10,1-OutageMapActual)\n",
    "v = np.linspace(0, 1.0, 11, endpoint=True)\n",
    "cbar=plt.colorbar(ticks=v) \n",
    "\n",
    "\n",
    "#v = np.linspace(0, 1.0, 11, endpoint=True)\n",
    "#cbar=plt.colorbar(ticks=v)\n",
    "#cbar.ax.set_yticklabels(['0','0.2','0.4','0.6','0.8','1.0'])\n",
    "cbar.set_label('coverage probability',labelpad=20, rotation=270,fontsize=14)\n",
    "\n",
    "\n",
    "for episode_idx in range(episode-200, episode):\n",
    "    S_seq=ep_trajecotry[episode_idx]\n",
    "    S_seq=np.squeeze(np.asarray(S_seq))\n",
    "    \n",
    "\n",
    "    if S_seq.ndim>1:\n",
    "        plt.plot(S_seq[0,0],S_seq[0,1],'rx',markersize=5)\n",
    "        plt.plot(S_seq[:,0],S_seq[:,1],'-')\n",
    "    else:\n",
    "        plt.plot(S_seq[0],S_seq[1],'rx',markersize=5)\n",
    "        plt.plot(S_seq[0],S_seq[1],'-')\n",
    "        \n",
    "    ###    \n",
    "    plt.plot(DESTINATION[0,0],DESTINATION[0,1],'b^',markersize=25)\n",
    "\n",
    "\n",
    "plt.plot(DESTINATION[0,0],DESTINATION[0,1],'b^',markersize=25)\n",
    "plt.xlabel('x (meter)',fontsize=14)\n",
    "plt.ylabel('y (meter)',fontsize=14)\n",
    "plt.show()\n",
    "fig.savefig('trajectoriesSNARM.eps')\n",
    "fig.savefig('trajectoriesSNARM.pdf')\n",
    "fig.savefig('trajectoriesSNARM.jpg')\n",
    "\n",
    "print('{}/{} episodes reach terminal'.format(ep_reach_terminal.count(True),episode))\n",
    "\n",
    "\n",
    "#Save the simulation ressult\n",
    "np.savez('SNARM_main_Results',return_mov_avg,ep_rewards,ep_trajecotry) "
   ]
  },
  {
   "cell_type": "code",
   "execution_count": null,
   "metadata": {},
   "outputs": [],
   "source": []
  }
 ],
 "metadata": {
  "kernelspec": {
   "display_name": "Python 3",
   "language": "python",
   "name": "python3"
  },
  "language_info": {
   "codemirror_mode": {
    "name": "ipython",
    "version": 3
   },
   "file_extension": ".py",
   "mimetype": "text/x-python",
   "name": "python",
   "nbconvert_exporter": "python",
   "pygments_lexer": "ipython3",
   "version": "3.7.9"
  },
  "toc": {
   "base_numbering": 1,
   "nav_menu": {},
   "number_sections": true,
   "sideBar": true,
   "skip_h1_title": false,
   "title_cell": "Table of Contents",
   "title_sidebar": "Contents",
   "toc_cell": false,
   "toc_position": {},
   "toc_section_display": true,
   "toc_window_display": false
  }
 },
 "nbformat": 4,
 "nbformat_minor": 4
}
