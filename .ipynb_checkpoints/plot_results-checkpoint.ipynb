{
 "cells": [
  {
   "cell_type": "code",
   "execution_count": null,
   "metadata": {},
   "outputs": [],
   "source": [
    "# -*- coding: utf-8 -*-\n",
    "\"\"\"\n",
    "Created on Thu Jan  2 12:06:58 2020\n",
    "\n",
    "@author: DELL\n",
    "\"\"\"\n",
    "\n",
    "import numpy as np\n",
    "import matplotlib.pyplot as plt\n",
    "\n",
    "\n",
    "result_no_mapping=np.load('Dueling_DDQN_MultiStepLeaning_main_Results.npz')\n",
    "return_mov_avg_no_mapping=result_no_mapping['arr_0']\n",
    "\n",
    "result_SNARM=np.load('SNARM_main_Results.npz')\n",
    "return_mov_avg_SNARM=result_SNARM['arr_0']\n",
    "\n",
    "fig=plt.figure(40)\n",
    "plt.plot(np.arange(len(return_mov_avg_no_mapping)),return_mov_avg_no_mapping,'r-',linewidth=5)\n",
    "plt.plot(np.arange(len(return_mov_avg_SNARM)),return_mov_avg_SNARM,'b-',linewidth=5)\n",
    "plt.xlabel('Episode')\n",
    "plt.ylabel('Moving average of return per episode')\n",
    "plt.legend('Direct RL','SNARM')"
   ]
  }
 ],
 "metadata": {
  "kernelspec": {
   "display_name": "Python 3",
   "language": "python",
   "name": "python3"
  },
  "language_info": {
   "codemirror_mode": {
    "name": "ipython",
    "version": 3
   },
   "file_extension": ".py",
   "mimetype": "text/x-python",
   "name": "python",
   "nbconvert_exporter": "python",
   "pygments_lexer": "ipython3",
   "version": "3.7.9"
  },
  "toc": {
   "base_numbering": 1,
   "nav_menu": {},
   "number_sections": true,
   "sideBar": true,
   "skip_h1_title": false,
   "title_cell": "Table of Contents",
   "title_sidebar": "Contents",
   "toc_cell": false,
   "toc_position": {},
   "toc_section_display": true,
   "toc_window_display": false
  }
 },
 "nbformat": 4,
 "nbformat_minor": 4
}
