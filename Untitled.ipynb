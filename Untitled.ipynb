{
 "cells": [
  {
   "cell_type": "code",
   "execution_count": 1,
   "metadata": {
    "ExecuteTime": {
     "end_time": "2021-03-31T11:17:54.360696Z",
     "start_time": "2021-03-31T11:17:54.354815Z"
    }
   },
   "outputs": [],
   "source": [
    " def random_generate_states(num_states): #return loc : 50~1950 중 랜덤 x,y 좌표 생성\n",
    "    loc_x=np.random.uniform(50,2000-50,(num_states,1)) #50 ~ 1950 중 위치 랜덤 생성\n",
    "    loc_y=np.random.uniform(50,2000-50,(num_states,1)) #50 ~ 1950 중 위치 랜덤 생성\n",
    "    loc=np.concatenate((loc_x,loc_y),axis=1)\n",
    "        \n",
    "    return loc"
   ]
  },
  {
   "cell_type": "code",
   "execution_count": 29,
   "metadata": {
    "ExecuteTime": {
     "end_time": "2021-03-31T11:27:41.217533Z",
     "start_time": "2021-03-31T11:27:41.210464Z"
    }
   },
   "outputs": [
    {
     "data": {
      "text/plain": [
       "array([[1423.15491943, 1774.9092464 ],\n",
       "       [1236.81639477,  473.08399887],\n",
       "       [1917.1424383 , 1178.35106705],\n",
       "       ...,\n",
       "       [1200.26751813,  384.19106106],\n",
       "       [ 274.20437402,  281.1079059 ],\n",
       "       [ 780.53817872,  293.34750088]])"
      ]
     },
     "execution_count": 29,
     "metadata": {},
     "output_type": "execute_result"
    }
   ],
   "source": [
    "num_states=100_000\n",
    "xy_loc=random_generate_states(num_states)\n",
    "xy_loc"
   ]
  },
  {
   "cell_type": "code",
   "execution_count": 31,
   "metadata": {
    "ExecuteTime": {
     "end_time": "2021-03-31T11:27:44.655382Z",
     "start_time": "2021-03-31T11:27:44.651350Z"
    }
   },
   "outputs": [],
   "source": [
    "xy_loc_aug=np.zeros((100000,2,1))"
   ]
  },
  {
   "cell_type": "code",
   "execution_count": 32,
   "metadata": {
    "ExecuteTime": {
     "end_time": "2021-03-31T11:27:46.072269Z",
     "start_time": "2021-03-31T11:27:46.066286Z"
    }
   },
   "outputs": [],
   "source": [
    "xy_loc_aug[:,:,0]=xy_loc"
   ]
  },
  {
   "cell_type": "code",
   "execution_count": 33,
   "metadata": {
    "ExecuteTime": {
     "end_time": "2021-03-31T11:27:49.042276Z",
     "start_time": "2021-03-31T11:27:49.034327Z"
    }
   },
   "outputs": [
    {
     "data": {
      "text/plain": [
       "array([[[1423.15491943],\n",
       "        [1774.9092464 ]],\n",
       "\n",
       "       [[1236.81639477],\n",
       "        [ 473.08399887]],\n",
       "\n",
       "       [[1917.1424383 ],\n",
       "        [1178.35106705]],\n",
       "\n",
       "       ...,\n",
       "\n",
       "       [[1200.26751813],\n",
       "        [ 384.19106106]],\n",
       "\n",
       "       [[ 274.20437402],\n",
       "        [ 281.1079059 ]],\n",
       "\n",
       "       [[ 780.53817872],\n",
       "        [ 293.34750088]]])"
      ]
     },
     "execution_count": 33,
     "metadata": {},
     "output_type": "execute_result"
    }
   ],
   "source": [
    "xy_loc_aug"
   ]
  },
  {
   "cell_type": "code",
   "execution_count": 34,
   "metadata": {
    "ExecuteTime": {
     "end_time": "2021-03-31T11:27:53.732460Z",
     "start_time": "2021-03-31T11:27:53.717925Z"
    }
   },
   "outputs": [
    {
     "data": {
      "text/plain": [
       "array([[[1423.15491943, 1423.15491943, 1423.15491943, 1423.15491943],\n",
       "        [1774.9092464 , 1774.9092464 , 1774.9092464 , 1774.9092464 ]],\n",
       "\n",
       "       [[1236.81639477, 1236.81639477, 1236.81639477, 1236.81639477],\n",
       "        [ 473.08399887,  473.08399887,  473.08399887,  473.08399887]],\n",
       "\n",
       "       [[1917.1424383 , 1917.1424383 , 1917.1424383 , 1917.1424383 ],\n",
       "        [1178.35106705, 1178.35106705, 1178.35106705, 1178.35106705]],\n",
       "\n",
       "       ...,\n",
       "\n",
       "       [[1200.26751813, 1200.26751813, 1200.26751813, 1200.26751813],\n",
       "        [ 384.19106106,  384.19106106,  384.19106106,  384.19106106]],\n",
       "\n",
       "       [[ 274.20437402,  274.20437402,  274.20437402,  274.20437402],\n",
       "        [ 281.1079059 ,  281.1079059 ,  281.1079059 ,  281.1079059 ]],\n",
       "\n",
       "       [[ 780.53817872,  780.53817872,  780.53817872,  780.53817872],\n",
       "        [ 293.34750088,  293.34750088,  293.34750088,  293.34750088]]])"
      ]
     },
     "execution_count": 34,
     "metadata": {},
     "output_type": "execute_result"
    }
   ],
   "source": [
    "xy_loc_aug=np.repeat(xy_loc_aug,4,axis=2)\n",
    "xy_loc_aug"
   ]
  },
  {
   "cell_type": "code",
   "execution_count": 40,
   "metadata": {
    "ExecuteTime": {
     "end_time": "2021-03-31T11:30:09.112365Z",
     "start_time": "2021-03-31T11:30:09.095438Z"
    },
    "collapsed": true
   },
   "outputs": [
    {
     "data": {
      "text/plain": [
       "array([[[ 0,  1,  0, -1],\n",
       "        [ 1,  0, -1,  0]],\n",
       "\n",
       "       [[ 0,  1,  0, -1],\n",
       "        [ 1,  0, -1,  0]],\n",
       "\n",
       "       [[ 0,  1,  0, -1],\n",
       "        [ 1,  0, -1,  0]],\n",
       "\n",
       "       ...,\n",
       "\n",
       "       [[ 0,  1,  0, -1],\n",
       "        [ 1,  0, -1,  0]],\n",
       "\n",
       "       [[ 0,  1,  0, -1],\n",
       "        [ 1,  0, -1,  0]],\n",
       "\n",
       "       [[ 0,  1,  0, -1],\n",
       "        [ 1,  0, -1,  0]]])"
      ]
     },
     "execution_count": 40,
     "metadata": {},
     "output_type": "execute_result"
    }
   ],
   "source": [
    "ACTIONS=np.array([[0, 1],\n",
    "             [1,0],\n",
    "             [0,-1],\n",
    "             [-1,0]],dtype=int)\n",
    "Actions_aug=np.zeros((1,xy_loc.shape[1],4),dtype=int)\n",
    "        #Actions_aug = (1 x 2 x 4)의 영행렬\n",
    "for i in range(Actions_aug.shape[2]):\n",
    "    Actions_aug[:,:,i]=ACTIONS[i]\n",
    "    #Actions_aug = array([[[ 0,  1,  0, -1],\n",
    "                                 #[ 1,  0, -1,  0]]])\n",
    "            \n",
    "Actions_aug=np.tile(Actions_aug,(xy_loc.shape[0],1,1))\n",
    "Actions_aug"
   ]
  },
  {
   "cell_type": "code",
   "execution_count": 83,
   "metadata": {
    "ExecuteTime": {
     "end_time": "2021-03-31T11:49:31.787073Z",
     "start_time": "2021-03-31T11:49:31.774037Z"
    }
   },
   "outputs": [
    {
     "data": {
      "text/plain": [
       "4"
      ]
     },
     "execution_count": 83,
     "metadata": {},
     "output_type": "execute_result"
    }
   ],
   "source": [
    " xy_loc_next_state=xy_loc_aug+10*Actions_aug\n",
    "len( xy_loc_next_state[0,0])    "
   ]
  },
  {
   "cell_type": "code",
   "execution_count": 57,
   "metadata": {
    "ExecuteTime": {
     "end_time": "2021-03-31T11:38:17.778359Z",
     "start_time": "2021-03-31T11:38:17.772376Z"
    }
   },
   "outputs": [
    {
     "data": {
      "text/plain": [
       "array([[[   0,    1,    2,    3],\n",
       "        [   4,    5,    6,    7]],\n",
       "\n",
       "       [[   8,    9,   10,   11],\n",
       "        [  12,   13,   14,   15]],\n",
       "\n",
       "       [[  16,   17,   18,   19],\n",
       "        [  20,   21,   22,   23]],\n",
       "\n",
       "       ...,\n",
       "\n",
       "       [[7976, 7977, 7978, 7979],\n",
       "        [7980, 7981, 7982, 7983]],\n",
       "\n",
       "       [[7984, 7985, 7986, 7987],\n",
       "        [7988, 7989, 7990, 7991]],\n",
       "\n",
       "       [[7992, 7993, 7994, 7995],\n",
       "        [7996, 7997, 7998, 7999]]])"
      ]
     },
     "execution_count": 57,
     "metadata": {},
     "output_type": "execute_result"
    }
   ],
   "source": [
    "a = np.arange(8000).reshape(1000,2,4)\n",
    "a"
   ]
  },
  {
   "cell_type": "code",
   "execution_count": 58,
   "metadata": {
    "ExecuteTime": {
     "end_time": "2021-03-31T11:38:21.066072Z",
     "start_time": "2021-03-31T11:38:21.061085Z"
    }
   },
   "outputs": [
    {
     "data": {
      "text/plain": [
       "array([[   0,    1,    2,    3],\n",
       "       [   8,    9,   10,   11],\n",
       "       [  16,   17,   18,   19],\n",
       "       ...,\n",
       "       [7976, 7977, 7978, 7979],\n",
       "       [7984, 7985, 7986, 7987],\n",
       "       [7992, 7993, 7994, 7995]])"
      ]
     },
     "execution_count": 58,
     "metadata": {},
     "output_type": "execute_result"
    }
   ],
   "source": [
    "a[:,0,:]"
   ]
  },
  {
   "cell_type": "code",
   "execution_count": 59,
   "metadata": {
    "ExecuteTime": {
     "end_time": "2021-03-31T11:38:23.276487Z",
     "start_time": "2021-03-31T11:38:23.268449Z"
    }
   },
   "outputs": [
    {
     "data": {
      "text/plain": [
       "array([[   4,    5,    6,    7],\n",
       "       [  12,   13,   14,   15],\n",
       "       [  20,   21,   22,   23],\n",
       "       ...,\n",
       "       [7980, 7981, 7982, 7983],\n",
       "       [7988, 7989, 7990, 7991],\n",
       "       [7996, 7997, 7998, 7999]])"
      ]
     },
     "execution_count": 59,
     "metadata": {},
     "output_type": "execute_result"
    }
   ],
   "source": [
    "a[:,1,:]"
   ]
  },
  {
   "cell_type": "code",
   "execution_count": 63,
   "metadata": {
    "ExecuteTime": {
     "end_time": "2021-03-31T11:42:29.242036Z",
     "start_time": "2021-03-31T11:42:29.228136Z"
    }
   },
   "outputs": [
    {
     "name": "stdout",
     "output_type": "stream",
     "text": [
      "[[[0.]\n",
      "  [0.]]]\n",
      "[[[1400.]\n",
      "  [1600.]]]\n"
     ]
    }
   ],
   "source": [
    "end_loc_reshaped=np.zeros((1,2,1))\n",
    "print(end_loc_reshaped)\n",
    "end_loc_reshaped[0,:,0]=(1400,1600)\n",
    "print(end_loc_reshaped)"
   ]
  },
  {
   "cell_type": "code",
   "execution_count": 87,
   "metadata": {
    "ExecuteTime": {
     "end_time": "2021-03-31T11:49:55.436151Z",
     "start_time": "2021-03-31T11:49:55.406173Z"
    }
   },
   "outputs": [
    {
     "data": {
      "text/plain": [
       "4"
      ]
     },
     "execution_count": 87,
     "metadata": {},
     "output_type": "execute_result"
    }
   ],
   "source": [
    "from numpy import linalg as LA\n",
    "distance_to_destination=LA.norm(xy_loc_next_state-end_loc_reshaped,axis=1)\n",
    "len(distance_to_destination[0])"
   ]
  },
  {
   "cell_type": "code",
   "execution_count": 100,
   "metadata": {
    "ExecuteTime": {
     "end_time": "2021-03-31T12:10:13.997311Z",
     "start_time": "2021-03-31T12:10:13.992371Z"
    }
   },
   "outputs": [
    {
     "data": {
      "text/plain": [
       "array([[1423.15491943, 1774.9092464 ],\n",
       "       [1236.81639477,  473.08399887],\n",
       "       [1917.1424383 , 1178.35106705],\n",
       "       ...,\n",
       "       [1518.73642319,  109.27702408],\n",
       "       [1748.98299783, 1047.42870796],\n",
       "       [ 369.72334627, 1482.07114281]])"
      ]
     },
     "execution_count": 100,
     "metadata": {},
     "output_type": "execute_result"
    }
   ],
   "source": [
    "train_data=xy_loc[:int(num_states*0.8),:]\n",
    "train_data"
   ]
  },
  {
   "cell_type": "code",
   "execution_count": 92,
   "metadata": {
    "ExecuteTime": {
     "end_time": "2021-03-31T11:55:23.889100Z",
     "start_time": "2021-03-31T11:55:23.881120Z"
    }
   },
   "outputs": [
    {
     "data": {
      "text/plain": [
       "100000"
      ]
     },
     "execution_count": 92,
     "metadata": {},
     "output_type": "execute_result"
    }
   ],
   "source": [
    "len(xy_loc)"
   ]
  },
  {
   "cell_type": "code",
   "execution_count": 93,
   "metadata": {
    "ExecuteTime": {
     "end_time": "2021-03-31T11:55:42.017452Z",
     "start_time": "2021-03-31T11:55:42.009960Z"
    }
   },
   "outputs": [
    {
     "data": {
      "text/plain": [
       "20000"
      ]
     },
     "execution_count": 93,
     "metadata": {},
     "output_type": "execute_result"
    }
   ],
   "source": [
    "test_data=xy_loc[int(num_states*0.8):,:]\n",
    "len(test_data)"
   ]
  },
  {
   "cell_type": "code",
   "execution_count": 98,
   "metadata": {
    "ExecuteTime": {
     "end_time": "2021-03-31T12:10:06.122184Z",
     "start_time": "2021-03-31T12:10:06.118703Z"
    }
   },
   "outputs": [],
   "source": [
    "def normalize_data(input_data):\n",
    "    return input_data/np.array([[2000,2000]])"
   ]
  },
  {
   "cell_type": "code",
   "execution_count": 101,
   "metadata": {
    "ExecuteTime": {
     "end_time": "2021-03-31T12:10:15.454304Z",
     "start_time": "2021-03-31T12:10:15.444306Z"
    }
   },
   "outputs": [
    {
     "data": {
      "text/plain": [
       "array([[0.71157746, 0.88745462],\n",
       "       [0.6184082 , 0.236542  ],\n",
       "       [0.95857122, 0.58917553],\n",
       "       ...,\n",
       "       [0.75936821, 0.05463851],\n",
       "       [0.8744915 , 0.52371435],\n",
       "       [0.18486167, 0.74103557]])"
      ]
     },
     "execution_count": 101,
     "metadata": {},
     "output_type": "execute_result"
    }
   ],
   "source": [
    "normalize_data(train_data)"
   ]
  },
  {
   "cell_type": "code",
   "execution_count": 106,
   "metadata": {
    "ExecuteTime": {
     "end_time": "2021-03-31T13:14:29.778725Z",
     "start_time": "2021-03-31T13:14:29.771665Z"
    }
   },
   "outputs": [
    {
     "data": {
      "text/plain": [
       "array([2, 3, 4])"
      ]
     },
     "execution_count": 106,
     "metadata": {},
     "output_type": "execute_result"
    }
   ],
   "source": [
    "a = np.arange(5)\n",
    "a[2:]"
   ]
  },
  {
   "cell_type": "code",
   "execution_count": 107,
   "metadata": {
    "ExecuteTime": {
     "end_time": "2021-03-31T13:14:34.072981Z",
     "start_time": "2021-03-31T13:14:34.068990Z"
    }
   },
   "outputs": [
    {
     "data": {
      "text/plain": [
       "array([0, 1, 2, 3, 4])"
      ]
     },
     "execution_count": 107,
     "metadata": {},
     "output_type": "execute_result"
    }
   ],
   "source": [
    "a"
   ]
  },
  {
   "cell_type": "code",
   "execution_count": 110,
   "metadata": {
    "ExecuteTime": {
     "end_time": "2021-03-31T13:18:54.253686Z",
     "start_time": "2021-03-31T13:18:54.247694Z"
    }
   },
   "outputs": [
    {
     "data": {
      "text/plain": [
       "2"
      ]
     },
     "execution_count": 110,
     "metadata": {},
     "output_type": "execute_result"
    }
   ],
   "source": [
    "OBSERVATION_SPACE_VALUES=(2,)\n",
    "OBSERVATION_SPACE_VALUES[0]"
   ]
  },
  {
   "cell_type": "code",
   "execution_count": 119,
   "metadata": {
    "ExecuteTime": {
     "end_time": "2021-03-31T13:42:20.729595Z",
     "start_time": "2021-03-31T13:42:20.715069Z"
    }
   },
   "outputs": [],
   "source": [
    "import random\n",
    "from collections import deque\n",
    "REPLAY_MEMORY_SIZE = 100_000\n",
    "replay_memory = deque(maxlen=REPLAY_MEMORY_SIZE)\n",
    "OBSERVATION_SPACE_VALUES=(2,)\n",
    "def sample_batch_from_replay_memory():\n",
    "    minibatch = random.sample(replay_memory, 32) #MINIBATCH_SIZE = 32, OBSERVATION_SPACE_VALUES[0]=2\n",
    "    current_state_batch = np.zeros((32, OBSERVATION_SPACE_VALUES[0])) #OBSERVATION_SPACE_VALUES=(2,)\n",
    "    next_state_batch = np.zeros((32, OBSERVATION_SPACE_VALUES[0])) \n",
    "    #(32 x 2)\n",
    "    actions_idx, rewards, terminal, outbound, done= [], [], [], [], []\n",
    "                \n",
    "    for idx, val in enumerate(minibatch):     \n",
    "        current_state_batch[idx] = val[0] #별도로 만든 행렬에 넣고\n",
    "        actions_idx.append(val[1])\n",
    "        rewards.append(val[2])\n",
    "        next_state_batch[idx] = val[3]           \n",
    "        terminal.append(val[4])\n",
    "        outbound.append(val[5])\n",
    "        done.append(val[6])\n",
    "            \n",
    "    return current_state_batch, actions_idx, rewards, next_state_batch, terminal, outbound, done"
   ]
  },
  {
   "cell_type": "code",
   "execution_count": 150,
   "metadata": {
    "ExecuteTime": {
     "end_time": "2021-03-31T14:12:49.634438Z",
     "start_time": "2021-03-31T14:12:49.628414Z"
    }
   },
   "outputs": [
    {
     "data": {
      "text/plain": [
       "array([[300, 410],\n",
       "       [310, 400],\n",
       "       [300, 390],\n",
       "       [290, 400]])"
      ]
     },
     "execution_count": 150,
     "metadata": {},
     "output_type": "execute_result"
    }
   ],
   "source": [
    "current_state = np.array([[300,400]]) \n",
    "next_possible_states = current_state + 10*np.array([[0, 1],[1,0],[0,-1],[-1,0]],dtype=int)\n",
    "next_possible_states"
   ]
  },
  {
   "cell_type": "code",
   "execution_count": 151,
   "metadata": {
    "ExecuteTime": {
     "end_time": "2021-03-31T14:12:50.840350Z",
     "start_time": "2021-03-31T14:12:50.833371Z"
    }
   },
   "outputs": [
    {
     "data": {
      "text/plain": [
       "[[300, 410], [310, 400], [300, 390], [290, 400]]"
      ]
     },
     "execution_count": 151,
     "metadata": {},
     "output_type": "execute_result"
    }
   ],
   "source": [
    "next_possible_states=next_possible_states.tolist()\n",
    "next_possible_states"
   ]
  },
  {
   "cell_type": "code",
   "execution_count": 179,
   "metadata": {
    "ExecuteTime": {
     "end_time": "2021-03-31T14:24:01.759875Z",
     "start_time": "2021-03-31T14:24:01.751869Z"
    }
   },
   "outputs": [
    {
     "name": "stdout",
     "output_type": "stream",
     "text": [
      "answer is  [[300, 410], [310, 400], [300, 390], [290, 400]]\n",
      "cur_traj is  [[300, 410], [3, 40], [300, 390], [290, 400]]\n",
      "[300, 410]\n",
      "[False]\n",
      "[310, 400]\n",
      "[False, False]\n",
      "[300, 390]\n",
      "[False, False, False]\n",
      "[290, 400]\n",
      "[False, False, False, False]\n",
      "actions_idx_valid =  []\n"
     ]
    }
   ],
   "source": [
    "current_state = np.array([300,400]) \n",
    "next_possible_states = current_state + 10*np.array([[0, 1],[1,0],[0,-1],[-1,0]],dtype=int)\n",
    "next_possible_states\n",
    "next_possible_states=next_possible_states.tolist()\n",
    "print(\"answer is \", next_possible_states)\n",
    "no_repetition=[]\n",
    "actions_idx_all=np.arange(4)\n",
    "cur_traj = np.array([[300, 410], [3, 40], [300, 390], [290, 400]])\n",
    "print(\"cur_traj is \", cur_traj.tolist())\n",
    "for state in next_possible_states:\n",
    "    print(state)\n",
    "    no_repetition.append(state not in cur_traj)\n",
    "    print(no_repetition)\n",
    "actions_idx_valid=actions_idx_all[no_repetition]\n",
    "print(\"actions_idx_valid = \", actions_idx_valid)"
   ]
  },
  {
   "cell_type": "code",
   "execution_count": 180,
   "metadata": {
    "ExecuteTime": {
     "end_time": "2021-03-31T14:26:56.858182Z",
     "start_time": "2021-03-31T14:26:56.843223Z"
    }
   },
   "outputs": [
    {
     "data": {
      "text/plain": [
       "3"
      ]
     },
     "execution_count": 180,
     "metadata": {},
     "output_type": "execute_result"
    }
   ],
   "source": [
    "np.random.randint(0,4)"
   ]
  },
  {
   "cell_type": "code",
   "execution_count": 183,
   "metadata": {
    "ExecuteTime": {
     "end_time": "2021-03-31T14:44:49.203612Z",
     "start_time": "2021-03-31T14:44:49.194554Z"
    }
   },
   "outputs": [
    {
     "data": {
      "text/plain": [
       "(3, 1)"
      ]
     },
     "execution_count": 183,
     "metadata": {},
     "output_type": "execute_result"
    }
   ],
   "source": [
    "x = np.array()"
   ]
  },
  {
   "cell_type": "code",
   "execution_count": 184,
   "metadata": {
    "ExecuteTime": {
     "end_time": "2021-03-31T14:44:58.136822Z",
     "start_time": "2021-03-31T14:44:58.132848Z"
    }
   },
   "outputs": [
    {
     "data": {
      "text/plain": [
       "(3,)"
      ]
     },
     "execution_count": 184,
     "metadata": {},
     "output_type": "execute_result"
    }
   ],
   "source": [
    "reduction.shape"
   ]
  },
  {
   "cell_type": "code",
   "execution_count": null,
   "metadata": {},
   "outputs": [],
   "source": []
  }
 ],
 "metadata": {
  "kernelspec": {
   "display_name": "Python 3",
   "language": "python",
   "name": "python3"
  },
  "language_info": {
   "codemirror_mode": {
    "name": "ipython",
    "version": 3
   },
   "file_extension": ".py",
   "mimetype": "text/x-python",
   "name": "python",
   "nbconvert_exporter": "python",
   "pygments_lexer": "ipython3",
   "version": "3.7.9"
  },
  "toc": {
   "base_numbering": 1,
   "nav_menu": {},
   "number_sections": true,
   "sideBar": true,
   "skip_h1_title": false,
   "title_cell": "Table of Contents",
   "title_sidebar": "Contents",
   "toc_cell": false,
   "toc_position": {},
   "toc_section_display": true,
   "toc_window_display": false
  }
 },
 "nbformat": 4,
 "nbformat_minor": 4
}
